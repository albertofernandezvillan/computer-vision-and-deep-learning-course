{
  "nbformat": 4,
  "nbformat_minor": 0,
  "metadata": {
    "colab": {
      "name": "collection_of_some_features_utilities_and_tricks.ipynb",
      "provenance": [],
      "collapsed_sections": [],
      "toc_visible": true,
      "authorship_tag": "ABX9TyPLXmez5inmwukxPYUOqUeD",
      "include_colab_link": true
    },
    "kernelspec": {
      "name": "python3",
      "display_name": "Python 3"
    }
  },
  "cells": [
    {
      "cell_type": "markdown",
      "metadata": {
        "id": "view-in-github",
        "colab_type": "text"
      },
      "source": [
        "<a href=\"https://colab.research.google.com/github/albertofernandezvillan/computer-vision-and-deep-learning-course/blob/main/collection_of_some_features_utilities_and_tricks.ipynb\" target=\"_parent\"><img src=\"https://colab.research.google.com/assets/colab-badge.svg\" alt=\"Open In Colab\"/></a>"
      ]
    },
    {
      "cell_type": "markdown",
      "metadata": {
        "id": "YW0MBy2m81UM"
      },
      "source": [
        "<img align=\"left\" style=\"padding-right:10px;\" src =\"https://raw.githubusercontent.com/albertofernandezvillan/computer-vision-and-deep-learning-course/main/assets/university_oviedo_logo.png\" width=300 px>\r\n",
        "\r\n",
        "This notebook is from the Course \"***Computer vision in the new era of Artificial Intelligence and Deep Learning***\", or \"*Visión por computador en la nueva era de la Inteligencia Artificial y el Deep Learning*\" (ES) from the \"Second quarter university extension courses\" that the University of Oviedo is offering (05/04/2021 - 16/04/2021)\r\n",
        "\r\n",
        "<[Github Repository](https://github.com/albertofernandezvillan/computer-vision-and-deep-learning-course) | [Course Web Page Information](https://www.uniovi.es/estudios/extension/cursos2c/-/asset_publisher/SEp0PJi4ISGo/content/vision-por-computador-en-la-nueva-era-de-la-inteligencia-artificial-y-el-deep-learning?redirect=%2Festudios%2Fextension%2Fcursos2c)>"
      ]
    },
    {
      "cell_type": "markdown",
      "metadata": {
        "id": "5f1IVwK587FG"
      },
      "source": [
        "# Summary\r\n",
        "In this notebook you will learn a collection of some features, utilities and tricks when coding:\r\n",
        "\r\n",
        "\r\n",
        "\r\n",
        "*   Markdown introduction\r\n",
        "*   Running commands\r\n",
        "*   Checking active variables\r\n",
        "*   API lookups\r\n",
        "*   IPython Magic commands\r\n",
        "*   Progress bar in your loops\r\n",
        "*   Environment variables\r\n",
        "*   Browse projects on VScode from Github \r\n",
        "*   Create and share beautiful images of your source code"
      ]
    },
    {
      "cell_type": "markdown",
      "metadata": {
        "id": "aL970xIXLgSV"
      },
      "source": [
        "# Markdown\r\n",
        "\r\n",
        "Colab has two types of cells: text and code. Text cells are formatted using a simple markup language called Markdown.\r\n",
        "\r\n",
        "To see the Markdown source, double-click a text cell, showing both the Markdown source and the rendered version. Above the Markdown source there is a toolbar to assist editing.\r\n",
        "\r\n",
        "For more information about Markdown, you can see [this tutorial](https://towardsdatascience.com/cheat-sheet-for-google-colab-63853778c093)."
      ]
    },
    {
      "cell_type": "markdown",
      "metadata": {
        "id": "vKYsRkP3MRBI"
      },
      "source": [
        "\r\n",
        "\r\n",
        "```\r\n",
        "Markdown | Preview\r\n",
        "--- | ---\r\n",
        "`**bold text**` | **bold text**\r\n",
        "`*italicized text*` or `_italicized text_` | *italicized text*\r\n",
        "`` `Monospace` `` | `Monospace`\r\n",
        "`~~strikethrough~~` | ~~strikethrough~~\r\n",
        "`[A link](https://www.google.com)` | [A link](https://www.google.com)\r\n",
        "`![An image](https://www.google.com/images/rss.png)` | ![An image](https://www.google.com/images/rss.png)\r\n",
        "```\r\n",
        "\r\n",
        "Markdown | Preview\r\n",
        "--- | ---\r\n",
        "`**bold text**` | **bold text**\r\n",
        "`*italicized text*` or `_italicized text_` | *italicized text*\r\n",
        "`` `Monospace` `` | `Monospace`\r\n",
        "`~~strikethrough~~` | ~~strikethrough~~\r\n",
        "`[A link](https://www.google.com)` | [A link](https://www.google.com)\r\n",
        "`![An image](https://www.google.com/images/rss.png)` | ![An image](https://www.google.com/images/rss.png)\r\n",
        "\r\n"
      ]
    },
    {
      "cell_type": "markdown",
      "metadata": {
        "id": "Kl_XbtooLy82"
      },
      "source": [
        "Headings are rendered as titles.\r\n",
        "\r\n",
        "```markdown\r\n",
        "# Section 1\r\n",
        "# Section 2\r\n",
        "## Sub-section under Section 2\r\n",
        "### Sub-section under the sub-section under Section 2\r\n",
        "# Section 3\r\n",
        "```\r\n",
        "\r\n",
        "Tables:\r\n",
        "```markdown\r\n",
        "First column name  | Second column name \r\n",
        "-------------------|------------------\r\n",
        "Row 1, Col 1       | Row 1, Col 2 \r\n",
        "Row 2, Col 1       | Row 2, Col 2 \r\n",
        "\r\n",
        "```\r\n",
        "\r\n",
        "First column name  | Second column name \r\n",
        "-------------------|------------------\r\n",
        "Row 1, Col 1       | Row 1, Col 2 \r\n",
        "Row 2, Col 1       | Row 2, Col 2 \r\n",
        "\r\n",
        "Ordered lists:\r\n",
        "```markdown\r\n",
        "1. One\r\n",
        "1. Two\r\n",
        "1. Three\r\n",
        "```\r\n",
        "1. One\r\n",
        "1. Two\r\n",
        "1. Three\r\n",
        "\r\n",
        "---\r\n",
        "\r\n",
        "Unordered lists:\r\n",
        "```markdown\r\n",
        "* One\r\n",
        "* Two\r\n",
        "* Three\r\n",
        "```\r\n",
        "* One\r\n",
        "* Two\r\n",
        "* Three"
      ]
    },
    {
      "cell_type": "markdown",
      "metadata": {
        "id": "ojF56tRWO3mo"
      },
      "source": [
        "# Run Commands\r\n",
        "\r\n",
        "To run commands in cells, we can simply prefix an exclamation mark before the command."
      ]
    },
    {
      "cell_type": "code",
      "metadata": {
        "colab": {
          "base_uri": "https://localhost:8080/"
        },
        "id": "CDJoD5MJPCzu",
        "outputId": "e069af4f-2cc4-43e4-d9a3-9391fa51840b"
      },
      "source": [
        "!pip -V"
      ],
      "execution_count": 1,
      "outputs": [
        {
          "output_type": "stream",
          "text": [
            "pip 19.3.1 from /usr/local/lib/python3.7/dist-packages/pip (python 3.7)\n"
          ],
          "name": "stdout"
        }
      ]
    },
    {
      "cell_type": "markdown",
      "metadata": {
        "id": "vvWBKyCkPK92"
      },
      "source": [
        "One common issue associated with running commands is how we interact with prompts, such as installation confirmation (yes or no). The trick is to append the yes flag (-y) to the command."
      ]
    },
    {
      "cell_type": "code",
      "metadata": {
        "colab": {
          "base_uri": "https://localhost:8080/"
        },
        "id": "py8fWpF9PTih",
        "outputId": "7fb08648-bdc2-4bf7-c85e-543ef3f05f79"
      },
      "source": [
        "!pip install python-dotenv==0.15.0"
      ],
      "execution_count": 2,
      "outputs": [
        {
          "output_type": "stream",
          "text": [
            "Collecting python-dotenv==0.15.0\n",
            "  Downloading https://files.pythonhosted.org/packages/32/2e/e4585559237787966aad0f8fd0fc31df1c4c9eb0e62de458c5b6cde954eb/python_dotenv-0.15.0-py2.py3-none-any.whl\n",
            "Installing collected packages: python-dotenv\n",
            "Successfully installed python-dotenv-0.15.0\n"
          ],
          "name": "stdout"
        }
      ]
    },
    {
      "cell_type": "code",
      "metadata": {
        "colab": {
          "base_uri": "https://localhost:8080/"
        },
        "id": "q4sZ4GQqPtqx",
        "outputId": "a6bbf814-0ec0-4ecc-b543-830fa7f5bade"
      },
      "source": [
        "!pip uninstall python-dotenv==0.15.0 -y"
      ],
      "execution_count": 3,
      "outputs": [
        {
          "output_type": "stream",
          "text": [
            "Uninstalling python-dotenv-0.15.0:\n",
            "  Successfully uninstalled python-dotenv-0.15.0\n"
          ],
          "name": "stdout"
        }
      ]
    },
    {
      "cell_type": "markdown",
      "metadata": {
        "id": "gP6XrehyQEm_"
      },
      "source": [
        "# Check Active Variables\r\n",
        "\r\n",
        "To see the current variables, we can use the magic method `%who` or `%whos`, as shown below, with the latter showing more details of the variables."
      ]
    },
    {
      "cell_type": "code",
      "metadata": {
        "id": "I76mfxh-Q4jK"
      },
      "source": [
        "a = 5\r\n",
        "b = \"hello\"\r\n",
        "c = [1,2,3]"
      ],
      "execution_count": 4,
      "outputs": []
    },
    {
      "cell_type": "code",
      "metadata": {
        "colab": {
          "base_uri": "https://localhost:8080/"
        },
        "id": "5C0ltY_HQ9tN",
        "outputId": "2bac681a-00e5-4197-9cb9-315023a0cd24"
      },
      "source": [
        "%who"
      ],
      "execution_count": 14,
      "outputs": [
        {
          "output_type": "stream",
          "text": [
            "a\t b\t c\t \n"
          ],
          "name": "stdout"
        }
      ]
    },
    {
      "cell_type": "code",
      "metadata": {
        "colab": {
          "base_uri": "https://localhost:8080/"
        },
        "id": "gELYFVp6RFQm",
        "outputId": "510c2e8b-1c45-48ec-971c-fb4c392b2e3b"
      },
      "source": [
        "%whos"
      ],
      "execution_count": 5,
      "outputs": [
        {
          "output_type": "stream",
          "text": [
            "Variable   Type    Data/Info\n",
            "----------------------------\n",
            "a          int     5\n",
            "b          str     hello\n",
            "c          list    n=3\n"
          ],
          "name": "stdout"
        }
      ]
    },
    {
      "cell_type": "markdown",
      "metadata": {
        "id": "q2z7jIbARPPv"
      },
      "source": [
        "# API Lookups\r\n",
        "\r\n",
        "We can make use of `?` to explore the API we are working with."
      ]
    },
    {
      "cell_type": "code",
      "metadata": {
        "id": "HEayAewwRYFK"
      },
      "source": [
        "import cv2\r\n",
        "\r\n",
        "?cv2.COLOR_BGR2*"
      ],
      "execution_count": 6,
      "outputs": []
    },
    {
      "cell_type": "markdown",
      "metadata": {
        "id": "VgMyQsTNSJJ9"
      },
      "source": [
        "In this case, if we execute previous command, the following information is displayed:\r\n",
        "\r\n",
        "```\r\n",
        "cv2.COLOR_BGR2BGR555\r\n",
        "cv2.COLOR_BGR2BGR565\r\n",
        "cv2.COLOR_BGR2BGRA\r\n",
        "cv2.COLOR_BGR2GRAY\r\n",
        "cv2.COLOR_BGR2HLS\r\n",
        "cv2.COLOR_BGR2HLS_FULL\r\n",
        "cv2.COLOR_BGR2HSV\r\n",
        "cv2.COLOR_BGR2HSV_FULL\r\n",
        "cv2.COLOR_BGR2LAB\r\n",
        "cv2.COLOR_BGR2LUV\r\n",
        "cv2.COLOR_BGR2Lab\r\n",
        "cv2.COLOR_BGR2Luv\r\n",
        "cv2.COLOR_BGR2RGB\r\n",
        "cv2.COLOR_BGR2RGBA\r\n",
        "cv2.COLOR_BGR2XYZ\r\n",
        "cv2.COLOR_BGR2YCR_CB\r\n",
        "cv2.COLOR_BGR2YCrCb\r\n",
        "cv2.COLOR_BGR2YUV\r\n",
        "cv2.COLOR_BGR2YUV_I420\r\n",
        "cv2.COLOR_BGR2YUV_IYUV\r\n",
        "cv2.COLOR_BGR2YUV_YV12\r\n",
        "```"
      ]
    },
    {
      "cell_type": "markdown",
      "metadata": {
        "id": "b6wwyPJ5S7Df"
      },
      "source": [
        "We cal also use `?` to get the help of a function, in this case `cv2.cvtColor()`:"
      ]
    },
    {
      "cell_type": "code",
      "metadata": {
        "id": "fw54nVIfSoR9"
      },
      "source": [
        "import cv2\r\n",
        "\r\n",
        "?cv2.cvtColor"
      ],
      "execution_count": 7,
      "outputs": []
    },
    {
      "cell_type": "markdown",
      "metadata": {
        "id": "GSATqffRZ6vL"
      },
      "source": [
        "# IPython Magic Commands\r\n",
        "\r\n",
        "IPython Magic Commands are added on top of the normal Python syntax and are prefixed by the % character. These magic commands come in two flavors: line magics, which are denoted by a single `%` prefix and operate on a single line of input, and cell magics, which are denoted by a double `%%` prefix and operate on multiple lines of input.  Here we are going to introduce some of them:\r\n",
        "\r\n",
        "\r\n",
        "\r\n"
      ]
    },
    {
      "cell_type": "markdown",
      "metadata": {
        "id": "u5ONssq83xiJ"
      },
      "source": [
        "## Run a Python Script: `%run`"
      ]
    },
    {
      "cell_type": "code",
      "metadata": {
        "colab": {
          "base_uri": "https://localhost:8080/"
        },
        "id": "CbdP9Rzd3WcY",
        "outputId": "cccd1c34-1989-40f3-ee4a-f8f66d60adcf"
      },
      "source": [
        "# Download a sample Python script:\r\n",
        "!wget https://gist.githubusercontent.com/albertofernandezvillan/050687ee7f3b01aacd2277a5e7b2f125/raw/c3cf70fdc4a82c59b0d39cb2b4dac010196c6d64/opencv_python_version.py"
      ],
      "execution_count": 8,
      "outputs": [
        {
          "output_type": "stream",
          "text": [
            "--2021-02-28 16:06:18--  https://gist.githubusercontent.com/albertofernandezvillan/050687ee7f3b01aacd2277a5e7b2f125/raw/c3cf70fdc4a82c59b0d39cb2b4dac010196c6d64/opencv_python_version.py\n",
            "Resolving gist.githubusercontent.com (gist.githubusercontent.com)... 185.199.109.133, 185.199.110.133, 185.199.108.133, ...\n",
            "Connecting to gist.githubusercontent.com (gist.githubusercontent.com)|185.199.109.133|:443... connected.\n",
            "HTTP request sent, awaiting response... 200 OK\n",
            "Length: 454 [text/plain]\n",
            "Saving to: ‘opencv_python_version.py’\n",
            "\n",
            "opencv_python_versi 100%[===================>]     454  --.-KB/s    in 0s      \n",
            "\n",
            "2021-02-28 16:06:18 (28.1 MB/s) - ‘opencv_python_version.py’ saved [454/454]\n",
            "\n"
          ],
          "name": "stdout"
        }
      ]
    },
    {
      "cell_type": "code",
      "metadata": {
        "colab": {
          "base_uri": "https://localhost:8080/"
        },
        "id": "MUUlr1lt3cUn",
        "outputId": "2ecb0328-5b52-418c-bb4a-fc3ea9eacecc"
      },
      "source": [
        "# Use %run command to execute the downloaded Python script\r\n",
        "%run opencv_python_version.py"
      ],
      "execution_count": 9,
      "outputs": [
        {
          "output_type": "stream",
          "text": [
            "OpenCV version: '4.1.2'\n",
            "Major version: ''4'\n",
            "Minor version: '1'\n",
            "Subminor version: '2'\n"
          ],
          "name": "stdout"
        }
      ]
    },
    {
      "cell_type": "markdown",
      "metadata": {
        "id": "IXNwDwX55K8e"
      },
      "source": [
        "## Timing Code Execution: `%time` and `%timeit`\r\n",
        "\r\n",
        "In a nutshell:\r\n",
        "*   `%time`: Time the execution of a single statement\r\n",
        "*   `%timeit`: Time repeated execution of a single statement for more accuracy\r\n",
        "\r\n",
        "\r\n",
        "\r\n",
        "\r\n",
        "\r\n",
        "\r\n"
      ]
    },
    {
      "cell_type": "code",
      "metadata": {
        "colab": {
          "base_uri": "https://localhost:8080/"
        },
        "id": "VhAeyFnl5u16",
        "outputId": "e45cda7d-eed4-40d0-81a7-8cff2e357dd2"
      },
      "source": [
        "%timeit sum(range(10000000))"
      ],
      "execution_count": 10,
      "outputs": [
        {
          "output_type": "stream",
          "text": [
            "1 loop, best of 5: 206 ms per loop\n"
          ],
          "name": "stdout"
        }
      ]
    },
    {
      "cell_type": "code",
      "metadata": {
        "colab": {
          "base_uri": "https://localhost:8080/"
        },
        "id": "cs0LAbtn6AMm",
        "outputId": "f1c55f6e-61c3-49e7-d6fe-a65ba13e9d45"
      },
      "source": [
        "%%timeit\r\n",
        "\r\n",
        "a = 10\r\n",
        "b = 50\r\n",
        "sum(range(10000000))\r\n",
        "a = a+b"
      ],
      "execution_count": 11,
      "outputs": [
        {
          "output_type": "stream",
          "text": [
            "1 loop, best of 5: 205 ms per loop\n"
          ],
          "name": "stdout"
        }
      ]
    },
    {
      "cell_type": "code",
      "metadata": {
        "colab": {
          "base_uri": "https://localhost:8080/"
        },
        "id": "_x72kMok6WP9",
        "outputId": "414f1743-8cf8-4fce-84e4-5c9cc13b3113"
      },
      "source": [
        "%%time\r\n",
        "\r\n",
        "total = 0\r\n",
        "for i in range(10000):\r\n",
        "    for j in range(1000):\r\n",
        "        total += i * (-1) ** j"
      ],
      "execution_count": 12,
      "outputs": [
        {
          "output_type": "stream",
          "text": [
            "CPU times: user 3.87 s, sys: 489 µs, total: 3.87 s\n",
            "Wall time: 3.88 s\n"
          ],
          "name": "stdout"
        }
      ]
    },
    {
      "cell_type": "markdown",
      "metadata": {
        "id": "ZizyKWsy8EaJ"
      },
      "source": [
        "For more information about Profiling and Timing Code, you can see [this wonderful notebook](https://colab.research.google.com/github/jakevdp/PythonDataScienceHandbook/blob/master/notebooks/01.07-Timing-and-Profiling.ipynb#scrollTo=4pSaIP4A4-gt).\r\n"
      ]
    },
    {
      "cell_type": "markdown",
      "metadata": {
        "id": "-ChoMjJEHFhO"
      },
      "source": [
        "## Include HTML code in Colab: `%%html`\r\n",
        "\r\n",
        "If HTML must be included in a Colab notebook, you can use the `%%html` magic command.\r\n"
      ]
    },
    {
      "cell_type": "code",
      "metadata": {
        "colab": {
          "base_uri": "https://localhost:8080/",
          "height": 173
        },
        "id": "fqOmlx18HYt5",
        "outputId": "e885ebde-b5a8-48fd-c0bc-19a4ba6f0580"
      },
      "source": [
        "%%html\r\n",
        "\r\n",
        "<!DOCTYPE html>\r\n",
        "<html>\r\n",
        "    <head>\r\n",
        "        <title>Example</title>\r\n",
        "    </head>\r\n",
        "    <body>\r\n",
        "        <p>This is an example of a simple HTML page with one paragraph.</p>\r\n",
        "        <p>Also, a circle is shown</p>\r\n",
        "        <svg width=\"100\" height=\"100\">\r\n",
        "        <circle cx=\"50\" cy=\"50\" r=\"40\" stroke=\"green\" stroke-width=\"4\" fill=\"yellow\" />\r\n",
        "        </svg>\r\n",
        "    </body>\r\n",
        "</html>"
      ],
      "execution_count": 13,
      "outputs": [
        {
          "output_type": "display_data",
          "data": {
            "text/html": [
              "\n",
              "<!DOCTYPE html>\n",
              "<html>\n",
              "    <head>\n",
              "        <title>Example</title>\n",
              "    </head>\n",
              "    <body>\n",
              "        <p>This is an example of a simple HTML page with one paragraph.</p>\n",
              "        <p>Also, a circle is shown</p>\n",
              "        <svg width=\"100\" height=\"100\">\n",
              "        <circle cx=\"50\" cy=\"50\" r=\"40\" stroke=\"green\" stroke-width=\"4\" fill=\"yellow\" />\n",
              "        </svg>\n",
              "    </body>\n",
              "</html>"
            ],
            "text/plain": [
              "<IPython.core.display.HTML object>"
            ]
          },
          "metadata": {
            "tags": []
          }
        }
      ]
    },
    {
      "cell_type": "markdown",
      "metadata": {
        "id": "veMKCMRTM45T"
      },
      "source": [
        "## Complete history of commands: `%history`\r\n",
        "\r\n",
        "This presents the complete history of commands that you have previously executed. We are going to execute command `ls` and then, see `%history` command."
      ]
    },
    {
      "cell_type": "code",
      "metadata": {
        "colab": {
          "base_uri": "https://localhost:8080/"
        },
        "id": "faFfM9ZrNMjx",
        "outputId": "6003692d-8122-43f5-d925-7d6a6ef256f9"
      },
      "source": [
        "!ls"
      ],
      "execution_count": 14,
      "outputs": [
        {
          "output_type": "stream",
          "text": [
            "opencv_python_version.py  sample_data\n"
          ],
          "name": "stdout"
        }
      ]
    },
    {
      "cell_type": "code",
      "metadata": {
        "colab": {
          "base_uri": "https://localhost:8080/"
        },
        "id": "xTM9E2GNNFLX",
        "outputId": "3eef38dc-859d-4f3a-da0a-1473dec02cd5"
      },
      "source": [
        "%history"
      ],
      "execution_count": 15,
      "outputs": [
        {
          "output_type": "stream",
          "text": [
            "!pip -V\n",
            "!pip install python-dotenv==0.15.0\n",
            "!pip uninstall python-dotenv==0.15.0 -y\n",
            "a = 5\n",
            "b = \"hello\"\n",
            "c = [1,2,3]\n",
            "%whos\n",
            "import cv2\n",
            "\n",
            "?cv2.COLOR_BGR2*\n",
            "import cv2\n",
            "\n",
            "?cv2.cvtColor\n",
            "# Download a sample Python script:\n",
            "!wget https://gist.githubusercontent.com/albertofernandezvillan/050687ee7f3b01aacd2277a5e7b2f125/raw/c3cf70fdc4a82c59b0d39cb2b4dac010196c6d64/opencv_python_version.py\n",
            "# Use %run command to execute the downloaded Python script\n",
            "%run opencv_python_version.py\n",
            "%timeit sum(range(10000000))\n",
            "%%timeit\n",
            "\n",
            "a = 10\n",
            "b = 50\n",
            "sum(range(10000000))\n",
            "a = a+b\n",
            "%%time\n",
            "\n",
            "total = 0\n",
            "for i in range(10000):\n",
            "    for j in range(1000):\n",
            "        total += i * (-1) ** j\n",
            "%%html\n",
            "\n",
            "<!DOCTYPE html>\n",
            "<html>\n",
            "    <head>\n",
            "        <title>Example</title>\n",
            "    </head>\n",
            "    <body>\n",
            "        <p>This is an example of a simple HTML page with one paragraph.</p>\n",
            "        <p>Also, a circle is shown</p>\n",
            "        <svg width=\"100\" height=\"100\">\n",
            "        <circle cx=\"50\" cy=\"50\" r=\"40\" stroke=\"green\" stroke-width=\"4\" fill=\"yellow\" />\n",
            "        </svg>\n",
            "    </body>\n",
            "</html>\n",
            "!ls\n",
            "%history\n"
          ],
          "name": "stdout"
        }
      ]
    },
    {
      "cell_type": "markdown",
      "metadata": {
        "id": "h-s5-Q3KNvTB"
      },
      "source": [
        "## Get a complete list of supported magics: `%lsmagic`\r\n",
        "\r\n",
        "To get a complete list of supported magics, execute the following command `%lsmagic`.\r\n"
      ]
    },
    {
      "cell_type": "code",
      "metadata": {
        "colab": {
          "base_uri": "https://localhost:8080/",
          "height": 156
        },
        "id": "HEJGtyGBN8xb",
        "outputId": "3462bd2b-d8eb-4580-b421-8cd7f939af00"
      },
      "source": [
        "%lsmagic"
      ],
      "execution_count": 16,
      "outputs": [
        {
          "output_type": "execute_result",
          "data": {
            "application/json": {
              "cell": {
                "prun": "ExecutionMagics",
                "file": "Other",
                "!": "OSMagics",
                "capture": "ExecutionMagics",
                "timeit": "ExecutionMagics",
                "script": "ScriptMagics",
                "pypy": "Other",
                "system": "OSMagics",
                "perl": "Other",
                "html": "DisplayMagics",
                "bash": "Other",
                "shell": "Other",
                "HTML": "Other",
                "python": "Other",
                "SVG": "Other",
                "javascript": "DisplayMagics",
                "bigquery": "Other",
                "js": "DisplayMagics",
                "writefile": "OSMagics",
                "ruby": "Other",
                "python3": "Other",
                "python2": "Other",
                "latex": "DisplayMagics",
                "sx": "OSMagics",
                "svg": "DisplayMagics",
                "sh": "Other",
                "time": "ExecutionMagics",
                "debug": "ExecutionMagics"
              },
              "line": {
                "psource": "NamespaceMagics",
                "logstart": "LoggingMagics",
                "popd": "OSMagics",
                "tensorflow_version": "Other",
                "loadpy": "CodeMagics",
                "colors": "BasicMagics",
                "who_ls": "NamespaceMagics",
                "lf": "Other",
                "ll": "Other",
                "pprint": "BasicMagics",
                "lk": "Other",
                "ls": "Other",
                "save": "CodeMagics",
                "tb": "ExecutionMagics",
                "lx": "Other",
                "pylab": "PylabMagics",
                "killbgscripts": "ScriptMagics",
                "quickref": "BasicMagics",
                "magic": "BasicMagics",
                "dhist": "OSMagics",
                "edit": "KernelMagics",
                "logstop": "LoggingMagics",
                "gui": "BasicMagics",
                "prun": "ExecutionMagics",
                "debug": "ExecutionMagics",
                "page": "BasicMagics",
                "logstate": "LoggingMagics",
                "ed": "Other",
                "pushd": "OSMagics",
                "timeit": "ExecutionMagics",
                "set_env": "OSMagics",
                "rehashx": "OSMagics",
                "hist": "Other",
                "qtconsole": "KernelMagics",
                "rm": "Other",
                "dirs": "OSMagics",
                "run": "ExecutionMagics",
                "reset_selective": "NamespaceMagics",
                "pinfo2": "NamespaceMagics",
                "matplotlib": "PylabMagics",
                "unload_ext": "ExtensionMagics",
                "doctest_mode": "BasicMagics",
                "logoff": "LoggingMagics",
                "reload_ext": "ExtensionMagics",
                "pdb": "ExecutionMagics",
                "load": "CodeMagics",
                "lsmagic": "BasicMagics",
                "autosave": "KernelMagics",
                "cd": "OSMagics",
                "pastebin": "CodeMagics",
                "alias_magic": "BasicMagics",
                "cp": "Other",
                "autocall": "AutoMagics",
                "ldir": "Other",
                "bookmark": "OSMagics",
                "connect_info": "KernelMagics",
                "mkdir": "Other",
                "system": "OSMagics",
                "whos": "NamespaceMagics",
                "rmdir": "Other",
                "automagic": "AutoMagics",
                "store": "StoreMagics",
                "more": "KernelMagics",
                "shell": "Other",
                "pdef": "NamespaceMagics",
                "precision": "BasicMagics",
                "pinfo": "NamespaceMagics",
                "pwd": "OSMagics",
                "psearch": "NamespaceMagics",
                "reset": "NamespaceMagics",
                "recall": "HistoryMagics",
                "xdel": "NamespaceMagics",
                "xmode": "BasicMagics",
                "cat": "Other",
                "mv": "Other",
                "rerun": "HistoryMagics",
                "logon": "LoggingMagics",
                "history": "HistoryMagics",
                "pycat": "OSMagics",
                "pip": "Other",
                "unalias": "OSMagics",
                "env": "OSMagics",
                "load_ext": "ExtensionMagics",
                "config": "ConfigMagics",
                "profile": "BasicMagics",
                "pfile": "NamespaceMagics",
                "less": "KernelMagics",
                "who": "NamespaceMagics",
                "notebook": "BasicMagics",
                "man": "KernelMagics",
                "sx": "OSMagics",
                "macro": "ExecutionMagics",
                "clear": "KernelMagics",
                "alias": "OSMagics",
                "time": "ExecutionMagics",
                "sc": "OSMagics",
                "rep": "Other",
                "pdoc": "NamespaceMagics"
              }
            },
            "text/plain": [
              "Available line magics:\n",
              "%alias  %alias_magic  %autocall  %automagic  %autosave  %bookmark  %cat  %cd  %clear  %colors  %config  %connect_info  %cp  %debug  %dhist  %dirs  %doctest_mode  %ed  %edit  %env  %gui  %hist  %history  %killbgscripts  %ldir  %less  %lf  %lk  %ll  %load  %load_ext  %loadpy  %logoff  %logon  %logstart  %logstate  %logstop  %ls  %lsmagic  %lx  %macro  %magic  %man  %matplotlib  %mkdir  %more  %mv  %notebook  %page  %pastebin  %pdb  %pdef  %pdoc  %pfile  %pinfo  %pinfo2  %pip  %popd  %pprint  %precision  %profile  %prun  %psearch  %psource  %pushd  %pwd  %pycat  %pylab  %qtconsole  %quickref  %recall  %rehashx  %reload_ext  %rep  %rerun  %reset  %reset_selective  %rm  %rmdir  %run  %save  %sc  %set_env  %shell  %store  %sx  %system  %tb  %tensorflow_version  %time  %timeit  %unalias  %unload_ext  %who  %who_ls  %whos  %xdel  %xmode\n",
              "\n",
              "Available cell magics:\n",
              "%%!  %%HTML  %%SVG  %%bash  %%bigquery  %%capture  %%debug  %%file  %%html  %%javascript  %%js  %%latex  %%perl  %%prun  %%pypy  %%python  %%python2  %%python3  %%ruby  %%script  %%sh  %%shell  %%svg  %%sx  %%system  %%time  %%timeit  %%writefile\n",
              "\n",
              "Automagic is ON, % prefix IS NOT needed for line magics."
            ]
          },
          "metadata": {
            "tags": []
          },
          "execution_count": 16
        }
      ]
    },
    {
      "cell_type": "markdown",
      "metadata": {
        "id": "WBU5glku6rrF"
      },
      "source": [
        "# Progress bar\r\n",
        "We can make use of [tqdm](https://pypi.org/project/tqdm/) to show the progress bar in a loop. With tqdm, we can instantly make our loops show a smart progress meter: just wrap any iterable with tqdm(iterable), and you’re done.\r\n",
        "\r\n",
        "tqdm is already installed on Colab."
      ]
    },
    {
      "cell_type": "code",
      "metadata": {
        "colab": {
          "base_uri": "https://localhost:8080/"
        },
        "id": "347TmDLK8fre",
        "outputId": "b37fcfd9-1958-48da-d741-f2081d5e3815"
      },
      "source": [
        "import tqdm\r\n",
        "\r\n",
        "print(\"tqdm version: '{}'\".format(tqdm.__version__))"
      ],
      "execution_count": 17,
      "outputs": [
        {
          "output_type": "stream",
          "text": [
            "tqdm version: '4.41.1'\n"
          ],
          "name": "stdout"
        }
      ]
    },
    {
      "cell_type": "code",
      "metadata": {
        "colab": {
          "base_uri": "https://localhost:8080/"
        },
        "id": "OJ-iC-BU9WSE",
        "outputId": "84c0a1e8-96d0-4aee-9643-d5f9fec9bb71"
      },
      "source": [
        "from tqdm import tqdm\r\n",
        "import time\r\n",
        "\r\n",
        "for i in tqdm(range(10)):\r\n",
        "  time.sleep(1)"
      ],
      "execution_count": 18,
      "outputs": [
        {
          "output_type": "stream",
          "text": [
            "100%|██████████| 10/10 [00:10<00:00,  1.00s/it]\n"
          ],
          "name": "stderr"
        }
      ]
    },
    {
      "cell_type": "code",
      "metadata": {
        "id": "vn48i_IYBhUt"
      },
      "source": [
        "def get_number_until_max(max):\r\n",
        "  n=0\r\n",
        "  while n < max:\r\n",
        "    yield n\r\n",
        "    n=n+1"
      ],
      "execution_count": 19,
      "outputs": []
    },
    {
      "cell_type": "code",
      "metadata": {
        "id": "IIUCQdHgFnze",
        "colab": {
          "base_uri": "https://localhost:8080/"
        },
        "outputId": "5f01654f-14e1-4298-b390-7a6e11ac94e3"
      },
      "source": [
        "mycont = get_number_until_max(10)\r\n",
        "\r\n",
        "for i in mycont:\r\n",
        "    print(i)"
      ],
      "execution_count": 20,
      "outputs": [
        {
          "output_type": "stream",
          "text": [
            "0\n",
            "1\n",
            "2\n",
            "3\n",
            "4\n",
            "5\n",
            "6\n",
            "7\n",
            "8\n",
            "9\n"
          ],
          "name": "stdout"
        }
      ]
    },
    {
      "cell_type": "code",
      "metadata": {
        "colab": {
          "base_uri": "https://localhost:8080/"
        },
        "id": "2712rGsoCN2p",
        "outputId": "9f132f62-bba7-41c7-994e-58974ff5453f"
      },
      "source": [
        "mycont = get_number_until_max(10)\r\n",
        "\r\n",
        "# Pass the length to the optional total argument of tqdm:\r\n",
        "for n in tqdm(mycont, total=10):\r\n",
        "  time.sleep(1)"
      ],
      "execution_count": 21,
      "outputs": [
        {
          "output_type": "stream",
          "text": [
            "100%|██████████| 10/10 [00:10<00:00,  1.00s/it]\n"
          ],
          "name": "stderr"
        }
      ]
    },
    {
      "cell_type": "markdown",
      "metadata": {
        "id": "6CTg6tKE9ztq"
      },
      "source": [
        "For the sake of completness we can clearly see that `%timeit` performs several executions of the code, while `%time` executes the code only once."
      ]
    },
    {
      "cell_type": "code",
      "metadata": {
        "colab": {
          "base_uri": "https://localhost:8080/"
        },
        "id": "1SVE6lym8t87",
        "outputId": "d2430444-2516-491a-fe38-44fda00fff7a"
      },
      "source": [
        "%%timeit\r\n",
        "\r\n",
        "from tqdm import tqdm\r\n",
        "import time\r\n",
        "\r\n",
        "for i in tqdm(range(5)):\r\n",
        "  time.sleep(1)"
      ],
      "execution_count": 23,
      "outputs": [
        {
          "output_type": "stream",
          "text": [
            "100%|██████████| 5/5 [00:05<00:00,  1.00s/it]\n",
            "100%|██████████| 5/5 [00:05<00:00,  1.00s/it]\n",
            "100%|██████████| 5/5 [00:05<00:00,  1.00s/it]\n",
            "100%|██████████| 5/5 [00:05<00:00,  1.00s/it]\n",
            "100%|██████████| 5/5 [00:05<00:00,  1.00s/it]\n",
            "100%|██████████| 5/5 [00:05<00:00,  1.00s/it]"
          ],
          "name": "stderr"
        },
        {
          "output_type": "stream",
          "text": [
            "1 loop, best of 5: 5.01 s per loop\n"
          ],
          "name": "stdout"
        },
        {
          "output_type": "stream",
          "text": [
            "\n"
          ],
          "name": "stderr"
        }
      ]
    },
    {
      "cell_type": "code",
      "metadata": {
        "colab": {
          "base_uri": "https://localhost:8080/"
        },
        "id": "PqqVQpFI-cjY",
        "outputId": "3461444b-c91d-4385-f506-8793f8c000fa"
      },
      "source": [
        "%%time\r\n",
        "\r\n",
        "from tqdm import tqdm\r\n",
        "import time\r\n",
        "\r\n",
        "for i in tqdm(range(5)):\r\n",
        "  time.sleep(1)"
      ],
      "execution_count": 24,
      "outputs": [
        {
          "output_type": "stream",
          "text": [
            "100%|██████████| 5/5 [00:05<00:00,  1.00s/it]"
          ],
          "name": "stderr"
        },
        {
          "output_type": "stream",
          "text": [
            "CPU times: user 11.2 ms, sys: 1.92 ms, total: 13.1 ms\n",
            "Wall time: 5.02 s\n"
          ],
          "name": "stdout"
        },
        {
          "output_type": "stream",
          "text": [
            "\n"
          ],
          "name": "stderr"
        }
      ]
    },
    {
      "cell_type": "markdown",
      "metadata": {
        "id": "4RlPzAxqSU-h"
      },
      "source": [
        "# Environment Variables\r\n",
        "\r\n",
        "It is not recommended to upload private information to Github or other platforms (even if your repository is private). We can set and get the environment variables in Colab like this:"
      ]
    },
    {
      "cell_type": "code",
      "metadata": {
        "id": "_vNiiGBCWh0E"
      },
      "source": [
        "import os\r\n",
        "\r\n",
        "# Append more values to an existing variable:\r\n",
        "os.environ['PATH'] += \":/example/path/to/be/added\"\r\n",
        "# Create a new one:\r\n",
        "os.environ['SECRET_ACCESS_KEY'] = \"myKey\""
      ],
      "execution_count": 25,
      "outputs": []
    },
    {
      "cell_type": "markdown",
      "metadata": {
        "id": "rHTbcFVRZBS-"
      },
      "source": [
        "Wen can access the value of these environment variables using `os.getenv()`:"
      ]
    },
    {
      "cell_type": "code",
      "metadata": {
        "id": "wsgaOCtXWuZM",
        "colab": {
          "base_uri": "https://localhost:8080/"
        },
        "outputId": "f77d4938-abfc-4e70-ab7f-7347739d98ca"
      },
      "source": [
        "print(os.getenv('PATH'))\r\n",
        "print(os.getenv('SECRET_ACCESS_KEY'))"
      ],
      "execution_count": 26,
      "outputs": [
        {
          "output_type": "stream",
          "text": [
            "/usr/local/nvidia/bin:/usr/local/cuda/bin:/usr/local/sbin:/usr/local/bin:/usr/sbin:/usr/bin:/sbin:/bin:/tools/node/bin:/tools/google-cloud-sdk/bin:/opt/bin:/example/path/to/be/added\n",
            "myKey\n"
          ],
          "name": "stdout"
        }
      ]
    },
    {
      "cell_type": "markdown",
      "metadata": {
        "id": "DW_pK4iVZLOu"
      },
      "source": [
        "To see all the environment variables:"
      ]
    },
    {
      "cell_type": "code",
      "metadata": {
        "id": "dRWhUW7rYaqs",
        "colab": {
          "base_uri": "https://localhost:8080/"
        },
        "outputId": "0f35c26b-c40e-465b-8744-ff0a06c0a891"
      },
      "source": [
        "!export"
      ],
      "execution_count": 27,
      "outputs": [
        {
          "output_type": "stream",
          "text": [
            "declare -x CLICOLOR=\"1\"\n",
            "declare -x CLOUDSDK_CONFIG=\"/content/.config\"\n",
            "declare -x CLOUDSDK_PYTHON=\"python3\"\n",
            "declare -x COLAB_GPU=\"0\"\n",
            "declare -x CUDA_PKG_VERSION=\"10-1=10.1.243-1\"\n",
            "declare -x CUDA_VERSION=\"10.1.243\"\n",
            "declare -x CUDNN_VERSION=\"7.6.5.32\"\n",
            "declare -x DATALAB_SETTINGS_OVERRIDES=\"{\\\"kernelManagerProxyPort\\\":6000,\\\"kernelManagerProxyHost\\\":\\\"172.28.0.3\\\",\\\"jupyterArgs\\\":[\\\"--ip=\\\\\\\"172.28.0.2\\\\\\\"\\\"],\\\"debugAdapterMultiplexerPath\\\":\\\"/usr/local/bin/dap_multiplexer\\\"}\"\n",
            "declare -x DEBIAN_FRONTEND=\"noninteractive\"\n",
            "declare -x ENV=\"/root/.bashrc\"\n",
            "declare -x GCE_METADATA_TIMEOUT=\"0\"\n",
            "declare -x GCS_READ_CACHE_BLOCK_SIZE_MB=\"16\"\n",
            "declare -x GIT_PAGER=\"cat\"\n",
            "declare -x GLIBCPP_FORCE_NEW=\"1\"\n",
            "declare -x GLIBCXX_FORCE_NEW=\"1\"\n",
            "declare -x HOME=\"/root\"\n",
            "declare -x HOSTNAME=\"27546aefd39b\"\n",
            "declare -x JPY_PARENT_PID=\"46\"\n",
            "declare -x LANG=\"en_US.UTF-8\"\n",
            "declare -x LAST_FORCED_REBUILD=\"202102019\"\n",
            "declare -x LD_LIBRARY_PATH=\"/usr/local/nvidia/lib:/usr/local/nvidia/lib64\"\n",
            "declare -x LD_PRELOAD=\"/usr/lib/x86_64-linux-gnu/libtcmalloc.so.4\"\n",
            "declare -x LIBRARY_PATH=\"/usr/local/cuda/lib64/stubs\"\n",
            "declare -x MPLBACKEND=\"module://ipykernel.pylab.backend_inline\"\n",
            "declare -x NCCL_VERSION=\"2.8.3\"\n",
            "declare -x NO_GCE_CHECK=\"True\"\n",
            "declare -x NVIDIA_DRIVER_CAPABILITIES=\"compute,utility\"\n",
            "declare -x NVIDIA_REQUIRE_CUDA=\"cuda>=10.1 brand=tesla,driver>=396,driver<397 brand=tesla,driver>=410,driver<411 brand=tesla,driver>=418,driver<419\"\n",
            "declare -x NVIDIA_VISIBLE_DEVICES=\"all\"\n",
            "declare -x OLDPWD=\"/\"\n",
            "declare -x PAGER=\"cat\"\n",
            "declare -x PATH=\"/usr/local/nvidia/bin:/usr/local/cuda/bin:/usr/local/sbin:/usr/local/bin:/usr/sbin:/usr/bin:/sbin:/bin:/tools/node/bin:/tools/google-cloud-sdk/bin:/opt/bin:/example/path/to/be/added\"\n",
            "declare -x PWD=\"/content\"\n",
            "declare -x PYTHONPATH=\"/env/python\"\n",
            "declare -x PYTHONWARNINGS=\"ignore:::pip._internal.cli.base_command\"\n",
            "declare -x SECRET_ACCESS_KEY=\"myKey\"\n",
            "declare -x SHELL=\"/bin/bash\"\n",
            "declare -x SHLVL=\"1\"\n",
            "declare -x TBE_CREDS_ADDR=\"172.28.0.1:8008\"\n",
            "declare -x TERM=\"xterm-color\"\n",
            "declare -x TF_FORCE_GPU_ALLOW_GROWTH=\"true\"\n"
          ],
          "name": "stdout"
        }
      ]
    },
    {
      "cell_type": "markdown",
      "metadata": {
        "id": "p834RdqWaUt7"
      },
      "source": [
        "An alternative to saving your secret information to the environment variable [is to save it to .env file](https://mathdatasimplified.com/2021/02/20/python-dotenv-how-to-load-the-secret-information-from-env-file/). The easiest way to load the environment variables from .env file is to use [python-dotenv](https://pypi.org/project/python-dotenv/) library. Find how to use python-dotenv in the code above.  \r\n",
        "\r\n"
      ]
    },
    {
      "cell_type": "code",
      "metadata": {
        "colab": {
          "base_uri": "https://localhost:8080/"
        },
        "id": "Eev1aZhbox7Z",
        "outputId": "8c08f1fd-5054-4784-c589-b87ff2e944b4"
      },
      "source": [
        "# Install python-dotenv using pip command\r\n",
        "# python-dotenv==0.15.0 - Released: Oct 28, 2020\r\n",
        "!pip install python-dotenv==0.15.0"
      ],
      "execution_count": 28,
      "outputs": [
        {
          "output_type": "stream",
          "text": [
            "Collecting python-dotenv==0.15.0\n",
            "  Using cached https://files.pythonhosted.org/packages/32/2e/e4585559237787966aad0f8fd0fc31df1c4c9eb0e62de458c5b6cde954eb/python_dotenv-0.15.0-py2.py3-none-any.whl\n",
            "Installing collected packages: python-dotenv\n",
            "Successfully installed python-dotenv-0.15.0\n"
          ],
          "name": "stdout"
        }
      ]
    },
    {
      "cell_type": "markdown",
      "metadata": {
        "id": "7Y7Hy0WAsDlb"
      },
      "source": [
        "We need to create .env file in the current directory. Wen can download a sample one from the repository."
      ]
    },
    {
      "cell_type": "code",
      "metadata": {
        "colab": {
          "base_uri": "https://localhost:8080/"
        },
        "id": "OWM4jJDTpgwJ",
        "outputId": "fb195813-592b-4dca-f715-cf4f26b87af5"
      },
      "source": [
        "# Download the '.env' file to the current directory\r\n",
        "!wget https://raw.githubusercontent.com/albertofernandezvillan/computer-vision-and-deep-learning-course/main/assets/.env"
      ],
      "execution_count": 29,
      "outputs": [
        {
          "output_type": "stream",
          "text": [
            "--2021-02-28 16:30:30--  https://raw.githubusercontent.com/albertofernandezvillan/computer-vision-and-deep-learning-course/main/assets/.env\n",
            "Resolving raw.githubusercontent.com (raw.githubusercontent.com)... 185.199.108.133, 185.199.109.133, 185.199.110.133, ...\n",
            "Connecting to raw.githubusercontent.com (raw.githubusercontent.com)|185.199.108.133|:443... connected.\n",
            "HTTP request sent, awaiting response... 200 OK\n",
            "Length: 51 [text/plain]\n",
            "Saving to: ‘.env’\n",
            "\n",
            ".env                100%[===================>]      51  --.-KB/s    in 0s      \n",
            "\n",
            "2021-02-28 16:30:30 (3.19 MB/s) - ‘.env’ saved [51/51]\n",
            "\n"
          ],
          "name": "stdout"
        }
      ]
    },
    {
      "cell_type": "code",
      "metadata": {
        "colab": {
          "base_uri": "https://localhost:8080/"
        },
        "id": "FSRPg05mpo-P",
        "outputId": "4d008c25-efe3-455e-a2b9-5dfe2c3a69b0"
      },
      "source": [
        "# In the current directory we have the .env file\r\n",
        "from dotenv import load_dotenv\r\n",
        "import os\r\n",
        "\r\n",
        "# We can use load_dotenv() directly:\r\n",
        "# load_dotenv()\r\n",
        "\r\n",
        "# OR, explicitly providing path to '.env'\r\n",
        "from pathlib import Path  # Python 3.6+ only\r\n",
        "env_path = Path('.') / '.env'\r\n",
        "load_dotenv(dotenv_path=env_path)\r\n",
        "\r\n",
        "# We test it:\r\n",
        "USERNAME=os.getenv('USERNAME')\r\n",
        "PASSWORD=os.getenv('PASSWORD')\r\n",
        "\r\n",
        "print(\"USERNAME: '{}'\".format(USERNAME))\r\n",
        "print(\"PASSWORD: '{}'\".format(PASSWORD))"
      ],
      "execution_count": 31,
      "outputs": [
        {
          "output_type": "stream",
          "text": [
            "USERNAME: 'my_user_name'\n",
            "PASSWORD: 'my_password'\n"
          ],
          "name": "stdout"
        }
      ]
    },
    {
      "cell_type": "markdown",
      "metadata": {
        "id": "NHOaa-i390el"
      },
      "source": [
        "# Github1s - Browse Projects on VSCode in Your Browser\r\n",
        "\r\n",
        "[Github1s](https://github.com/conwnet/github1s) is a great tool to browse repositories quickly. github1s can be used to open any GitHub repository in VS Code in your browser. Syntax highlighting in VS Code makes it easy for you to understand the source code. Therefore, with github1s you can instantly browse projects on VSCode in your web browser with syntax highlighting.\r\n",
        "\r\n",
        "To use it, simply replace `github.com/path/to/repository/or/file` with `github1s.com/path/to/repository/or/file` to view Github with VS Code. For example, this is the link to one Python script of my previous book:\r\n",
        "```\r\n",
        "https://github.com/PacktPublishing/Mastering-OpenCV-4-with-Python/blob/master/Chapter08/01-chapter-content/contours_short_size.py\r\n",
        "```\r\n",
        "\r\n",
        "To view it on VSCode in your browser, enter the following link:\r\n",
        "```\r\n",
        "https://github1s.com/PacktPublishing/Mastering-OpenCV-4-with-Python/blob/master/Chapter08/01-chapter-content/contours_short_size.py\r\n",
        "```\r\n",
        "Here is the output we get in our browser:\r\n",
        "\r\n",
        "<img src =\"https://raw.githubusercontent.com/albertofernandezvillan/computer-vision-and-deep-learning-course/main/assets/github1s_example.png\">\r\n",
        "\r\n",
        "As you can also see, the files cannot be edited (it is a read-only editor)."
      ]
    },
    {
      "cell_type": "markdown",
      "metadata": {
        "id": "jxX3cdK4DgZ2"
      },
      "source": [
        "# Create and share beautiful images of your source code\r\n",
        "\r\n",
        "We are going to make use of [Carbon](https://carbon.now.sh/). There are a few different ways to import code into Carbon:\r\n",
        "\r\n",
        "\r\n",
        "*   Drop a file into the editor\r\n",
        "*   Append a `GitHub gist id` to the url of Carbon `https://carbon.now.sh/` (e.g. `https://carbon.now.sh/<gist_id_goes_here>`)\r\n",
        "*   Paste your code directly\r\n",
        "\r\n",
        "Once you've got all of your code into Carbon, you can customize your image by changing the syntax theme, background color, window theme, padding, shadows, fonts, and more. After you've customized your image you can share your snippet in a number of ways. You can read more about Carbon [here](https://github.com/carbon-app/carbon).\r\n",
        "\r\n",
        "\r\n"
      ]
    },
    {
      "cell_type": "markdown",
      "metadata": {
        "id": "-IjG4l7qMFdf"
      },
      "source": [
        "For example, I have created a Gist, which shows how to check the OpenCV version installed in your system (or in Colab), which can be accessed in the following URL: \r\n",
        "`https://gist.github.com/albertofernandezvillan/50687ee7f3b01aacd2277a5e7b2f125`\r\n",
        "The content of this Gist is as follows:\r\n",
        "```\r\n",
        "\"\"\"\r\n",
        "See how to check the current OpenCV installation\r\n",
        "\"\"\"\r\n",
        "\r\n",
        "# Import the required packages:\r\n",
        "import cv2\r\n",
        "\r\n",
        "# Print the OpenCV version:\r\n",
        "print(\"OpenCV version: '{}'\".format(cv2.__version__))\r\n",
        "\r\n",
        "# Extract major, minor, and subminor version numbers:\r\n",
        "(major_ver, minor_ver, subminor_ver) = (cv2.__version__).split('.')\r\n",
        "print(\"Major version: ''{}'\".format(major_ver))\r\n",
        "print(\"Minor version: '{}'\".format(minor_ver))\r\n",
        "print(\"Subminor version: '{}'\".format(subminor_ver))\r\n",
        "```"
      ]
    },
    {
      "cell_type": "markdown",
      "metadata": {
        "id": "wUuI83j8LZfM"
      },
      "source": [
        "We can use GitHub gist id to import the code in Carbon. In this case, as the Gist URL is `https://gist.github.com/albertofernandezvillan/50687ee7f3b01aacd2277a5e7b2f125`, the URL to impor the code in Carbon is:\r\n",
        "https://carbon.now.sh/050687ee7f3b01aacd2277a5e7b2f125, obtaining the following output\r\n",
        "\r\n",
        "<img src = \"https://raw.githubusercontent.com/albertofernandezvillan/computer-vision-and-deep-learning-course/main/assets/gist_opencv_version.png\">\r\n",
        "\r\n",
        "\r\n",
        "\r\n"
      ]
    },
    {
      "cell_type": "markdown",
      "metadata": {
        "id": "slofuXgkPeB3"
      },
      "source": [
        "We can export (e.g. download) the created Figure as, for example, a png file (`Export > Download > PNG`). "
      ]
    },
    {
      "cell_type": "markdown",
      "metadata": {
        "id": "OOBJWPkf0m-P"
      },
      "source": [
        "We can also export it as an an [IFrame](https://www.w3schools.com/html/html_iframe.asp), resulting in the following code:\r\n",
        "```\r\n",
        "<iframe\r\n",
        "  src=\"https://carbon.now.sh/embed/050687ee7f3b01aacd2277a5e7b2f125\"\r\n",
        "  style=\"width: 715px; height: 456px; border:0; transform: scale(1); overflow:hidden;\"\r\n",
        "  sandbox=\"allow-scripts allow-same-origin\">\r\n",
        "</iframe>\r\n",
        "```\r\n",
        "\r\n",
        "At this point, we can make use of the IPython magic command `%%html` to show the ouput, which is included next."
      ]
    },
    {
      "cell_type": "code",
      "metadata": {
        "colab": {
          "base_uri": "https://localhost:8080/",
          "height": 477
        },
        "id": "ZJe2tF9v0eY-",
        "outputId": "f4f058e7-b94c-4c95-85ba-9e619cd9c959"
      },
      "source": [
        "%%html\r\n",
        "\r\n",
        "<iframe\r\n",
        "  src=\"https://carbon.now.sh/embed/050687ee7f3b01aacd2277a5e7b2f125\"\r\n",
        "  style=\"width: 715px; height: 456px; border:0; transform: scale(1); overflow:hidden;\"\r\n",
        "  sandbox=\"allow-scripts allow-same-origin\">\r\n",
        "</iframe>"
      ],
      "execution_count": null,
      "outputs": [
        {
          "output_type": "display_data",
          "data": {
            "text/html": [
              "\n",
              "<iframe\n",
              "  src=\"https://carbon.now.sh/embed/050687ee7f3b01aacd2277a5e7b2f125\"\n",
              "  style=\"width: 715px; height: 456px; border:0; transform: scale(1); overflow:hidden;\"\n",
              "  sandbox=\"allow-scripts allow-same-origin\">\n",
              "</iframe>"
            ],
            "text/plain": [
              "<IPython.core.display.HTML object>"
            ]
          },
          "metadata": {
            "tags": []
          }
        }
      ]
    },
    {
      "cell_type": "markdown",
      "metadata": {
        "id": "i1Qc0wvxTYj7"
      },
      "source": [
        "# Conclusions\r\n",
        "\r\n",
        "In this notebook you have seen some commands, tricks and other related information, which can be useful when working with Colab and/or Python."
      ]
    }
  ]
}