{
  "nbformat": 4,
  "nbformat_minor": 0,
  "metadata": {
    "colab": {
      "name": "explore_and_execute_external_scripts_in_colab.ipynb",
      "provenance": [],
      "collapsed_sections": [],
      "authorship_tag": "ABX9TyP7hVnM14qjnNvbDwiLLM+l",
      "include_colab_link": true
    },
    "kernelspec": {
      "name": "python3",
      "display_name": "Python 3"
    }
  },
  "cells": [
    {
      "cell_type": "markdown",
      "metadata": {
        "id": "view-in-github",
        "colab_type": "text"
      },
      "source": [
        "<a href=\"https://colab.research.google.com/github/albertofernandezvillan/computer-vision-and-deep-learning-course/blob/main/explore_and_execute_external_scripts_in_colab.ipynb\" target=\"_parent\"><img src=\"https://colab.research.google.com/assets/colab-badge.svg\" alt=\"Open In Colab\"/></a>"
      ]
    },
    {
      "cell_type": "markdown",
      "metadata": {
        "id": "Dao3yIrjLFMb"
      },
      "source": [
        "<img align=\"left\" style=\"padding-right:10px;\" src =\"https://raw.githubusercontent.com/albertofernandezvillan/computer-vision-and-deep-learning-course/main/assets/university_oviedo_logo.png\" width=300 px>\r\n",
        "\r\n",
        "This notebook is from the Course \"***Computer vision in the new era of Artificial Intelligence and Deep Learning***\", or \"*Visión por computador en la nueva era de la Inteligencia Artificial y el Deep Learning*\" (ES) from the \"Second quarter university extension courses\" that the University of Oviedo is offering (05/04/2021 - 16/04/2021)\r\n",
        "\r\n",
        "<[Github Repository](https://github.com/albertofernandezvillan/computer-vision-and-deep-learning-course) | [Course Web Page Information](https://www.uniovi.es/estudios/extension/cursos2c/-/asset_publisher/SEp0PJi4ISGo/content/vision-por-computador-en-la-nueva-era-de-la-inteligencia-artificial-y-el-deep-learning?redirect=%2Festudios%2Fextension%2Fcursos2c)>"
      ]
    },
    {
      "cell_type": "markdown",
      "metadata": {
        "id": "-Ggg106rLJW0"
      },
      "source": [
        "# Summary\r\n",
        "\r\n",
        "When starting with computer vision and image processing, one key point that can be very helpful is to see the output of the script you are exploring. In this sense, if you could execute the script, which you are trying to figure out what actually tries to solve, with a \"one click solution\" and see the ouput would be very productive. In this notebook, we are going to see how you can achieve this. "
      ]
    },
    {
      "cell_type": "markdown",
      "metadata": {
        "id": "lcRS39nPLRRu"
      },
      "source": [
        "# Explore other OpenCV Python scripts (using %run IPython Magic Command)\r\n",
        "\r\n",
        "In the notebook \"collection_of_some_features_utilities_and_tricks.ipynb\" we have introduced the concept of IPython Magic Commands. In this sense, the IPython Magic Command `%run` can be used to execute other Python scripts. This can be handy when exploring other scripts to see the output after executing them. We will make use of this feature to introduce some concrete examples (e.g. OpenCV Python scripts) when explaining some OpenCV methods.\r\n",
        "\r\n",
        "As an example, we are going to execute the script \"circle_polygon.py\", which can be seen [here](https://github.com/PacktPublishing/Mastering-OpenCV-4-with-Python/blob/master/Chapter04/02-exercices/circle_polygon.py). Note that, in order to download the content of this script properly, we need to get the \"raw content\". This point can be seen in the next Figure.\r\n",
        "\r\n",
        "<img src=\"https://raw.githubusercontent.com/albertofernandezvillan/computer-vision-and-deep-learning-course/main/assets/raw_content.png\" width=600>\r\n",
        "\r\n",
        "\r\n",
        "Therefore, instead of this URL https://github.com/PacktPublishing/Mastering-OpenCV-4-with-Python/blob/master/Chapter04/02-exercices/circle_polygon.py, we will need the following one (see `raw.githubusercontent.com` in the URL): \r\n",
        "https://raw.githubusercontent.com/PacktPublishing/Mastering-OpenCV-4-with-Python/master/Chapter04/02-exercices/circle_polygon.py"
      ]
    },
    {
      "cell_type": "markdown",
      "metadata": {
        "id": "XcG-UrZiQ5O1"
      },
      "source": [
        "So the first point is to download the script and the second point is to execute it. Note that the URL of the file to be downloaded starts with \"`https://raw.githubusercontent.com/....`\""
      ]
    },
    {
      "cell_type": "code",
      "metadata": {
        "colab": {
          "base_uri": "https://localhost:8080/"
        },
        "id": "a48LIK0NMk2E",
        "outputId": "1c3e7468-b4a7-4e1b-d272-405d48367fc8"
      },
      "source": [
        "!wget https://raw.githubusercontent.com/PacktPublishing/Mastering-OpenCV-4-with-Python/master/Chapter04/02-exercices/circle_polygon.py"
      ],
      "execution_count": 12,
      "outputs": [
        {
          "output_type": "stream",
          "text": [
            "--2021-03-02 09:43:44--  https://raw.githubusercontent.com/PacktPublishing/Mastering-OpenCV-4-with-Python/master/Chapter04/02-exercices/circle_polygon.py\n",
            "Resolving raw.githubusercontent.com (raw.githubusercontent.com)... 185.199.109.133, 185.199.111.133, 185.199.110.133, ...\n",
            "Connecting to raw.githubusercontent.com (raw.githubusercontent.com)|185.199.109.133|:443... connected.\n",
            "HTTP request sent, awaiting response... 200 OK\n",
            "Length: 1625 (1.6K) [text/plain]\n",
            "Saving to: ‘circle_polygon.py’\n",
            "\n",
            "circle_polygon.py   100%[===================>]   1.59K  --.-KB/s    in 0s      \n",
            "\n",
            "2021-03-02 09:43:44 (35.7 MB/s) - ‘circle_polygon.py’ saved [1625/1625]\n",
            "\n"
          ],
          "name": "stdout"
        }
      ]
    },
    {
      "cell_type": "markdown",
      "metadata": {
        "id": "RkLP-FXdRYHQ"
      },
      "source": [
        "Once the script is downloaded, we can execute it using the Magic Command `%run`."
      ]
    },
    {
      "cell_type": "code",
      "metadata": {
        "colab": {
          "base_uri": "https://localhost:8080/",
          "height": 281
        },
        "id": "lU-IqTD8Ms0O",
        "outputId": "00072842-9291-4472-89c3-be37129cc49e"
      },
      "source": [
        "# Use %run command to execute the downloaded Python script\r\n",
        "%run circle_polygon.py"
      ],
      "execution_count": 13,
      "outputs": [
        {
          "output_type": "display_data",
          "data": {
            "image/png": "[encoded data removed]",
            "text/plain": [
              "<Figure size 432x288 with 1 Axes>"
            ]
          },
          "metadata": {
            "tags": [],
            "needs_background": "light"
          }
        }
      ]
    },
    {
      "cell_type": "markdown",
      "metadata": {
        "id": "795RewjqW9pr"
      },
      "source": [
        "# Download and execute and script (programmatically)\r\n",
        "\r\n",
        "Once introduced the objetive of this notebook, we can achieve the same functionality but coding a function (programmatically). Therefore, we can later (in other notebooks) use this function to download, execute and see the output of a specific script. \r\n",
        "To achieve this, we are going to code a very simple function `download_and_execute_file(fname, url, params=\"\", execute=True, show_content=False)`. See next how it is coded:"
      ]
    },
    {
      "cell_type": "code",
      "metadata": {
        "id": "V92lPlUX5U92"
      },
      "source": [
        "import requests\r\n",
        "\r\n",
        "# https://stackoverflow.com/questions/14409167/how-to-pass-a-variable-to-magic-%C2%B4run%C2%B4-function-in-ipython\r\n",
        "def download_and_execute_file(fname, url, params=\"\", execute=True, show_content=False):\r\n",
        "  # Download and write the file:\r\n",
        "  r = requests.get(url)\r\n",
        "  open(fname , 'wb').write(r.content)\r\n",
        "\r\n",
        "  # Show the content of the script if required:\r\n",
        "  if show_content:\r\n",
        "    print(\"\\n\")\r\n",
        "    with open(fname,'r') as testwritefile:\r\n",
        "      print(testwritefile.read())\r\n",
        "    print(\"\\n\")\r\n",
        "\r\n",
        "  # Execute the script if required:\r\n",
        "  if execute:    \r\n",
        "    execution = \"run \" + fname + \" \" + params\r\n",
        "    ipy = get_ipython()\r\n",
        "    ipy.magic(execution)"
      ],
      "execution_count": 54,
      "outputs": []
    },
    {
      "cell_type": "markdown",
      "metadata": {
        "id": "fXmdz-Kt6iUH"
      },
      "source": [
        "## First example\r\n",
        "\r\n",
        "Once coded this function, we can use it. In this case, we are going to execute the script `circle_polygon.py`. We want to both execute the script and also see the content of the afforementioned script."
      ]
    },
    {
      "cell_type": "code",
      "metadata": {
        "colab": {
          "base_uri": "https://localhost:8080/",
          "height": 1000
        },
        "id": "LQyY63l3UWRj",
        "outputId": "c272466f-4274-4b4e-f5e3-cb0a6d039e0e"
      },
      "source": [
        "fname = 'circle_polygon.py'\r\n",
        "url = 'https://raw.githubusercontent.com/PacktPublishing/Mastering-OpenCV-4-with-Python/master/Chapter04/02-exercices/circle_polygon.py'\r\n",
        "\r\n",
        "download_and_execute_file(fname, url, params= \"\", execute=True, show_content=True)"
      ],
      "execution_count": 51,
      "outputs": [
        {
          "output_type": "stream",
          "text": [
            "\n",
            "\n",
            "\"\"\"\n",
            "Example to show how to draw a circle polygon\n",
            "\"\"\"\n",
            "\n",
            "# Import required packages:\n",
            "import cv2\n",
            "import numpy as np\n",
            "import matplotlib.pyplot as plt\n",
            "\n",
            "\n",
            "def show_with_matplotlib(img, title):\n",
            "    \"\"\"Shows an image using matplotlib capabilities\"\"\"\n",
            "\n",
            "    # Convert BGR image to RGB:\n",
            "    img_RGB = img[:, :, ::-1]\n",
            "\n",
            "    # Show the image using matplotlib:\n",
            "    plt.imshow(img_RGB)\n",
            "    plt.title(title)\n",
            "    plt.show()\n",
            "\n",
            "\n",
            "# Dictionary containing some colors:\n",
            "colors = {'blue': (255, 0, 0), 'green': (0, 255, 0), 'red': (0, 0, 255), 'yellow': (0, 255, 255),\n",
            "          'magenta': (255, 0, 255), 'cyan': (255, 255, 0), 'white': (255, 255, 255), 'black': (0, 0, 0),\n",
            "          'gray': (125, 125, 125), 'rand': np.random.randint(0, high=256, size=(3,)).tolist(),\n",
            "          'dark_gray': (50, 50, 50), 'light_gray': (220, 220, 220)}\n",
            "\n",
            "# We create the canvas to draw: 640 x 640 pixels, 3 channels, uint8 (8-bit unsigned integers)\n",
            "# We set background to black using np.zeros():\n",
            "image = np.zeros((640, 640, 3), dtype=\"uint8\")\n",
            "\n",
            "# If you want another background color you can do the following:\n",
            "# image[:] = colors['light_gray']\n",
            "image.fill(255)\n",
            "\n",
            "# Create the necessary (12 in this case) points to build the circle polygon:\n",
            "pts = np.array(\n",
            "    [(600, 320), (563, 460), (460, 562), (320, 600), (180, 563), (78, 460), (40, 320), (77, 180), (179, 78), (319, 40),\n",
            "     (459, 77), (562, 179)])\n",
            "\n",
            "# Reshape to shape (number_vertex, 1, 2):\n",
            "pts = pts.reshape((-1, 1, 2))\n",
            "\n",
            "# Call cv2.polylines() to build the polygon:\n",
            "cv2.polylines(image, [pts], True, colors['green'], 5)\n",
            "\n",
            "# Show image:\n",
            "show_with_matplotlib(image, 'polygon with the shape of a circle using 12 points')\n",
            "\n",
            "\n",
            "\n"
          ],
          "name": "stdout"
        },
        {
          "output_type": "display_data",
          "data": {
            "image/png": "[encoded data removed]",
            "text/plain": [
              "<Figure size 432x288 with 1 Axes>"
            ]
          },
          "metadata": {
            "tags": [],
            "needs_background": "light"
          }
        }
      ]
    },
    {
      "cell_type": "markdown",
      "metadata": {
        "id": "U8YHPmdYcrL3"
      },
      "source": [
        "## Second example\r\n",
        "\r\n",
        "In a second example, we are going to execute the script `testing_colors.py`. To execute it, we need also the file `constants.py`. In this sense, `constants.py` will be downloaded but not executed. Therefore we first download `constans.py` and then, we download and execute `testing_colors.py`."
      ]
    },
    {
      "cell_type": "code",
      "metadata": {
        "id": "pxc5db8acIdc"
      },
      "source": [
        "fname = 'constant.py'\r\n",
        "url = \"https://raw.githubusercontent.com/PacktPublishing/Mastering-OpenCV-4-with-Python/master/Chapter04/01-chapter-content/constant.py\"\r\n",
        "\r\n",
        "download_and_execute_file(fname, url, params=\"\", execute=False, show_content=False)"
      ],
      "execution_count": 52,
      "outputs": []
    },
    {
      "cell_type": "code",
      "metadata": {
        "colab": {
          "base_uri": "https://localhost:8080/",
          "height": 1000
        },
        "id": "O-kKcy7_bglx",
        "outputId": "7949d584-d4bf-44c2-a265-9b7b6e485b1a"
      },
      "source": [
        "fname = 'testing_colors.py'\r\n",
        "url = \"https://raw.githubusercontent.com/PacktPublishing/Mastering-OpenCV-4-with-Python/master/Chapter04/01-chapter-content/testing_colors.py\"\r\n",
        "\r\n",
        "download_and_execute_file(fname, url, params=\"\", execute=True, show_content=True)"
      ],
      "execution_count": 53,
      "outputs": [
        {
          "output_type": "stream",
          "text": [
            "\n",
            "\n",
            "\"\"\"\n",
            "Example for testing predefined colors and matplotlib output\n",
            "\"\"\"\n",
            "\n",
            "# Import required packages:\n",
            "import cv2\n",
            "import numpy as np\n",
            "import matplotlib.pyplot as plt\n",
            "import constant\n",
            "\n",
            "# Getting red color:\n",
            "print(\"red: '{}'\".format(constant.RED))\n",
            "\n",
            "\n",
            "def show_with_matplotlib(img, title):\n",
            "    \"\"\"Shows an image using matplotlib capabilities\"\"\"\n",
            "\n",
            "    # Convert BGR image to RGB:\n",
            "    img_RGB = img[:, :, ::-1]\n",
            "\n",
            "    # Show the image using matplotlib:\n",
            "    plt.imshow(img_RGB)\n",
            "    plt.title(title)\n",
            "    plt.show()\n",
            "\n",
            "\n",
            "# Dictionary containing some colors:\n",
            "colors = {'blue': (255, 0, 0), 'green': (0, 255, 0), 'red': (0, 0, 255), 'yellow': (0, 255, 255),\n",
            "          'magenta': (255, 0, 255), 'cyan': (255, 255, 0), 'white': (255, 255, 255), 'black': (0, 0, 0),\n",
            "          'gray': (125, 125, 125), 'rand': np.random.randint(0, high=256, size=(3,)).tolist(),\n",
            "          'dark_gray': (50, 50, 50), 'light_gray': (220, 220, 220)}\n",
            "\n",
            "# We create the canvas to draw: 500 x 500 pixels, 3 channels, uint8 (8-bit unsigned integers)\n",
            "# We set background to black using np.zeros():\n",
            "image = np.zeros((500, 500, 3), dtype=\"uint8\")\n",
            "\n",
            "# If you want another background color you can do the following:\n",
            "image[:] = colors['light_gray']\n",
            "\n",
            "# We draw all the colors to test the dictionary\n",
            "# We draw some lines each one in one color. To get the color use 'colors[key]'\n",
            "separation = 40\n",
            "for key in colors:\n",
            "    # Draw a line using the function cv2.line():\n",
            "    cv2.line(image, (0, separation), (500, separation), colors[key], 10)\n",
            "    separation += 40\n",
            "\n",
            "# Show image:\n",
            "show_with_matplotlib(image, 'Dictionary with some predefined colors')\n",
            "\n",
            "\n",
            "\n",
            "red: '(0, 0, 255)'\n"
          ],
          "name": "stdout"
        },
        {
          "output_type": "display_data",
          "data": {
            "image/png": "[encoded data removed]",
            "text/plain": [
              "<Figure size 432x288 with 1 Axes>"
            ]
          },
          "metadata": {
            "tags": [],
            "needs_background": "light"
          }
        }
      ]
    },
    {
      "cell_type": "markdown",
      "metadata": {
        "id": "CBnrehsX54u7"
      },
      "source": [
        "## Third example\r\n",
        "\r\n",
        "A third example is given. In this case, this is a Python script that sums two numbers. In this script, two arguments should be provided: the two numbers to be added. We are going to execute this script without arguments and see what happens."
      ]
    },
    {
      "cell_type": "code",
      "metadata": {
        "colab": {
          "base_uri": "https://localhost:8080/",
          "height": 153
        },
        "id": "CRF9s89E2Vhr",
        "outputId": "0c109406-0019-49cd-cd3f-8a6bafe8a570"
      },
      "source": [
        "fname = \"argparse_sum_two_numbers.py\"\r\n",
        "url = \"https://raw.githubusercontent.com/PacktPublishing/Mastering-OpenCV-4-with-Python/master/Chapter03/01-chapter-content/argparse_sum_two_numbers.py\"\r\n",
        "\r\n",
        "params = \"\"\r\n",
        "download_and_execute_file(fname, url, params = params, execute=True, show_content=False)"
      ],
      "execution_count": 47,
      "outputs": [
        {
          "output_type": "stream",
          "text": [
            "usage: argparse_sum_two_numbers.py [-h] first_number second_number\n",
            "argparse_sum_two_numbers.py: error: the following arguments are required: first_number, second_number\n"
          ],
          "name": "stderr"
        },
        {
          "output_type": "error",
          "ename": "SystemExit",
          "evalue": "ignored",
          "traceback": [
            "An exception has occurred, use %tb to see the full traceback.\n",
            "\u001b[0;31mSystemExit\u001b[0m\u001b[0;31m:\u001b[0m 2\n"
          ]
        }
      ]
    },
    {
      "cell_type": "markdown",
      "metadata": {
        "id": "GVs2NjUg6PBH"
      },
      "source": [
        "As it can be seen, we need to include the two numbers to be added in the `params` argument. This is shown as follows."
      ]
    },
    {
      "cell_type": "code",
      "metadata": {
        "colab": {
          "base_uri": "https://localhost:8080/"
        },
        "id": "Cxsel_fx4-4m",
        "outputId": "6c769500-98ea-4740-a5a7-2329ccad728e"
      },
      "source": [
        "fname = \"argparse_sum_two_numbers.py\"\r\n",
        "url = \"https://raw.githubusercontent.com/PacktPublishing/Mastering-OpenCV-4-with-Python/master/Chapter03/01-chapter-content/argparse_sum_two_numbers.py\"\r\n",
        "params = \"5 10\"\r\n",
        "\r\n",
        "download_and_execute_file(fname, url, params = params, execute=True, show_content=False)"
      ],
      "execution_count": 49,
      "outputs": [
        {
          "output_type": "stream",
          "text": [
            "args: 'Namespace(first_number=5, second_number=10)'\n",
            "the sum is: '15'\n",
            "args_dict dictionary: '{'first_number': 5, 'second_number': 10}'\n",
            "first argument from the dictionary: '5'\n"
          ],
          "name": "stdout"
        }
      ]
    },
    {
      "cell_type": "markdown",
      "metadata": {
        "id": "EQBON29xY7LU"
      },
      "source": [
        "# Conclusions\r\n",
        "\r\n",
        "In this notebook, we have seen two ways in order to download and execute Python scripts. When explaining some image processing algorithms and methods related to the OpenCV library (in other notebooks), we will make use of this functionallity. In this sense, and in connection with downloading and executing the Python scripts with the function `download_and_execute_file()`, we have covered three examples:\r\n",
        "1.   Download and execute a Python script\r\n",
        "2.   Download and execute a Python script with a dependency on other Python file, which is also downloaded (but not executed)\r\n",
        "3.   Download and execute a Python script, which requires two arguments as inputs "
      ]
    }
  ]
}