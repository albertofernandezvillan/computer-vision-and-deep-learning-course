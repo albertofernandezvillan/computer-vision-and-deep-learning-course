{
  "nbformat": 4,
  "nbformat_minor": 0,
  "metadata": {
    "colab": {
      "name": "DeepLearningIntroduction.ipynb",
      "provenance": [],
      "collapsed_sections": [],
      "authorship_tag": "ABX9TyMqIsBVmXXQ+ZNRC7v1GikV",
      "include_colab_link": true
    },
    "kernelspec": {
      "name": "python3",
      "display_name": "Python 3"
    }
  },
  "cells": [
    {
      "cell_type": "markdown",
      "metadata": {
        "id": "view-in-github",
        "colab_type": "text"
      },
      "source": [
        "<a href=\"https://colab.research.google.com/github/albertofernandezvillan/dl-ml-notebooks/blob/main/DeepLearningIntroduction.ipynb\" target=\"_parent\"><img src=\"https://colab.research.google.com/assets/colab-badge.svg\" alt=\"Open In Colab\"/></a>"
      ]
    },
    {
      "cell_type": "code",
      "metadata": {
        "id": "G5IGvhT7GAgd"
      },
      "source": [
        "# Import required packages:\r\n",
        "import tensorflow as tf\r\n",
        "from tensorflow import keras\r\n",
        "import numpy as np\r\n",
        "import matplotlib.pyplot as plt\r\n",
        "from keras.utils.vis_utils import plot_model"
      ],
      "execution_count": 20,
      "outputs": []
    },
    {
      "cell_type": "code",
      "metadata": {
        "colab": {
          "base_uri": "https://localhost:8080/"
        },
        "id": "0Ivn2KnKIFuc",
        "outputId": "f048f10e-9aed-4ddf-951e-6059c4fa65a6"
      },
      "source": [
        "# Tensorflow 2.4.0 version was used en running this notebook\r\n",
        "print(tf.__version__)"
      ],
      "execution_count": 9,
      "outputs": [
        {
          "output_type": "stream",
          "text": [
            "2.4.0\n"
          ],
          "name": "stdout"
        }
      ]
    },
    {
      "cell_type": "code",
      "metadata": {
        "id": "I8nnmREnGKqN"
      },
      "source": [
        "### 1) First point is to define the data:\r\n",
        "# Number of points:\r\n",
        "N = 50\r\n",
        "# Make random numbers predictable:\r\n",
        "np.random.seed(101)\r\n",
        "# Generate random data composed by 50 (N = 50) points:\r\n",
        "x = np.linspace(0, N, N)\r\n",
        "y = 3 * np.linspace(0, N, N) + np.random.uniform(-10, 10, N)"
      ],
      "execution_count": 2,
      "outputs": []
    },
    {
      "cell_type": "code",
      "metadata": {
        "colab": {
          "base_uri": "https://localhost:8080/",
          "height": 295
        },
        "id": "pI8bnojHGmLw",
        "outputId": "0e7303e0-2855-4f69-cae3-b23b3ee2c39a"
      },
      "source": [
        "### 2) Plot the training data:\r\n",
        "# Plot training data:\r\n",
        "plt.subplot(1, 2, 1)\r\n",
        "plt.plot(x, y, 'ro', label='Original data')\r\n",
        "plt.xlabel('x')\r\n",
        "plt.ylabel('y')\r\n",
        "plt.title(\"Training Data\")\r\n",
        "# Show the Figure:\r\n",
        "plt.show()"
      ],
      "execution_count": 3,
      "outputs": [
        {
          "output_type": "display_data",
          "data": {
            "image/png": "[encoded data removed]",
            "text/plain": [
              "<Figure size 432x288 with 1 Axes>"
            ]
          },
          "metadata": {
            "tags": [],
            "needs_background": "light"
          }
        }
      ]
    },
    {
      "cell_type": "code",
      "metadata": {
        "id": "VncFmssSH5GA"
      },
      "source": [
        "def create_model():\r\n",
        "    \"\"\"Create the model using Sequential model\"\"\"\r\n",
        "\r\n",
        "    # Create a sequential model:\r\n",
        "    model = tf.keras.Sequential()\r\n",
        "    model.add(keras.layers.Dense(2, input_dim=1))\r\n",
        "    model.add(keras.layers.Dense(1))\r\n",
        "\r\n",
        "    # Compile the model defining mean squared error(mse) as the loss (loss='mean_squared_error' can also be written)\r\n",
        "    model.compile(optimizer=keras.optimizers.Adam(lr=0.1), loss='mse')\r\n",
        "\r\n",
        "    # Return the created model\r\n",
        "    return model"
      ],
      "execution_count": 75,
      "outputs": []
    },
    {
      "cell_type": "code",
      "metadata": {
        "colab": {
          "base_uri": "https://localhost:8080/"
        },
        "id": "_D3MLmVbJCm9",
        "outputId": "3b9454d3-fe88-498f-e336-61391b604a91"
      },
      "source": [
        "# Get the created model:\r\n",
        "linear_reg_model = create_model()\r\n",
        "print(linear_reg_model.summary())"
      ],
      "execution_count": 76,
      "outputs": [
        {
          "output_type": "stream",
          "text": [
            "Model: \"sequential_16\"\n",
            "_________________________________________________________________\n",
            "Layer (type)                 Output Shape              Param #   \n",
            "=================================================================\n",
            "dense_16 (Dense)             (None, 2)                 4         \n",
            "_________________________________________________________________\n",
            "dense_17 (Dense)             (None, 1)                 3         \n",
            "=================================================================\n",
            "Total params: 7\n",
            "Trainable params: 7\n",
            "Non-trainable params: 0\n",
            "_________________________________________________________________\n",
            "None\n"
          ],
          "name": "stdout"
        }
      ]
    },
    {
      "cell_type": "code",
      "metadata": {
        "colab": {
          "base_uri": "https://localhost:8080/",
          "height": 312
        },
        "id": "s8Or4LvNKyhx",
        "outputId": "5ee466bd-a279-40aa-e68b-7358067c21ac"
      },
      "source": [
        "# For more info: \"https://machinelearningmastery.com/visualize-deep-learning-neural-network-model-keras/\"\r\n",
        "plot_model(linear_reg_model, to_file='linear_reg_model_plot.png', show_shapes=True, show_layer_names=True)"
      ],
      "execution_count": 77,
      "outputs": [
        {
          "output_type": "execute_result",
          "data": {
            "image/png": "[encoded data removed]",
            "text/plain": [
              "<IPython.core.display.Image object>"
            ]
          },
          "metadata": {
            "tags": []
          },
          "execution_count": 77
        }
      ]
    },
    {
      "cell_type": "code",
      "metadata": {
        "id": "k0WYI6FMK_tR"
      },
      "source": [
        "history = linear_reg_model.fit(x, y, epochs=50, validation_split=0.2, verbose=0)"
      ],
      "execution_count": 78,
      "outputs": []
    },
    {
      "cell_type": "code",
      "metadata": {
        "colab": {
          "base_uri": "https://localhost:8080/"
        },
        "id": "_bCFyR9jL2CR",
        "outputId": "1bb33b99-d4a1-44b3-d3d8-ad25cb8ea2d6"
      },
      "source": [
        "# list all data in history\r\n",
        "print(history.history.keys())"
      ],
      "execution_count": 60,
      "outputs": [
        {
          "output_type": "stream",
          "text": [
            "dict_keys(['loss', 'val_loss'])\n"
          ],
          "name": "stdout"
        }
      ]
    },
    {
      "cell_type": "code",
      "metadata": {
        "colab": {
          "base_uri": "https://localhost:8080/",
          "height": 295
        },
        "id": "kQ7TCZ1GMC7W",
        "outputId": "130e6fd8-a6de-4ec4-91d1-962826f5b7fa"
      },
      "source": [
        "# summarize history for loss\r\n",
        "# For more info: \"https://machinelearningmastery.com/display-deep-learning-model-training-history-in-keras/\"\r\n",
        "plt.plot(history.history['loss'])\r\n",
        "plt.plot(history.history['val_loss'])\r\n",
        "plt.title('model loss')\r\n",
        "plt.ylabel('loss')\r\n",
        "plt.xlabel('epoch')\r\n",
        "plt.legend(['train', 'test'], loc='upper left')\r\n",
        "plt.show()"
      ],
      "execution_count": 79,
      "outputs": [
        {
          "output_type": "display_data",
          "data": {
            "image/png": "[encoded data removed]",
            "text/plain": [
              "<Figure size 432x288 with 1 Axes>"
            ]
          },
          "metadata": {
            "tags": [],
            "needs_background": "light"
          }
        }
      ]
    },
    {
      "cell_type": "code",
      "metadata": {
        "colab": {
          "base_uri": "https://localhost:8080/"
        },
        "id": "MRWPLn65QR8r",
        "outputId": "67f40e96-5906-4ae1-9010-099f50faa83c"
      },
      "source": [
        "# We can use model.predict() to predict the value for a new value:\r\n",
        "print(linear_reg_model.predict([100.0]))"
      ],
      "execution_count": 81,
      "outputs": [
        {
          "output_type": "stream",
          "text": [
            "[[300.82242]]\n"
          ],
          "name": "stdout"
        }
      ]
    },
    {
      "cell_type": "code",
      "metadata": {
        "colab": {
          "base_uri": "https://localhost:8080/"
        },
        "id": "bmKurcVISc2M",
        "outputId": "33c924e4-9f8f-4701-8e03-a46bcce77a73"
      },
      "source": [
        "### Saving the model\r\n",
        "# For more info see: \"https://www.tensorflow.org/guide/keras/save_and_serialize\"\r\n",
        "# The recommended format is the following:\r\n",
        "# Calling `save(/content/linear_reg_model)` creates a SavedModel folder '/content/linear_reg_model'.\r\n",
        "linear_reg_model.save('/content/linear_reg_model')"
      ],
      "execution_count": 85,
      "outputs": [
        {
          "output_type": "stream",
          "text": [
            "INFO:tensorflow:Assets written to: /content/linear_reg_model/assets\n"
          ],
          "name": "stdout"
        }
      ]
    },
    {
      "cell_type": "code",
      "metadata": {
        "colab": {
          "base_uri": "https://localhost:8080/"
        },
        "id": "iKdbK3K3VbMU",
        "outputId": "df339e5a-bbb7-432a-bb12-d92638d96296"
      },
      "source": [
        "# The model architecture, and training configuration (including the optimizer, losses, and metrics) \r\n",
        "# are stored in saved_model.pb. The weights are saved in the variables/ directory.\r\n",
        "!ls /content/linear_reg_model"
      ],
      "execution_count": 89,
      "outputs": [
        {
          "output_type": "stream",
          "text": [
            "assets\tsaved_model.pb\tvariables\n"
          ],
          "name": "stdout"
        }
      ]
    },
    {
      "cell_type": "code",
      "metadata": {
        "id": "1R2ogn0rUL-U"
      },
      "source": [
        "# You can also save the model using the older Keras H5 format\r\n",
        "# Keras also supports saving a single HDF5 file containing the model's architecture, \r\n",
        "# weights values, and compile() information. It is a light-weight alternative to SavedModel.\r\n",
        "linear_reg_model.save('/content/linear_reg_model.h5') "
      ],
      "execution_count": 88,
      "outputs": []
    },
    {
      "cell_type": "code",
      "metadata": {
        "id": "oG1upRxQWLQw"
      },
      "source": [
        "### Load the trained model and make predictions:\r\n",
        "reconstructed_model = keras.models.load_model('/content/linear_reg_model.h5')\r\n",
        "# Let's check:\r\n",
        "test_input = np.random.uniform(50, 80, 4)\r\n",
        "np.testing.assert_allclose(\r\n",
        "    reconstructed_model.predict(test_input), reconstructed_model.predict(test_input))\r\n",
        "\r\n",
        "# The reconstructed model is already compiled and has retained the optimizer\r\n",
        "# state, so training could be resumed in case of need"
      ],
      "execution_count": 118,
      "outputs": []
    },
    {
      "cell_type": "code",
      "metadata": {
        "id": "NlBLZCA0Yv8_"
      },
      "source": [
        "# We can use the reconstructed model for predicting a new value:\r\n",
        "reconstructed_model.predict([100.0])"
      ],
      "execution_count": null,
      "outputs": []
    },
    {
      "cell_type": "code",
      "metadata": {
        "colab": {
          "base_uri": "https://localhost:8080/"
        },
        "id": "Oc5tT1AEWlvj",
        "outputId": "7d35fb22-59e6-4f78-93cf-3e846a054d5b"
      },
      "source": [
        "reconstructed_model_2 = keras.models.load_model('/content/linear_reg_model')\r\n",
        "reconstructed_model_2.predict([100.0])"
      ],
      "execution_count": 92,
      "outputs": [
        {
          "output_type": "execute_result",
          "data": {
            "text/plain": [
              "array([[300.82242]], dtype=float32)"
            ]
          },
          "metadata": {
            "tags": []
          },
          "execution_count": 92
        }
      ]
    },
    {
      "cell_type": "code",
      "metadata": {
        "colab": {
          "base_uri": "https://localhost:8080/"
        },
        "id": "_bSFqJS4W5H7",
        "outputId": "7afc8b7c-f608-4e06-ed72-ec4184c8a2b7"
      },
      "source": [
        "test_input = np.random.uniform(50, 80, 4)\r\n",
        "test_input"
      ],
      "execution_count": 115,
      "outputs": [
        {
          "output_type": "execute_result",
          "data": {
            "text/plain": [
              "array([64.90599559, 79.26083381, 56.10582862, 58.97061229])"
            ]
          },
          "metadata": {
            "tags": []
          },
          "execution_count": 115
        }
      ]
    },
    {
      "cell_type": "code",
      "metadata": {
        "colab": {
          "base_uri": "https://localhost:8080/"
        },
        "id": "Xbm1vxHZUtTF",
        "outputId": "43b7adbc-c7f7-4565-c81a-2213aa8b19c5"
      },
      "source": [
        "predictions = reconstructed_model_2.predict(test_input)\r\n",
        "predictions"
      ],
      "execution_count": 116,
      "outputs": [
        {
          "output_type": "execute_result",
          "data": {
            "text/plain": [
              "array([[195.92386],\n",
              "       [238.83153],\n",
              "       [169.61949],\n",
              "       [178.18256]], dtype=float32)"
            ]
          },
          "metadata": {
            "tags": []
          },
          "execution_count": 116
        }
      ]
    }
  ]
}