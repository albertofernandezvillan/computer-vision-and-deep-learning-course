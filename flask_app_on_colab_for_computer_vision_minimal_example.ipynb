{
  "nbformat": 4,
  "nbformat_minor": 0,
  "metadata": {
    "colab": {
      "name": "flask_app_on_colab_for_computer_vision_minimal_example.ipynb",
      "provenance": [],
      "collapsed_sections": [],
      "toc_visible": true,
      "authorship_tag": "ABX9TyMTqt3kuJyUPF9pTOr6Bfre",
      "include_colab_link": true
    },
    "kernelspec": {
      "name": "python3",
      "display_name": "Python 3"
    }
  },
  "cells": [
    {
      "cell_type": "markdown",
      "metadata": {
        "id": "view-in-github",
        "colab_type": "text"
      },
      "source": [
        "<a href=\"https://colab.research.google.com/github/albertofernandezvillan/computer-vision-and-deep-learning-course/blob/main/flask_app_on_colab_for_computer_vision_minimal_example.ipynb\" target=\"_parent\"><img src=\"https://colab.research.google.com/assets/colab-badge.svg\" alt=\"Open In Colab\"/></a>"
      ]
    },
    {
      "cell_type": "markdown",
      "metadata": {
        "id": "43cH7qm_QfCa"
      },
      "source": [
        "<img align=\"left\" style=\"padding-right:10px;\" src =\"https://raw.githubusercontent.com/albertofernandezvillan/computer-vision-and-deep-learning-course/main/assets/university_oviedo_logo.png\" width=300 px>\r\n",
        "\r\n",
        "This notebook is from the Course \"***Computer vision in the new era of Artificial Intelligence and Deep Learning***\", or \"*Visión por computador en la nueva era de la Inteligencia Artificial y el Deep Learning*\" (ES) from the \"Second quarter university extension courses\" that the University of Oviedo is offering (05/04/2021 - 16/04/2021)\r\n",
        "\r\n",
        "<[Github Repository](https://github.com/albertofernandezvillan/computer-vision-and-deep-learning-course) | [Course Web Page Information](https://www.uniovi.es/estudios/extension/cursos2c/-/asset_publisher/SEp0PJi4ISGo/content/vision-por-computador-en-la-nueva-era-de-la-inteligencia-artificial-y-el-deep-learning?redirect=%2Festudios%2Fextension%2Fcursos2c)>"
      ]
    },
    {
      "cell_type": "markdown",
      "metadata": {
        "id": "TJ8_y-ntQj8_"
      },
      "source": [
        "# Summary\r\n",
        "\r\n",
        "In this notebook, we are going to code a very simple application with Flask in Colab. To deploy it, we are going to make use of [flask-ngrok](https://github.com/gstaff/flask-ngrok), which is  a simple way to demo Flask apps from your machine. This tool makes your Flask apps running on localhost available over the internet via the excellent ngrok tool.\r\n",
        "\r\n"
      ]
    },
    {
      "cell_type": "markdown",
      "metadata": {
        "id": "s1-vxuAYWTwP"
      },
      "source": [
        "# Introduction to Flask\r\n",
        "\r\n",
        "If you're developing a web app in Python, you can choose from many frameworks, including Flask, Tornado, Pyramid, and Django. In this case, we are going to introduce a series of examples using Flask. \r\n",
        "\r\n",
        "Flask is a micro web framework written in Python. It is classified as a microframework because it does not require particular tools or libraries. \r\n",
        "\r\n",
        "<center><img src=\"https://upload.wikimedia.org/wikipedia/commons/thumb/3/3c/Flask_logo.svg/320px-Flask_logo.svg.png\"></center>\r\n",
        "\r\n",
        "It has no database abstraction layer, form validation, or any other components where pre-existing third-party libraries provide common functions. However, Flask supports extensions that can add application features as if they were implemented in Flask itself. Applications that use the Flask framework include Pinterest and LinkedIn.\r\n",
        "The following code is a simple web application that displays *Hello World!* when visited (e.g. GET request from your web browser):\r\n",
        "\r\n",
        "```python\r\n",
        "# flask_example.py\r\n",
        "from flask import Flask\r\n",
        "app = Flask(__name__)\r\n",
        "\r\n",
        "@app.route(\"/\")\r\n",
        "def hello():\r\n",
        "    return \"Hello World!\"\r\n",
        "\r\n",
        "if __name__ == \"__main__\":\r\n",
        "    app.run()\r\n",
        "```\r\n"
      ]
    },
    {
      "cell_type": "markdown",
      "metadata": {
        "id": "R3fZ8kVARaxq"
      },
      "source": [
        "# Introduction to `flask-ngrok`\r\n",
        "\r\n",
        "As introduced before,  `flask-ngrok` is a simple way to demo Flask apps from your machine. Makes your Flask apps running on localhost available over the internet via the excellent ngrok tool.\r\n",
        "\r\n",
        "In you execute this script, you will be doing a \"Hello world\" application with `flask-ngrok`:\r\n",
        "\r\n",
        "```python\r\n",
        "# flask_ngrok_example.py\r\n",
        "from flask import Flask\r\n",
        "from flask_ngrok import run_with_ngrok\r\n",
        "\r\n",
        "app = Flask(__name__)\r\n",
        "run_with_ngrok(app)  # Start ngrok when app is run\r\n",
        "\r\n",
        "@app.route(\"/\")\r\n",
        "def hello():\r\n",
        "    return \"Hello World!\"\r\n",
        "\r\n",
        "if __name__ == '__main__':\r\n",
        "    app.run()\r\n",
        "```\r\n",
        "\r\n",
        "You can easily compare the differences between the two previous scripts and see the modifications that have been performed to deploy it with `flask-ngrok`.\r\n",
        "\r\n",
        "Running this example, gives us the following output:\r\n",
        "\r\n",
        "```\r\n",
        "python flask_ngrok_example.py\r\n",
        " * Running on http://127.0.0.1:5000/ (Press CTRL+C to quit)\r\n",
        " * Running on http://<random-address>.ngrok.io\r\n",
        " * Traffic stats available on http://127.0.0.1:4040\r\n",
        "```\r\n",
        "\r\n",
        "\r\n",
        "\r\n",
        " \r\n"
      ]
    },
    {
      "cell_type": "markdown",
      "metadata": {
        "id": "3ckfH1B7Rzjc"
      },
      "source": [
        "# Minimal computer vision application\r\n",
        "\r\n",
        "In this section, we are going to code and deploy a minimal computer vision application. So the first step is to install `flask-ngrok`, and the second step is to install `colaboratory-utils`. `colaboratory-utils` is going to be used for both downloading and executing the script [hello_opencv.py](https://github.com/albertofernandezvillan/computer-vision-and-deep-learning-course/blob/main/scripts/flask/hello_opencv.py). So, first step is to install `flask-ngrok`.\r\n",
        " "
      ]
    },
    {
      "cell_type": "code",
      "metadata": {
        "id": "P4h2HbJ9Lpy5"
      },
      "source": [
        "!pip install flask-ngrok"
      ],
      "execution_count": null,
      "outputs": []
    },
    {
      "cell_type": "markdown",
      "metadata": {
        "id": "rPzXQqOgb2s0"
      },
      "source": [
        "Second step is to install `colaboratory-utils`."
      ]
    },
    {
      "cell_type": "code",
      "metadata": {
        "id": "AgwiwQE0MPCC"
      },
      "source": [
        "!pip install git+git://github.com/albertofernandezvillan/colaboratory-utils.git"
      ],
      "execution_count": null,
      "outputs": []
    },
    {
      "cell_type": "markdown",
      "metadata": {
        "id": "3N-VC4qySq72"
      },
      "source": [
        "Before downloading and executing the script `hello_opencv.py`, we are going to introduce main points.\r\n",
        "\r\n",
        "First step, is to import required packages:\r\n",
        "\r\n",
        "```python\r\n",
        "# Import required packages:\r\n",
        "import cv2\r\n",
        "from flask import Flask, request, make_response\r\n",
        "from flask_ngrok import run_with_ngrok \r\n",
        "import numpy as np\r\n",
        "import urllib.request\r\n",
        "```\r\n",
        "\r\n",
        "See that we have imported `flask-ngrok` as `from flask_ngrok import run_with_ngrok`. Next step is to add `run_with_ngrok(app)` to make your Flask app available upon running:\r\n",
        "\r\n",
        "```\r\n",
        "app = Flask(__name__)\r\n",
        "run_with_ngrok(app)\r\n",
        "```\r\n",
        "\r\n",
        "The important step is to create the \"`@app.routes`\" that our server will be listening. In this case, we create three `GET` `@app.routes `: \"`/`\", \"`/canny`\" and \"`/shutdown`\". Later on, we are going to perform GET requests against these `@app.routes` in order to see what is obtained.\r\n",
        "\r\n",
        "```python\r\n",
        "@app.route(\"/\") \r\n",
        "def home(): \r\n",
        "    return \"Flask app server is running\"\r\n",
        "\r\n",
        "def shutdown_server():\r\n",
        "    func = request.environ.get('werkzeug.server.shutdown')\r\n",
        "    if func is None:\r\n",
        "        raise RuntimeError('Not running with the Werkzeug Server')\r\n",
        "    func()\r\n",
        "    \r\n",
        "@app.route('/shutdown', methods=['GET'])\r\n",
        "def shutdown():\r\n",
        "    shutdown_server()\r\n",
        "    return 'Server shutting down...'\r\n",
        "\r\n",
        "@app.route('/canny', methods=['GET'])\r\n",
        "def canny_processing():\r\n",
        "    # Get the image:\r\n",
        "    with urllib.request.urlopen(request.args.get('url')) as url:\r\n",
        "        image_array = np.asarray(bytearray(url.read()), dtype=np.uint8)\r\n",
        "\r\n",
        "    # Convert the image to OpenCV format:\r\n",
        "    img_opencv = cv2.imdecode(image_array, -1)\r\n",
        "\r\n",
        "    # Convert image to grayscale:\r\n",
        "    gray = cv2.cvtColor(img_opencv, cv2.COLOR_BGR2GRAY)\r\n",
        "\r\n",
        "    # Perform canny edge detection:\r\n",
        "    edges = cv2.Canny(gray, 100, 200)\r\n",
        "\r\n",
        "    # Compress the image and store it in the memory buffer:\r\n",
        "    retval, buffer = cv2.imencode('.jpg', edges)\r\n",
        "\r\n",
        "    # Build the response:\r\n",
        "    response = make_response(buffer.tobytes())\r\n",
        "    response.headers['Content-Type'] = 'image/jpeg'\r\n",
        "\r\n",
        "    # Return the response:\r\n",
        "    return response\r\n",
        "```\r\n",
        "\r\n",
        "Finally, define main method and call `app.run()` to start the application.\r\n",
        "\r\n",
        "\r\n",
        "```python\r\n",
        "if __name__ == '__main__':\r\n",
        "    app.run()\r\n",
        "```\r\n",
        "\r\n",
        "\r\n",
        "\r\n",
        "\r\n",
        "\r\n",
        "\r\n"
      ]
    },
    {
      "cell_type": "markdown",
      "metadata": {
        "id": "eW3HF59AUsrD"
      },
      "source": [
        "At this point, we are ready to download and execute the file `hello_opencv.py`, which was previously introduced."
      ]
    },
    {
      "cell_type": "code",
      "metadata": {
        "id": "r4u7CpeUMfTb"
      },
      "source": [
        "import colaboratory_utils as colab_utils\r\n",
        "\r\n",
        "fname = 'hello_opencv.py'\r\n",
        "url = 'https://raw.githubusercontent.com/albertofernandezvillan/computer-vision-and-deep-learning-course/main/scripts/flask/hello_opencv.py'\r\n",
        "\r\n",
        "colab_utils.download_and_execute_file(fname, url, params= \"\", execute=True, show_content=False)"
      ],
      "execution_count": null,
      "outputs": []
    },
    {
      "cell_type": "markdown",
      "metadata": {
        "id": "ccR-VbkhVepT"
      },
      "source": [
        "If everything was correct you can see the message:\r\n",
        "\r\n",
        " \"`Running on http://<random-address>.ngrok.io`\"\r\n",
        "\r\n",
        "At this point, we can make GET requests using your web browser replacing `<random-address>` with the address you have obtained:\r\n",
        "\r\n",
        "*   `http://<random-address>.ngrok.io`: This will get you \"*Flask app server is running*\"\r\n",
        "*   `http://<random-address>.ngrok.io/shutdown`: This will get you \"*Server shutting down...*\" and also shutdowns the server to kill it.\r\n",
        "*   `http://<random-address>.ngrok.io/canny?url=https://raw.githubusercontent.com/albertofernandezvillan/computer-vision-and-deep-learning-course/main/assets/church.jpg `: This returns the canny processing result from the image pointed by the parameter `url`"
      ]
    },
    {
      "cell_type": "markdown",
      "metadata": {
        "id": "7k6nLR-fhoph"
      },
      "source": [
        "In connection with the third request (`http://<random-address>.ngrok.io/canny?url=https://raw.githubusercontent.com/albertofernandezvillan/computer-vision-and-deep-learning-course/main/assets/church.jpg`) you can see both the image pointed by the parameter url (left) and the image we have obtained (right), corresponding to the canny processing algorithm  included in the OpenCV library.\r\n",
        "\r\n",
        "\r\n",
        "<img src=\"https://raw.githubusercontent.com/albertofernandezvillan/computer-vision-and-deep-learning-course/main/assets/church.jpg\" align=\"left\" width=250>\r\n",
        "\r\n",
        "\r\n",
        "<img src=\"https://raw.githubusercontent.com/albertofernandezvillan/computer-vision-and-deep-learning-course/main/assets/canny.jpg\" width=250>"
      ]
    },
    {
      "cell_type": "markdown",
      "metadata": {
        "id": "FObZ9qK4U7yq"
      },
      "source": [
        "# Conclusions\r\n",
        "\r\n",
        "In this notebook, we haven coded a Flask application and deploy it using flask-ngrok, which makes your Flask apps running on localhost available over the internet.\r\n",
        "\r\n",
        "If you want to dive deeper into the details of Flask and want to learn more about this framework, you can check this \"[Flask Mega tutorial](https://blog.miguelgrinberg.com/post/the-flask-mega-tutorial-part-i-hello-world)\", including a collection of tutorials"
      ]
    }
  ]
}