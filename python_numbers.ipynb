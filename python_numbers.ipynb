{
  "nbformat": 4,
  "nbformat_minor": 0,
  "metadata": {
    "colab": {
      "name": "python_numbers.ipynb",
      "provenance": [],
      "collapsed_sections": [],
      "authorship_tag": "ABX9TyPUEce/9+HEoC/wheJhPbkz",
      "include_colab_link": true
    },
    "kernelspec": {
      "name": "python3",
      "display_name": "Python 3"
    },
    "language_info": {
      "name": "python"
    }
  },
  "cells": [
    {
      "cell_type": "markdown",
      "metadata": {
        "id": "view-in-github",
        "colab_type": "text"
      },
      "source": [
        "<a href=\"https://colab.research.google.com/github/albertofernandezvillan/computer-vision-and-deep-learning-course/blob/main/python_numbers.ipynb\" target=\"_parent\"><img src=\"https://colab.research.google.com/assets/colab-badge.svg\" alt=\"Open In Colab\"/></a>"
      ]
    },
    {
      "cell_type": "markdown",
      "metadata": {
        "id": "2M3l9DJFzQUY"
      },
      "source": [
        "# Python numbers"
      ]
    },
    {
      "cell_type": "markdown",
      "metadata": {
        "id": "lFAJe1GI1wZT"
      },
      "source": [
        "## Types"
      ]
    },
    {
      "cell_type": "code",
      "metadata": {
        "colab": {
          "base_uri": "https://localhost:8080/"
        },
        "id": "mTXnv4nUzMGM",
        "outputId": "b3f92a1d-8be7-4b9c-fed3-92a2894c38ee"
      },
      "source": [
        "a = 3\n",
        "a"
      ],
      "execution_count": 8,
      "outputs": [
        {
          "output_type": "execute_result",
          "data": {
            "text/plain": [
              "3"
            ]
          },
          "metadata": {
            "tags": []
          },
          "execution_count": 8
        }
      ]
    },
    {
      "cell_type": "code",
      "metadata": {
        "colab": {
          "base_uri": "https://localhost:8080/"
        },
        "id": "DsiDWQQkzXC8",
        "outputId": "3a4180a5-dd96-48e4-d942-9ee3f3e9cf7d"
      },
      "source": [
        "type(a)"
      ],
      "execution_count": 3,
      "outputs": [
        {
          "output_type": "execute_result",
          "data": {
            "text/plain": [
              "int"
            ]
          },
          "metadata": {
            "tags": []
          },
          "execution_count": 3
        }
      ]
    },
    {
      "cell_type": "code",
      "metadata": {
        "colab": {
          "base_uri": "https://localhost:8080/"
        },
        "id": "BX89m1ARzZM8",
        "outputId": "b29d2d5d-0854-409c-f3b8-288a64a52eff"
      },
      "source": [
        "b = 3.0\n",
        "b"
      ],
      "execution_count": 6,
      "outputs": [
        {
          "output_type": "execute_result",
          "data": {
            "text/plain": [
              "3.0"
            ]
          },
          "metadata": {
            "tags": []
          },
          "execution_count": 6
        }
      ]
    },
    {
      "cell_type": "code",
      "metadata": {
        "colab": {
          "base_uri": "https://localhost:8080/"
        },
        "id": "V0cscPRWzbrM",
        "outputId": "6a22199c-7d12-4cc9-8ef9-ae43079853d0"
      },
      "source": [
        "type(b)"
      ],
      "execution_count": 5,
      "outputs": [
        {
          "output_type": "execute_result",
          "data": {
            "text/plain": [
              "float"
            ]
          },
          "metadata": {
            "tags": []
          },
          "execution_count": 5
        }
      ]
    },
    {
      "cell_type": "markdown",
      "metadata": {
        "id": "tI2MSEil1zUq"
      },
      "source": [
        "## Range"
      ]
    },
    {
      "cell_type": "code",
      "metadata": {
        "colab": {
          "base_uri": "https://localhost:8080/"
        },
        "id": "NmiYmzcYzeQz",
        "outputId": "edb2d671-08c6-4fe2-98d3-e55d636c7cf7"
      },
      "source": [
        "a**1000"
      ],
      "execution_count": 9,
      "outputs": [
        {
          "output_type": "execute_result",
          "data": {
            "text/plain": [
              "1322070819480806636890455259752144365965422032752148167664920368226828597346704899540778313850608061963909777696872582355950954582100618911865342725257953674027620225198320803878014774228964841274390400117588618041128947815623094438061566173054086674490506178125480344405547054397038895817465368254916136220830268563778582290228416398307887896918556404084898937609373242171846359938695516765018940588109060426089671438864102814350385648747165832010614366132173102768902855220001"
            ]
          },
          "metadata": {
            "tags": []
          },
          "execution_count": 9
        }
      ]
    },
    {
      "cell_type": "code",
      "metadata": {
        "id": "PkGQMQRuzpcL"
      },
      "source": [
        "# b**1000"
      ],
      "execution_count": 25,
      "outputs": []
    },
    {
      "cell_type": "markdown",
      "metadata": {
        "id": "BKMghrc312cA"
      },
      "source": [
        "## Precision"
      ]
    },
    {
      "cell_type": "code",
      "metadata": {
        "colab": {
          "base_uri": "https://localhost:8080/"
        },
        "id": "4eifKDmeztwV",
        "outputId": "e3d96561-ed5a-45ba-8d36-75ee103fef55"
      },
      "source": [
        "0.1 + 0.1 + 0.1 == 0.3"
      ],
      "execution_count": 14,
      "outputs": [
        {
          "output_type": "execute_result",
          "data": {
            "text/plain": [
              "False"
            ]
          },
          "metadata": {
            "tags": []
          },
          "execution_count": 14
        }
      ]
    },
    {
      "cell_type": "code",
      "metadata": {
        "colab": {
          "base_uri": "https://localhost:8080/"
        },
        "id": "KQEhg9nkz1Kn",
        "outputId": "947a4fc2-3d79-4079-e416-99013ffc9135"
      },
      "source": [
        "1/10"
      ],
      "execution_count": 15,
      "outputs": [
        {
          "output_type": "execute_result",
          "data": {
            "text/plain": [
              "0.1"
            ]
          },
          "metadata": {
            "tags": []
          },
          "execution_count": 15
        }
      ]
    },
    {
      "cell_type": "code",
      "metadata": {
        "colab": {
          "base_uri": "https://localhost:8080/"
        },
        "id": "zAVGsVh_z2pm",
        "outputId": "6c7cecaf-43c3-44af-e154-4be04ac5af40"
      },
      "source": [
        "3*(1/10)"
      ],
      "execution_count": 16,
      "outputs": [
        {
          "output_type": "execute_result",
          "data": {
            "text/plain": [
              "0.30000000000000004"
            ]
          },
          "metadata": {
            "tags": []
          },
          "execution_count": 16
        }
      ]
    },
    {
      "cell_type": "code",
      "metadata": {
        "colab": {
          "base_uri": "https://localhost:8080/"
        },
        "id": "y-w_4pAJ4dy-",
        "outputId": "62fbe5f5-b486-415a-c2a5-0aa84ff405ba"
      },
      "source": [
        "10000000.2 - 10000000"
      ],
      "execution_count": 48,
      "outputs": [
        {
          "output_type": "execute_result",
          "data": {
            "text/plain": [
              "0.19999999925494194"
            ]
          },
          "metadata": {
            "tags": []
          },
          "execution_count": 48
        }
      ]
    },
    {
      "cell_type": "markdown",
      "metadata": {
        "id": "KKVIUp5K1sTE"
      },
      "source": [
        "## Decimal class"
      ]
    },
    {
      "cell_type": "code",
      "metadata": {
        "colab": {
          "base_uri": "https://localhost:8080/"
        },
        "id": "AcO9OswM01eM",
        "outputId": "6efb471a-1c45-4efe-b417-5743ca3f02c9"
      },
      "source": [
        "from decimal import Decimal\n",
        "\n",
        "x = 0.1 + 0.1 + 0.1\n",
        "print(type(x))\n",
        "print(x)\n",
        "print(x == 0.3)\n",
        "\n",
        "print(\"-----------------------\")\n",
        "\n",
        "y = Decimal('0.1') + Decimal('0.1') + Decimal('0.1')\n",
        "print(type(y))\n",
        "print(y)\n",
        "print(y == Decimal(0.3))"
      ],
      "execution_count": 24,
      "outputs": [
        {
          "output_type": "stream",
          "text": [
            "<class 'float'>\n",
            "0.30000000000000004\n",
            "False\n",
            "-----------------------\n",
            "<class 'decimal.Decimal'>\n",
            "0.3\n",
            "False\n"
          ],
          "name": "stdout"
        }
      ]
    },
    {
      "cell_type": "code",
      "metadata": {
        "colab": {
          "base_uri": "https://localhost:8080/"
        },
        "id": "9frTLt5j183p",
        "outputId": "85a86cc7-e45e-487f-9962-e8f331924e7d"
      },
      "source": [
        "%%timeit\n",
        "x = 0\n",
        "for i in range(10**5):\n",
        "  x = x + 0.1;"
      ],
      "execution_count": 42,
      "outputs": [
        {
          "output_type": "stream",
          "text": [
            "100 loops, best of 5: 5.04 ms per loop\n"
          ],
          "name": "stdout"
        }
      ]
    },
    {
      "cell_type": "code",
      "metadata": {
        "colab": {
          "base_uri": "https://localhost:8080/"
        },
        "id": "7Y9gzVNG21n3",
        "outputId": "551923fa-7e30-4072-f855-995353086743"
      },
      "source": [
        "%%timeit\n",
        "y = Decimal('0')\n",
        "for i in range(10**5):\n",
        "  y = y + Decimal('0.1');"
      ],
      "execution_count": 43,
      "outputs": [
        {
          "output_type": "stream",
          "text": [
            "10 loops, best of 5: 31.8 ms per loop\n"
          ],
          "name": "stdout"
        }
      ]
    }
  ]
}