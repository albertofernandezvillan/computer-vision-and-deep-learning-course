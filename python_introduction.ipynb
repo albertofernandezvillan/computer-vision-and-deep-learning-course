{
  "nbformat": 4,
  "nbformat_minor": 0,
  "metadata": {
    "colab": {
      "name": "python_introduction.ipynb",
      "provenance": [],
      "collapsed_sections": [],
      "toc_visible": true,
      "include_colab_link": true
    },
    "kernelspec": {
      "name": "python3",
      "display_name": "Python 3"
    },
    "language_info": {
      "name": "python"
    }
  },
  "cells": [
    {
      "cell_type": "markdown",
      "metadata": {
        "id": "view-in-github",
        "colab_type": "text"
      },
      "source": [
        "<a href=\"https://colab.research.google.com/github/albertofernandezvillan/computer-vision-and-deep-learning-course/blob/main/python_introduction.ipynb\" target=\"_parent\"><img src=\"https://colab.research.google.com/assets/colab-badge.svg\" alt=\"Open In Colab\"/></a>"
      ]
    },
    {
      "cell_type": "markdown",
      "metadata": {
        "id": "gMKM8eADMW0Y"
      },
      "source": [
        "<img align=\"left\" style=\"padding-right:10px;\" src =\"https://raw.githubusercontent.com/albertofernandezvillan/computer-vision-and-deep-learning-course/main/assets/university_oviedo_logo.png\" width=300 px>\n",
        "\n",
        "This notebook is from the Course \"***Computer vision in the new era of Artificial Intelligence and Deep Learning***\", or \"*Visión por computador en la nueva era de la Inteligencia Artificial y el Deep Learning*\" (ES) from the \"Second quarter university extension courses\" that the University of Oviedo is offering (05/04/2021 - 16/04/2021)\n",
        "\n",
        "<[Github Repository](https://github.com/albertofernandezvillan/computer-vision-and-deep-learning-course) | [Course Web Page Information](https://www.uniovi.es/estudios/extension/cursos2c/-/asset_publisher/SEp0PJi4ISGo/content/vision-por-computador-en-la-nueva-era-de-la-inteligencia-artificial-y-el-deep-learning?redirect=%2Festudios%2Fextension%2Fcursos2c)>"
      ]
    },
    {
      "cell_type": "markdown",
      "metadata": {
        "id": "yjXoXj28NSS6"
      },
      "source": [
        "# Summary\n",
        "<center><img src=\"https://upload.wikimedia.org/wikipedia/commons/thumb/c/c3/Python-logo-notext.svg/200px-Python-logo-notext.svg.png\" width=80></center>\n",
        "\n",
        "Python is an interpreted, high-level and general-purpose programming language.\n",
        "This notebook will serve as a quick crash course both on the Python programming language. In the context of this course, Python can be used for scientific computing:\n",
        "\n",
        "- Libraries such as NumPy, SciPy and Matplotlib allow the effective use of Python in scientific computing. \n",
        "- OpenCV has python bindings with a rich set of features for computer vision and image processing.\n",
        "- Python is commonly used in artificial intelligence projects and machine learning projects with the help of libraries like TensorFlow, Keras, PyTorch and Scikit-learn."
      ]
    },
    {
      "cell_type": "markdown",
      "metadata": {
        "id": "ef0ZBy-CQ8VP"
      },
      "source": [
        "# Python version\n",
        "\n",
        "You can check your Python version at the command line by running `python --version`. Note that as of April 2021, Colab uses Python `3.7.10`"
      ]
    },
    {
      "cell_type": "code",
      "metadata": {
        "colab": {
          "base_uri": "https://localhost:8080/"
        },
        "id": "vsv8QzOsMSEt",
        "outputId": "f3cd2ebe-cb0f-4f21-f0c9-9f3275c43e34"
      },
      "source": [
        "!python --version"
      ],
      "execution_count": null,
      "outputs": [
        {
          "output_type": "stream",
          "text": [
            "Python 3.7.10\n"
          ],
          "name": "stdout"
        }
      ]
    },
    {
      "cell_type": "markdown",
      "metadata": {
        "id": "0OjMd_0ZSScB"
      },
      "source": [
        "# Programming examples\n",
        "\n",
        "Python is a high-level, dynamically typed multiparadigm programming language. Python code is often said to be almost like pseudocode, since it allows you to express very powerful ideas in very few lines of code while being very readable. As an example, a Python function to calculate the factorial of a number (a non-negative integer) can be seen next."
      ]
    },
    {
      "cell_type": "code",
      "metadata": {
        "colab": {
          "base_uri": "https://localhost:8080/"
        },
        "id": "WR3dCpxvRnu-",
        "outputId": "029f121d-7717-4357-fdb9-ef1e4af7cb1c"
      },
      "source": [
        "def factorial(n):\n",
        "    if n == 0:\n",
        "        return 1\n",
        "    else:\n",
        "        return n * factorial(n-1)\n",
        "\n",
        "n=int(input(\"Input a number to compute the factorial : \"))\n",
        "\n",
        "print(factorial(n))"
      ],
      "execution_count": null,
      "outputs": [
        {
          "output_type": "stream",
          "text": [
            "Input a number to compute the factorial : 5\n",
            "120\n"
          ],
          "name": "stdout"
        }
      ]
    },
    {
      "cell_type": "markdown",
      "metadata": {
        "id": "dSOvLvCITSBj"
      },
      "source": [
        "A similar approach in the C++ language can be seen here:\n",
        "\n",
        "```\n",
        "#include<iostream>\n",
        "using namespace std;\n",
        "\n",
        "int factorial(int n);\n",
        "\n",
        "int main()\n",
        "{\n",
        "    int n;\n",
        "    cout << \"Enter a positive integer: \";\n",
        "    cin >> n;\n",
        "    cout << \"Factorial of \" << n << \" = \" << factorial(n);\n",
        "    return 0;\n",
        "}\n",
        "\n",
        "int factorial(int n)\n",
        "{\n",
        "    if(n > 1)\n",
        "        return n * factorial(n - 1);\n",
        "    else\n",
        "        return 1;\n",
        "}\n",
        "```\n",
        "\n"
      ]
    },
    {
      "cell_type": "markdown",
      "metadata": {
        "id": "odcmwWl7T5g3"
      },
      "source": [
        "# Basics of Python"
      ]
    },
    {
      "cell_type": "markdown",
      "metadata": {
        "id": "iF3MWYOdzNON"
      },
      "source": [
        "## Variables\n",
        "\n",
        "Variables are containers for holding data and they're defined by a name and value. This way, we can create integer, float, boolean, or string variables."
      ]
    },
    {
      "cell_type": "code",
      "metadata": {
        "colab": {
          "base_uri": "https://localhost:8080/"
        },
        "id": "1pzm1PW4zm6S",
        "outputId": "132730f4-378a-423a-e4eb-38944f221de4"
      },
      "source": [
        "# This is a integer variable\n",
        "x = 10\n",
        "print(\"'x = 10'\")\n",
        "print(\"Value of x is: '{}'\".format(x)) \n",
        "print(\"type(x) is: {}\".format(type(x)))"
      ],
      "execution_count": null,
      "outputs": [
        {
          "output_type": "stream",
          "text": [
            "'x = 10'\n",
            "Value of x is: '10'\n",
            "type(x) is: <class 'int'>\n"
          ],
          "name": "stdout"
        }
      ]
    },
    {
      "cell_type": "code",
      "metadata": {
        "colab": {
          "base_uri": "https://localhost:8080/"
        },
        "id": "fc_0C9RH0sbe",
        "outputId": "d350c911-4642-49f3-b55b-3c9fd045e83d"
      },
      "source": [
        "# This is a float variable\n",
        "# See also that we are changing both the value and type of the variable x\n",
        "# just assigning a new value to it\n",
        "x = 10.0\n",
        "print(\"'x = 10.0'\")\n",
        "print(\"Value of x is: '{}'\".format(x)) \n",
        "print(\"type(x) is: {}\".format(type(x)))"
      ],
      "execution_count": null,
      "outputs": [
        {
          "output_type": "stream",
          "text": [
            "'x = 10.0'\n",
            "Value of x is: '10.0'\n",
            "type(x) is: <class 'float'>\n"
          ],
          "name": "stdout"
        }
      ]
    },
    {
      "cell_type": "code",
      "metadata": {
        "colab": {
          "base_uri": "https://localhost:8080/"
        },
        "id": "0jMapxFY0-mg",
        "outputId": "0d3df93a-0030-4e0d-8c78-2b0b719250a5"
      },
      "source": [
        "# This is a string variable\n",
        "x = '10.0'\n",
        "print(\"'x = '10.0''\")\n",
        "print(\"Value of x is: '{}'\".format(x)) \n",
        "print(\"type(x) is: {}\".format(type(x)))"
      ],
      "execution_count": null,
      "outputs": [
        {
          "output_type": "stream",
          "text": [
            "'x = '10.0''\n",
            "Value of x is: '10.0'\n",
            "type(x) is: <class 'str'>\n"
          ],
          "name": "stdout"
        }
      ]
    },
    {
      "cell_type": "code",
      "metadata": {
        "colab": {
          "base_uri": "https://localhost:8080/"
        },
        "id": "6TP39zrt1Sbu",
        "outputId": "915776f6-40e8-4126-ff47-708ae7acdfb9"
      },
      "source": [
        "# This is a boolean variable\n",
        "x = True\n",
        "print(\"'x = True'\")\n",
        "print(\"Value of x is: '{}'\".format(x)) \n",
        "print(\"type(x) is: {}\".format(type(x)))"
      ],
      "execution_count": null,
      "outputs": [
        {
          "output_type": "stream",
          "text": [
            "'x = True'\n",
            "Value of x is: 'True'\n",
            "type(x) is: <class 'bool'>\n"
          ],
          "name": "stdout"
        }
      ]
    },
    {
      "cell_type": "markdown",
      "metadata": {
        "id": "tG9pTrA11nBj"
      },
      "source": [
        "We can also do operations with variables. "
      ]
    },
    {
      "cell_type": "code",
      "metadata": {
        "colab": {
          "base_uri": "https://localhost:8080/"
        },
        "id": "WT7nKgka1rUi",
        "outputId": "7e45ced5-a192-4c10-b381-b6a451be5eec"
      },
      "source": [
        "x = 1\n",
        "y = 2\n",
        "z = (x + y) / 2\n",
        "\n",
        "print(\"Value of z is: '{}'\".format(z)) \n",
        "print(\"type(x) is: {}\".format(type(z)))"
      ],
      "execution_count": null,
      "outputs": [
        {
          "output_type": "stream",
          "text": [
            "Value of z is: '1.5'\n",
            "type(x) is: <class 'float'>\n"
          ],
          "name": "stdout"
        }
      ]
    },
    {
      "cell_type": "code",
      "metadata": {
        "colab": {
          "base_uri": "https://localhost:8080/"
        },
        "id": "vbGvQI5418w-",
        "outputId": "f9da91d9-ee84-4f22-d73a-4ae383def530"
      },
      "source": [
        "a = \"this is \"\n",
        "b = \"an example\"\n",
        "c = a + b\n",
        "\n",
        "print(\"Value of c is: '{}'\".format(c)) \n",
        "print(\"type(c) is: {}\".format(type(c)))"
      ],
      "execution_count": null,
      "outputs": [
        {
          "output_type": "stream",
          "text": [
            "Value of c is: 'this is an example'\n",
            "type(c) is: <class 'str'>\n"
          ],
          "name": "stdout"
        }
      ]
    },
    {
      "cell_type": "code",
      "metadata": {
        "id": "bYx6upp_204i",
        "colab": {
          "base_uri": "https://localhost:8080/"
        },
        "outputId": "ad537b4c-643a-445c-9186-7abae0adef5f"
      },
      "source": [
        "x = 4\n",
        "\n",
        "print(x + 1)    #  Addition\n",
        "print(x - 1)    #  Subtraction\n",
        "print(x * 2)    #  Multiplication\n",
        "print(x ** 2)   #  Exponentiation\n",
        "print(x % 3)    #  Modulo"
      ],
      "execution_count": null,
      "outputs": [
        {
          "output_type": "stream",
          "text": [
            "5\n",
            "3\n",
            "8\n",
            "16\n",
            "1\n"
          ],
          "name": "stdout"
        }
      ]
    },
    {
      "cell_type": "markdown",
      "metadata": {
        "id": "DgQuA3FP38qK"
      },
      "source": [
        "In python, we can import modules, which provide specific functions. For example, we can import `math` module, which provides access to the mathematical function. "
      ]
    },
    {
      "cell_type": "code",
      "metadata": {
        "colab": {
          "base_uri": "https://localhost:8080/"
        },
        "id": "fm0Jt3FS6wY_",
        "outputId": "8c5eb1bf-954d-4d36-f746-ca393d66aca6"
      },
      "source": [
        "# Import the math module\n",
        "import math \n",
        "\n",
        "x = 4\n",
        "print(math.sqrt(4))  # Square root"
      ],
      "execution_count": null,
      "outputs": [
        {
          "output_type": "stream",
          "text": [
            "2.0\n"
          ],
          "name": "stdout"
        }
      ]
    },
    {
      "cell_type": "code",
      "metadata": {
        "colab": {
          "base_uri": "https://localhost:8080/"
        },
        "id": "hF5au5X-8Bg8",
        "outputId": "740873ef-2f72-49f3-f472-30a9c68fe573"
      },
      "source": [
        "# Import only the method to be used\n",
        "from math import factorial\n",
        "\n",
        "print(factorial(4))  # Factorial "
      ],
      "execution_count": null,
      "outputs": [
        {
          "output_type": "stream",
          "text": [
            "24\n"
          ],
          "name": "stdout"
        }
      ]
    },
    {
      "cell_type": "markdown",
      "metadata": {
        "id": "87qAgsT68OUS"
      },
      "source": [
        "## List\n",
        "\n",
        "**Note**: *Lists are one of 4 built-in data types in Python used to store collections of data, the other 3 are Tuple, Set, and Dictionary, all with different qualities and usage. [Check the documentation for more information about lists and other data structures](https://docs.python.org/3.7/tutorial/datastructures.html).*\n",
        "\n",
        "Lists are an ordered, mutable (changeable) collection of values that are comma separated and enclosed by square brackets. A list can be comprised of many different types of variables. Therefore, lists are used to store multiple items in a single variable.\n",
        "- List items are indexed, the first item has index [0], the second item has index [1] etc.\n",
        "- The list is changeable, meaning that we can change, add, and remove items in a list after it has been created.\n",
        "- Since lists are indexed, lists can have items with the same value\n",
        "- To determine how many items a list has, use the `len()` function\n",
        "- List items can be of any data type and a list can contain different data types\n",
        "- Lists are defined as objects with the data type 'list'\n",
        "- It is also possible to use the `list() `constructor when creating a new list\n",
        "\n"
      ]
    },
    {
      "cell_type": "code",
      "metadata": {
        "colab": {
          "base_uri": "https://localhost:8080/"
        },
        "id": "36_SubU08ajT",
        "outputId": "102de135-cb13-4a59-cea2-4e40f472a895"
      },
      "source": [
        "my_list = [1,2,3,4,5]\n",
        "my_list[0] = 10\n",
        "\n",
        "index = 4\n",
        "my_list.pop(index)\n",
        "my_list.append(400)\n",
        "my_list.sort(reverse=True)\n",
        "\n",
        "my_list_2 = list((1, 'a', 3, 'b'))\n",
        "my_list_2.remove(1)\n",
        "my_list_2.insert(2, 555)\n",
        "\n",
        "print(my_list)\n",
        "print(my_list_2)"
      ],
      "execution_count": null,
      "outputs": [
        {
          "output_type": "stream",
          "text": [
            "[400, 10, 4, 3, 2]\n",
            "['a', 3, 555, 'b']\n"
          ],
          "name": "stdout"
        }
      ]
    },
    {
      "cell_type": "markdown",
      "metadata": {
        "id": "Ki31OxJqHslt"
      },
      "source": [
        "There is the `dir(theobject)` method to list all the fields and methods of your object (as a tuple)"
      ]
    },
    {
      "cell_type": "code",
      "metadata": {
        "colab": {
          "base_uri": "https://localhost:8080/"
        },
        "id": "yMO2rOQjHxrx",
        "outputId": "52bb1ead-e761-46ad-ce61-7c63de7c97d0"
      },
      "source": [
        "print(dir(my_list))"
      ],
      "execution_count": null,
      "outputs": [
        {
          "output_type": "stream",
          "text": [
            "['__add__', '__class__', '__contains__', '__delattr__', '__delitem__', '__dir__', '__doc__', '__eq__', '__format__', '__ge__', '__getattribute__', '__getitem__', '__gt__', '__hash__', '__iadd__', '__imul__', '__init__', '__init_subclass__', '__iter__', '__le__', '__len__', '__lt__', '__mul__', '__ne__', '__new__', '__reduce__', '__reduce_ex__', '__repr__', '__reversed__', '__rmul__', '__setattr__', '__setitem__', '__sizeof__', '__str__', '__subclasshook__', 'append', 'clear', 'copy', 'count', 'extend', 'index', 'insert', 'pop', 'remove', 'reverse', 'sort']\n"
          ],
          "name": "stdout"
        }
      ]
    },
    {
      "cell_type": "markdown",
      "metadata": {
        "id": "iq0EhEr1H8pq"
      },
      "source": [
        "Based on the output of `dir(theobject)` method we can filter it to get only the methods:"
      ]
    },
    {
      "cell_type": "code",
      "metadata": {
        "colab": {
          "base_uri": "https://localhost:8080/"
        },
        "id": "CsoUE-3mITtu",
        "outputId": "83ac2abe-6f26-4b7d-cea8-67e38fa3225e"
      },
      "source": [
        "# If you are new to for loops, check also Loops section\n",
        "for m in dir(my_list):\n",
        "  if not m.startswith('__'):\n",
        "    print(m)"
      ],
      "execution_count": null,
      "outputs": [
        {
          "output_type": "stream",
          "text": [
            "append\n",
            "clear\n",
            "copy\n",
            "count\n",
            "extend\n",
            "index\n",
            "insert\n",
            "pop\n",
            "remove\n",
            "reverse\n",
            "sort\n"
          ],
          "name": "stdout"
        }
      ]
    },
    {
      "cell_type": "markdown",
      "metadata": {
        "id": "PhJEvfOtNNrc"
      },
      "source": [
        "### List Comprehensions\n",
        "\n",
        "[List comprehensions](https://docs.python.org/3.7/tutorial/datastructures.html#list-comprehensions) provide a concise way to create lists. Common applications are to make new lists where each element is the result of some operations applied to each member of another sequence or iterable, or to create a subsequence of those elements that satisfy a certain condition.\n",
        "\n",
        "A list comprehension consists of brackets containing an expression followed by a for clause, then zero or more for or if clauses. The result will be a new list resulting from evaluating the expression in the context of the for and if clauses which follow it."
      ]
    },
    {
      "cell_type": "code",
      "metadata": {
        "colab": {
          "base_uri": "https://localhost:8080/"
        },
        "id": "_RPLxBv2Ncfe",
        "outputId": "20a88764-ab5b-41b4-f753-7eb4a0abcb97"
      },
      "source": [
        "# Calculates the squares of 1, 2, ... 9\n",
        "# Note that this creates (or overwrites) a variable named x \n",
        "# that still exists after the loop completes.\n",
        "\n",
        "squares = []\n",
        "for x in range(10):\n",
        "  squares.append(x**2)\n",
        "\n",
        "print(squares) \n",
        "print(x)\n",
        "\n",
        "# Calculates the squares of 1, 3, ... 9\n",
        "squares_odd = []\n",
        "for x in range(10):\n",
        "  if x % 2:\n",
        "    squares_odd.append(x**2)\n",
        "    \n",
        "print(squares_odd)  "
      ],
      "execution_count": null,
      "outputs": [
        {
          "output_type": "stream",
          "text": [
            "[0, 1, 4, 9, 16, 25, 36, 49, 64, 81]\n",
            "9\n",
            "[1, 9, 25, 49, 81]\n"
          ],
          "name": "stdout"
        }
      ]
    },
    {
      "cell_type": "code",
      "metadata": {
        "colab": {
          "base_uri": "https://localhost:8080/"
        },
        "id": "Nq6-l9aBPdk4",
        "outputId": "96686818-6cb0-433b-828b-0d5dc712f0c5"
      },
      "source": [
        "squares = [x**2 for x in range(10)]\n",
        "squares_od = [x**2 for x in range(10) if x % 2 ]\n",
        "\n",
        "print(squares)\n",
        "print(squares_od)"
      ],
      "execution_count": null,
      "outputs": [
        {
          "output_type": "stream",
          "text": [
            "[0, 1, 4, 9, 16, 25, 36, 49, 64, 81]\n",
            "[1, 9, 25, 49, 81]\n"
          ],
          "name": "stdout"
        }
      ]
    },
    {
      "cell_type": "code",
      "metadata": {
        "id": "qsEOW43IRZVG"
      },
      "source": [
        "# We can also define a function that sets a condition\n",
        "# If you are new to functions check also Functions section\n",
        "def my_condition(x):\n",
        "  if x % 2:\n",
        "    return True"
      ],
      "execution_count": null,
      "outputs": []
    },
    {
      "cell_type": "code",
      "metadata": {
        "colab": {
          "base_uri": "https://localhost:8080/"
        },
        "id": "g0c3zWpVRlZJ",
        "outputId": "8034def8-38a3-4e7b-e7ab-937519dddd8a"
      },
      "source": [
        "# We can use the function my_condition() as follows:\n",
        "quares_od = [x**2 for x in range(10) if my_condition(x)]\n",
        "print(squares_od)"
      ],
      "execution_count": null,
      "outputs": [
        {
          "output_type": "stream",
          "text": [
            "[1, 9, 25, 49, 81]\n"
          ],
          "name": "stdout"
        }
      ]
    },
    {
      "cell_type": "markdown",
      "metadata": {
        "id": "tEW0vB6MJLJf"
      },
      "source": [
        "## Tuple\n",
        "[Tuples](https://docs.python.org/3.7/tutorial/datastructures.html#tuples-and-sequences) are used to store multiple items in a single variable.\n",
        "It is a collection which is ordered and unchangeable. Allows duplicate members. Tuples are written with round brackets.\n",
        "\n",
        "- Tuple items are ordered, unchangeable, and allow duplicate values.\n",
        "- Tuple items are indexed, the first item has index [0], the second item has index [1] etc.\n",
        "- Tuples are unchangeable, meaning that we cannot change, add or remove items after the tuple has been created.\n",
        "- Since tuple are indexed, tuples can have items with the same value.\n",
        "- To determine how many items a tuple has, use the `len()` function\n",
        "- To create a tuple with only one item, you have to add a comma after the item, otherwise Python will not recognize it as a tuple.\n",
        "- Tuple items can be of any data type and a tuple can contain different data types.\n",
        "- Tuples are defined as objects with the data type 'tuple'.\n",
        "It is also possible to use the tuple() constructor to make a tuple.\n",
        "\n",
        "\n",
        "\n",
        "\n",
        "\n",
        "\n",
        "\n"
      ]
    },
    {
      "cell_type": "code",
      "metadata": {
        "colab": {
          "base_uri": "https://localhost:8080/"
        },
        "id": "ByVRXZj_KExI",
        "outputId": "c7a7dc9d-6535-49a5-cb6a-49d95dd64136"
      },
      "source": [
        "# Get the methods of a tuple:\n",
        "my_tuple = (1,2,3,2,2)\n",
        "\n",
        "for m in dir(my_tuple):\n",
        "  if not m.startswith('__'):\n",
        "    print(m)"
      ],
      "execution_count": null,
      "outputs": [
        {
          "output_type": "stream",
          "text": [
            "count\n",
            "index\n"
          ],
          "name": "stdout"
        }
      ]
    },
    {
      "cell_type": "markdown",
      "metadata": {
        "id": "2HWNkZz8cz_T"
      },
      "source": [
        "<img  align=\"left\" style=\"padding-right:10px;\" src=\"https://raw.githubusercontent.com/albertofernandezvillan/computer-vision-and-deep-learning-course/main/assets/pencil.jpg\" width=50>\n",
        "\n",
        "We can use a list comprehension to get the methods of a tuple, providing a similar output of the cell code seen above. Therefore, and as an exercise, you should create a list comprehension to get the methods provided by a tuple. \n",
        "- Execute the next cell to see the instructions for the exercise.\n",
        "- Try to complete the exercise in a new code cell. \n",
        "- If you want to know the solution double click in the title below to see the ocluded code for this cell."
      ]
    },
    {
      "cell_type": "code",
      "metadata": {
        "colab": {
          "base_uri": "https://localhost:8080/"
        },
        "id": "48AIHPZmdenS",
        "outputId": "d4e93f21-ecd5-4746-9f40-1c3f3401466d"
      },
      "source": [
        "#@title Click here to see the answer\n",
        "\n",
        "# Create a tuple:\n",
        "my_tuple = (1,2,3,2,2)\n",
        "print(\"Created tuple: {}\".format(my_tuple))\n",
        "\n",
        "# Get the methods using a list comprehension:\n",
        "methods = [m for m in dir(my_tuple) if not m.startswith('__') ]\n",
        "\n",
        "# Print the output:\n",
        "print(\"Methods of a tuple are: {}\".format(methods))"
      ],
      "execution_count": null,
      "outputs": [
        {
          "output_type": "stream",
          "text": [
            "Created tuple: (1, 2, 3, 2, 2)\n",
            "Methods of a tuple are: ['count', 'index']\n"
          ],
          "name": "stdout"
        }
      ]
    },
    {
      "cell_type": "code",
      "metadata": {
        "colab": {
          "base_uri": "https://localhost:8080/"
        },
        "id": "aqB2tK8kKOF8",
        "outputId": "90140044-147a-43b2-a4e5-5f0624055904"
      },
      "source": [
        "# Python count() method counts the occurrence of an element in the tuple. \n",
        "print(my_tuple.count(2))\n",
        "print(my_tuple.count(10))"
      ],
      "execution_count": null,
      "outputs": [
        {
          "output_type": "stream",
          "text": [
            "3\n",
            "0\n"
          ],
          "name": "stdout"
        }
      ]
    },
    {
      "cell_type": "code",
      "metadata": {
        "colab": {
          "base_uri": "https://localhost:8080/"
        },
        "id": "RZd5Oqh4KpTa",
        "outputId": "d082ff6f-3824-4722-ff2f-31aba13d7afa"
      },
      "source": [
        "# The index() method finds the first occurrence of the specified value. \n",
        "# The index() method raises an exception if the value is not found.\n",
        "\n",
        "print(my_tuple.index(2))\n",
        "\n",
        "try:\n",
        "  print(my_tuple.index(10))\n",
        "except:\n",
        "  print(\"Ups! value not found\")\n",
        "\n",
        "print(my_tuple[0])\n",
        "\n",
        "try:\n",
        "  my_tuple[0] = 100\n",
        "except: \n",
        "  print(\"'tuple' object does not support item assignment\")"
      ],
      "execution_count": null,
      "outputs": [
        {
          "output_type": "stream",
          "text": [
            "1\n",
            "Ups! value not found\n",
            "1\n",
            "'tuple' object does not support item assignment\n"
          ],
          "name": "stdout"
        }
      ]
    },
    {
      "cell_type": "markdown",
      "metadata": {
        "id": "ruelfPVcLyvl"
      },
      "source": [
        "## Dictionary\n",
        "\n",
        "Dictionaries are used to store data values in `key:value` pairs. You can retrieve values based on the key and a dictionary cannot have two of the same keys. A pair of braces creates an empty dictionary: `{}`. Placing a comma-separated list of `key:value` pairs within the braces adds initial `key:value` pairs to the dictionary.\n"
      ]
    },
    {
      "cell_type": "code",
      "metadata": {
        "colab": {
          "base_uri": "https://localhost:8080/"
        },
        "id": "nOx8LqIBVrol",
        "outputId": "d0f4a231-8ecd-4ec0-fd79-64418bcbeb96"
      },
      "source": [
        "# This creates a dictionary:\n",
        "my_dict = {'key_1': 10, 'key_2': 20}\n",
        "\n",
        "# Print the value associated with the key:\n",
        "print(my_dict['key_1'])\n",
        "\n",
        "# Trying to get the value with a key that does not exist:\n",
        "try:\n",
        "  print(my_dict['key_3'])\n",
        "except:\n",
        "  print('key does not exist!')\n",
        "\n",
        "# Setting the value for an existing key:\n",
        "my_dict['key_1'] = 1000\n",
        "print(my_dict['key_1'])\n",
        "\n",
        "# This creates a new entry in the dictionary:\n",
        "my_dict['new_key'] = 40\n",
        "print(my_dict['new_key'])\n",
        "\n",
        "# Use len() to get the number of key:value pairs in the dictionary:\n",
        "print(len(my_dict))\n",
        "\n",
        "# This prints the dictionary:\n",
        "print(my_dict)\n",
        "\n",
        "# See the type of my_dict.keys()\n",
        "print(type(my_dict.keys()))\n",
        "\n",
        "# Print all keys as list:\n",
        "print(list(my_dict.keys()))\n",
        "\n",
        "# See the type of my_dict.values()\n",
        "print(type(my_dict.values()))\n",
        "\n",
        "# Get all values as list:\n",
        "print(list(my_dict.values()))\n",
        "\n",
        "# See the type of my_dict.items()\n",
        "print(type(my_dict.items()))\n",
        "\n",
        "# Print all key and values as list:\n",
        "print(list(my_dict.items()))"
      ],
      "execution_count": null,
      "outputs": [
        {
          "output_type": "stream",
          "text": [
            "10\n",
            "key does not exist!\n",
            "1000\n",
            "40\n",
            "3\n",
            "{'key_1': 1000, 'key_2': 20, 'new_key': 40}\n",
            "<class 'dict_keys'>\n",
            "['key_1', 'key_2', 'new_key']\n",
            "<class 'dict_values'>\n",
            "[1000, 20, 40]\n",
            "<class 'dict_items'>\n",
            "[('key_1', 1000), ('key_2', 20), ('new_key', 40)]\n"
          ],
          "name": "stdout"
        }
      ]
    },
    {
      "cell_type": "markdown",
      "metadata": {
        "id": "yFNEzjIdUbK0"
      },
      "source": [
        "The `dict()` constructor builds dictionaries directly from sequences of key-value pairs:"
      ]
    },
    {
      "cell_type": "code",
      "metadata": {
        "colab": {
          "base_uri": "https://localhost:8080/"
        },
        "id": "Xz68c898Xo_f",
        "outputId": "e56ac39d-99b3-4dda-d78b-6263ab421462"
      },
      "source": [
        "list_pairs = [(\"a\", 1),(\"b\", 2),(\"c\", 3)]\n",
        "my_dict = dict(list_pairs)\n",
        "\n",
        "my_dict_2 = dict([(\"d\", 1),(\"e\", 2),(\"f\", 3)])\n",
        "\n",
        "print(my_dict)\n",
        "print(my_dict_2)"
      ],
      "execution_count": null,
      "outputs": [
        {
          "output_type": "stream",
          "text": [
            "{'a': 1, 'b': 2, 'c': 3}\n",
            "{'d': 1, 'e': 2, 'f': 3}\n"
          ],
          "name": "stdout"
        }
      ]
    },
    {
      "cell_type": "markdown",
      "metadata": {
        "id": "8KC8R7j5ZrhK"
      },
      "source": [
        "In connection with this previous example, a common way of creating dictionaries in Python is by using the `zip()` method. In this sense, `zip()` function creates an iterator that will aggregate elements from two or more iterables. Note that an iterable is an object capable of returning its members one at a time (e.g. a list) and can be used in a for loop and in many other places where a sequence is needed.\n",
        "\n",
        "Therefore, and as an example, we can use `zip()` function to create an iterator from two lists. In this sense, we use the returned iterator to go through the series of tuples. In this specific case, we print each tuple."
      ]
    },
    {
      "cell_type": "code",
      "metadata": {
        "colab": {
          "base_uri": "https://localhost:8080/"
        },
        "id": "th8cXdpGaNKA",
        "outputId": "804c420c-816b-4994-c674-100f3b0254fb"
      },
      "source": [
        "letters = ['a', 'b', 'c']\n",
        "numbers = [0, 1, 2]\n",
        "\n",
        "for element in zip(letters, numbers):\n",
        "  print(element)"
      ],
      "execution_count": null,
      "outputs": [
        {
          "output_type": "stream",
          "text": [
            "('a', 0)\n",
            "('b', 1)\n",
            "('c', 2)\n"
          ],
          "name": "stdout"
        }
      ]
    },
    {
      "cell_type": "code",
      "metadata": {
        "colab": {
          "base_uri": "https://localhost:8080/"
        },
        "id": "vqtCEW2EdUG5",
        "outputId": "7239ed6f-6046-4115-ce8c-f07871ac9462"
      },
      "source": [
        "# class 'zip' holds an iterator object:\n",
        "print(type(zip(letters, numbers)))\n",
        "\n",
        "# We can create a list to consume the iterator:\n",
        "my_list = list(zip(letters, numbers))\n",
        "print(my_list)\n",
        "\n",
        "# We can create a dictionary from the previous list:\n",
        "my_dict = dict(my_list)\n",
        "print(my_dict)"
      ],
      "execution_count": null,
      "outputs": [
        {
          "output_type": "stream",
          "text": [
            "<class 'zip'>\n",
            "[('a', 0), ('b', 1), ('c', 2)]\n",
            "{'a': 0, 'b': 1, 'c': 2}\n"
          ],
          "name": "stdout"
        }
      ]
    },
    {
      "cell_type": "markdown",
      "metadata": {
        "id": "biGMCnDhe2Oy"
      },
      "source": [
        "Therefore, we can create a dictionary from two lists as follows."
      ]
    },
    {
      "cell_type": "code",
      "metadata": {
        "colab": {
          "base_uri": "https://localhost:8080/"
        },
        "id": "hULGpXUZe1fZ",
        "outputId": "bb2cad86-ed38-43ba-8af4-950b237226bc"
      },
      "source": [
        "letters = ['a', 'b', 'c']\n",
        "numbers = [0, 1, 2]\n",
        "my_dict = dict(zip(letters, numbers))\n",
        "print(my_dict)"
      ],
      "execution_count": null,
      "outputs": [
        {
          "output_type": "stream",
          "text": [
            "{'a': 0, 'b': 1, 'c': 2}\n"
          ],
          "name": "stdout"
        }
      ]
    },
    {
      "cell_type": "markdown",
      "metadata": {
        "id": "F6vFDIDDfZhu"
      },
      "source": [
        "Just as a note, we can use the unpacking operator `*` to unzip the data, creating two different lists (numbers and letters):"
      ]
    },
    {
      "cell_type": "code",
      "metadata": {
        "colab": {
          "base_uri": "https://localhost:8080/"
        },
        "id": "PLKNcSw2gdWR",
        "outputId": "aae40dc3-9cc0-4afa-a7da-c63772ef71a2"
      },
      "source": [
        "my_list = list(zip(letters, numbers))\n",
        "print(my_list)\n",
        "\n",
        "my_letters, my_numbers = zip(*my_list)\n",
        "print(my_letters) \n",
        "print(my_numbers)"
      ],
      "execution_count": null,
      "outputs": [
        {
          "output_type": "stream",
          "text": [
            "[('a', 0), ('b', 1), ('c', 2)]\n",
            "('a', 'b', 'c')\n",
            "(0, 1, 2)\n"
          ],
          "name": "stdout"
        }
      ]
    },
    {
      "cell_type": "markdown",
      "metadata": {
        "id": "iqOLgDYSg-Li"
      },
      "source": [
        "For more informmation about `zip()` method you can check [this post](https://realpython.com/python-zip-function/#using-zip-in-python). \n",
        "\n",
        "\n",
        "<img  align=\"left\" style=\"padding-right:10px;\" src=\"https://raw.githubusercontent.com/albertofernandezvillan/computer-vision-and-deep-learning-course/main/assets/pencil.jpg\" width=50>\n",
        "\n",
        "As a final example about `zip()` and dictionaries: \n",
        "- Execute the next cell to see the instructions for an exercise. \n",
        "- Try to complete the exercise in a new code cell. \n",
        "- If you want to know the solution double click in the title below to see the ocluded code for this cell."
      ]
    },
    {
      "cell_type": "code",
      "metadata": {
        "colab": {
          "base_uri": "https://localhost:8080/"
        },
        "id": "Do1ruo5yjbk2",
        "cellView": "form",
        "outputId": "8057681b-7c6e-4d73-e638-5882dfa9c2e1"
      },
      "source": [
        "#@title Click here to see the answer\n",
        "\n",
        "print(\"1. Create a dictionary, for example: {'key_1': 10, 'key_2': 20, 'key_3': 30}\")\n",
        "print(\"2. Use zip() method to separate both the keys and values\")\n",
        "print(\"3. Print the keys and the values\\n\")\n",
        "\n",
        "\n",
        "# This creates a dictionary:\n",
        "my_dict = {'key_1': 10, 'key_2': 20, 'key_3': 30}\n",
        "\n",
        "# Get the keys and the values from the dictionary:\n",
        "my_keys, my_values = zip(*list(my_dict.items()))\n",
        "\n",
        "print(\"My keys are: {}\".format(my_keys))\n",
        "print(\"My values are: {}\".format(my_values))"
      ],
      "execution_count": null,
      "outputs": [
        {
          "output_type": "stream",
          "text": [
            "1. Create a dictionary, for example: {'key_1': 10, 'key_2': 20, 'key_3': 30}\n",
            "2. Use zip() method to separate both the keys and values\n",
            "3. Print the keys and the values\n",
            "\n",
            "My keys are: ('key_1', 'key_2', 'key_3')\n",
            "My values are: (10, 20, 30)\n"
          ],
          "name": "stdout"
        }
      ]
    },
    {
      "cell_type": "markdown",
      "metadata": {
        "id": "U-S8Z3AunvHO"
      },
      "source": [
        "## Set\n",
        "\n",
        "Sets are used to store multiple items in a single variable. A set is an unordered collection with no duplicate elements. Basic uses include membership testing and eliminating duplicate entries. Set objects also support mathematical operations like union, intersection, difference, and symmetric difference.\n",
        "\n",
        "- Sets are unordered, so you cannot be sure in which order the items will appear and they cannot be referred to by index or key.\n",
        "- Sets are unchangeable, meaning that we cannot change the items after the set has been created.Once a set is created, you cannot change its items, but you can add new items.\n",
        "- Sets cannot have two items with the same value.\n",
        "- To determine how many items a set has, use the `len()` method.\n",
        "- Set items can be of any data type and can contain different data types.\n",
        "- Sets are defined as objects with the data type 'set'.\n",
        "- Sets are written with curly brackets `{}`.\n",
        "- It is also possible to use the `set()` constructor to make a set.\n",
        "- Note: to create an empty set you have to use `set()`, not `{}`; the latter creates an empty dictionary.\n",
        "- Similarly to list comprehensions, set comprehensions are also supported.\n",
        "\n",
        "\n",
        "\n",
        "\n",
        "\n",
        "\n",
        "\n",
        "\n",
        "\n",
        "\n"
      ]
    },
    {
      "cell_type": "code",
      "metadata": {
        "colab": {
          "base_uri": "https://localhost:8080/"
        },
        "id": "qGc3mm5RY_kP",
        "outputId": "fc848bac-32be-4af8-8db4-8f18d76abe8f"
      },
      "source": [
        "# Define a set:\n",
        "my_set = {1,2,3,4,5,6,7,8,9,10}\n",
        "\n",
        "print(\"This structure, wich is a '{}' has '{}' items\".format(type(my_set), len(my_set)))"
      ],
      "execution_count": null,
      "outputs": [
        {
          "output_type": "stream",
          "text": [
            "This structure, wich is a '<class 'set'>' has '10' items\n"
          ],
          "name": "stdout"
        }
      ]
    },
    {
      "cell_type": "code",
      "metadata": {
        "colab": {
          "base_uri": "https://localhost:8080/"
        },
        "id": "b7enYfkSZkME",
        "outputId": "f2ae6887-a6d5-4a49-b10a-f679d1d89fa9"
      },
      "source": [
        "# Explore what methods a set provides:\n",
        "methods = [m for m in dir(my_set) if not m.startswith('__')]\n",
        "\n",
        "print(methods)"
      ],
      "execution_count": null,
      "outputs": [
        {
          "output_type": "stream",
          "text": [
            "['add', 'clear', 'copy', 'difference', 'difference_update', 'discard', 'intersection', 'intersection_update', 'isdisjoint', 'issubset', 'issuperset', 'pop', 'remove', 'symmetric_difference', 'symmetric_difference_update', 'union', 'update']\n"
          ],
          "name": "stdout"
        }
      ]
    },
    {
      "cell_type": "code",
      "metadata": {
        "colab": {
          "base_uri": "https://localhost:8080/"
        },
        "id": "cSrTzHBNY1yj",
        "outputId": "4e61b292-55af-4eae-cc8b-9001a1877697"
      },
      "source": [
        "# Sets cannot have two items with the same value:\n",
        "my_set.add(1)\n",
        "print(my_set)"
      ],
      "execution_count": null,
      "outputs": [
        {
          "output_type": "stream",
          "text": [
            "{1, 2, 3, 4, 5, 6, 7, 8, 9, 10}\n"
          ],
          "name": "stdout"
        }
      ]
    },
    {
      "cell_type": "code",
      "metadata": {
        "colab": {
          "base_uri": "https://localhost:8080/"
        },
        "id": "iQ9X7NL7gaPr",
        "outputId": "ff276a6a-3302-487f-a144-3f51420e8eab"
      },
      "source": [
        "# Trying difference method:\n",
        "my_small_set = {1,2,11}\n",
        "\n",
        "# get the output of my_set - my_small_set:\n",
        "print(my_set.difference(my_small_set))\n",
        "\n",
        "# get the output of my_small_set - my_set:\n",
        "print(my_small_set.difference(my_set))"
      ],
      "execution_count": null,
      "outputs": [
        {
          "output_type": "stream",
          "text": [
            "{3, 4, 5, 6, 7, 8, 9, 10}\n",
            "{11}\n"
          ],
          "name": "stdout"
        }
      ]
    },
    {
      "cell_type": "code",
      "metadata": {
        "colab": {
          "base_uri": "https://localhost:8080/"
        },
        "id": "UdZ8utc6gb4W",
        "outputId": "effdea7d-3b96-44cd-ed96-fc5c0323dcd9"
      },
      "source": [
        "# The difference_update() method removes the items that exist in both sets:\n",
        "my_set = {1,2,3,4,5,6,7,8,9,10}\n",
        "my_small_set = {1,2,11}\n",
        "my_set.difference_update(my_small_set)\n",
        "print(my_set)\n",
        "\n",
        "my_set = {1,2,3,4,5,6,7,8,9,10}\n",
        "my_small_set = {1,2,11}\n",
        "my_small_set.difference_update(my_set)\n",
        "print(my_small_set)"
      ],
      "execution_count": null,
      "outputs": [
        {
          "output_type": "stream",
          "text": [
            "{3, 4, 5, 6, 7, 8, 9, 10}\n",
            "{11}\n"
          ],
          "name": "stdout"
        }
      ]
    },
    {
      "cell_type": "markdown",
      "metadata": {
        "id": "Vpyrautxk_vN"
      },
      "source": [
        "## If statements\n",
        "\n",
        "We can use `if` statements to conditionally do something. The conditions are defined by the words `if`, `elif` and `else`. We can have as many `elif` statements as we want. The indented code below each condition is the code that will execute if the condition is `True`."
      ]
    },
    {
      "cell_type": "code",
      "metadata": {
        "colab": {
          "base_uri": "https://localhost:8080/"
        },
        "id": "jAfgLwVVlUHn",
        "outputId": "89112ae0-8935-4507-b998-cac350c58ec0"
      },
      "source": [
        "mark_slider = 5 #@param {type:\"slider\", min:0, max:10, step:1}\n",
        "\n",
        "if mark_slider > 8:\n",
        "  print(\"Your mark is: {}\".format(mark_slider))\n",
        "  print(\"Congratulations you have a high mark!\")\n",
        "elif mark_slider >= 5:\n",
        "  print(\"Your mark is: {}\".format(mark_slider))\n",
        "  print(\"Congratulations you have passed the exam!\")\n",
        "else:\n",
        "  print(\"Your mark is: {}\".format(mark_slider))\n",
        "  print(\"Better luck next time. Keep trying!\")"
      ],
      "execution_count": null,
      "outputs": [
        {
          "output_type": "stream",
          "text": [
            "Your mark is: 4\n",
            "Better luck next time. Keep trying!\n"
          ],
          "name": "stdout"
        }
      ]
    },
    {
      "cell_type": "markdown",
      "metadata": {
        "id": "9xeXHEJOjBZH"
      },
      "source": [
        "## Loops\n"
      ]
    },
    {
      "cell_type": "markdown",
      "metadata": {
        "id": "JpfTXBrfFiYZ"
      },
      "source": [
        "\n",
        "### For loops\n",
        "\n",
        "You can loop over the elements of a list like this:"
      ]
    },
    {
      "cell_type": "code",
      "metadata": {
        "colab": {
          "base_uri": "https://localhost:8080/"
        },
        "id": "1bkN6tnDjGIf",
        "outputId": "b1149a9a-000f-4eeb-81c7-4b90ab6416c8"
      },
      "source": [
        "numbers = [10, 20, 30]\n",
        "for number in numbers:\n",
        "    print(number)"
      ],
      "execution_count": null,
      "outputs": [
        {
          "output_type": "stream",
          "text": [
            "10\n",
            "20\n",
            "30\n"
          ],
          "name": "stdout"
        }
      ]
    },
    {
      "cell_type": "markdown",
      "metadata": {
        "id": "zOf2aDI9nLty"
      },
      "source": [
        "When the loop encounters the `break` command, the loop will terminate immediately. If there were more items in the list, they will not be processed."
      ]
    },
    {
      "cell_type": "code",
      "metadata": {
        "colab": {
          "base_uri": "https://localhost:8080/"
        },
        "id": "5DZLRaZunO9D",
        "outputId": "73234484-1e12-49f6-cc8f-bbfad7853b3c"
      },
      "source": [
        "numbers = [10, 20, 30]\n",
        "for number in numbers:\n",
        "  if number == 20:\n",
        "    break\n",
        "  print(number)"
      ],
      "execution_count": null,
      "outputs": [
        {
          "output_type": "stream",
          "text": [
            "10\n"
          ],
          "name": "stdout"
        }
      ]
    },
    {
      "cell_type": "markdown",
      "metadata": {
        "id": "TcufrhTEnbDA"
      },
      "source": [
        "When the loop encounters the `continue` command, the loop will skip all other operations for that item in the list only. If there were more items in the list, the loop will continue normally."
      ]
    },
    {
      "cell_type": "code",
      "metadata": {
        "colab": {
          "base_uri": "https://localhost:8080/"
        },
        "id": "t7UkkLQWnf6h",
        "outputId": "80b3b0f1-6f19-488a-8996-c4c5ff51ae72"
      },
      "source": [
        "numbers = [10, 20, 30]\n",
        "for number in numbers:\n",
        "  if number == 20:\n",
        "    continue\n",
        "  print(number)"
      ],
      "execution_count": null,
      "outputs": [
        {
          "output_type": "stream",
          "text": [
            "10\n",
            "30\n"
          ],
          "name": "stdout"
        }
      ]
    },
    {
      "cell_type": "markdown",
      "metadata": {
        "id": "tbMuhQLrjVFf"
      },
      "source": [
        "If you want access to the index of each element within the body of a loop, use the built-in `enumerate()` function:"
      ]
    },
    {
      "cell_type": "code",
      "metadata": {
        "colab": {
          "base_uri": "https://localhost:8080/"
        },
        "id": "cjhrGKRNjfwf",
        "outputId": "5f92b3c6-97c9-4618-98fc-4fd430c9db9b"
      },
      "source": [
        "numbers = [10, 20, 30]\n",
        "for index, number in enumerate(numbers):\n",
        "    print(\"number in position {} is: {}\".format(index, number))"
      ],
      "execution_count": null,
      "outputs": [
        {
          "output_type": "stream",
          "text": [
            "number in position 0 is: 10\n",
            "number in position 1 is: 20\n",
            "number in position 2 is: 30\n"
          ],
          "name": "stdout"
        }
      ]
    },
    {
      "cell_type": "code",
      "metadata": {
        "colab": {
          "base_uri": "https://localhost:8080/"
        },
        "id": "HlDK61SRkLgo",
        "outputId": "966e81f5-bd9e-499d-9ca0-ec3b0ee6ca39"
      },
      "source": [
        "# Another example of list comprehensions:\n",
        "numbers_tuple = [(index, number ** 2) for index, number in enumerate(numbers)]\n",
        "print(numbers_tuple)"
      ],
      "execution_count": null,
      "outputs": [
        {
          "output_type": "stream",
          "text": [
            "[(0, 100), (1, 400), (2, 900)]\n"
          ],
          "name": "stdout"
        }
      ]
    },
    {
      "cell_type": "markdown",
      "metadata": {
        "id": "6sfgNr0Fk36P"
      },
      "source": [
        "### While loops\n",
        "\n",
        "A while loop can perform repeatedly as long as a condition is `True`. We can use `continue` and `break` commands in while loops as well."
      ]
    },
    {
      "cell_type": "code",
      "metadata": {
        "colab": {
          "base_uri": "https://localhost:8080/"
        },
        "id": "eUUDMtoMn3Ht",
        "outputId": "d22966c9-7b19-4d80-9558-e9cc240ec1c5"
      },
      "source": [
        "x = 10\n",
        "times = 0\n",
        "\n",
        "while True:\n",
        "  if x > 15:\n",
        "    break\n",
        "  print(\"Value of x is: {}\".format(x))\n",
        "  x = x + 2\n",
        "  times = times + 1\n",
        "\n",
        "print(\"Times = {}\".format(times))"
      ],
      "execution_count": null,
      "outputs": [
        {
          "output_type": "stream",
          "text": [
            "Value of x is: 10\n",
            "Value of x is: 12\n",
            "Value of x is: 14\n",
            "Times = 3\n"
          ],
          "name": "stdout"
        }
      ]
    },
    {
      "cell_type": "markdown",
      "metadata": {
        "id": "d1_Nw5DMooMZ"
      },
      "source": [
        "## Functions\n",
        "\n",
        "Functions are a way to modularize reusable pieces of code. They are defined by the keyword `def`. In the following piece of code, we define three functions.\n"
      ]
    },
    {
      "cell_type": "code",
      "metadata": {
        "id": "tH9nxQCno-SC"
      },
      "source": [
        "from datetime import datetime\n",
        "\n",
        "def get_current_time_as_string():\n",
        "  now = datetime.now()\n",
        "  current_time = now.strftime(\"%H:%M:%S\")\n",
        "  return current_time\n",
        "\n",
        "def my_sum_function(a, b, c):\n",
        "  result = a + b + c\n",
        "  return result\n",
        "\n",
        "def my_mark_message(mark):\n",
        "  if mark > 8:\n",
        "    return \"very good!\"\n",
        "  elif mark >= 5:\n",
        "    return \"good!\"\n",
        "  else:\n",
        "    return \"keep trying!\""
      ],
      "execution_count": null,
      "outputs": []
    },
    {
      "cell_type": "markdown",
      "metadata": {
        "id": "tom_uUc4LLwx"
      },
      "source": [
        "Once coded, we can call the three functions defined above."
      ]
    },
    {
      "cell_type": "code",
      "metadata": {
        "colab": {
          "base_uri": "https://localhost:8080/"
        },
        "id": "QQ_QyBnStC-q",
        "outputId": "f8381fff-d9b3-453c-c22c-7e9c873b906d"
      },
      "source": [
        "print(\"Calling my_sum_function(1,2,3) with a result of: {}\".format(my_sum_function(1,2,3)))\n",
        "print(\"Calling my_sum_function(2,3,4) with a result of: {}\".format(my_sum_function(2,3,4)))\n",
        "print(\"Calling my_mark_message(5) with a result of: {}\".format(my_mark_message(5)))\n",
        "print(\"Calling my_mark_message(4) with a result of: {}\".format(my_mark_message(4)))\n",
        "print(\"Calling my_mark_message(9) with a result of: {}\".format(my_mark_message(9)))\n",
        "print(\"Calling get_current_time_as_string() with a result of: {}\".format(get_current_time_as_string()))"
      ],
      "execution_count": null,
      "outputs": [
        {
          "output_type": "stream",
          "text": [
            "Calling my_sum_function(1,2,3) with a result of: 6\n",
            "Calling my_sum_function(2,3,4) with a result of: 9\n",
            "Calling my_mark_message(5) with a result of: good!\n",
            "Calling my_mark_message(4) with a result of: keep trying!\n",
            "Calling my_mark_message(9) with a result of: very good!\n",
            "Calling get_current_time_as_string() with a result of: 18:03:15\n"
          ],
          "name": "stdout"
        }
      ]
    },
    {
      "cell_type": "markdown",
      "metadata": {
        "id": "8GdcPO38tggO"
      },
      "source": [
        "## Classes\n",
        "\n",
        "[Classes](https://docs.python.org/3/tutorial/classes.html) provide a means of bundling data and functionality together. Creating a new class creates a new type of object, allowing new instances of that type to be made.\n",
        "\n",
        "The `__init__` function is used when an instance of the class is initialized."
      ]
    },
    {
      "cell_type": "code",
      "metadata": {
        "id": "Bg10enA-viK6"
      },
      "source": [
        "class Person:\n",
        "  \"\"\"Class object for a person.\"\"\"\n",
        "  def __init__(self, name, age):\n",
        "    \"\"\"Initialize a Person.\"\"\"\n",
        "    self.__name = name # private attribute\n",
        "    self.age = age     # public attribute\n",
        "\n",
        "  def get_age(self):\n",
        "    return self.age\n",
        "  \n",
        "  def get_name(self):\n",
        "    return self.__name\n",
        "  \n",
        "  def __str__(self):\n",
        "    \"\"\"Output when printing an instance of a Person.\"\"\"\n",
        "    return \"{} with age {}\".format(self.__name, self.age)"
      ],
      "execution_count": null,
      "outputs": []
    },
    {
      "cell_type": "code",
      "metadata": {
        "colab": {
          "base_uri": "https://localhost:8080/"
        },
        "id": "aRX5z50y5YdL",
        "outputId": "334d3a62-b57a-459f-b579-ab9b5ed127b4"
      },
      "source": [
        "# We use the created class:\n",
        "p1 = Person(\"John\", 36)\n",
        "print(p1)\n",
        "print(p1.get_age())\n",
        "print(p1.age)\n",
        "print(p1.get_name())"
      ],
      "execution_count": null,
      "outputs": [
        {
          "output_type": "stream",
          "text": [
            "John with age 36\n",
            "36\n",
            "36\n",
            "John\n"
          ],
          "name": "stdout"
        }
      ]
    },
    {
      "cell_type": "markdown",
      "metadata": {
        "id": "8Z7GZiHQnPs7"
      },
      "source": [
        "# Final exercise\n",
        "\n",
        "<img  align=\"left\" style=\"padding-right:10px;\" src=\"https://raw.githubusercontent.com/albertofernandezvillan/computer-vision-and-deep-learning-course/main/assets/pencil.jpg\" width=50>\n",
        "\n",
        "Create a list comprehension to print all the prime numbers between 0 and 100. To do it, use a function `is_prime()` that checks if a number is prime. \n",
        "\n",
        "Therefore:\n",
        "1. We have to code a function to check if a number is prime using the function` is_prime(num)`. The idea to solve this problem is to iterate through all the numbers starting from `2` to `sqrt(num)` using a for loop and for every number check if it divides `num`. If we find any number that divides, we return `false`. If we did not find any number between `2` and `sqrt(num)` which divides `num` then it means that `num` is prime and we will return `True`.\n",
        "2. Once coded this function, create a list comprehension to get all the prime numbers in the range (0,100).\n",
        "3. Finally, print the obtained list with the prime numbers.\n",
        "\n",
        "Final notes:\n",
        "- Execute the next cell to see the instructions for an exercise.\n",
        "- Try to complete the exercise in a new code cell.\n",
        "- If you want to know the solution double click in the title below to see the ocluded code for this cell."
      ]
    },
    {
      "cell_type": "code",
      "metadata": {
        "colab": {
          "base_uri": "https://localhost:8080/"
        },
        "id": "AxzjZLCS8Hlz",
        "cellView": "form",
        "outputId": "2b8e20a7-f901-45fd-8c13-62cad1695d4b"
      },
      "source": [
        "#@title Click here to see the answer\n",
        "\n",
        "# Define a function to check if a number is prime\n",
        "import math\n",
        "\n",
        "def is_prime(num):\n",
        "  if num > 1:  \n",
        "      for i in range(2, int(math.sqrt(num))+1):\n",
        "          if (num % i) == 0:\n",
        "              return False\n",
        "      else:\n",
        "          return True\n",
        "  else:\n",
        "      return False\n",
        "\n",
        "# Get all the primes in the range(0, 100):\n",
        "primes = [p for p in range(0, 100 + 1) if is_prime(p)]\n",
        "\n",
        "print(\"All primes in the range [0, 100] are:\\n{}\".format(primes))"
      ],
      "execution_count": null,
      "outputs": [
        {
          "output_type": "stream",
          "text": [
            "All primes in the range [0, 100] are:\n",
            "[2, 3, 5, 7, 11, 13, 17, 19, 23, 29, 31, 37, 41, 43, 47, 53, 59, 61, 67, 71, 73, 79, 83, 89, 97]\n"
          ],
          "name": "stdout"
        }
      ]
    },
    {
      "cell_type": "markdown",
      "metadata": {
        "id": "bGZKuIA-HFfo"
      },
      "source": [
        "# Conclusion\n",
        "\n",
        "In this notebook, an introduction to Python is given. As an introduction, many concepts are missing. Therefore, you can check [this wonderful tutorial about Python](https://docs.python.org/3/tutorial/). You can also [check this one](https://www.learnpython.org/en/) (in english) or [this one](https://www.learnpython.org/es/) (in spanish).\n"
      ]
    }
  ]
}