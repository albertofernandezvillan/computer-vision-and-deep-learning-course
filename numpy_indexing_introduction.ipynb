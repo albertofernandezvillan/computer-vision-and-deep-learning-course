{
  "nbformat": 4,
  "nbformat_minor": 0,
  "metadata": {
    "colab": {
      "name": "numpy_indexing_introduction.ipynb",
      "provenance": [],
      "collapsed_sections": [],
      "authorship_tag": "ABX9TyO/TUQmDFSvvCc0TzWBmGtH",
      "include_colab_link": true
    },
    "kernelspec": {
      "name": "python3",
      "display_name": "Python 3"
    }
  },
  "cells": [
    {
      "cell_type": "markdown",
      "metadata": {
        "id": "view-in-github",
        "colab_type": "text"
      },
      "source": [
        "<a href=\"https://colab.research.google.com/github/albertofernandezvillan/computer-vision-and-deep-learning-course/blob/main/numpy_indexing_introduction.ipynb\" target=\"_parent\"><img src=\"https://colab.research.google.com/assets/colab-badge.svg\" alt=\"Open In Colab\"/></a>"
      ]
    },
    {
      "cell_type": "markdown",
      "metadata": {
        "id": "i_irRNsAOHKx"
      },
      "source": [
        "<img align=\"left\" style=\"padding-right:10px;\" src =\"https://raw.githubusercontent.com/albertofernandezvillan/computer-vision-and-deep-learning-course/main/assets/university_oviedo_logo.png\" width=300 px>\r\n",
        "\r\n",
        "This notebook is from the Course \"***Computer vision in the new era of Artificial Intelligence and Deep Learning***\", or \"*Visión por computador en la nueva era de la Inteligencia Artificial y el Deep Learning*\" (ES) from the \"Second quarter university extension courses\" that the University of Oviedo is offering (05/04/2021 - 16/04/2021)\r\n",
        "\r\n",
        "<[Github Repository](https://github.com/albertofernandezvillan/computer-vision-and-deep-learning-course) | [Course Web Page Information](https://www.uniovi.es/estudios/extension/cursos2c/-/asset_publisher/SEp0PJi4ISGo/content/vision-por-computador-en-la-nueva-era-de-la-inteligencia-artificial-y-el-deep-learning?redirect=%2Festudios%2Fextension%2Fcursos2c)>"
      ]
    },
    {
      "cell_type": "markdown",
      "metadata": {
        "id": "PKRmzKyWOJtQ"
      },
      "source": [
        "# Summary\r\n",
        "\r\n",
        "In this Notebook, we are going to explore how to perform slicing and indexing with Numpy."
      ]
    },
    {
      "cell_type": "markdown",
      "metadata": {
        "id": "fK-8GAgJOaU3"
      },
      "source": [
        "# Introduction\r\n",
        "\r\n",
        "First of all, a small trick to print with colors (it will be necessary to show the results of this notebook). We should: 1) define the colors, 2) create the function to be called, 3) test it"
      ]
    },
    {
      "cell_type": "code",
      "metadata": {
        "colab": {
          "base_uri": "https://localhost:8080/"
        },
        "id": "oHkH88vH3V7v",
        "outputId": "d3ba10d3-fd3c-45ca-d0f3-b60f3325cf2d"
      },
      "source": [
        "# Small trick to print with colors\r\n",
        "# For more info see: \"https://www.geeksforgeeks.org/print-colors-python-terminal/\"\r\n",
        "# 1) Define the colors\r\n",
        "class fg:\r\n",
        "  black='\\033[30m'\r\n",
        "  red='\\033[31m'\r\n",
        "  green='\\033[32m'\r\n",
        "  orange='\\033[33m'\r\n",
        "  blue='\\033[34m'\r\n",
        "  purple='\\033[35m'\r\n",
        "  cyan='\\033[36m'\r\n",
        "  lightgrey='\\033[37m'\r\n",
        "  darkgrey='\\033[90m'\r\n",
        "  lightred='\\033[91m'\r\n",
        "  lightgreen='\\033[92m'\r\n",
        "  yellow='\\033[93m'\r\n",
        "  lightblue='\\033[94m'\r\n",
        "  pink='\\033[95m'\r\n",
        "  lightcyan='\\033[96m'\r\n",
        "\r\n",
        "# 2) Create the function to be called:\r\n",
        "def printTextWithColor(color, text): print(color + \"{}\".format(text))\r\n",
        "\r\n",
        "# 3) Test it:\r\n",
        "printTextWithColor(fg.green, \"HELLO\")\r\n",
        "printTextWithColor(fg.lightblue, \"GOODBYE\")"
      ],
      "execution_count": null,
      "outputs": [
        {
          "output_type": "stream",
          "text": [
            "\u001b[32mHELLO\n",
            "\u001b[94mGOODBYE\n"
          ],
          "name": "stdout"
        }
      ]
    },
    {
      "cell_type": "markdown",
      "metadata": {
        "id": "CHAChn6n5ILq"
      },
      "source": [
        "We can also use the python library \"termcolor\", but the orange color is not defined and we need this color to be shown in our example.\r\n",
        "If you want to use 'termocolor' here it is how you can use it:\r\n",
        "\r\n",
        "```\r\n",
        "!pip install termcolor\r\n",
        "from termcolor import colored\r\n",
        "\r\n",
        "print(colored(\"This is going to be shown in magenta!!!!\", 'magenta'))\r\n",
        "```"
      ]
    },
    {
      "cell_type": "markdown",
      "metadata": {
        "id": "_JhyeNtFOp0I"
      },
      "source": [
        "# Numpy slicing and indexing\r\n",
        "\r\n",
        "At this point, we can start with our task (Numpy Indexing)"
      ]
    },
    {
      "cell_type": "code",
      "metadata": {
        "id": "DrnYjhhsv4TV"
      },
      "source": [
        "# Ref here for more information: https://www.geeksforgeeks.org/numpy-indexing/\r\n",
        "# Import required packages:\r\n",
        "import numpy as np"
      ],
      "execution_count": null,
      "outputs": []
    },
    {
      "cell_type": "code",
      "metadata": {
        "colab": {
          "base_uri": "https://localhost:8080/"
        },
        "id": "0hY2QV1LwG99",
        "outputId": "07ebfd19-94a3-4d35-e671-d1af3e744e44"
      },
      "source": [
        "# Create a (6x6) array:\r\n",
        "a = np.array([[0, 1, 2, 3, 4, 5], [6, 7, 8, 9, 10, 11], [12, 13, 14, 15, 16, 17], [18, 19, 20, 21, 22, 23], [24, 25, 26, 27, 28, 29], [30, 31, 32, 33, 34, 35]])\r\n",
        "print(a.shape)"
      ],
      "execution_count": null,
      "outputs": [
        {
          "output_type": "stream",
          "text": [
            "(6, 6)\n"
          ],
          "name": "stdout"
        }
      ]
    },
    {
      "cell_type": "markdown",
      "metadata": {
        "id": "I7Px8ms1yr3M"
      },
      "source": [
        "**Let's see some types of indexing.\r\n",
        "The next Figure summarizes what we are going to do**\r\n",
        "\r\n"
      ]
    },
    {
      "cell_type": "markdown",
      "metadata": {
        "id": "Jd6-1XOezFfh"
      },
      "source": [
        "For inserting the Figure, the following code is necessary:\r\n",
        "```\r\n",
        "<img src=\"https://raw.githubusercontent.com/albertofernandezvillan/dl-ml-notebooks/main/assets/numpy-indexing.jpg\">\r\n",
        "```"
      ]
    },
    {
      "cell_type": "markdown",
      "metadata": {
        "id": "Nq-q79J8yaxV"
      },
      "source": [
        "<img src=\"https://raw.githubusercontent.com/albertofernandezvillan/dl-ml-notebooks/main/assets/numpy-indexing.jpg\">"
      ]
    },
    {
      "cell_type": "code",
      "metadata": {
        "colab": {
          "base_uri": "https://localhost:8080/"
        },
        "id": "BcicEZMhzci6",
        "outputId": "9e0bb3f2-bf44-4e2a-b8e2-e31733c72edf"
      },
      "source": [
        "# slicing and indexing\r\n",
        "result_1 = a[0, 3:5]\r\n",
        "result_2 = a[4:, 4:]\r\n",
        "result_3 = a[:, 2]\r\n",
        "result_4 = a[2::2, ::2]\r\n",
        "\r\n",
        "printTextWithColor(fg.black, \"\\n a[0, 3:5]  = \")\r\n",
        "printTextWithColor(fg.orange, result_1)\r\n",
        "\r\n",
        "printTextWithColor(fg.black, \"\\n a[4:, 4:]  = \")\r\n",
        "printTextWithColor(fg.lightblue, result_2)\r\n",
        "\r\n",
        "printTextWithColor(fg.black, \"\\n a[:, 2]  = \")\r\n",
        "printTextWithColor(fg.lightred, result_3)\r\n",
        "\r\n",
        "printTextWithColor(fg.black, \"\\n a[2::2, ::2]  = \")\r\n",
        "printTextWithColor(fg.lightgreen, result_4)\r\n"
      ],
      "execution_count": null,
      "outputs": [
        {
          "output_type": "stream",
          "text": [
            "\u001b[30m\n",
            " a[0, 3:5]  = \n",
            "\u001b[33m[3 4]\n",
            "\u001b[30m\n",
            " a[4:, 4:]  = \n",
            "\u001b[94m[[28 29]\n",
            " [34 35]]\n",
            "\u001b[30m\n",
            " a[:, 2]  = \n",
            "\u001b[91m[ 2  8 14 20 26 32]\n",
            "\u001b[30m\n",
            " a[2::2, ::2]  = \n",
            "\u001b[92m[[12 14 16]\n",
            " [24 26 28]]\n"
          ],
          "name": "stdout"
        }
      ]
    },
    {
      "cell_type": "markdown",
      "metadata": {
        "id": "A3D1lm07OzWm"
      },
      "source": [
        "# Conclusions\r\n",
        "\r\n",
        "In this Notebook, we have seen how to perfom slicing and indexing with Numpy."
      ]
    }
  ]
}