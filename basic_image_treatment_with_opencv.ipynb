{
  "nbformat": 4,
  "nbformat_minor": 0,
  "metadata": {
    "colab": {
      "name": "basic_image_treatment_with_opencv.ipynb",
      "provenance": [],
      "collapsed_sections": [],
      "toc_visible": true,
      "authorship_tag": "ABX9TyNq5ZftVWrATGN39kiibRdr",
      "include_colab_link": true
    },
    "kernelspec": {
      "name": "python3",
      "display_name": "Python 3"
    }
  },
  "cells": [
    {
      "cell_type": "markdown",
      "metadata": {
        "id": "view-in-github",
        "colab_type": "text"
      },
      "source": [
        "<a href=\"https://colab.research.google.com/github/albertofernandezvillan/computer-vision-and-deep-learning-course/blob/main/basic_image_treatment_with_opencv.ipynb\" target=\"_parent\"><img src=\"https://colab.research.google.com/assets/colab-badge.svg\" alt=\"Open In Colab\"/></a>"
      ]
    },
    {
      "cell_type": "markdown",
      "metadata": {
        "id": "KTIRuoRIqCAv"
      },
      "source": [
        "<img align=\"left\" style=\"padding-right:10px;\" src =\"https://raw.githubusercontent.com/albertofernandezvillan/computer-vision-and-deep-learning-course/main/assets/university_oviedo_logo.png\" width=300 px>\r\n",
        "\r\n",
        "This notebook is from the Course \"***Computer vision in the new era of Artificial Intelligence and Deep Learning***\", or \"*Visión por computador en la nueva era de la Inteligencia Artificial y el Deep Learning*\" (ES) from the \"Second quarter university extension courses\" that the University of Oviedo is offering (05/04/2021 - 16/04/2021)\r\n",
        "\r\n",
        "<[Github Repository](https://github.com/albertofernandezvillan/computer-vision-and-deep-learning-course) | [Course Web Page Information](https://www.uniovi.es/estudios/extension/cursos2c/-/asset_publisher/SEp0PJi4ISGo/content/vision-por-computador-en-la-nueva-era-de-la-inteligencia-artificial-y-el-deep-learning?redirect=%2Festudios%2Fextension%2Fcursos2c)>"
      ]
    },
    {
      "cell_type": "markdown",
      "metadata": {
        "id": "IT08LLHzqv6z"
      },
      "source": [
        "# Summary\r\n",
        "\r\n",
        "In this notebook, we are going to see some basic image treatment. More specifically, we are going to see how to access and manipulate pixels in OpenCV with both color (BGR) images and also with grayscale images. \r\n",
        "Moreover, instead of downloading or using an image to show how to tackle the previous points, we are going to create the images using only numpy functions for practising some of the concepts learned in previous points related to numpy."
      ]
    },
    {
      "cell_type": "markdown",
      "metadata": {
        "id": "lVkyvQgDrBzh"
      },
      "source": [
        "# Accessing, manipulating pixels in OpenCV with color images\r\n",
        "\r\n",
        "To build a sample image, we will code the function `build_sample_image_color()`, which makes use of numpy operations to form the final image. In this case, we will use `np.zeros()`, `np.ones()` and `np.concatenate()`. "
      ]
    },
    {
      "cell_type": "code",
      "metadata": {
        "id": "0gqZ9Fhxt-Ri"
      },
      "source": [
        "import numpy as np\r\n",
        "\r\n",
        "def build_sample_image_color(colors):\r\n",
        "    \"\"\"Builds a sample image with 50x50 regions of different colors\"\"\"\r\n",
        "\r\n",
        "    # Initialize result with the first 50x50 region with black color\r\n",
        "    result = np.zeros((50, 50, 3), dtype=\"uint8\")\r\n",
        "\r\n",
        "    # Build the image concatenating horizontally the regions:\r\n",
        "    for color in colors:\r\n",
        "      img = np.ones((50, 50, 3), dtype=\"uint8\") * color\r\n",
        "      result = np.concatenate((result, img), axis=1)\r\n",
        "\r\n",
        "    return result"
      ],
      "execution_count": 76,
      "outputs": []
    },
    {
      "cell_type": "code",
      "metadata": {
        "id": "LqLaPcQGuG_r"
      },
      "source": [
        "colors = np.array([(255,0,255),(255,0,0),(255,255,255),(0,255,0),(0,0,255),(255,255,0),(0,255,255)], dtype=\"uint8\")\r\n",
        "color_img = build_sample_image_color(colors)"
      ],
      "execution_count": 129,
      "outputs": []
    },
    {
      "cell_type": "code",
      "metadata": {
        "colab": {
          "base_uri": "https://localhost:8080/",
          "height": 110
        },
        "id": "LSozsZjVs8ze",
        "outputId": "e71cd015-bcbf-43b2-9cba-2f780b1d5309"
      },
      "source": [
        "from matplotlib import pyplot as plt\r\n",
        "\r\n",
        "plt.imshow(color_img[:, :, ::-1])"
      ],
      "execution_count": 79,
      "outputs": [
        {
          "output_type": "execute_result",
          "data": {
            "text/plain": [
              "<matplotlib.image.AxesImage at 0x7f07303d0f90>"
            ]
          },
          "metadata": {
            "tags": []
          },
          "execution_count": 79
        },
        {
          "output_type": "display_data",
          "data": {
            "image/png": "[encoded data removed]",
            "text/plain": [
              "<Figure size 432x288 with 1 Axes>"
            ]
          },
          "metadata": {
            "tags": [],
            "needs_background": "light"
          }
        }
      ]
    },
    {
      "cell_type": "markdown",
      "metadata": {
        "id": "NyZDXjCM8-9P"
      },
      "source": [
        "To get the dimensions of the image use `color_img.shape`, which returns a tuple of number of rows, columns and channels (if image is color)."
      ]
    },
    {
      "cell_type": "code",
      "metadata": {
        "colab": {
          "base_uri": "https://localhost:8080/"
        },
        "id": "kVqoePzf8jSf",
        "outputId": "a2ddc4fd-dda2-4825-be0c-05c78b08bf34"
      },
      "source": [
        "print(\"The shape of the image is: '{}'\".format(color_img.shape))"
      ],
      "execution_count": 80,
      "outputs": [
        {
          "output_type": "stream",
          "text": [
            "The shape of the image is: '(50, 400, 3)'\n"
          ],
          "name": "stdout"
        }
      ]
    },
    {
      "cell_type": "markdown",
      "metadata": {
        "id": "OCKe3Yu582sn"
      },
      "source": [
        "We can also get the dimensions in three independent variables. To get height, width and the number of channels of the input image:"
      ]
    },
    {
      "cell_type": "code",
      "metadata": {
        "colab": {
          "base_uri": "https://localhost:8080/"
        },
        "id": "r53yF6wFCxcq",
        "outputId": "3cb1da0a-0953-4ec1-fc06-85a42bc7eabd"
      },
      "source": [
        "(h, w, c) = color_img.shape\r\n",
        "print(\"Dimensions of the image - height: '{}', width: '{}', channels: '{}'\".format(h, w, c))"
      ],
      "execution_count": 81,
      "outputs": [
        {
          "output_type": "stream",
          "text": [
            "Dimensions of the image - height: '50', width: '400', channels: '3'\n"
          ],
          "name": "stdout"
        }
      ]
    },
    {
      "cell_type": "markdown",
      "metadata": {
        "id": "1UATnV8YDf0a"
      },
      "source": [
        "Total number of elements is obtained by `color_img.size`:"
      ]
    },
    {
      "cell_type": "code",
      "metadata": {
        "colab": {
          "base_uri": "https://localhost:8080/"
        },
        "id": "lCVrEp3ADucp",
        "outputId": "45dc0e71-c296-4f24-f1e7-f81a6596c96c"
      },
      "source": [
        "print(\"Total number of elements: '{}'\".format(color_img.size))\r\n",
        "print(\"Total number of elements: '{}'\".format(h * w * c))"
      ],
      "execution_count": 82,
      "outputs": [
        {
          "output_type": "stream",
          "text": [
            "Total number of elements: '60000'\n",
            "Total number of elements: '60000'\n"
          ],
          "name": "stdout"
        }
      ]
    },
    {
      "cell_type": "markdown",
      "metadata": {
        "id": "bul4ON1bEXzG"
      },
      "source": [
        "To print the image datatype we use `color_img.dtype`:"
      ]
    },
    {
      "cell_type": "code",
      "metadata": {
        "colab": {
          "base_uri": "https://localhost:8080/"
        },
        "id": "nb9Mg-BrEeGK",
        "outputId": "e9c4bc9b-3db0-4dda-f803-6a41a17db459"
      },
      "source": [
        "print(\"Image datatype: '{}'\".format(color_img.dtype))"
      ],
      "execution_count": 84,
      "outputs": [
        {
          "output_type": "stream",
          "text": [
            "Image datatype: 'uint8'\n"
          ],
          "name": "stdout"
        }
      ]
    },
    {
      "cell_type": "markdown",
      "metadata": {
        "id": "mltEcFPpqg0o"
      },
      "source": [
        "You can access a pixel value **by row and column coordinates**, in the form of `color_img[y,x]`.\r\n",
        "\r\n",
        "For BGR image, it returns an array of (Blue, Green, Red) values:\r\n",
        "\r\n",
        "*   The pixel value at (y=10,x=10) should be black: (0,0,0)\r\n",
        "*   The pixel value at (y=10,x=60) should be magenta: (255,0,255)\r\n",
        "*   The pixel value at (y=10,x=160) should be white: (255,255,255)\r\n",
        "*   The pixe value at (y=10,x=210) should be green: (0,255,0)\r\n",
        "*   The pixel value at (y=10,x=260) should be red: (0,0,255)\r\n",
        "*   The pixel value at (y=10,x=310) should be cyan: (255,255,0)\r\n",
        "*   The pixel value at (y=10,x=360) should be yellow: (0,255,255)\r\n",
        "\r\n",
        "Let's check it."
      ]
    },
    {
      "cell_type": "code",
      "metadata": {
        "colab": {
          "base_uri": "https://localhost:8080/"
        },
        "id": "7sxEGWIxJu7I",
        "outputId": "9dba257a-7eb1-471f-c419-5fda79489299"
      },
      "source": [
        "print(\"Pixel value at (y=10, x=10):'{}'\".format(color_img[10, 10]))\r\n",
        "print(\"Pixel value at (y=10, x=60):'{}'\".format(color_img[10, 60]))\r\n",
        "print(\"Pixel value at (y=10, x=110):'{}'\".format(color_img[10, 110]))\r\n",
        "print(\"Pixel value at (y=10, x=160):'{}'\".format(color_img[10, 160]))\r\n",
        "print(\"Pixel value at (y=10, x=210):'{}'\".format(color_img[10, 210]))\r\n",
        "print(\"Pixel value at (y=10, x=260):'{}'\".format(color_img[10, 260]))\r\n",
        "print(\"Pixel value at (y=10, x=310):'{}'\".format(color_img[10, 310]))\r\n",
        "print(\"Pixel value at (y=10, x=360):'{}'\".format(color_img[10, 360]))"
      ],
      "execution_count": 96,
      "outputs": [
        {
          "output_type": "stream",
          "text": [
            "Pixel value at (y=10, x=10):'[0 0 0]'\n",
            "Pixel value at (y=10, x=60):'[255   0 255]'\n",
            "Pixel value at (y=10, x=110):'[255   0   0]'\n",
            "Pixel value at (y=10, x=160):'[255 255 255]'\n",
            "Pixel value at (y=10, x=210):'[  0 255   0]'\n",
            "Pixel value at (y=10, x=260):'[  0   0 255]'\n",
            "Pixel value at (y=10, x=310):'[255 255   0]'\n",
            "Pixel value at (y=10, x=360):'[  0 255 255]'\n"
          ],
          "name": "stdout"
        }
      ]
    },
    {
      "cell_type": "markdown",
      "metadata": {
        "id": "rPZKOVfqOwp0"
      },
      "source": [
        "We can access only one channel at a time. In this case, we will use row, column and the index of the desired channel for indexing in the form of `color_img[y,x,index]`.\r\n"
      ]
    },
    {
      "cell_type": "code",
      "metadata": {
        "colab": {
          "base_uri": "https://localhost:8080/"
        },
        "id": "BrhKTMcWPj1-",
        "outputId": "c3839c68-8c42-4d9b-f2af-bd605bd96b79"
      },
      "source": [
        "# Get only blue value of the pixel (x=310, y=10):\r\n",
        "b = color_img[10, 310, 0]\r\n",
        "\r\n",
        "# Get only green value of the pixel (x=310, y=10):\r\n",
        "g = color_img[10, 310, 1]\r\n",
        "\r\n",
        "# Get only red value of the pixel (x=310, y=10):\r\n",
        "r = color_img[10, 310, 2]\r\n",
        "\r\n",
        "print(\"Pixel at (x=310, y=10) - blue: '{}', green: '{}', red: '{}'\".format(b, g, r))"
      ],
      "execution_count": 100,
      "outputs": [
        {
          "output_type": "stream",
          "text": [
            "Pixel at (x=310, y=10) - blue: '255', green: '255', red: '0'\n"
          ],
          "name": "stdout"
        }
      ]
    },
    {
      "cell_type": "markdown",
      "metadata": {
        "id": "55zdmICTQ_6Y"
      },
      "source": [
        "You can modify the pixel values of the image in the same way. For example, with `img[y, x] = (0, 0, 255)` the pixel value of the image `img` will be red. See, for example, how we modify the image drawing a line in cyan. See also that this line is 3 pixels height (for a better visualization)."
      ]
    },
    {
      "cell_type": "code",
      "metadata": {
        "id": "gPoM22fVRm6J"
      },
      "source": [
        "for i in range(color_img.shape[1]):\r\n",
        "  color_img[10, i] = (255, 255, 0)\r\n",
        "  color_img[11, i] = (255, 255, 0)\r\n",
        "  color_img[12, i] = (255, 255, 0)"
      ],
      "execution_count": 130,
      "outputs": []
    },
    {
      "cell_type": "code",
      "metadata": {
        "colab": {
          "base_uri": "https://localhost:8080/",
          "height": 110
        },
        "id": "j_i7R0dOd7wI",
        "outputId": "3cd9ad1f-f72c-4db7-8187-1e039650172c"
      },
      "source": [
        "from matplotlib import pyplot as plt\r\n",
        "\r\n",
        "plt.imshow(color_img[:, :, ::-1])"
      ],
      "execution_count": 131,
      "outputs": [
        {
          "output_type": "execute_result",
          "data": {
            "text/plain": [
              "<matplotlib.image.AxesImage at 0x7f072fdc8110>"
            ]
          },
          "metadata": {
            "tags": []
          },
          "execution_count": 131
        },
        {
          "output_type": "display_data",
          "data": {
            "image/png": "[encoded data removed]",
            "text/plain": [
              "<Figure size 432x288 with 1 Axes>"
            ]
          },
          "metadata": {
            "tags": [],
            "needs_background": "light"
          }
        }
      ]
    },
    {
      "cell_type": "markdown",
      "metadata": {
        "id": "S7mtqJRgZxy4"
      },
      "source": [
        "Sometimes, you will have to play with certain region of images rather than one pixel at a time. For example, to get only the red region of the image, we should perform as follows."
      ]
    },
    {
      "cell_type": "code",
      "metadata": {
        "colab": {
          "base_uri": "https://localhost:8080/"
        },
        "id": "zXw-Cj0jaGLX",
        "outputId": "7ff5c395-5747-4cee-ba94-68c63a38ad56"
      },
      "source": [
        "roi_red = color_img[0:50, 250:300]\r\n",
        "\r\n",
        "# Check the dimensions of the image:\r\n",
        "print(roi_red.shape)"
      ],
      "execution_count": 124,
      "outputs": [
        {
          "output_type": "stream",
          "text": [
            "(50, 50, 3)\n"
          ],
          "name": "stdout"
        }
      ]
    },
    {
      "cell_type": "code",
      "metadata": {
        "colab": {
          "base_uri": "https://localhost:8080/",
          "height": 284
        },
        "id": "K-p1GN0baHz8",
        "outputId": "800fab03-dc77-4d78-86dd-8eb8050a7e03"
      },
      "source": [
        "from matplotlib import pyplot as plt\r\n",
        "\r\n",
        "plt.imshow(roi_red[:, :, ::-1])"
      ],
      "execution_count": 125,
      "outputs": [
        {
          "output_type": "execute_result",
          "data": {
            "text/plain": [
              "<matplotlib.image.AxesImage at 0x7f072ff119d0>"
            ]
          },
          "metadata": {
            "tags": []
          },
          "execution_count": 125
        },
        {
          "output_type": "display_data",
          "data": {
            "image/png": "[encoded data removed]",
            "text/plain": [
              "<Figure size 432x288 with 1 Axes>"
            ]
          },
          "metadata": {
            "tags": [],
            "needs_background": "light"
          }
        }
      ]
    },
    {
      "cell_type": "markdown",
      "metadata": {
        "id": "iSl5kAU7bTmh"
      },
      "source": [
        "In the same way, we can set more pixels than once at a time. See how we set the magenta region of the image with the new red image we have just created."
      ]
    },
    {
      "cell_type": "code",
      "metadata": {
        "id": "M1VoyrtFbttZ"
      },
      "source": [
        "color_img[0:50, 50:100] = roi_red"
      ],
      "execution_count": 127,
      "outputs": []
    },
    {
      "cell_type": "code",
      "metadata": {
        "colab": {
          "base_uri": "https://localhost:8080/",
          "height": 110
        },
        "id": "PhqU9i6OcNj5",
        "outputId": "e2f7d9de-4ae0-4d71-c377-640a70b6ced3"
      },
      "source": [
        "from matplotlib import pyplot as plt\r\n",
        "\r\n",
        "plt.imshow(color_img[:, :, ::-1])"
      ],
      "execution_count": 128,
      "outputs": [
        {
          "output_type": "execute_result",
          "data": {
            "text/plain": [
              "<matplotlib.image.AxesImage at 0x7f072fe578d0>"
            ]
          },
          "metadata": {
            "tags": []
          },
          "execution_count": 128
        },
        {
          "output_type": "display_data",
          "data": {
            "image/png": "[encoded data removed]",
            "text/plain": [
              "<Figure size 432x288 with 1 Axes>"
            ]
          },
          "metadata": {
            "tags": [],
            "needs_background": "light"
          }
        }
      ]
    },
    {
      "cell_type": "markdown",
      "metadata": {
        "id": "04hctjEhWROa"
      },
      "source": [
        "# Accessing, manipulating pixels in OpenCV with grayscale images\r\n",
        "\r\n",
        "To build a sample image, we will code the function `build_sample_image_grayscale()`, which makes use of numpy operations to form the final image. In this case, we will use `np.arange()`, `np.zeros()`, `np.ones()` and `np.concatenate()`."
      ]
    },
    {
      "cell_type": "code",
      "metadata": {
        "id": "FG0h29TCsipg"
      },
      "source": [
        "import numpy as np\r\n",
        "\r\n",
        "def build_sample_image_grayscale():\r\n",
        "    \"\"\"Builds a sample image with 50x50 regions of different tones of gray\"\"\"\r\n",
        "\r\n",
        "    # Define the different tones.\r\n",
        "    # The end of interval is not included\r\n",
        "    tones = np.arange(start=50, stop=300, step=50)\r\n",
        "    # print(tones)\r\n",
        "\r\n",
        "    # Initialize result with the first 50x50 region with 0-intensity level\r\n",
        "    result = np.zeros((50, 50), dtype=\"uint8\")\r\n",
        "\r\n",
        "    # Build the image concatenating horizontally the regions:\r\n",
        "    for tone in tones:\r\n",
        "        img = np.ones((50, 50), dtype=\"uint8\") * tone\r\n",
        "        result = np.concatenate((result, img), axis=1)\r\n",
        "\r\n",
        "    return result"
      ],
      "execution_count": 106,
      "outputs": []
    },
    {
      "cell_type": "code",
      "metadata": {
        "id": "LuwWlG4Esze6"
      },
      "source": [
        "gray_img = build_sample_image_grayscale()"
      ],
      "execution_count": 107,
      "outputs": []
    },
    {
      "cell_type": "code",
      "metadata": {
        "colab": {
          "base_uri": "https://localhost:8080/",
          "height": 124
        },
        "id": "N3uK1QtwuMbz",
        "outputId": "94080868-bac9-4ca7-b90d-e6811098b09e"
      },
      "source": [
        "from matplotlib import pyplot as plt\r\n",
        "\r\n",
        "plt.imshow(gray_img, cmap=\"gray\")"
      ],
      "execution_count": 109,
      "outputs": [
        {
          "output_type": "execute_result",
          "data": {
            "text/plain": [
              "<matplotlib.image.AxesImage at 0x7f073018a650>"
            ]
          },
          "metadata": {
            "tags": []
          },
          "execution_count": 109
        },
        {
          "output_type": "display_data",
          "data": {
            "image/png": "[encoded data removed]",
            "text/plain": [
              "<Figure size 432x288 with 1 Axes>"
            ]
          },
          "metadata": {
            "tags": [],
            "needs_background": "light"
          }
        }
      ]
    },
    {
      "cell_type": "code",
      "metadata": {
        "colab": {
          "base_uri": "https://localhost:8080/",
          "height": 260
        },
        "id": "R2hLsaI6YUza",
        "outputId": "9ce3afd2-e7af-47bb-d398-ffb0b2cdb510"
      },
      "source": [
        "print(\"The shape of the image is: '{}'\".format(gray_img.shape))\r\n",
        "(h, w) = gray_img.shape\r\n",
        "print(\"Dimensions of the image - height: '{}', width: '{}'\".format(h, w))\r\n",
        "print(\"Total number of elements: '{}'\".format(gray_img.size))\r\n",
        "print(\"Total number of elements: '{}'\".format(h * w))\r\n",
        "print(\"Image datatype: '{}'\".format(gray_img.dtype))\r\n",
        "print(\"Pixel value at (y=10, x=10):'{}'\".format(gray_img[10, 10]))\r\n",
        "print(\"Pixel value at (y=10, x=60):'{}'\".format(gray_img[10, 60]))\r\n",
        "print(\"Pixel value at (y=10, x=110):'{}'\".format(gray_img[10, 110]))\r\n",
        "\r\n",
        "for i in range(gray_img.shape[1]):\r\n",
        "  gray_img[10, i] = 255\r\n",
        "  gray_img[11, i] = 255\r\n",
        "  gray_img[12, i] = 255\r\n",
        "\r\n",
        "from matplotlib import pyplot as plt\r\n",
        "\r\n",
        "plt.imshow(gray_img, cmap=\"gray\")"
      ],
      "execution_count": 112,
      "outputs": [
        {
          "output_type": "stream",
          "text": [
            "The shape of the image is: '(50, 300)'\n",
            "Dimensions of the image - height: '50', width: '300'\n",
            "Total number of elements: '15000'\n",
            "Total number of elements: '15000'\n",
            "Image datatype: 'uint8'\n",
            "Pixel value at (y=10, x=10):'255'\n",
            "Pixel value at (y=10, x=60):'255'\n",
            "Pixel value at (y=10, x=110):'255'\n"
          ],
          "name": "stdout"
        },
        {
          "output_type": "execute_result",
          "data": {
            "text/plain": [
              "<matplotlib.image.AxesImage at 0x7f07304e6290>"
            ]
          },
          "metadata": {
            "tags": []
          },
          "execution_count": 112
        },
        {
          "output_type": "display_data",
          "data": {
            "image/png": "[encoded data removed]",
            "text/plain": [
              "<Figure size 432x288 with 1 Axes>"
            ]
          },
          "metadata": {
            "tags": [],
            "needs_background": "light"
          }
        }
      ]
    },
    {
      "cell_type": "markdown",
      "metadata": {
        "id": "fwByoaxAZZoP"
      },
      "source": [
        "# Conclusions\r\n",
        "\r\n",
        "In this notebook we have seen some basic image treatment with both color (BGR) and also with grayscale images. Most of the concepts introduced in this notebook are very basic but also very important. Therefore, you should check that you have understood it to proceed further."
      ]
    }
  ]
}