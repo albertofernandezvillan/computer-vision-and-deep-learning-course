{
  "nbformat": 4,
  "nbformat_minor": 0,
  "metadata": {
    "colab": {
      "name": "basic_image_treatment_with_opencv.ipynb",
      "provenance": [],
      "collapsed_sections": [],
      "toc_visible": true,
      "authorship_tag": "ABX9TyN6VulBilEYldkBmkQr5DFT",
      "include_colab_link": true
    },
    "kernelspec": {
      "name": "python3",
      "display_name": "Python 3"
    }
  },
  "cells": [
    {
      "cell_type": "markdown",
      "metadata": {
        "id": "view-in-github",
        "colab_type": "text"
      },
      "source": [
        "<a href=\"https://colab.research.google.com/github/albertofernandezvillan/computer-vision-and-deep-learning-course/blob/main/basic_image_treatment_with_opencv.ipynb\" target=\"_parent\"><img src=\"https://colab.research.google.com/assets/colab-badge.svg\" alt=\"Open In Colab\"/></a>"
      ]
    },
    {
      "cell_type": "markdown",
      "metadata": {
        "id": "KTIRuoRIqCAv"
      },
      "source": [
        "<img align=\"left\" style=\"padding-right:10px;\" src =\"https://raw.githubusercontent.com/albertofernandezvillan/computer-vision-and-deep-learning-course/main/assets/university_oviedo_logo.png\" width=300 px>\n",
        "\n",
        "This notebook is from the Course \"***Computer vision in the new era of Artificial Intelligence and Deep Learning***\", or \"*Visión por computador en la nueva era de la Inteligencia Artificial y el Deep Learning*\" (ES) from the \"Second quarter university extension courses\" that the University of Oviedo is offering (05/04/2021 - 16/04/2021)\n",
        "\n",
        "<[Github Repository](https://github.com/albertofernandezvillan/computer-vision-and-deep-learning-course) | [Course Web Page Information](https://www.uniovi.es/estudios/extension/cursos2c/-/asset_publisher/SEp0PJi4ISGo/content/vision-por-computador-en-la-nueva-era-de-la-inteligencia-artificial-y-el-deep-learning?redirect=%2Festudios%2Fextension%2Fcursos2c)>"
      ]
    },
    {
      "cell_type": "markdown",
      "metadata": {
        "id": "IT08LLHzqv6z"
      },
      "source": [
        "# Summary\n",
        "\n",
        "In this notebook, we are going to see some basic image treatment. More specifically, we are going to see how to access and manipulate pixels in OpenCV with both color (BGR) images and also with grayscale images. \n",
        "Moreover, instead of downloading or using an image to show how to tackle the previous points, we are going to create the images using only NumPy functions for practising some of the concepts learned in previous points related to NumPy."
      ]
    },
    {
      "cell_type": "markdown",
      "metadata": {
        "id": "lVkyvQgDrBzh"
      },
      "source": [
        "# Accessing, manipulating pixels in OpenCV with color images\n",
        "\n",
        "To build a sample image, we will code the function `build_sample_image_color()`, which makes use of NumPy operations to form the final image. In this case, we will use `np.zeros()`, `np.ones()` and `np.concatenate()`. "
      ]
    },
    {
      "cell_type": "code",
      "metadata": {
        "id": "0gqZ9Fhxt-Ri"
      },
      "source": [
        "import numpy as np\n",
        "\n",
        "def build_sample_image_color(colors):\n",
        "    \"\"\"Builds a sample image with 50x50 regions of different colors\"\"\"\n",
        "\n",
        "    # Initialize result with the first 50x50 region with black color\n",
        "    result = np.zeros((50, 50, 3), dtype=\"uint8\")\n",
        "\n",
        "    # Build the image concatenating horizontally the regions:\n",
        "    for color in colors:\n",
        "      img = np.ones((50, 50, 3), dtype=\"uint8\") * color\n",
        "      result = np.concatenate((result, img), axis=1)\n",
        "\n",
        "    return result"
      ],
      "execution_count": 1,
      "outputs": []
    },
    {
      "cell_type": "markdown",
      "metadata": {
        "id": "fFZkO-vQ96N3"
      },
      "source": [
        "We define the colors for each `50x50` region of the image. As OpenCV uses BGR color format, each color should be defined accordingly. For example, red color is defined as `(0,0,255)`."
      ]
    },
    {
      "cell_type": "code",
      "metadata": {
        "id": "LqLaPcQGuG_r"
      },
      "source": [
        "colors = np.array([(255,0,255),(255,0,0),(255,255,255),(0,255,0),(0,0,255),(255,255,0),(0,255,255)], dtype=\"uint8\")\n",
        "color_img = build_sample_image_color(colors)"
      ],
      "execution_count": 15,
      "outputs": []
    },
    {
      "cell_type": "code",
      "metadata": {
        "colab": {
          "base_uri": "https://localhost:8080/",
          "height": 110
        },
        "id": "LSozsZjVs8ze",
        "outputId": "cdfb43b2-ce11-43a6-c086-bf7c0fb3d70a"
      },
      "source": [
        "from matplotlib import pyplot as plt\n",
        "\n",
        "plt.imshow(color_img[:, :, ::-1])"
      ],
      "execution_count": 3,
      "outputs": [
        {
          "output_type": "execute_result",
          "data": {
            "text/plain": [
              "<matplotlib.image.AxesImage at 0x7fdaa4c6add0>"
            ]
          },
          "metadata": {
            "tags": []
          },
          "execution_count": 3
        },
        {
          "output_type": "display_data",
          "data": {
            "image/png": "[encoded data removed]",
            "text/plain": [
              "<Figure size 432x288 with 1 Axes>"
            ]
          },
          "metadata": {
            "tags": [],
            "needs_background": "light"
          }
        }
      ]
    },
    {
      "cell_type": "markdown",
      "metadata": {
        "id": "NyZDXjCM8-9P"
      },
      "source": [
        "To get the dimensions of the image use `color_img.shape`, which returns a tuple of number of rows, columns and channels (if image is color)."
      ]
    },
    {
      "cell_type": "code",
      "metadata": {
        "colab": {
          "base_uri": "https://localhost:8080/"
        },
        "id": "kVqoePzf8jSf",
        "outputId": "e534ad22-3701-48a8-f7dc-172062dfba3b"
      },
      "source": [
        "print(\"The shape of the image is: '{}'\".format(color_img.shape))"
      ],
      "execution_count": 4,
      "outputs": [
        {
          "output_type": "stream",
          "text": [
            "The shape of the image is: '(50, 400, 3)'\n"
          ],
          "name": "stdout"
        }
      ]
    },
    {
      "cell_type": "markdown",
      "metadata": {
        "id": "OCKe3Yu582sn"
      },
      "source": [
        "We can also get the dimensions in three independent variables. To get height, width and the number of channels of the input image:"
      ]
    },
    {
      "cell_type": "code",
      "metadata": {
        "colab": {
          "base_uri": "https://localhost:8080/"
        },
        "id": "r53yF6wFCxcq",
        "outputId": "3526388d-b130-4d9a-da03-05aa4b7ab5dc"
      },
      "source": [
        "(h, w, c) = color_img.shape\n",
        "print(\"Dimensions of the image - height: '{}', width: '{}', channels: '{}'\".format(h, w, c))"
      ],
      "execution_count": 5,
      "outputs": [
        {
          "output_type": "stream",
          "text": [
            "Dimensions of the image - height: '50', width: '400', channels: '3'\n"
          ],
          "name": "stdout"
        }
      ]
    },
    {
      "cell_type": "markdown",
      "metadata": {
        "id": "1UATnV8YDf0a"
      },
      "source": [
        "Total number of elements is obtained by `color_img.size`:"
      ]
    },
    {
      "cell_type": "code",
      "metadata": {
        "colab": {
          "base_uri": "https://localhost:8080/"
        },
        "id": "lCVrEp3ADucp",
        "outputId": "2c62e2b7-7f6b-4017-c777-9de6e7fbe5b9"
      },
      "source": [
        "print(\"Total number of elements: '{}'\".format(color_img.size))\n",
        "print(\"Total number of elements: '{}'\".format(h * w * c))"
      ],
      "execution_count": 6,
      "outputs": [
        {
          "output_type": "stream",
          "text": [
            "Total number of elements: '60000'\n",
            "Total number of elements: '60000'\n"
          ],
          "name": "stdout"
        }
      ]
    },
    {
      "cell_type": "markdown",
      "metadata": {
        "id": "bul4ON1bEXzG"
      },
      "source": [
        "To print the image datatype we use `color_img.dtype`:"
      ]
    },
    {
      "cell_type": "code",
      "metadata": {
        "colab": {
          "base_uri": "https://localhost:8080/"
        },
        "id": "nb9Mg-BrEeGK",
        "outputId": "90ac6541-c8fb-4a2e-e7c3-bb4b9157378e"
      },
      "source": [
        "print(\"Image datatype: '{}'\".format(color_img.dtype))"
      ],
      "execution_count": 7,
      "outputs": [
        {
          "output_type": "stream",
          "text": [
            "Image datatype: 'uint8'\n"
          ],
          "name": "stdout"
        }
      ]
    },
    {
      "cell_type": "markdown",
      "metadata": {
        "id": "mltEcFPpqg0o"
      },
      "source": [
        "You can access a pixel value **by row and column coordinates**, in the form of `color_img[y,x]`.\n",
        "\n",
        "For BGR image, it returns an array of (Blue, Green, Red) values:\n",
        "\n",
        "*   The pixel value at `(y=10,x=10)` should be black: `(0,0,0)`\n",
        "*   The pixel value at `(y=10,x=60)` should be magenta: `(255,0,255)`\n",
        "*   The pixel value at `(y=10,x=160)` should be white: `(255,255,255)`\n",
        "*   The pixe value at `(y=10,x=210)` should be green: `(0,255,0)`\n",
        "*   The pixel value at `(y=10,x=260)` should be red: `(0,0,255)`\n",
        "*   The pixel value at `(y=10,x=310)` should be cyan: `(255,255,0)`\n",
        "*   The pixel value at `(y=10,x=360)` should be yellow: `(0,255,255)`\n",
        "\n",
        "Let's check it."
      ]
    },
    {
      "cell_type": "code",
      "metadata": {
        "colab": {
          "base_uri": "https://localhost:8080/"
        },
        "id": "7sxEGWIxJu7I",
        "outputId": "018b9718-461b-4356-a38b-98c4f6a5ca95"
      },
      "source": [
        "print(\"Pixel value at (y=10, x=10):'{}'\".format(color_img[10, 10]))\n",
        "print(\"Pixel value at (y=10, x=60):'{}'\".format(color_img[10, 60]))\n",
        "print(\"Pixel value at (y=10, x=110):'{}'\".format(color_img[10, 110]))\n",
        "print(\"Pixel value at (y=10, x=160):'{}'\".format(color_img[10, 160]))\n",
        "print(\"Pixel value at (y=10, x=210):'{}'\".format(color_img[10, 210]))\n",
        "print(\"Pixel value at (y=10, x=260):'{}'\".format(color_img[10, 260]))\n",
        "print(\"Pixel value at (y=10, x=310):'{}'\".format(color_img[10, 310]))\n",
        "print(\"Pixel value at (y=10, x=360):'{}'\".format(color_img[10, 360]))"
      ],
      "execution_count": 8,
      "outputs": [
        {
          "output_type": "stream",
          "text": [
            "Pixel value at (y=10, x=10):'[0 0 0]'\n",
            "Pixel value at (y=10, x=60):'[255   0 255]'\n",
            "Pixel value at (y=10, x=110):'[255   0   0]'\n",
            "Pixel value at (y=10, x=160):'[255 255 255]'\n",
            "Pixel value at (y=10, x=210):'[  0 255   0]'\n",
            "Pixel value at (y=10, x=260):'[  0   0 255]'\n",
            "Pixel value at (y=10, x=310):'[255 255   0]'\n",
            "Pixel value at (y=10, x=360):'[  0 255 255]'\n"
          ],
          "name": "stdout"
        }
      ]
    },
    {
      "cell_type": "markdown",
      "metadata": {
        "id": "rPZKOVfqOwp0"
      },
      "source": [
        "We can access only one channel at a time. In this case, we will use row, column and the index of the desired channel for indexing in the form of `color_img[y,x,index]`.\n"
      ]
    },
    {
      "cell_type": "code",
      "metadata": {
        "colab": {
          "base_uri": "https://localhost:8080/"
        },
        "id": "BrhKTMcWPj1-",
        "outputId": "b6b23674-9fae-4e6b-dd0f-48b1a1760b3e"
      },
      "source": [
        "# Get only blue value of the pixel (x=310, y=10):\n",
        "b = color_img[10, 310, 0]\n",
        "\n",
        "# Get only green value of the pixel (x=310, y=10):\n",
        "g = color_img[10, 310, 1]\n",
        "\n",
        "# Get only red value of the pixel (x=310, y=10):\n",
        "r = color_img[10, 310, 2]\n",
        "\n",
        "print(\"Pixel at (x=310, y=10) - blue: '{}', green: '{}', red: '{}'\".format(b, g, r))"
      ],
      "execution_count": 9,
      "outputs": [
        {
          "output_type": "stream",
          "text": [
            "Pixel at (x=310, y=10) - blue: '255', green: '255', red: '0'\n"
          ],
          "name": "stdout"
        }
      ]
    },
    {
      "cell_type": "markdown",
      "metadata": {
        "id": "55zdmICTQ_6Y"
      },
      "source": [
        "You can modify the pixel values of the image in the same way. For example, with `img[y, x] = (0, 0, 255)` the pixel value of the image `img` will be red. See, for example, how we modify the image drawing a line in cyan. See also that this line is `3` pixels height (for a better visualization)."
      ]
    },
    {
      "cell_type": "code",
      "metadata": {
        "id": "gPoM22fVRm6J"
      },
      "source": [
        "for i in range(color_img.shape[1]):\n",
        "  color_img[10, i] = (255, 255, 0)\n",
        "  color_img[11, i] = (255, 255, 0)\n",
        "  color_img[12, i] = (255, 255, 0)"
      ],
      "execution_count": 16,
      "outputs": []
    },
    {
      "cell_type": "code",
      "metadata": {
        "colab": {
          "base_uri": "https://localhost:8080/",
          "height": 110
        },
        "id": "j_i7R0dOd7wI",
        "outputId": "4dd9e9ac-fdb6-4470-8b81-b3b4e53a08e8"
      },
      "source": [
        "from matplotlib import pyplot as plt\n",
        "\n",
        "plt.imshow(color_img[:, :, ::-1])"
      ],
      "execution_count": 17,
      "outputs": [
        {
          "output_type": "execute_result",
          "data": {
            "text/plain": [
              "<matplotlib.image.AxesImage at 0x7fda9a9829d0>"
            ]
          },
          "metadata": {
            "tags": []
          },
          "execution_count": 17
        },
        {
          "output_type": "display_data",
          "data": {
            "image/png": "[encoded data removed]",
            "text/plain": [
              "<Figure size 432x288 with 1 Axes>"
            ]
          },
          "metadata": {
            "tags": [],
            "needs_background": "light"
          }
        }
      ]
    },
    {
      "cell_type": "markdown",
      "metadata": {
        "id": "Zy3XOSmGBgA2"
      },
      "source": [
        "Note that the same could be performed using slicing. In this case, see how to draw a magenta line."
      ]
    },
    {
      "cell_type": "code",
      "metadata": {
        "colab": {
          "base_uri": "https://localhost:8080/",
          "height": 110
        },
        "id": "-_WKHyyUBpgl",
        "outputId": "28485148-6c12-484e-a675-54ab943ce70e"
      },
      "source": [
        "from matplotlib import pyplot as plt\n",
        "\n",
        "color_img[24:27, 0:] = (255, 0, 255)\n",
        "\n",
        "plt.imshow(color_img[:, :, ::-1])"
      ],
      "execution_count": 18,
      "outputs": [
        {
          "output_type": "execute_result",
          "data": {
            "text/plain": [
              "<matplotlib.image.AxesImage at 0x7fda9a969450>"
            ]
          },
          "metadata": {
            "tags": []
          },
          "execution_count": 18
        },
        {
          "output_type": "display_data",
          "data": {
            "image/png": "[encoded data removed]",
            "text/plain": [
              "<Figure size 432x288 with 1 Axes>"
            ]
          },
          "metadata": {
            "tags": [],
            "needs_background": "light"
          }
        }
      ]
    },
    {
      "cell_type": "markdown",
      "metadata": {
        "id": "S7mtqJRgZxy4"
      },
      "source": [
        "Sometimes, you will have to play with certain region of images rather than one pixel at a time. For example, to get only the red region of the image, we should perform as follows."
      ]
    },
    {
      "cell_type": "code",
      "metadata": {
        "colab": {
          "base_uri": "https://localhost:8080/"
        },
        "id": "zXw-Cj0jaGLX",
        "outputId": "ba3f1fc0-00f5-48d6-af19-fc9f629a5a8e"
      },
      "source": [
        "roi_red = color_img[0:50, 250:300]\n",
        "\n",
        "# Check the dimensions of the image:\n",
        "print(roi_red.shape)"
      ],
      "execution_count": 19,
      "outputs": [
        {
          "output_type": "stream",
          "text": [
            "(50, 50, 3)\n"
          ],
          "name": "stdout"
        }
      ]
    },
    {
      "cell_type": "code",
      "metadata": {
        "colab": {
          "base_uri": "https://localhost:8080/",
          "height": 284
        },
        "id": "K-p1GN0baHz8",
        "outputId": "5195b1a9-57d2-4a4d-95cf-c2184edce52c"
      },
      "source": [
        "from matplotlib import pyplot as plt\n",
        "\n",
        "plt.imshow(roi_red[:, :, ::-1])"
      ],
      "execution_count": 20,
      "outputs": [
        {
          "output_type": "execute_result",
          "data": {
            "text/plain": [
              "<matplotlib.image.AxesImage at 0x7fda9aab1f50>"
            ]
          },
          "metadata": {
            "tags": []
          },
          "execution_count": 20
        },
        {
          "output_type": "display_data",
          "data": {
            "image/png": "[encoded data removed]",
            "text/plain": [
              "<Figure size 432x288 with 1 Axes>"
            ]
          },
          "metadata": {
            "tags": [],
            "needs_background": "light"
          }
        }
      ]
    },
    {
      "cell_type": "markdown",
      "metadata": {
        "id": "iSl5kAU7bTmh"
      },
      "source": [
        "In the same way, we can set more pixels than once at a time. See how we set the magenta region of the image with the new red image we have just created."
      ]
    },
    {
      "cell_type": "code",
      "metadata": {
        "id": "M1VoyrtFbttZ"
      },
      "source": [
        "color_img[0:50, 50:100] = roi_red"
      ],
      "execution_count": 21,
      "outputs": []
    },
    {
      "cell_type": "code",
      "metadata": {
        "colab": {
          "base_uri": "https://localhost:8080/",
          "height": 110
        },
        "id": "PhqU9i6OcNj5",
        "outputId": "a0ed90e4-e0f4-4e4a-9cb0-4a2d233e17ae"
      },
      "source": [
        "from matplotlib import pyplot as plt\n",
        "\n",
        "plt.imshow(color_img[:, :, ::-1])"
      ],
      "execution_count": 22,
      "outputs": [
        {
          "output_type": "execute_result",
          "data": {
            "text/plain": [
              "<matplotlib.image.AxesImage at 0x7fda9a89a750>"
            ]
          },
          "metadata": {
            "tags": []
          },
          "execution_count": 22
        },
        {
          "output_type": "display_data",
          "data": {
            "image/png": "[encoded data removed]",
            "text/plain": [
              "<Figure size 432x288 with 1 Axes>"
            ]
          },
          "metadata": {
            "tags": [],
            "needs_background": "light"
          }
        }
      ]
    },
    {
      "cell_type": "markdown",
      "metadata": {
        "id": "04hctjEhWROa"
      },
      "source": [
        "# Accessing, manipulating pixels in OpenCV with grayscale images\n",
        "\n",
        "To build a sample image, we will code the function `build_sample_image_grayscale()`, which makes use of NumPy operations to form the final image. In this case, we will use `np.arange()`, `np.zeros()`, `np.ones()` and `np.concatenate()`."
      ]
    },
    {
      "cell_type": "code",
      "metadata": {
        "id": "FG0h29TCsipg"
      },
      "source": [
        "import numpy as np\n",
        "\n",
        "def build_sample_image_grayscale():\n",
        "    \"\"\"Builds a sample image with 50x50 regions of different tones of gray\"\"\"\n",
        "\n",
        "    # Define the different tones.\n",
        "    # The end of interval is not included\n",
        "    tones = np.arange(start=50, stop=300, step=50)\n",
        "    # print(tones)\n",
        "\n",
        "    # Initialize result with the first 50x50 region with 0-intensity level\n",
        "    result = np.zeros((50, 50), dtype=\"uint8\")\n",
        "\n",
        "    # Build the image concatenating horizontally the regions:\n",
        "    for tone in tones:\n",
        "        img = np.ones((50, 50), dtype=\"uint8\") * tone\n",
        "        result = np.concatenate((result, img), axis=1)\n",
        "\n",
        "    return result"
      ],
      "execution_count": 34,
      "outputs": []
    },
    {
      "cell_type": "code",
      "metadata": {
        "id": "LuwWlG4Esze6"
      },
      "source": [
        "# Create the gray image using the function defined above:\n",
        "gray_img = build_sample_image_grayscale()"
      ],
      "execution_count": 35,
      "outputs": []
    },
    {
      "cell_type": "code",
      "metadata": {
        "colab": {
          "base_uri": "https://localhost:8080/",
          "height": 124
        },
        "id": "N3uK1QtwuMbz",
        "outputId": "1458b9f9-20a1-4cce-d143-85532246e9ea"
      },
      "source": [
        "from matplotlib import pyplot as plt\n",
        "\n",
        "plt.imshow(gray_img, cmap=\"gray\")"
      ],
      "execution_count": 36,
      "outputs": [
        {
          "output_type": "execute_result",
          "data": {
            "text/plain": [
              "<matplotlib.image.AxesImage at 0x7fda9a5bf690>"
            ]
          },
          "metadata": {
            "tags": []
          },
          "execution_count": 36
        },
        {
          "output_type": "display_data",
          "data": {
            "image/png": "[encoded data removed]",
            "text/plain": [
              "<Figure size 432x288 with 1 Axes>"
            ]
          },
          "metadata": {
            "tags": [],
            "needs_background": "light"
          }
        }
      ]
    },
    {
      "cell_type": "code",
      "metadata": {
        "colab": {
          "base_uri": "https://localhost:8080/",
          "height": 260
        },
        "id": "R2hLsaI6YUza",
        "outputId": "9ecbd9bb-53e1-4c58-e3b6-690ca2f1b7e7"
      },
      "source": [
        "print(\"The shape of the image is: '{}'\".format(gray_img.shape))\n",
        "(h, w) = gray_img.shape\n",
        "print(\"Dimensions of the image - height: '{}', width: '{}'\".format(h, w))\n",
        "print(\"Total number of elements: '{}'\".format(gray_img.size))\n",
        "print(\"Total number of elements: '{}'\".format(h * w))\n",
        "print(\"Image datatype: '{}'\".format(gray_img.dtype))\n",
        "print(\"Pixel value at (y=10, x=10):'{}'\".format(gray_img[10, 10]))\n",
        "print(\"Pixel value at (y=10, x=60):'{}'\".format(gray_img[10, 60]))\n",
        "print(\"Pixel value at (y=10, x=110):'{}'\".format(gray_img[10, 110]))\n",
        "\n",
        "for i in range(gray_img.shape[1]):\n",
        "  gray_img[10, i] = 255\n",
        "  gray_img[11, i] = 255\n",
        "  gray_img[12, i] = 255\n",
        "\n",
        "from matplotlib import pyplot as plt\n",
        "\n",
        "plt.imshow(gray_img, cmap=\"gray\")"
      ],
      "execution_count": 37,
      "outputs": [
        {
          "output_type": "stream",
          "text": [
            "The shape of the image is: '(50, 300)'\n",
            "Dimensions of the image - height: '50', width: '300'\n",
            "Total number of elements: '15000'\n",
            "Total number of elements: '15000'\n",
            "Image datatype: 'uint8'\n",
            "Pixel value at (y=10, x=10):'0'\n",
            "Pixel value at (y=10, x=60):'50'\n",
            "Pixel value at (y=10, x=110):'100'\n"
          ],
          "name": "stdout"
        },
        {
          "output_type": "execute_result",
          "data": {
            "text/plain": [
              "<matplotlib.image.AxesImage at 0x7fda9a51bd50>"
            ]
          },
          "metadata": {
            "tags": []
          },
          "execution_count": 37
        },
        {
          "output_type": "display_data",
          "data": {
            "image/png": "[encoded data removed]",
            "text/plain": [
              "<Figure size 432x288 with 1 Axes>"
            ]
          },
          "metadata": {
            "tags": [],
            "needs_background": "light"
          }
        }
      ]
    },
    {
      "cell_type": "markdown",
      "metadata": {
        "id": "XyeVvi0bEady"
      },
      "source": [
        "<img  align=\"left\" style=\"padding-right:10px;\" src=\"https://raw.githubusercontent.com/albertofernandezvillan/computer-vision-and-deep-learning-course/main/assets/pencil.jpg\" width=50> As an exercise, try to draw a horizontal white line starting from the beginning and ending in the middle of the image, centered vertically with a width of 5 pixels using slicing. \n",
        "\n",
        "- Execute the next cell to see the output.\n",
        "- Try to complete the exercise in a new code cell. \n",
        "- If you want to know the solution double click in the title below to see the ocluded code for this cell."
      ]
    },
    {
      "cell_type": "code",
      "metadata": {
        "colab": {
          "base_uri": "https://localhost:8080/",
          "height": 124
        },
        "cellView": "form",
        "id": "BIbAYf1PDkpK",
        "outputId": "8eaa07de-116e-4273-bb60-9ef05bc75942"
      },
      "source": [
        "#@title Click here to see the answer\n",
        "\n",
        "from matplotlib import pyplot as plt\n",
        "\n",
        "gray_img[23:28, 0:151] = 255\n",
        "\n",
        "plt.imshow(gray_img, cmap=\"gray\")"
      ],
      "execution_count": 40,
      "outputs": [
        {
          "output_type": "execute_result",
          "data": {
            "text/plain": [
              "<matplotlib.image.AxesImage at 0x7fda9a42ec90>"
            ]
          },
          "metadata": {
            "tags": []
          },
          "execution_count": 40
        },
        {
          "output_type": "display_data",
          "data": {
            "image/png": "[encoded data removed]",
            "text/plain": [
              "<Figure size 432x288 with 1 Axes>"
            ]
          },
          "metadata": {
            "tags": [],
            "needs_background": "light"
          }
        }
      ]
    },
    {
      "cell_type": "markdown",
      "metadata": {
        "id": "fwByoaxAZZoP"
      },
      "source": [
        "# Conclusions\n",
        "\n",
        "In this notebook, we have seen some basic image treatment with both color (BGR) and also with grayscale images. Most of the concepts introduced in this notebook are very basic but also very important. Therefore, you should check that you have understood it to proceed further."
      ]
    }
  ]
}