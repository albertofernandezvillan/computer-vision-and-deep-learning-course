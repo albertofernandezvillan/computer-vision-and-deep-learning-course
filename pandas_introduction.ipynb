{
  "nbformat": 4,
  "nbformat_minor": 0,
  "metadata": {
    "colab": {
      "name": "pandas_introduction.ipynb",
      "provenance": [],
      "collapsed_sections": [],
      "toc_visible": true,
      "authorship_tag": "ABX9TyOZ9WdEuP2292K91Tlw3VOJ",
      "include_colab_link": true
    },
    "kernelspec": {
      "name": "python3",
      "display_name": "Python 3"
    }
  },
  "cells": [
    {
      "cell_type": "markdown",
      "metadata": {
        "id": "view-in-github",
        "colab_type": "text"
      },
      "source": [
        "<a href=\"https://colab.research.google.com/github/albertofernandezvillan/computer-vision-and-deep-learning-course/blob/main/pandas_introduction.ipynb\" target=\"_parent\"><img src=\"https://colab.research.google.com/assets/colab-badge.svg\" alt=\"Open In Colab\"/></a>"
      ]
    },
    {
      "cell_type": "markdown",
      "metadata": {
        "id": "GCmdWUGe2xmp"
      },
      "source": [
        "<img align=\"left\" style=\"padding-right:10px;\" src =\"https://raw.githubusercontent.com/albertofernandezvillan/computer-vision-and-deep-learning-course/main/assets/university_oviedo_logo.png\" width=300 px>\n",
        "\n",
        "This notebook is from the Course \"***Computer vision in the new era of Artificial Intelligence and Deep Learning***\", or \"*Visión por computador en la nueva era de la Inteligencia Artificial y el Deep Learning*\" (ES) from the \"Second quarter university extension courses\" that the University of Oviedo is offering (05/04/2021 - 16/04/2021)\n",
        "\n",
        "<[Github Repository](https://github.com/albertofernandezvillan/computer-vision-and-deep-learning-course) | [Course Web Page Information](https://www.uniovi.es/estudios/extension/cursos2c/-/asset_publisher/SEp0PJi4ISGo/content/vision-por-computador-en-la-nueva-era-de-la-inteligencia-artificial-y-el-deep-learning?redirect=%2Festudios%2Fextension%2Fcursos2c)>"
      ]
    },
    {
      "cell_type": "markdown",
      "metadata": {
        "id": "d7iB84H120MQ"
      },
      "source": [
        "## Summary\n",
        "\n",
        "In this notebook, a quick introduction to pandas is given. More specifically, we are going to cover:\n",
        "\n",
        "- Introduction to pandas\n",
        "- Pandas data table representation\n",
        "- Axis in Series and axes in DataFrames\n",
        "- Creating pandas DataFrames\n",
        "- DataFrame attributes\n",
        "- DataFrame methods\n",
        "- Selecting subsets of data in pandas DataFrame"
      ]
    },
    {
      "cell_type": "markdown",
      "metadata": {
        "id": "Y2VwpDZNXA7F"
      },
      "source": [
        "# Introduction to pandas"
      ]
    },
    {
      "cell_type": "markdown",
      "metadata": {
        "id": "079V9W68Xq8h"
      },
      "source": [
        "Pandas is a fast, powerful, flexible and easy to use open source data analysis and manipulation tool, built on top of the Python programming language. In particular, it offers data structures and operations for manipulating numerical tables and time series.\n",
        "\n",
        "<center><img src=\"https://upload.wikimedia.org/wikipedia/commons/thumb/2/22/Pandas_mark.svg/128px-Pandas_mark.svg.png\"></center>\n",
        "\n",
        "To load the pandas package and start working with it, import the package:\n",
        "\n",
        "```python\n",
        "import pandas as pd\n",
        "```\n",
        "\n",
        "The community agreed alias for pandas is `pd`, so loading pandas as `pd` is assumed standard practice for all of the pandas documentation.\n",
        "\n",
        "At the time of writing these tutorials installed version of pandas in Colab is `1.1.5` (release date: December 07, 2020), and latest version of pandas is `1.2.3` (release date: Mar 02, 2021). \n",
        "\n",
        "```python\n",
        "import pandas as pd\n",
        "\n",
        "print(\"pandas version: '{}'\".format(pd.__version__))\n",
        "```\n",
        "\n",
        "`pandas version: '1.1.5'`\n"
      ]
    },
    {
      "cell_type": "markdown",
      "metadata": {
        "id": "y5SP40DVZYVX"
      },
      "source": [
        "# Pandas data table representation\n",
        "\n",
        "As commented in the introduction, pandas offers data structures that make data manipulation and analysis easy (among other thins). The [DataFrame](https://pandas.pydata.org/pandas-docs/stable/reference/api/pandas.DataFrame.html) is one of these structures. The [Series](https://pandas.pydata.org/docs/reference/api/pandas.Series.html) is another useful structure, but let's start with the DataFrame.\n",
        "\n",
        "In pandas, a data table is called a **DataFrame**. The short explanation about what is a DataFrame could be \"*a two-dimensional, size-mutable, potentially heterogeneous tabular data*\". It is generally the most commonly used pandas object.\n",
        "\n",
        "<center><img src=\"https://raw.githubusercontent.com/albertofernandezvillan/computer-vision-and-deep-learning-course/main/assets/pandas_dataframe.png\" width=400></center>\n",
        "\n",
        "\n",
        "\n",
        "\n"
      ]
    },
    {
      "cell_type": "markdown",
      "metadata": {
        "id": "bMQ7xUAriN7P"
      },
      "source": [
        "Next Figure ([extracted from one of the best tutorials you will find about pandas](https://medium.com/dunder-data/selecting-subsets-of-data-in-pandas-6fcd0170be9c)), shows the anatomy of a DataFrame.\n",
        "\n",
        "<center><img src=\"https://raw.githubusercontent.com/albertofernandezvillan/computer-vision-and-deep-learning-course/main/assets/dataframe_example.png\" width=900></center>\n",
        "\n",
        "A DataFrame is composed of three different components, the **index**, **columns**, and the **data**. The data is also known as the **values**.\n",
        "\n",
        "- The index in previous example are just the integers beginning from `0` up to `n-1`, where `n` is the number of rows in the table. Each individual value of the index is called a label.\n",
        "\n",
        "- The columns are the sequence of values at the very top of the DataFrame. Each individual value of the columns is called a column.\n",
        "\n",
        "- Everything else not in bold font is the data or values. As you can see, there are also missing values (represented as NaN).\n",
        "\n",
        "\n",
        "It is also common terminology to refer to the rows or columns as an axis. See next point for a quick introduction about axes.\n",
        "\n",
        "A pandas **Series** is a one-dimensional data structure that comprises of a key-value pair. It can be seen as a Python dictionary, except it provides more freedom to manipulate and edit the data.\n",
        "\n",
        "\n"
      ]
    },
    {
      "cell_type": "markdown",
      "metadata": {
        "id": "u9wI5GQBknK3"
      },
      "source": [
        "# Axis in Series and axes in DataFrames\n",
        "\n",
        "While DataFrames are two-dimensional structures, a Series is a one-dimensional structure. We will understand how axis works in Series and how axes work in DataFrames.\n",
        "\n",
        "Let's start with Series. As commented briefly above, series is a one-dimensional array of values. Under the hood, it uses NumPy `ndarray`. That is where the term \"axis\" came from. Series object has only \"`axis 0`\" because it has only one dimension. \n",
        "\n",
        "Just as a note, usually, in Python, one-dimensional structures are displayed as a row of values. On the contrary, Series is displayed as a column of values. Let's compare a Series with a NumPy array in the following example.\n"
      ]
    },
    {
      "cell_type": "code",
      "metadata": {
        "colab": {
          "base_uri": "https://localhost:8080/"
        },
        "id": "AwaZ7EZlp4u4",
        "outputId": "938a99ed-7a4c-4302-b4bc-16e08eb1e51a"
      },
      "source": [
        "import pandas as pd\n",
        "import numpy as np\n",
        "\n",
        "serie = pd.Series(['a','b','c'])\n",
        "print(\"serie shape: {}\".format(serie.shape))\n",
        "print(serie)\n",
        "print(\"second value of the serie (serie[1]): {}\".format(serie[1]))\n",
        "\n",
        "np_array = np.array(['a','b','c'])\n",
        "print(\"array shape: {}\".format(np_array.shape))\n",
        "print(np_array)\n",
        "print(\"second value of the array (np_array[1]): {}\".format(np_array[1]))\n"
      ],
      "execution_count": null,
      "outputs": [
        {
          "output_type": "stream",
          "text": [
            "serie shape: (3,)\n",
            "0    a\n",
            "1    b\n",
            "2    c\n",
            "dtype: object\n",
            "second value of the serie (serie[1]): b\n",
            "array shape: (3,)\n",
            "['a' 'b' 'c']\n",
            "second value of the array (np_array[1]): b\n"
          ],
          "name": "stdout"
        }
      ]
    },
    {
      "cell_type": "markdown",
      "metadata": {
        "id": "VkoumYny7h8s"
      },
      "source": [
        "As DataFrame is a two-dimensional data structure, it has columns and rows. DataFrame has two axes: \"`axis 0`\" and \"`axis 1`\":\n",
        "- \"`axis 0`\" represents rows \n",
        "- \"`axis 1`\" represents columns\n",
        "\n",
        "Moreover, in the example above we used the `[]` operator to access both a value the Series and a value in the one dimensional array. \n",
        "\n",
        "To access an element within DataFrame we need to provide two indexes (one per each axis). Also, instead of `[]` operator, we need to use `.loc` or `.iloc` indexers. We will see how to use the `[]` operator and `.loc` or `.iloc` indexers later in this notebook.\n",
        "\n",
        "The takeaway so far is that:\n",
        "- Series object has only \"`axis 0`\" and we can access individual values using` []` operator\n",
        "- DataFrame object has `axis 0` (rows) and `axis 1` (cols) and individual values are accessed using `.loc` or `iloc` indexers.\n"
      ]
    },
    {
      "cell_type": "markdown",
      "metadata": {
        "id": "BgnnwtdT1DcK"
      },
      "source": [
        "# Creating pandas DataFrame"
      ]
    },
    {
      "cell_type": "markdown",
      "metadata": {
        "id": "WrtWVzCj0_8Z"
      },
      "source": [
        "Pandas DataFrame can be created in [multiple ways](https://www.geeksforgeeks.org/different-ways-to-create-pandas-dataframe/). \n",
        "\n",
        "1. For example, we can call `pd.DataFrame(data=None, index=None, columns=None)` with `data` set to a NumPy array, `index` set to a list of row names, and `column` set to a list of column names to create a Pandas DataFrame."
      ]
    },
    {
      "cell_type": "code",
      "metadata": {
        "colab": {
          "base_uri": "https://localhost:8080/"
        },
        "id": "lgM1Y2GQdvkx",
        "outputId": "3ccd1e41-0fe8-47cb-929f-a0cca1b821c4"
      },
      "source": [
        "import pandas as pd\n",
        "import numpy as np\n",
        "\n",
        "numpy_data = np.array([np.arange(3), np.arange(3,6), np.arange(6,9), np.arange(9,12)], dtype = \"uint8\")\n",
        "print(\"This is the numpy array with the data: \\n {}\".format(numpy_data))\n",
        "\n",
        "df = pd.DataFrame(data=numpy_data, \n",
        "                  index=[\"index1\", \"index2\", \"index3\", \"index4\"],\n",
        "                  columns=[\"column1\", \"column2\", \"column3\"])\n",
        "\n",
        "print(\"This is the created Dataframe: \\n {}\".format(df))\n",
        "\n",
        "# Notice that the inferred dtype is uint8.\n",
        "print(\"Inferred dtype \\n{}\".format(df.dtypes))"
      ],
      "execution_count": null,
      "outputs": [
        {
          "output_type": "stream",
          "text": [
            "This is the numpy array with the data: \n",
            " [[ 0  1  2]\n",
            " [ 3  4  5]\n",
            " [ 6  7  8]\n",
            " [ 9 10 11]]\n",
            "This is the created Dataframe: \n",
            "         column1  column2  column3\n",
            "index1        0        1        2\n",
            "index2        3        4        5\n",
            "index3        6        7        8\n",
            "index4        9       10       11\n",
            "Inferred dtype \n",
            "column1    uint8\n",
            "column2    uint8\n",
            "column3    uint8\n",
            "dtype: object\n"
          ],
          "name": "stdout"
        }
      ]
    },
    {
      "cell_type": "markdown",
      "metadata": {
        "id": "Qa0_qG_inkt7"
      },
      "source": [
        "2. We can also create the DataFrame from a json structure. Note here that as pandas can export the data in multiple ways (included json) using `to_*` method, we can see how the json structure looks like. In this case, we are going to use `to_json()`:\n",
        "\n",
        "```python\n",
        "print(df.to_json())\n",
        "```\n",
        "The output is:\n",
        "\n",
        "```\n",
        "{\"column1\":{\"index1\":0,\"index2\":3,\"index3\":6,\"index4\":9},\"column2\":{\"index1\":1,\"index2\":4,\"index3\":7,\"index4\":10},\"column3\":{\"index1\":2,\"index2\":5,\"index3\":8,\"index4\":11}}\n",
        "```\n",
        "\n",
        "Therefore, we can create the same DataFrame as follows. Note that is not necessary to set both the `index` and `columns` because they are contained in the json structure:\n"
      ]
    },
    {
      "cell_type": "code",
      "metadata": {
        "colab": {
          "base_uri": "https://localhost:8080/"
        },
        "id": "zpCiFK2FgyXh",
        "outputId": "fce34feb-4193-4d70-b12b-ed4114103f01"
      },
      "source": [
        "data = {\"column1\":{\"index1\":0,\"index2\":3,\"index3\":6,\"index4\":9},\n",
        "        \"column2\":{\"index1\":1,\"index2\":4,\"index3\":7,\"index4\":10},\n",
        "        \"column3\":{\"index1\":2,\"index2\":5,\"index3\":8,\"index4\":11}}\n",
        "\n",
        "df_2 = pd.DataFrame(data=data)\n",
        "\n",
        "print(df_2)\n",
        "\n",
        "# Notice that the inferred dtype is int64.\n",
        "print(\"Inferred dtype \\n{}\".format(df_2.dtypes))"
      ],
      "execution_count": null,
      "outputs": [
        {
          "output_type": "stream",
          "text": [
            "        column1  column2  column3\n",
            "index1        0        1        2\n",
            "index2        3        4        5\n",
            "index3        6        7        8\n",
            "index4        9       10       11\n",
            "Inferred dtype \n",
            "column1    int64\n",
            "column2    int64\n",
            "column3    int64\n",
            "dtype: object\n"
          ],
          "name": "stdout"
        }
      ]
    },
    {
      "cell_type": "markdown",
      "metadata": {
        "id": "wf3b6VMypStE"
      },
      "source": [
        "3. We can also create the same DataFrame as follows. Note here that we have to include index set to a list of row names."
      ]
    },
    {
      "cell_type": "code",
      "metadata": {
        "colab": {
          "base_uri": "https://localhost:8080/"
        },
        "id": "_bdgjRQ0h7Dl",
        "outputId": "15901946-b8c4-41ae-c7d4-e3b29c4a0fe3"
      },
      "source": [
        "data = {\"column1\":[0,3,6,9],\n",
        "        \"column2\":[1,4,7,10],\n",
        "        \"column3\":[2,5,8,11]}\n",
        "\n",
        "df_3 = pd.DataFrame(data=data, index=[\"index1\", \"index2\", \"index3\", \"index4\"])\n",
        "print(df_3)\n",
        "\n",
        "# Notice that the inferred dtype is int64.\n",
        "print(\"Inferred dtype \\n{}\".format(df_3.dtypes))"
      ],
      "execution_count": null,
      "outputs": [
        {
          "output_type": "stream",
          "text": [
            "        column1  column2  column3\n",
            "index1        0        1        2\n",
            "index2        3        4        5\n",
            "index3        6        7        8\n",
            "index4        9       10       11\n",
            "Inferred dtype \n",
            "column1    int64\n",
            "column2    int64\n",
            "column3    int64\n",
            "dtype: object\n"
          ],
          "name": "stdout"
        }
      ]
    },
    {
      "cell_type": "markdown",
      "metadata": {
        "id": "iHTh5TLS0jYF"
      },
      "source": [
        "4. Moreover, we can also create a DataFrame using lists of lists as `data`. Here, we have to include both the `index` and `columns`."
      ]
    },
    {
      "cell_type": "code",
      "metadata": {
        "colab": {
          "base_uri": "https://localhost:8080/"
        },
        "id": "8Ntk-V1Njeao",
        "outputId": "244c8e4a-ed2c-4026-fed1-5ee79214cb93"
      },
      "source": [
        "data = [[0,1,2],\n",
        "        [3,4,5],\n",
        "        [6,7,8],\n",
        "        [9,10,11]]\n",
        "\n",
        "df_4 = pd.DataFrame(data=data, \n",
        "                  index=[\"index1\", \"index2\", \"index3\", \"index4\"],\n",
        "                  columns=[\"column1\", \"column2\", \"column3\"])\n",
        "print(df_4)\n",
        "\n",
        "# Notice that the inferred dtype is int64.\n",
        "print(\"Inferred dtype \\n{}\".format(df_4.dtypes))"
      ],
      "execution_count": null,
      "outputs": [
        {
          "output_type": "stream",
          "text": [
            "        column1  column2  column3\n",
            "index1        0        1        2\n",
            "index2        3        4        5\n",
            "index3        6        7        8\n",
            "index4        9       10       11\n",
            "Inferred dtype \n",
            "column1    int64\n",
            "column2    int64\n",
            "column3    int64\n",
            "dtype: object\n"
          ],
          "name": "stdout"
        }
      ]
    },
    {
      "cell_type": "markdown",
      "metadata": {
        "id": "DIS6x2k_SK9w"
      },
      "source": [
        "Notice also that if we only set the parameter `data` and left the both `index` and `columns` parameters as default (`index=None`, `columns=None`):\n",
        "\n",
        "*   rows labels are just integers beginning from `0` up to `n-1`, where `n` is the number of rows in the table\n",
        "*   columns labels are just integers beginning from `0` up to `m-1`, where `m` is the number of columns in the table\n"
      ]
    },
    {
      "cell_type": "code",
      "metadata": {
        "colab": {
          "base_uri": "https://localhost:8080/"
        },
        "id": "FCpsOj4OSAJ_",
        "outputId": "1fe1de5a-9027-495a-a91b-62b77e7308ba"
      },
      "source": [
        "data = [[0,1,2],\n",
        "        [3,4,5],\n",
        "        [6,7,8],\n",
        "        [9,10,11]]\n",
        "\n",
        "df_5 = pd.DataFrame(data=data)\n",
        "print(df_5)\n",
        "\n",
        "# Notice that the inferred dtype is int64.\n",
        "print(\"Inferred dtype \\n{}\".format(df_5.dtypes))"
      ],
      "execution_count": null,
      "outputs": [
        {
          "output_type": "stream",
          "text": [
            "   0   1   2\n",
            "0  0   1   2\n",
            "1  3   4   5\n",
            "2  6   7   8\n",
            "3  9  10  11\n",
            "Inferred dtype \n",
            "0    int64\n",
            "1    int64\n",
            "2    int64\n",
            "dtype: object\n"
          ],
          "name": "stdout"
        }
      ]
    },
    {
      "cell_type": "markdown",
      "metadata": {
        "id": "8mHCleSF3qsH"
      },
      "source": [
        "To enforce a single `dtype` (single type for all the values):"
      ]
    },
    {
      "cell_type": "code",
      "metadata": {
        "colab": {
          "base_uri": "https://localhost:8080/"
        },
        "id": "9kctNDpL3pEJ",
        "outputId": "6e6c202a-b3a5-4964-9eb4-937810a6c094"
      },
      "source": [
        "df_uint8 = pd.DataFrame(data=data, \n",
        "                  index=[\"index1\", \"index2\", \"index3\", \"index4\"],\n",
        "                  columns=[\"column1\", \"column2\", \"column3\"],\n",
        "                  dtype=np.uint8)\n",
        "\n",
        "print(df_uint8)\n",
        "print(\"dtype \\n{}\".format(df_uint8.dtypes))"
      ],
      "execution_count": null,
      "outputs": [
        {
          "output_type": "stream",
          "text": [
            "        column1  column2  column3\n",
            "index1        0        1        2\n",
            "index2        3        4        5\n",
            "index3        6        7        8\n",
            "index4        9       10       11\n",
            "dtype \n",
            "column1    uint8\n",
            "column2    uint8\n",
            "column3    uint8\n",
            "dtype: object\n"
          ],
          "name": "stdout"
        }
      ]
    },
    {
      "cell_type": "markdown",
      "metadata": {
        "id": "2HfuVx6H4TDQ"
      },
      "source": [
        "# DataFrame attributes\n",
        "\n",
        "DataFrame provides many attributes. For example and shown above, `dtype` is an example of attribute provided by DataFrame. Other attributes are shown below."
      ]
    },
    {
      "cell_type": "code",
      "metadata": {
        "colab": {
          "base_uri": "https://localhost:8080/"
        },
        "id": "G4_cnLKC41ZH",
        "outputId": "eefa2811-3d59-4a9d-ec03-303047356ebf"
      },
      "source": [
        "numpy_data = np.array([np.arange(3), np.arange(3,6), np.arange(6,9), np.arange(9,12)])                 \n",
        "\n",
        "df = pd.DataFrame(data=numpy_data, \n",
        "                  index=[\"index1\", \"index2\", \"index3\", \"index4\"],\n",
        "                  columns=[\"column1\", \"column2\", \"column3\"])\n",
        "\n",
        "print(df)\n",
        "\n",
        "# dtypes: Return the dtypes in the DataFrame.\n",
        "print(\"\\ndtypes \\n{}\\n\".format(df.dtypes))\n",
        "\n",
        "# shape: Return a tuple representing the dimensionality of the DataFrame.\n",
        "print(\"shape: {}\\n\".format(df.shape))\n",
        "\n",
        "# empty: Indicator whether DataFrame is empty.\n",
        "print(\"empty: {}\\n\".format(df.empty))\n",
        "\n",
        "# ndim: Return an int representing the number of axes / array dimensions.\n",
        "print(\"ndim: {}\\n\".format(df.ndim))\n",
        "\n",
        "# size: Return an int representing the number of elements in this object.\n",
        "print(\"size: {}\\n\".format(df.size))\n",
        "\n",
        "# attrs: Dictionary of global attributes of this dataset.\n",
        "# attrs is experimental and may change without warning.\n",
        "print(\"attrs: \\n{}\".format(df.attrs))\n",
        "print(\"df.attrs['mydata'] = 'myvalue'\")\n",
        "df.attrs['mydata'] = 'myvalue'\n",
        "print(\"attrs: \\n{}\\n\".format(df.attrs))\n",
        "\n",
        "# values: Return a NumPy representation of the DataFrame.\n",
        "print(\"values: \\n{}\\n\".format(df.values))\n",
        "\n",
        "# columns: The column labels of the DataFrame.\n",
        "print(\"columns: \\n{}\\n\".format(df.columns))\n",
        "print(\"columns.values: \\n{}\\n\".format(df.columns.values))\n",
        "\n",
        "# index (row labels): Obtaining index of the DataFrame\n",
        "print(\"index: \\n{}\\n\".format(df.index))\n",
        "print(\"index.values: \\n{}\\n\".format(df.index.values))\n",
        "\n",
        "# loc: Access a group of rows and columns by label(s) or a boolean array.\n",
        "# .loc[] is primarily label based, but may also be used with a boolean array.\n",
        "# Single label. Note this returns the row as a Series (e.g. df.loc['index1'])\n",
        "# List of labels. Note using [[]] returns a DataFrame (e.g. df.loc[['index1','index2']]):\n",
        "print(\"df.loc['index1']: \\n{}\\n\".format(df.loc['index1']))\n",
        "print(\"type(df.loc['index1']): {}\\n\".format(type(df.loc['index1'])))\n",
        "print(\"df.loc[['index1','index2']]: \\n{}\\n\".format(df.loc[['index1','index2']]))\n",
        "\n",
        "# iloc: Purely integer-location based indexing for selection by position.\n",
        "print(\"df.iloc[0]: \\n{}\\n\".format(df.iloc[0]))\n",
        "print(\"type(df.iloc[0]): {}\\n\".format(type(df.iloc[0])))\n",
        "print(\"df.iloc[[0]]: \\n{}\\n\".format(df.iloc[[0]]))\n",
        "print(\"df.iloc[[0, 1]]: \\n{}\\n\".format(df.iloc[[0, 1]]))"
      ],
      "execution_count": null,
      "outputs": [
        {
          "output_type": "stream",
          "text": [
            "        column1  column2  column3\n",
            "index1        0        1        2\n",
            "index2        3        4        5\n",
            "index3        6        7        8\n",
            "index4        9       10       11\n",
            "\n",
            "dtypes \n",
            "column1    int64\n",
            "column2    int64\n",
            "column3    int64\n",
            "dtype: object\n",
            "\n",
            "shape: (4, 3)\n",
            "\n",
            "empty: False\n",
            "\n",
            "ndim: 2\n",
            "\n",
            "size: 12\n",
            "\n",
            "attrs: \n",
            "{}\n",
            "df.attrs['mydata'] = 'myvalue'\n",
            "attrs: \n",
            "{'mydata': 'myvalue'}\n",
            "\n",
            "values: \n",
            "[[ 0  1  2]\n",
            " [ 3  4  5]\n",
            " [ 6  7  8]\n",
            " [ 9 10 11]]\n",
            "\n",
            "columns: \n",
            "Index(['column1', 'column2', 'column3'], dtype='object')\n",
            "\n",
            "columns.values: \n",
            "['column1' 'column2' 'column3']\n",
            "\n",
            "index: \n",
            "Index(['index1', 'index2', 'index3', 'index4'], dtype='object')\n",
            "\n",
            "index.values: \n",
            "['index1' 'index2' 'index3' 'index4']\n",
            "\n",
            "df.loc['index1']: \n",
            "column1    0\n",
            "column2    1\n",
            "column3    2\n",
            "Name: index1, dtype: int64\n",
            "\n",
            "type(df.loc['index1']): <class 'pandas.core.series.Series'>\n",
            "\n",
            "df.loc[['index1','index2']]: \n",
            "        column1  column2  column3\n",
            "index1        0        1        2\n",
            "index2        3        4        5\n",
            "\n",
            "df.iloc[0]: \n",
            "column1    0\n",
            "column2    1\n",
            "column3    2\n",
            "Name: index1, dtype: int64\n",
            "\n",
            "type(df.iloc[0]): <class 'pandas.core.series.Series'>\n",
            "\n",
            "df.iloc[[0]]: \n",
            "        column1  column2  column3\n",
            "index1        0        1        2\n",
            "\n",
            "df.iloc[[0, 1]]: \n",
            "        column1  column2  column3\n",
            "index1        0        1        2\n",
            "index2        3        4        5\n",
            "\n"
          ],
          "name": "stdout"
        }
      ]
    },
    {
      "cell_type": "markdown",
      "metadata": {
        "id": "WBNUWuPYYmAT"
      },
      "source": [
        "# DataFrame methods\n",
        "\n",
        "Some of the methods are shown as follows. But first, let's create a sample DataFrame."
      ]
    },
    {
      "cell_type": "code",
      "metadata": {
        "id": "ivEarJNqYroK"
      },
      "source": [
        "import numpy as np\n",
        "import pandas as pd\n",
        "\n",
        "numpy_data = np.array([np.arange(3), np.arange(3,6), np.arange(6,9), np.arange(9,12)])                 \n",
        "\n",
        "df = pd.DataFrame(data=numpy_data, \n",
        "                  index=[\"index1\", \"index2\", \"index3\", \"index4\"],\n",
        "                  columns=[\"column1\", \"column2\", \"column3\"])"
      ],
      "execution_count": 19,
      "outputs": []
    },
    {
      "cell_type": "markdown",
      "metadata": {
        "id": "TOpsHJDGjLbO"
      },
      "source": [
        "**Viewing your data**: The first thing we can do when exploring a DataFrame is to print the first `n` rows (`.head(n=5)`) or to print the last `n` rows (`.tail(n=5)`), where `n` (optional) is the number of rows to show. Therefore:\n",
        "\n",
        "*   [`DataFrame.head(n=5)`](https://pandas.pydata.org/pandas-docs/stable/reference/api/pandas.DataFrame.head.html): Return the first `n` rows.  It is useful for quickly testing that your data is loaded correctly.\n",
        "\n",
        "*   [`DataFrame.tail(n=5)`](https://pandas.pydata.org/pandas-docs/stable/reference/api/pandas.DataFrame.tail.html#pandas.DataFrame.tail): Return the last `n` rows. It is useful for quickly verifying data, for example, after sorting or appending rows.\n"
      ]
    },
    {
      "cell_type": "code",
      "metadata": {
        "colab": {
          "base_uri": "https://localhost:8080/"
        },
        "id": "bZQR88eMjvjl",
        "outputId": "e8f7f603-8fdb-4dfd-9d0e-09a3afab0b7a"
      },
      "source": [
        "print(df.head(1))\n",
        "print(df.tail(2))"
      ],
      "execution_count": 20,
      "outputs": [
        {
          "output_type": "stream",
          "text": [
            "        column1  column2  column3\n",
            "index1        0        1        2\n",
            "        column1  column2  column3\n",
            "index3        6        7        8\n",
            "index4        9       10       11\n"
          ],
          "name": "stdout"
        }
      ]
    },
    {
      "cell_type": "markdown",
      "metadata": {
        "id": "tk6096vdj3lA"
      },
      "source": [
        "**Getting information about the data**: This can be done using:\n",
        "\n",
        "*    `.info()`: provides a concise summary of your DataFrame. \n",
        "*   `.describe()`: returns a statistical summary\n",
        "*   `.describe(include='all')`: gives full summary statistics"
      ]
    },
    {
      "cell_type": "code",
      "metadata": {
        "colab": {
          "base_uri": "https://localhost:8080/"
        },
        "id": "VFDZmJ7YlsIq",
        "outputId": "d6f2800d-2afe-47fc-f2e1-23dbe76adecd"
      },
      "source": [
        "# .info() provides the key details about your dataset:\n",
        "# (e.g. the number of rows and columns, the number of non-null values,\n",
        "# what type of data is in each column, how much memory your DataFrame is using)\n",
        "\n",
        "print(df.info())"
      ],
      "execution_count": 21,
      "outputs": [
        {
          "output_type": "stream",
          "text": [
            "<class 'pandas.core.frame.DataFrame'>\n",
            "Index: 4 entries, index1 to index4\n",
            "Data columns (total 3 columns):\n",
            " #   Column   Non-Null Count  Dtype\n",
            "---  ------   --------------  -----\n",
            " 0   column1  4 non-null      int64\n",
            " 1   column2  4 non-null      int64\n",
            " 2   column3  4 non-null      int64\n",
            "dtypes: int64(3)\n",
            "memory usage: 128.0+ bytes\n",
            "None\n"
          ],
          "name": "stdout"
        }
      ]
    },
    {
      "cell_type": "code",
      "metadata": {
        "colab": {
          "base_uri": "https://localhost:8080/"
        },
        "id": "7QjNaAStmsbq",
        "outputId": "dc90b8e4-a94e-47a2-c516-6948607036fc"
      },
      "source": [
        "print(df.describe())"
      ],
      "execution_count": 22,
      "outputs": [
        {
          "output_type": "stream",
          "text": [
            "        column1    column2    column3\n",
            "count  4.000000   4.000000   4.000000\n",
            "mean   4.500000   5.500000   6.500000\n",
            "std    3.872983   3.872983   3.872983\n",
            "min    0.000000   1.000000   2.000000\n",
            "25%    2.250000   3.250000   4.250000\n",
            "50%    4.500000   5.500000   6.500000\n",
            "75%    6.750000   7.750000   8.750000\n",
            "max    9.000000  10.000000  11.000000\n"
          ],
          "name": "stdout"
        }
      ]
    },
    {
      "cell_type": "code",
      "metadata": {
        "colab": {
          "base_uri": "https://localhost:8080/"
        },
        "id": "DelckH2hmw7f",
        "outputId": "3d68c264-1045-415b-8e27-84e1bd49b85f"
      },
      "source": [
        "print(df.describe(include='all'))"
      ],
      "execution_count": 23,
      "outputs": [
        {
          "output_type": "stream",
          "text": [
            "        column1    column2    column3\n",
            "count  4.000000   4.000000   4.000000\n",
            "mean   4.500000   5.500000   6.500000\n",
            "std    3.872983   3.872983   3.872983\n",
            "min    0.000000   1.000000   2.000000\n",
            "25%    2.250000   3.250000   4.250000\n",
            "50%    4.500000   5.500000   6.500000\n",
            "75%    6.750000   7.750000   8.750000\n",
            "max    9.000000  10.000000  11.000000\n"
          ],
          "name": "stdout"
        }
      ]
    },
    {
      "cell_type": "code",
      "metadata": {
        "colab": {
          "base_uri": "https://localhost:8080/",
          "height": 198
        },
        "id": "pPG8kWdF4iu_",
        "outputId": "c01b9292-74ec-428d-d0bf-bc253f7dd854"
      },
      "source": [
        "df_2 = pd.DataFrame({'col_1':['a', 'b', 'c', 'd', 'a'], 'col_2': np.arange(5)})\n",
        "df_2"
      ],
      "execution_count": 24,
      "outputs": [
        {
          "output_type": "execute_result",
          "data": {
            "text/html": [
              "<div>\n",
              "<style scoped>\n",
              "    .dataframe tbody tr th:only-of-type {\n",
              "        vertical-align: middle;\n",
              "    }\n",
              "\n",
              "    .dataframe tbody tr th {\n",
              "        vertical-align: top;\n",
              "    }\n",
              "\n",
              "    .dataframe thead th {\n",
              "        text-align: right;\n",
              "    }\n",
              "</style>\n",
              "<table border=\"1\" class=\"dataframe\">\n",
              "  <thead>\n",
              "    <tr style=\"text-align: right;\">\n",
              "      <th></th>\n",
              "      <th>col_1</th>\n",
              "      <th>col_2</th>\n",
              "    </tr>\n",
              "  </thead>\n",
              "  <tbody>\n",
              "    <tr>\n",
              "      <th>0</th>\n",
              "      <td>a</td>\n",
              "      <td>0</td>\n",
              "    </tr>\n",
              "    <tr>\n",
              "      <th>1</th>\n",
              "      <td>b</td>\n",
              "      <td>1</td>\n",
              "    </tr>\n",
              "    <tr>\n",
              "      <th>2</th>\n",
              "      <td>c</td>\n",
              "      <td>2</td>\n",
              "    </tr>\n",
              "    <tr>\n",
              "      <th>3</th>\n",
              "      <td>d</td>\n",
              "      <td>3</td>\n",
              "    </tr>\n",
              "    <tr>\n",
              "      <th>4</th>\n",
              "      <td>a</td>\n",
              "      <td>4</td>\n",
              "    </tr>\n",
              "  </tbody>\n",
              "</table>\n",
              "</div>"
            ],
            "text/plain": [
              "  col_1  col_2\n",
              "0     a      0\n",
              "1     b      1\n",
              "2     c      2\n",
              "3     d      3\n",
              "4     a      4"
            ]
          },
          "metadata": {
            "tags": []
          },
          "execution_count": 24
        }
      ]
    },
    {
      "cell_type": "code",
      "metadata": {
        "colab": {
          "base_uri": "https://localhost:8080/",
          "height": 288
        },
        "id": "8yWbKTuO4o69",
        "outputId": "340779fa-48a1-4ab9-8f17-74b729650fd6"
      },
      "source": [
        "# The default behavior is to only provide \n",
        "# a summary for the numerical columns.\n",
        "df_2.describe()"
      ],
      "execution_count": 25,
      "outputs": [
        {
          "output_type": "execute_result",
          "data": {
            "text/html": [
              "<div>\n",
              "<style scoped>\n",
              "    .dataframe tbody tr th:only-of-type {\n",
              "        vertical-align: middle;\n",
              "    }\n",
              "\n",
              "    .dataframe tbody tr th {\n",
              "        vertical-align: top;\n",
              "    }\n",
              "\n",
              "    .dataframe thead th {\n",
              "        text-align: right;\n",
              "    }\n",
              "</style>\n",
              "<table border=\"1\" class=\"dataframe\">\n",
              "  <thead>\n",
              "    <tr style=\"text-align: right;\">\n",
              "      <th></th>\n",
              "      <th>col_2</th>\n",
              "    </tr>\n",
              "  </thead>\n",
              "  <tbody>\n",
              "    <tr>\n",
              "      <th>count</th>\n",
              "      <td>5.000000</td>\n",
              "    </tr>\n",
              "    <tr>\n",
              "      <th>mean</th>\n",
              "      <td>2.000000</td>\n",
              "    </tr>\n",
              "    <tr>\n",
              "      <th>std</th>\n",
              "      <td>1.581139</td>\n",
              "    </tr>\n",
              "    <tr>\n",
              "      <th>min</th>\n",
              "      <td>0.000000</td>\n",
              "    </tr>\n",
              "    <tr>\n",
              "      <th>25%</th>\n",
              "      <td>1.000000</td>\n",
              "    </tr>\n",
              "    <tr>\n",
              "      <th>50%</th>\n",
              "      <td>2.000000</td>\n",
              "    </tr>\n",
              "    <tr>\n",
              "      <th>75%</th>\n",
              "      <td>3.000000</td>\n",
              "    </tr>\n",
              "    <tr>\n",
              "      <th>max</th>\n",
              "      <td>4.000000</td>\n",
              "    </tr>\n",
              "  </tbody>\n",
              "</table>\n",
              "</div>"
            ],
            "text/plain": [
              "          col_2\n",
              "count  5.000000\n",
              "mean   2.000000\n",
              "std    1.581139\n",
              "min    0.000000\n",
              "25%    1.000000\n",
              "50%    2.000000\n",
              "75%    3.000000\n",
              "max    4.000000"
            ]
          },
          "metadata": {
            "tags": []
          },
          "execution_count": 25
        }
      ]
    },
    {
      "cell_type": "code",
      "metadata": {
        "colab": {
          "base_uri": "https://localhost:8080/",
          "height": 378
        },
        "id": "fgQY03ee4soE",
        "outputId": "02607402-eca6-4817-9628-603221572c30"
      },
      "source": [
        "df_2.describe(include='all')"
      ],
      "execution_count": 26,
      "outputs": [
        {
          "output_type": "execute_result",
          "data": {
            "text/html": [
              "<div>\n",
              "<style scoped>\n",
              "    .dataframe tbody tr th:only-of-type {\n",
              "        vertical-align: middle;\n",
              "    }\n",
              "\n",
              "    .dataframe tbody tr th {\n",
              "        vertical-align: top;\n",
              "    }\n",
              "\n",
              "    .dataframe thead th {\n",
              "        text-align: right;\n",
              "    }\n",
              "</style>\n",
              "<table border=\"1\" class=\"dataframe\">\n",
              "  <thead>\n",
              "    <tr style=\"text-align: right;\">\n",
              "      <th></th>\n",
              "      <th>col_1</th>\n",
              "      <th>col_2</th>\n",
              "    </tr>\n",
              "  </thead>\n",
              "  <tbody>\n",
              "    <tr>\n",
              "      <th>count</th>\n",
              "      <td>5</td>\n",
              "      <td>5.000000</td>\n",
              "    </tr>\n",
              "    <tr>\n",
              "      <th>unique</th>\n",
              "      <td>4</td>\n",
              "      <td>NaN</td>\n",
              "    </tr>\n",
              "    <tr>\n",
              "      <th>top</th>\n",
              "      <td>a</td>\n",
              "      <td>NaN</td>\n",
              "    </tr>\n",
              "    <tr>\n",
              "      <th>freq</th>\n",
              "      <td>2</td>\n",
              "      <td>NaN</td>\n",
              "    </tr>\n",
              "    <tr>\n",
              "      <th>mean</th>\n",
              "      <td>NaN</td>\n",
              "      <td>2.000000</td>\n",
              "    </tr>\n",
              "    <tr>\n",
              "      <th>std</th>\n",
              "      <td>NaN</td>\n",
              "      <td>1.581139</td>\n",
              "    </tr>\n",
              "    <tr>\n",
              "      <th>min</th>\n",
              "      <td>NaN</td>\n",
              "      <td>0.000000</td>\n",
              "    </tr>\n",
              "    <tr>\n",
              "      <th>25%</th>\n",
              "      <td>NaN</td>\n",
              "      <td>1.000000</td>\n",
              "    </tr>\n",
              "    <tr>\n",
              "      <th>50%</th>\n",
              "      <td>NaN</td>\n",
              "      <td>2.000000</td>\n",
              "    </tr>\n",
              "    <tr>\n",
              "      <th>75%</th>\n",
              "      <td>NaN</td>\n",
              "      <td>3.000000</td>\n",
              "    </tr>\n",
              "    <tr>\n",
              "      <th>max</th>\n",
              "      <td>NaN</td>\n",
              "      <td>4.000000</td>\n",
              "    </tr>\n",
              "  </tbody>\n",
              "</table>\n",
              "</div>"
            ],
            "text/plain": [
              "       col_1     col_2\n",
              "count      5  5.000000\n",
              "unique     4       NaN\n",
              "top        a       NaN\n",
              "freq       2       NaN\n",
              "mean     NaN  2.000000\n",
              "std      NaN  1.581139\n",
              "min      NaN  0.000000\n",
              "25%      NaN  1.000000\n",
              "50%      NaN  2.000000\n",
              "75%      NaN  3.000000\n",
              "max      NaN  4.000000"
            ]
          },
          "metadata": {
            "tags": []
          },
          "execution_count": 26
        }
      ]
    },
    {
      "cell_type": "markdown",
      "metadata": {
        "id": "MA5M0lDMakKL"
      },
      "source": [
        "**Append rows**: `append(other[, ignore_index, …])`: Append rows of other to the end of caller, returning a new object. This means that using `append()` will return a copy without affecting the original DataFrame."
      ]
    },
    {
      "cell_type": "code",
      "metadata": {
        "colab": {
          "base_uri": "https://localhost:8080/"
        },
        "id": "Q6LR7OI5ah1p",
        "outputId": "25c62055-4e48-45d2-f897-b33161c55c0a"
      },
      "source": [
        "# append(other[, ignore_index, …]): Append rows of other to the end of caller, returning a new object.\n",
        "df_2 = df.loc[['index1','index2']]\n",
        "df_result = df.append(df_2)\n",
        "print(df_result)\n",
        "\n",
        "# With ignore_index set to True:\n",
        "df_result = df.append(df_2, ignore_index=True)\n",
        "print(df_result)"
      ],
      "execution_count": 27,
      "outputs": [
        {
          "output_type": "stream",
          "text": [
            "        column1  column2  column3\n",
            "index1        0        1        2\n",
            "index2        3        4        5\n",
            "index3        6        7        8\n",
            "index4        9       10       11\n",
            "index1        0        1        2\n",
            "index2        3        4        5\n",
            "   column1  column2  column3\n",
            "0        0        1        2\n",
            "1        3        4        5\n",
            "2        6        7        8\n",
            "3        9       10       11\n",
            "4        0        1        2\n",
            "5        3        4        5\n"
          ],
          "name": "stdout"
        }
      ]
    },
    {
      "cell_type": "markdown",
      "metadata": {
        "id": "uGntjZV0ablR"
      },
      "source": [
        "**Insert column**: `insert(loc, column, value[, allow_duplicates])`: Insert column into DataFrame at specified location."
      ]
    },
    {
      "cell_type": "code",
      "metadata": {
        "id": "tmPxoPtSbVkj",
        "colab": {
          "base_uri": "https://localhost:8080/"
        },
        "outputId": "7b6fa53c-5385-4775-b08d-86d3bd468e72"
      },
      "source": [
        "new_col = df['column1'] * 10\n",
        "print(new_col)\n",
        "df.insert(1, 'new_column', new_col)\n",
        "print(df)\n",
        "\n",
        "try:\n",
        "  df.insert(1, 'new_column', new_col)\n",
        "except ValueError:\n",
        "  print(\"\\n cannot insert a column already added \\n\")"
      ],
      "execution_count": 28,
      "outputs": [
        {
          "output_type": "stream",
          "text": [
            "index1     0\n",
            "index2    30\n",
            "index3    60\n",
            "index4    90\n",
            "Name: column1, dtype: int64\n",
            "        column1  new_column  column2  column3\n",
            "index1        0           0        1        2\n",
            "index2        3          30        4        5\n",
            "index3        6          60        7        8\n",
            "index4        9          90       10       11\n",
            "\n",
            " cannot insert a column already added \n",
            "\n"
          ],
          "name": "stdout"
        }
      ]
    },
    {
      "cell_type": "markdown",
      "metadata": {
        "id": "vPhuiAOF5Euk"
      },
      "source": [
        "**Handling duplicates**: Pandas `drop_duplicates()` method helps in removing duplicates from the DataFrame. `drop_duplicates()`  method returns DataFrame with duplicate rows removed."
      ]
    },
    {
      "cell_type": "code",
      "metadata": {
        "colab": {
          "base_uri": "https://localhost:8080/"
        },
        "id": "e5_iMvBD6Trz",
        "outputId": "c8f47728-aaff-4f08-d66d-f60e119ac08b"
      },
      "source": [
        "# Let's see our DataFrame before removing duplicate rows\n",
        "print(df_result)"
      ],
      "execution_count": 29,
      "outputs": [
        {
          "output_type": "stream",
          "text": [
            "   column1  column2  column3\n",
            "0        0        1        2\n",
            "1        3        4        5\n",
            "2        6        7        8\n",
            "3        9       10       11\n",
            "4        0        1        2\n",
            "5        3        4        5\n"
          ],
          "name": "stdout"
        }
      ]
    },
    {
      "cell_type": "code",
      "metadata": {
        "colab": {
          "base_uri": "https://localhost:8080/"
        },
        "id": "VYllj9iV6z07",
        "outputId": "77219a40-6c13-4233-b327-9ed3fedfe41f"
      },
      "source": [
        "# Remove duplicates calling drop_duplicates() with default behaviour:\n",
        "df_without_duplicates = df_result.drop_duplicates()\n",
        "print(df_without_duplicates)"
      ],
      "execution_count": 30,
      "outputs": [
        {
          "output_type": "stream",
          "text": [
            "   column1  column2  column3\n",
            "0        0        1        2\n",
            "1        3        4        5\n",
            "2        6        7        8\n",
            "3        9       10       11\n"
          ],
          "name": "stdout"
        }
      ]
    },
    {
      "cell_type": "markdown",
      "metadata": {
        "id": "DI8YJfRa7WtK"
      },
      "source": [
        "As we can see, just like `append()`, the `drop_duplicates()` method will also return a copy of your DataFrame, but this time with duplicates removed. Using `inplace=True` will modify the DataFrame object in place. Let's check this point."
      ]
    },
    {
      "cell_type": "code",
      "metadata": {
        "colab": {
          "base_uri": "https://localhost:8080/"
        },
        "id": "c3yt9VDK7pzY",
        "outputId": "5c2f95b2-b566-4c08-886f-6e0552ec2307"
      },
      "source": [
        "# Make a full copy of the df_result DataFame\n",
        "df_full_copy = df_result.copy()\n",
        "print(df_full_copy)"
      ],
      "execution_count": 31,
      "outputs": [
        {
          "output_type": "stream",
          "text": [
            "   column1  column2  column3\n",
            "0        0        1        2\n",
            "1        3        4        5\n",
            "2        6        7        8\n",
            "3        9       10       11\n",
            "4        0        1        2\n",
            "5        3        4        5\n"
          ],
          "name": "stdout"
        }
      ]
    },
    {
      "cell_type": "code",
      "metadata": {
        "colab": {
          "base_uri": "https://localhost:8080/"
        },
        "id": "8hPmawFX7_2E",
        "outputId": "438a56da-bfe4-4b95-f8df-40d3ae1e96b8"
      },
      "source": [
        "# Remove duplicates using inplace=True:\n",
        "df_full_copy.drop_duplicates(inplace=True)\n",
        "print(df_full_copy)"
      ],
      "execution_count": 32,
      "outputs": [
        {
          "output_type": "stream",
          "text": [
            "   column1  column2  column3\n",
            "0        0        1        2\n",
            "1        3        4        5\n",
            "2        6        7        8\n",
            "3        9       10       11\n"
          ],
          "name": "stdout"
        }
      ]
    },
    {
      "cell_type": "markdown",
      "metadata": {
        "id": "MRZzlkaQ9jKh"
      },
      "source": [
        "Another important argument for `drop_duplicates()` is `keep`, which has three possible options:\n",
        "\n",
        "- `first`: (default) Drop duplicates except for the first occurrence.\n",
        "- `last`: Drop duplicates except for the last occurrence.\n",
        "- `False`: Drop all duplicates.\n",
        "\n",
        "Let's see `last` and `False` options for argument `keep` in `drop_duplicats()` method (`first` is the default behaviour of this method and was seen in the previous example)."
      ]
    },
    {
      "cell_type": "code",
      "metadata": {
        "colab": {
          "base_uri": "https://localhost:8080/"
        },
        "id": "u2klBBZo9gUu",
        "outputId": "51486143-c4bc-47d4-c6ad-92c8fc71c4c4"
      },
      "source": [
        "# Make a full copy of the df_result DataFame\n",
        "df_full_copy = df_result.copy()\n",
        "print(df_full_copy)"
      ],
      "execution_count": 33,
      "outputs": [
        {
          "output_type": "stream",
          "text": [
            "   column1  column2  column3\n",
            "0        0        1        2\n",
            "1        3        4        5\n",
            "2        6        7        8\n",
            "3        9       10       11\n",
            "4        0        1        2\n",
            "5        3        4        5\n"
          ],
          "name": "stdout"
        }
      ]
    },
    {
      "cell_type": "code",
      "metadata": {
        "colab": {
          "base_uri": "https://localhost:8080/"
        },
        "id": "A6UKoZtx-F2e",
        "outputId": "c9397d4e-ade0-4d5e-b730-3081d3b0f2ce"
      },
      "source": [
        "# Remove duplicates using using inplace=True and keep='last'\n",
        "df_full_copy.drop_duplicates(inplace=True, keep='last')\n",
        "print(df_full_copy)"
      ],
      "execution_count": 34,
      "outputs": [
        {
          "output_type": "stream",
          "text": [
            "   column1  column2  column3\n",
            "2        6        7        8\n",
            "3        9       10       11\n",
            "4        0        1        2\n",
            "5        3        4        5\n"
          ],
          "name": "stdout"
        }
      ]
    },
    {
      "cell_type": "code",
      "metadata": {
        "colab": {
          "base_uri": "https://localhost:8080/"
        },
        "id": "sLPTSMGN-eV8",
        "outputId": "97bd5f71-a8d5-4e62-ac58-5068006773eb"
      },
      "source": [
        "# Make a full copy of the df_result DataFame\n",
        "df_full_copy = df_result.copy()\n",
        "print(df_full_copy)"
      ],
      "execution_count": 35,
      "outputs": [
        {
          "output_type": "stream",
          "text": [
            "   column1  column2  column3\n",
            "0        0        1        2\n",
            "1        3        4        5\n",
            "2        6        7        8\n",
            "3        9       10       11\n",
            "4        0        1        2\n",
            "5        3        4        5\n"
          ],
          "name": "stdout"
        }
      ]
    },
    {
      "cell_type": "code",
      "metadata": {
        "colab": {
          "base_uri": "https://localhost:8080/"
        },
        "id": "idkAP61y-hId",
        "outputId": "1a0e39d5-39b5-4484-d416-6e27a596e843"
      },
      "source": [
        "# Remove duplicates using using inplace=True and keep=False\n",
        "df_full_copy.drop_duplicates(inplace=True, keep=False)\n",
        "print(df_full_copy)"
      ],
      "execution_count": 36,
      "outputs": [
        {
          "output_type": "stream",
          "text": [
            "   column1  column2  column3\n",
            "2        6        7        8\n",
            "3        9       10       11\n"
          ],
          "name": "stdout"
        }
      ]
    },
    {
      "cell_type": "markdown",
      "metadata": {
        "id": "GNiHALLI_KSy"
      },
      "source": [
        "**How to work with missing values**: When exploring data, you’ll most likely encounter missing or null values. Most commonly you'll see Python's None or NumPy's `np.nan`. There are two options in dealing with nulls:\n",
        "- Get rid of rows or columns with nulls\n",
        "- Replace nulls with non-null values, a technique known as imputation\n",
        "\n",
        "So let's create a DataFrame."
      ]
    },
    {
      "cell_type": "code",
      "metadata": {
        "colab": {
          "base_uri": "https://localhost:8080/"
        },
        "id": "jU_SyBEJCPCs",
        "outputId": "276867d6-a0f5-4d48-e424-b903af579a08"
      },
      "source": [
        "# Make a full copy of the df_result DataFame\n",
        "df_full_copy = df_result.copy()\n",
        "print(df_full_copy)"
      ],
      "execution_count": 37,
      "outputs": [
        {
          "output_type": "stream",
          "text": [
            "   column1  column2  column3\n",
            "0        0        1        2\n",
            "1        3        4        5\n",
            "2        6        7        8\n",
            "3        9       10       11\n",
            "4        0        1        2\n",
            "5        3        4        5\n"
          ],
          "name": "stdout"
        }
      ]
    },
    {
      "cell_type": "markdown",
      "metadata": {
        "id": "8DhMENhSTg9u"
      },
      "source": [
        " We are going to create some missing (or null) values using either:\n",
        " - numpy's `np.nan`\n",
        " - Python `None`"
      ]
    },
    {
      "cell_type": "code",
      "metadata": {
        "colab": {
          "base_uri": "https://localhost:8080/"
        },
        "id": "UeIKddTcDEJg",
        "outputId": "a0fb2ac1-8c93-4e29-d15a-6c287d45bd0f"
      },
      "source": [
        "import numpy as np\n",
        "\n",
        "# Create a list with some values (including some null values):\n",
        "my_list = [100, None, np.nan]\n",
        "\n",
        "# Create a Serie from the previous list:\n",
        "my_serie = pd.Series(my_list, index = df_full_copy.columns)\n",
        "print(\"This Serie (with NaN values) will be added: \\n{}\".format(my_serie))\n",
        "# This commented line will also work\n",
        "# my_serie = pd.Series(my_list, index = ['column1','column2', 'column3'])\n",
        "\n",
        "# Append the created row to the dataFrame:\n",
        "df_full_copy = df_full_copy.append(my_serie, ignore_index=True)\n",
        "\n",
        "print(df_full_copy)"
      ],
      "execution_count": 38,
      "outputs": [
        {
          "output_type": "stream",
          "text": [
            "This Serie (with NaN values) will be added: \n",
            "column1    100.0\n",
            "column2      NaN\n",
            "column3      NaN\n",
            "dtype: float64\n",
            "   column1  column2  column3\n",
            "0      0.0      1.0      2.0\n",
            "1      3.0      4.0      5.0\n",
            "2      6.0      7.0      8.0\n",
            "3      9.0     10.0     11.0\n",
            "4      0.0      1.0      2.0\n",
            "5      3.0      4.0      5.0\n",
            "6    100.0      NaN      NaN\n"
          ],
          "name": "stdout"
        }
      ]
    },
    {
      "cell_type": "markdown",
      "metadata": {
        "id": "3VfDGPKWHRxI"
      },
      "source": [
        "Following previous approximation, we add several more rows with null values:"
      ]
    },
    {
      "cell_type": "code",
      "metadata": {
        "colab": {
          "base_uri": "https://localhost:8080/"
        },
        "id": "7MQwWPWtGbtw",
        "outputId": "88f2c5b3-0a63-4537-a9c0-9a04c4c58d35"
      },
      "source": [
        "# Create some lists with some NaN values:\n",
        "my_lists = [[100, np.nan, None], \n",
        "            [np.nan, np.nan, None],\n",
        "            [np.nan, 200, np.nan]]\n",
        "\n",
        "# Append these lists to the dataFrame:\n",
        "for my_list in my_lists:\n",
        "  my_serie = pd.Series(my_list, index = df_full_copy.columns)\n",
        "  df_full_copy = df_full_copy.append(my_serie, ignore_index=True)\n",
        "\n",
        "print(df_full_copy)"
      ],
      "execution_count": 39,
      "outputs": [
        {
          "output_type": "stream",
          "text": [
            "   column1  column2  column3\n",
            "0      0.0      1.0      2.0\n",
            "1      3.0      4.0      5.0\n",
            "2      6.0      7.0      8.0\n",
            "3      9.0     10.0     11.0\n",
            "4      0.0      1.0      2.0\n",
            "5      3.0      4.0      5.0\n",
            "6    100.0      NaN      NaN\n",
            "7    100.0      NaN      NaN\n",
            "8      NaN      NaN      NaN\n",
            "9      NaN    200.0      NaN\n"
          ],
          "name": "stdout"
        }
      ]
    },
    {
      "cell_type": "markdown",
      "metadata": {
        "id": "Zsw_7o54HujJ"
      },
      "source": [
        "To check what values in the DataFrame are null we can use `isnull()` method:"
      ]
    },
    {
      "cell_type": "code",
      "metadata": {
        "colab": {
          "base_uri": "https://localhost:8080/",
          "height": 348
        },
        "id": "TA-gr0VMHnr7",
        "outputId": "559f5513-e898-4d6f-fed7-9872bb667505"
      },
      "source": [
        "df_full_copy.isnull()"
      ],
      "execution_count": 40,
      "outputs": [
        {
          "output_type": "execute_result",
          "data": {
            "text/html": [
              "<div>\n",
              "<style scoped>\n",
              "    .dataframe tbody tr th:only-of-type {\n",
              "        vertical-align: middle;\n",
              "    }\n",
              "\n",
              "    .dataframe tbody tr th {\n",
              "        vertical-align: top;\n",
              "    }\n",
              "\n",
              "    .dataframe thead th {\n",
              "        text-align: right;\n",
              "    }\n",
              "</style>\n",
              "<table border=\"1\" class=\"dataframe\">\n",
              "  <thead>\n",
              "    <tr style=\"text-align: right;\">\n",
              "      <th></th>\n",
              "      <th>column1</th>\n",
              "      <th>column2</th>\n",
              "      <th>column3</th>\n",
              "    </tr>\n",
              "  </thead>\n",
              "  <tbody>\n",
              "    <tr>\n",
              "      <th>0</th>\n",
              "      <td>False</td>\n",
              "      <td>False</td>\n",
              "      <td>False</td>\n",
              "    </tr>\n",
              "    <tr>\n",
              "      <th>1</th>\n",
              "      <td>False</td>\n",
              "      <td>False</td>\n",
              "      <td>False</td>\n",
              "    </tr>\n",
              "    <tr>\n",
              "      <th>2</th>\n",
              "      <td>False</td>\n",
              "      <td>False</td>\n",
              "      <td>False</td>\n",
              "    </tr>\n",
              "    <tr>\n",
              "      <th>3</th>\n",
              "      <td>False</td>\n",
              "      <td>False</td>\n",
              "      <td>False</td>\n",
              "    </tr>\n",
              "    <tr>\n",
              "      <th>4</th>\n",
              "      <td>False</td>\n",
              "      <td>False</td>\n",
              "      <td>False</td>\n",
              "    </tr>\n",
              "    <tr>\n",
              "      <th>5</th>\n",
              "      <td>False</td>\n",
              "      <td>False</td>\n",
              "      <td>False</td>\n",
              "    </tr>\n",
              "    <tr>\n",
              "      <th>6</th>\n",
              "      <td>False</td>\n",
              "      <td>True</td>\n",
              "      <td>True</td>\n",
              "    </tr>\n",
              "    <tr>\n",
              "      <th>7</th>\n",
              "      <td>False</td>\n",
              "      <td>True</td>\n",
              "      <td>True</td>\n",
              "    </tr>\n",
              "    <tr>\n",
              "      <th>8</th>\n",
              "      <td>True</td>\n",
              "      <td>True</td>\n",
              "      <td>True</td>\n",
              "    </tr>\n",
              "    <tr>\n",
              "      <th>9</th>\n",
              "      <td>True</td>\n",
              "      <td>False</td>\n",
              "      <td>True</td>\n",
              "    </tr>\n",
              "  </tbody>\n",
              "</table>\n",
              "</div>"
            ],
            "text/plain": [
              "   column1  column2  column3\n",
              "0    False    False    False\n",
              "1    False    False    False\n",
              "2    False    False    False\n",
              "3    False    False    False\n",
              "4    False    False    False\n",
              "5    False    False    False\n",
              "6    False     True     True\n",
              "7    False     True     True\n",
              "8     True     True     True\n",
              "9     True    False     True"
            ]
          },
          "metadata": {
            "tags": []
          },
          "execution_count": 40
        }
      ]
    },
    {
      "cell_type": "markdown",
      "metadata": {
        "id": "M9ZZIkemIoiq"
      },
      "source": [
        "We usually want to know how many null values are in each column. Therefore we can count how many null values are for each column. "
      ]
    },
    {
      "cell_type": "code",
      "metadata": {
        "colab": {
          "base_uri": "https://localhost:8080/"
        },
        "id": "WLk6P_GvH_Vb",
        "outputId": "5bcabdd0-12f1-4a8d-95cb-51c543950162"
      },
      "source": [
        "df_full_copy.isnull().sum(axis=0)"
      ],
      "execution_count": 41,
      "outputs": [
        {
          "output_type": "execute_result",
          "data": {
            "text/plain": [
              "column1    2\n",
              "column2    3\n",
              "column3    4\n",
              "dtype: int64"
            ]
          },
          "metadata": {
            "tags": []
          },
          "execution_count": 41
        }
      ]
    },
    {
      "cell_type": "markdown",
      "metadata": {
        "id": "_llL5gimVB2u"
      },
      "source": [
        "From the previous output, we can see that in all columns there are null values. `column3` is the column with more null values (`4`)."
      ]
    },
    {
      "cell_type": "markdown",
      "metadata": {
        "id": "iytrUDj_MLPB"
      },
      "source": [
        "To remember if you need to apply `axis=0` or `axis=1` as argument to an specific function: \n",
        "\n",
        "- `axis=0` to apply a method down each column\n",
        "- `axis=1` to apply a method across each row\n",
        "\n",
        "<img src=\"https://raw.githubusercontent.com/albertofernandezvillan/computer-vision-and-deep-learning-course/main/assets/numpy_and_pandas_axes.jpg\">\n",
        "\n",
        "Previous figure can be seen [here](https://stackoverflow.com/questions/17079279/how-is-axis-indexed-in-numpys-array) or [here](https://stackoverflow.com/questions/25773245/ambiguity-in-pandas-dataframe-numpy-array-axis-definition)."
      ]
    },
    {
      "cell_type": "markdown",
      "metadata": {
        "id": "AQ7opozuUixO"
      },
      "source": [
        "If we want to calculate how many null values are in each row:"
      ]
    },
    {
      "cell_type": "code",
      "metadata": {
        "colab": {
          "base_uri": "https://localhost:8080/"
        },
        "id": "pcO0Nb3eUnQv",
        "outputId": "06c7386b-ae1d-4c79-aee1-ea7b83cee412"
      },
      "source": [
        "df_full_copy.isnull().sum(axis=1)"
      ],
      "execution_count": 42,
      "outputs": [
        {
          "output_type": "execute_result",
          "data": {
            "text/plain": [
              "0    0\n",
              "1    0\n",
              "2    0\n",
              "3    0\n",
              "4    0\n",
              "5    0\n",
              "6    2\n",
              "7    2\n",
              "8    3\n",
              "9    2\n",
              "dtype: int64"
            ]
          },
          "metadata": {
            "tags": []
          },
          "execution_count": 42
        }
      ]
    },
    {
      "cell_type": "markdown",
      "metadata": {
        "id": "bZcz6A5DUzzY"
      },
      "source": [
        "From the previous output we can see that only the last rows have null values. At this point, once identified that we have both null values in some rows and all columns, we can: \n",
        "- Get rid of rows or columns with nulls\n",
        "- Replace nulls with non-null values, a technique known as imputation\n",
        "\n",
        "As a rule of thumb, removing null data is only suggested if you have a small amount of missing data, which can  be performed using `dropna()`. In this case, we are going to perform `dropna(axis=0)`, which drops all rows with a single null value, returnig a new DataFrame (without altering the original one) unless you specify `inplace=True`. You can also drop columns with null values by setting `axis=1`. Let's check this point."
      ]
    },
    {
      "cell_type": "code",
      "metadata": {
        "colab": {
          "base_uri": "https://localhost:8080/"
        },
        "id": "KXKOtzZ3jLVm",
        "outputId": "4e6e38c3-3972-4092-8c27-a296ff0e670d"
      },
      "source": [
        "print(\"DataFrame with null values:\")\n",
        "print(df_full_copy)\n",
        "print(\"Removing all rows with null values:\")\n",
        "df_without_nan = df_full_copy.dropna(axis=0)\n",
        "print(df_without_nan)\n",
        "print(\"Removing all columns with null values:\")\n",
        "# As it can be seen we obtain a Empty DataFrame\n",
        "df_without_nan = df_full_copy.dropna(axis=1)\n",
        "print(df_without_nan)"
      ],
      "execution_count": 43,
      "outputs": [
        {
          "output_type": "stream",
          "text": [
            "DataFrame with null values:\n",
            "   column1  column2  column3\n",
            "0      0.0      1.0      2.0\n",
            "1      3.0      4.0      5.0\n",
            "2      6.0      7.0      8.0\n",
            "3      9.0     10.0     11.0\n",
            "4      0.0      1.0      2.0\n",
            "5      3.0      4.0      5.0\n",
            "6    100.0      NaN      NaN\n",
            "7    100.0      NaN      NaN\n",
            "8      NaN      NaN      NaN\n",
            "9      NaN    200.0      NaN\n",
            "Removing all rows with null values:\n",
            "   column1  column2  column3\n",
            "0      0.0      1.0      2.0\n",
            "1      3.0      4.0      5.0\n",
            "2      6.0      7.0      8.0\n",
            "3      9.0     10.0     11.0\n",
            "4      0.0      1.0      2.0\n",
            "5      3.0      4.0      5.0\n",
            "Removing all columns with null values:\n",
            "Empty DataFrame\n",
            "Columns: []\n",
            "Index: [0, 1, 2, 3, 4, 5, 6, 7, 8, 9]\n"
          ],
          "name": "stdout"
        }
      ]
    },
    {
      "cell_type": "markdown",
      "metadata": {
        "id": "Ce4F-9f0qYxa"
      },
      "source": [
        "Instead of removing rows/cols with null values, another option is to replace nulls with non-null values (imputation), like the mean or median for that specific column. As an example, we are going to replace all null values with a specific value (e.g. `123`).\n"
      ]
    },
    {
      "cell_type": "code",
      "metadata": {
        "colab": {
          "base_uri": "https://localhost:8080/"
        },
        "id": "yyjneFYnwGlN",
        "outputId": "46e822d0-436d-454c-9058-15862b7df6c1"
      },
      "source": [
        "print(\"DataFrame with null values:\")\n",
        "print(df_full_copy)\n",
        "\n",
        "print(\"DataFrame with all null values replaced with '123.0' value:\")\n",
        "df_without_nan = df_full_copy.copy()\n",
        "df_without_nan.fillna(123.0, inplace = True)\n",
        "print(df_without_nan)"
      ],
      "execution_count": 44,
      "outputs": [
        {
          "output_type": "stream",
          "text": [
            "DataFrame with null values:\n",
            "   column1  column2  column3\n",
            "0      0.0      1.0      2.0\n",
            "1      3.0      4.0      5.0\n",
            "2      6.0      7.0      8.0\n",
            "3      9.0     10.0     11.0\n",
            "4      0.0      1.0      2.0\n",
            "5      3.0      4.0      5.0\n",
            "6    100.0      NaN      NaN\n",
            "7    100.0      NaN      NaN\n",
            "8      NaN      NaN      NaN\n",
            "9      NaN    200.0      NaN\n",
            "DataFrame with all null values replaced with '123.0' value:\n",
            "   column1  column2  column3\n",
            "0      0.0      1.0      2.0\n",
            "1      3.0      4.0      5.0\n",
            "2      6.0      7.0      8.0\n",
            "3      9.0     10.0     11.0\n",
            "4      0.0      1.0      2.0\n",
            "5      3.0      4.0      5.0\n",
            "6    100.0    123.0    123.0\n",
            "7    100.0    123.0    123.0\n",
            "8    123.0    123.0    123.0\n",
            "9    123.0    200.0    123.0\n"
          ],
          "name": "stdout"
        }
      ]
    },
    {
      "cell_type": "markdown",
      "metadata": {
        "id": "ECTfhiMPwrST"
      },
      "source": [
        "We can also replace each null value with the mean value of each corresponding column."
      ]
    },
    {
      "cell_type": "code",
      "metadata": {
        "colab": {
          "base_uri": "https://localhost:8080/"
        },
        "id": "54883w_qsOGu",
        "outputId": "b00af434-b916-416b-da3e-ddc06516a29f"
      },
      "source": [
        "print(\"DataFrame with null values:\")\n",
        "print(df_full_copy)\n",
        "\n",
        "print(\"DataFrame with non null values replaced with the mean:\")\n",
        "df_without_nan = df_full_copy.copy()\n",
        "mean_col_1 = df_without_nan['column1'].mean()\n",
        "mean_col_2 = df_without_nan['column2'].mean()\n",
        "mean_col_3 = df_without_nan['column3'].mean()\n",
        "\n",
        "df_without_nan[\"column1\"].fillna(mean_col_1, inplace = True)\n",
        "df_without_nan[\"column2\"].fillna(mean_col_2, inplace = True)\n",
        "df_without_nan[\"column3\"].fillna(mean_col_3, inplace = True)\n",
        "\n",
        "print(df_without_nan)"
      ],
      "execution_count": 45,
      "outputs": [
        {
          "output_type": "stream",
          "text": [
            "DataFrame with null values:\n",
            "   column1  column2  column3\n",
            "0      0.0      1.0      2.0\n",
            "1      3.0      4.0      5.0\n",
            "2      6.0      7.0      8.0\n",
            "3      9.0     10.0     11.0\n",
            "4      0.0      1.0      2.0\n",
            "5      3.0      4.0      5.0\n",
            "6    100.0      NaN      NaN\n",
            "7    100.0      NaN      NaN\n",
            "8      NaN      NaN      NaN\n",
            "9      NaN    200.0      NaN\n",
            "DataFrame with non null values replaced with the mean:\n",
            "   column1     column2  column3\n",
            "0    0.000    1.000000      2.0\n",
            "1    3.000    4.000000      5.0\n",
            "2    6.000    7.000000      8.0\n",
            "3    9.000   10.000000     11.0\n",
            "4    0.000    1.000000      2.0\n",
            "5    3.000    4.000000      5.0\n",
            "6  100.000   32.428571      5.5\n",
            "7  100.000   32.428571      5.5\n",
            "8   27.625   32.428571      5.5\n",
            "9   27.625  200.000000      5.5\n"
          ],
          "name": "stdout"
        }
      ]
    },
    {
      "cell_type": "markdown",
      "metadata": {
        "id": "aeCwY7iaxAHo"
      },
      "source": [
        "Previous functionality can be performed in a more compact way as follows"
      ]
    },
    {
      "cell_type": "code",
      "metadata": {
        "colab": {
          "base_uri": "https://localhost:8080/"
        },
        "id": "9mak3xFMyd8X",
        "outputId": "346cb6a0-6f9d-47df-ae92-786165d33d77"
      },
      "source": [
        "print(\"DataFrame with null values\")\n",
        "df_without_nan = df_full_copy.copy()\n",
        "print(df_without_nan)\n",
        "\n",
        "# 1. Create a dictionary with 'column:value' pairs:\n",
        "means = df_without_nan[df_without_nan.columns].mean()\n",
        "columns = df_full_copy.columns\n",
        "\n",
        "# Seen that the dictionary 'values' is commonly created as follows: \n",
        "# values = {}\n",
        "# for A, B in zip(columns, means):\n",
        "#     values[A] = B\n",
        "\n",
        "values = dict(zip(columns, means))\n",
        "\n",
        "print(\"\\nDict to be used to fill the null values \\n{}\\n\".format(values))\n",
        "\n",
        "print(\"DataFrame with non null values replaced with the mean:\")\n",
        "# 2. Use this dictionary to fill the null values:\n",
        "df_without_nan.fillna(value=values, inplace=True)\n",
        "print(df_without_nan)"
      ],
      "execution_count": 46,
      "outputs": [
        {
          "output_type": "stream",
          "text": [
            "DataFrame with null values\n",
            "   column1  column2  column3\n",
            "0      0.0      1.0      2.0\n",
            "1      3.0      4.0      5.0\n",
            "2      6.0      7.0      8.0\n",
            "3      9.0     10.0     11.0\n",
            "4      0.0      1.0      2.0\n",
            "5      3.0      4.0      5.0\n",
            "6    100.0      NaN      NaN\n",
            "7    100.0      NaN      NaN\n",
            "8      NaN      NaN      NaN\n",
            "9      NaN    200.0      NaN\n",
            "\n",
            "Dict to be used to fill the null values \n",
            "{'column1': 27.625, 'column2': 32.42857142857143, 'column3': 5.5}\n",
            "\n",
            "DataFrame with non null values replaced with the mean:\n",
            "   column1     column2  column3\n",
            "0    0.000    1.000000      2.0\n",
            "1    3.000    4.000000      5.0\n",
            "2    6.000    7.000000      8.0\n",
            "3    9.000   10.000000     11.0\n",
            "4    0.000    1.000000      2.0\n",
            "5    3.000    4.000000      5.0\n",
            "6  100.000   32.428571      5.5\n",
            "7  100.000   32.428571      5.5\n",
            "8   27.625   32.428571      5.5\n",
            "9   27.625  200.000000      5.5\n"
          ],
          "name": "stdout"
        }
      ]
    },
    {
      "cell_type": "markdown",
      "metadata": {
        "id": "6fTxqI_hi8vS"
      },
      "source": [
        "# Selecting subsets of data in pandas DataFrame\n",
        "\n",
        "In this section, we will see  how to use the `[]` operator and `.loc` or `.iloc` indexers.\n",
        "\n",
        "We already commented that each row and each column have:\n",
        "- a specific 'label' that can be used to reference them\n",
        "- a specific 'integer' that can be used to reference them (integer location)\n",
        "\n",
        "\n",
        "\n",
        "\n"
      ]
    },
    {
      "cell_type": "markdown",
      "metadata": {
        "id": "pQAjTtZZnaEl"
      },
      "source": [
        "## Indexing operator `[]`"
      ]
    },
    {
      "cell_type": "code",
      "metadata": {
        "colab": {
          "base_uri": "https://localhost:8080/",
          "height": 168
        },
        "id": "oPtAd9BFkm1M",
        "outputId": "62bcfb21-e98d-43e1-a854-4979ad9b23d7"
      },
      "source": [
        "numpy_data = np.array([np.arange(3), np.arange(3,6), np.arange(6,9), np.arange(9,12)])                 \n",
        "\n",
        "df = pd.DataFrame(data=numpy_data, \n",
        "                  index=[\"index1\", \"index2\", \"index3\", \"index4\"],\n",
        "                  columns=[\"column1\", \"column2\", \"column3\"])\n",
        "df"
      ],
      "execution_count": 47,
      "outputs": [
        {
          "output_type": "execute_result",
          "data": {
            "text/html": [
              "<div>\n",
              "<style scoped>\n",
              "    .dataframe tbody tr th:only-of-type {\n",
              "        vertical-align: middle;\n",
              "    }\n",
              "\n",
              "    .dataframe tbody tr th {\n",
              "        vertical-align: top;\n",
              "    }\n",
              "\n",
              "    .dataframe thead th {\n",
              "        text-align: right;\n",
              "    }\n",
              "</style>\n",
              "<table border=\"1\" class=\"dataframe\">\n",
              "  <thead>\n",
              "    <tr style=\"text-align: right;\">\n",
              "      <th></th>\n",
              "      <th>column1</th>\n",
              "      <th>column2</th>\n",
              "      <th>column3</th>\n",
              "    </tr>\n",
              "  </thead>\n",
              "  <tbody>\n",
              "    <tr>\n",
              "      <th>index1</th>\n",
              "      <td>0</td>\n",
              "      <td>1</td>\n",
              "      <td>2</td>\n",
              "    </tr>\n",
              "    <tr>\n",
              "      <th>index2</th>\n",
              "      <td>3</td>\n",
              "      <td>4</td>\n",
              "      <td>5</td>\n",
              "    </tr>\n",
              "    <tr>\n",
              "      <th>index3</th>\n",
              "      <td>6</td>\n",
              "      <td>7</td>\n",
              "      <td>8</td>\n",
              "    </tr>\n",
              "    <tr>\n",
              "      <th>index4</th>\n",
              "      <td>9</td>\n",
              "      <td>10</td>\n",
              "      <td>11</td>\n",
              "    </tr>\n",
              "  </tbody>\n",
              "</table>\n",
              "</div>"
            ],
            "text/plain": [
              "        column1  column2  column3\n",
              "index1        0        1        2\n",
              "index2        3        4        5\n",
              "index3        6        7        8\n",
              "index4        9       10       11"
            ]
          },
          "metadata": {
            "tags": []
          },
          "execution_count": 47
        }
      ]
    },
    {
      "cell_type": "markdown",
      "metadata": {
        "id": "fIfJ59kblWxc"
      },
      "source": [
        "It’s possible to select multiple columns with just the indexing operator `[]` by passing it a list of column names. Selecting multiple columns returns a DataFrame. You can actually select a single column as a DataFrame with a one-item list returning also a DataFrame. Selecting a single column returns a Series."
      ]
    },
    {
      "cell_type": "code",
      "metadata": {
        "colab": {
          "base_uri": "https://localhost:8080/",
          "height": 168
        },
        "id": "CRrg95AoktD7",
        "outputId": "9c8f5207-3a63-4b8c-93e8-b247feddf8e2"
      },
      "source": [
        "df[[\"column1\",\"column2\"]]"
      ],
      "execution_count": 48,
      "outputs": [
        {
          "output_type": "execute_result",
          "data": {
            "text/html": [
              "<div>\n",
              "<style scoped>\n",
              "    .dataframe tbody tr th:only-of-type {\n",
              "        vertical-align: middle;\n",
              "    }\n",
              "\n",
              "    .dataframe tbody tr th {\n",
              "        vertical-align: top;\n",
              "    }\n",
              "\n",
              "    .dataframe thead th {\n",
              "        text-align: right;\n",
              "    }\n",
              "</style>\n",
              "<table border=\"1\" class=\"dataframe\">\n",
              "  <thead>\n",
              "    <tr style=\"text-align: right;\">\n",
              "      <th></th>\n",
              "      <th>column1</th>\n",
              "      <th>column2</th>\n",
              "    </tr>\n",
              "  </thead>\n",
              "  <tbody>\n",
              "    <tr>\n",
              "      <th>index1</th>\n",
              "      <td>0</td>\n",
              "      <td>1</td>\n",
              "    </tr>\n",
              "    <tr>\n",
              "      <th>index2</th>\n",
              "      <td>3</td>\n",
              "      <td>4</td>\n",
              "    </tr>\n",
              "    <tr>\n",
              "      <th>index3</th>\n",
              "      <td>6</td>\n",
              "      <td>7</td>\n",
              "    </tr>\n",
              "    <tr>\n",
              "      <th>index4</th>\n",
              "      <td>9</td>\n",
              "      <td>10</td>\n",
              "    </tr>\n",
              "  </tbody>\n",
              "</table>\n",
              "</div>"
            ],
            "text/plain": [
              "        column1  column2\n",
              "index1        0        1\n",
              "index2        3        4\n",
              "index3        6        7\n",
              "index4        9       10"
            ]
          },
          "metadata": {
            "tags": []
          },
          "execution_count": 48
        }
      ]
    },
    {
      "cell_type": "markdown",
      "metadata": {
        "id": "woJ5jT81mBfG"
      },
      "source": [
        "Therefore, see the obtained types for the different columns selection."
      ]
    },
    {
      "cell_type": "code",
      "metadata": {
        "colab": {
          "base_uri": "https://localhost:8080/"
        },
        "id": "UBqZ699Nl6AI",
        "outputId": "4e4a8723-67bc-42ff-ed1c-080d697e82b1"
      },
      "source": [
        "print(type(df[[\"column1\",\"column2\"]]))\n",
        "print(type(df[[\"column1\"]]))\n",
        "print(type(df[\"column1\"]))"
      ],
      "execution_count": 49,
      "outputs": [
        {
          "output_type": "stream",
          "text": [
            "<class 'pandas.core.frame.DataFrame'>\n",
            "<class 'pandas.core.frame.DataFrame'>\n",
            "<class 'pandas.core.series.Series'>\n"
          ],
          "name": "stdout"
        }
      ]
    },
    {
      "cell_type": "code",
      "metadata": {
        "colab": {
          "base_uri": "https://localhost:8080/"
        },
        "id": "tCqUBwOd0Ihh",
        "outputId": "f41e5390-7d6f-492c-8d25-7af4c0b983e4"
      },
      "source": [
        "df[\"column1\"]"
      ],
      "execution_count": 50,
      "outputs": [
        {
          "output_type": "execute_result",
          "data": {
            "text/plain": [
              "index1    0\n",
              "index2    3\n",
              "index3    6\n",
              "index4    9\n",
              "Name: column1, dtype: int64"
            ]
          },
          "metadata": {
            "tags": []
          },
          "execution_count": 50
        }
      ]
    },
    {
      "cell_type": "markdown",
      "metadata": {
        "id": "Z7SiXFMOnFrg"
      },
      "source": [
        "\n",
        "The take away from the indexin operator `[]` is:\n",
        "\n",
        "- Its primary purpose is to select columns by the column names\n",
        "- Select a single column as a Series\n",
        "- Select multiple columns as a DataFrame \n",
        "- You actually can select rows with it, but this will not be shown here as it is confusing and not used often."
      ]
    },
    {
      "cell_type": "markdown",
      "metadata": {
        "id": "MBNiAmtOnh4V"
      },
      "source": [
        "## The `.loc` indexer\n",
        "\n",
        "The `.loc` indexer is used to select data by label of the rows and columns. Main properties of `.loc` are:\n",
        "\n",
        "- Only uses labels\n",
        "- Can select rows and columns simultaneously\n",
        "- Selection can be a single label, a list of labels or a slice of labels\n",
        "- Put a comma between row and column selections"
      ]
    },
    {
      "cell_type": "code",
      "metadata": {
        "colab": {
          "base_uri": "https://localhost:8080/",
          "height": 168
        },
        "id": "nZ1wK2FTpBOU",
        "outputId": "acee74e8-419a-44cc-e63d-fd219d178b8c"
      },
      "source": [
        "# Select all rows and a list with one column\n",
        "df.loc[:, [\"column1\"]]"
      ],
      "execution_count": 51,
      "outputs": [
        {
          "output_type": "execute_result",
          "data": {
            "text/html": [
              "<div>\n",
              "<style scoped>\n",
              "    .dataframe tbody tr th:only-of-type {\n",
              "        vertical-align: middle;\n",
              "    }\n",
              "\n",
              "    .dataframe tbody tr th {\n",
              "        vertical-align: top;\n",
              "    }\n",
              "\n",
              "    .dataframe thead th {\n",
              "        text-align: right;\n",
              "    }\n",
              "</style>\n",
              "<table border=\"1\" class=\"dataframe\">\n",
              "  <thead>\n",
              "    <tr style=\"text-align: right;\">\n",
              "      <th></th>\n",
              "      <th>column1</th>\n",
              "    </tr>\n",
              "  </thead>\n",
              "  <tbody>\n",
              "    <tr>\n",
              "      <th>index1</th>\n",
              "      <td>0</td>\n",
              "    </tr>\n",
              "    <tr>\n",
              "      <th>index2</th>\n",
              "      <td>3</td>\n",
              "    </tr>\n",
              "    <tr>\n",
              "      <th>index3</th>\n",
              "      <td>6</td>\n",
              "    </tr>\n",
              "    <tr>\n",
              "      <th>index4</th>\n",
              "      <td>9</td>\n",
              "    </tr>\n",
              "  </tbody>\n",
              "</table>\n",
              "</div>"
            ],
            "text/plain": [
              "        column1\n",
              "index1        0\n",
              "index2        3\n",
              "index3        6\n",
              "index4        9"
            ]
          },
          "metadata": {
            "tags": []
          },
          "execution_count": 51
        }
      ]
    },
    {
      "cell_type": "code",
      "metadata": {
        "colab": {
          "base_uri": "https://localhost:8080/",
          "height": 138
        },
        "id": "E1BitidmpYWA",
        "outputId": "e61ec41f-430b-4497-ffc9-4dcfc4d59980"
      },
      "source": [
        "# Select a slice of rows and all columns\n",
        "# Note that slicing here includes the last element\n",
        "df.loc[\"index1\":\"index3\", :]"
      ],
      "execution_count": 52,
      "outputs": [
        {
          "output_type": "execute_result",
          "data": {
            "text/html": [
              "<div>\n",
              "<style scoped>\n",
              "    .dataframe tbody tr th:only-of-type {\n",
              "        vertical-align: middle;\n",
              "    }\n",
              "\n",
              "    .dataframe tbody tr th {\n",
              "        vertical-align: top;\n",
              "    }\n",
              "\n",
              "    .dataframe thead th {\n",
              "        text-align: right;\n",
              "    }\n",
              "</style>\n",
              "<table border=\"1\" class=\"dataframe\">\n",
              "  <thead>\n",
              "    <tr style=\"text-align: right;\">\n",
              "      <th></th>\n",
              "      <th>column1</th>\n",
              "      <th>column2</th>\n",
              "      <th>column3</th>\n",
              "    </tr>\n",
              "  </thead>\n",
              "  <tbody>\n",
              "    <tr>\n",
              "      <th>index1</th>\n",
              "      <td>0</td>\n",
              "      <td>1</td>\n",
              "      <td>2</td>\n",
              "    </tr>\n",
              "    <tr>\n",
              "      <th>index2</th>\n",
              "      <td>3</td>\n",
              "      <td>4</td>\n",
              "      <td>5</td>\n",
              "    </tr>\n",
              "    <tr>\n",
              "      <th>index3</th>\n",
              "      <td>6</td>\n",
              "      <td>7</td>\n",
              "      <td>8</td>\n",
              "    </tr>\n",
              "  </tbody>\n",
              "</table>\n",
              "</div>"
            ],
            "text/plain": [
              "        column1  column2  column3\n",
              "index1        0        1        2\n",
              "index2        3        4        5\n",
              "index3        6        7        8"
            ]
          },
          "metadata": {
            "tags": []
          },
          "execution_count": 52
        }
      ]
    },
    {
      "cell_type": "code",
      "metadata": {
        "colab": {
          "base_uri": "https://localhost:8080/",
          "height": 96
        },
        "id": "5p154p6xqSAi",
        "outputId": "395ce202-75f5-4086-83c1-f3622b464d1a"
      },
      "source": [
        "# Selecting a single element:\n",
        "# This returns a scalar value:\n",
        "print(df.loc[\"index2\", \"column1\"])\n",
        "# This returns a DataFrame:\n",
        "df.loc[[\"index2\"], [\"column1\"]]"
      ],
      "execution_count": 53,
      "outputs": [
        {
          "output_type": "stream",
          "text": [
            "3\n"
          ],
          "name": "stdout"
        },
        {
          "output_type": "execute_result",
          "data": {
            "text/html": [
              "<div>\n",
              "<style scoped>\n",
              "    .dataframe tbody tr th:only-of-type {\n",
              "        vertical-align: middle;\n",
              "    }\n",
              "\n",
              "    .dataframe tbody tr th {\n",
              "        vertical-align: top;\n",
              "    }\n",
              "\n",
              "    .dataframe thead th {\n",
              "        text-align: right;\n",
              "    }\n",
              "</style>\n",
              "<table border=\"1\" class=\"dataframe\">\n",
              "  <thead>\n",
              "    <tr style=\"text-align: right;\">\n",
              "      <th></th>\n",
              "      <th>column1</th>\n",
              "    </tr>\n",
              "  </thead>\n",
              "  <tbody>\n",
              "    <tr>\n",
              "      <th>index2</th>\n",
              "      <td>3</td>\n",
              "    </tr>\n",
              "  </tbody>\n",
              "</table>\n",
              "</div>"
            ],
            "text/plain": [
              "        column1\n",
              "index2        3"
            ]
          },
          "metadata": {
            "tags": []
          },
          "execution_count": 53
        }
      ]
    },
    {
      "cell_type": "markdown",
      "metadata": {
        "id": "N7TTJ_mKy1s1"
      },
      "source": [
        "## The `.iloc` indexer\n",
        "The `.iloc` indexer is very similar to `.loc` but only uses integer locations to make its selections. The word .`iloc` stands for integer location. \n",
        "\n",
        "Therefore, the `.iloc` indexer is used to select data by label of the rows and columns. Main properties of `.iloc` are:\n",
        "\n",
        "- Only uses integers\n",
        "- Can select rows and columns simultaneously\n",
        "- Selection can be a single label, a list of integers or a slice of integers\n",
        "- Put a comma between row and column selections"
      ]
    },
    {
      "cell_type": "code",
      "metadata": {
        "colab": {
          "base_uri": "https://localhost:8080/",
          "height": 168
        },
        "id": "om7gyOTJzfoF",
        "outputId": "101bef0d-fd7f-41bc-f437-5c8c0b06e0b2"
      },
      "source": [
        "# Select all rows and a list with one column\n",
        "df.iloc[:, [0]]"
      ],
      "execution_count": 54,
      "outputs": [
        {
          "output_type": "execute_result",
          "data": {
            "text/html": [
              "<div>\n",
              "<style scoped>\n",
              "    .dataframe tbody tr th:only-of-type {\n",
              "        vertical-align: middle;\n",
              "    }\n",
              "\n",
              "    .dataframe tbody tr th {\n",
              "        vertical-align: top;\n",
              "    }\n",
              "\n",
              "    .dataframe thead th {\n",
              "        text-align: right;\n",
              "    }\n",
              "</style>\n",
              "<table border=\"1\" class=\"dataframe\">\n",
              "  <thead>\n",
              "    <tr style=\"text-align: right;\">\n",
              "      <th></th>\n",
              "      <th>column1</th>\n",
              "    </tr>\n",
              "  </thead>\n",
              "  <tbody>\n",
              "    <tr>\n",
              "      <th>index1</th>\n",
              "      <td>0</td>\n",
              "    </tr>\n",
              "    <tr>\n",
              "      <th>index2</th>\n",
              "      <td>3</td>\n",
              "    </tr>\n",
              "    <tr>\n",
              "      <th>index3</th>\n",
              "      <td>6</td>\n",
              "    </tr>\n",
              "    <tr>\n",
              "      <th>index4</th>\n",
              "      <td>9</td>\n",
              "    </tr>\n",
              "  </tbody>\n",
              "</table>\n",
              "</div>"
            ],
            "text/plain": [
              "        column1\n",
              "index1        0\n",
              "index2        3\n",
              "index3        6\n",
              "index4        9"
            ]
          },
          "metadata": {
            "tags": []
          },
          "execution_count": 54
        }
      ]
    },
    {
      "cell_type": "code",
      "metadata": {
        "colab": {
          "base_uri": "https://localhost:8080/",
          "height": 138
        },
        "id": "X1rpK0UAzpeN",
        "outputId": "6f5296cc-7095-46f7-c7a3-9deaa21d9a44"
      },
      "source": [
        "# Select a slice of rows and all columns\n",
        "# Note that slicing here includes the last element\n",
        "df.iloc[0:3, :]"
      ],
      "execution_count": 55,
      "outputs": [
        {
          "output_type": "execute_result",
          "data": {
            "text/html": [
              "<div>\n",
              "<style scoped>\n",
              "    .dataframe tbody tr th:only-of-type {\n",
              "        vertical-align: middle;\n",
              "    }\n",
              "\n",
              "    .dataframe tbody tr th {\n",
              "        vertical-align: top;\n",
              "    }\n",
              "\n",
              "    .dataframe thead th {\n",
              "        text-align: right;\n",
              "    }\n",
              "</style>\n",
              "<table border=\"1\" class=\"dataframe\">\n",
              "  <thead>\n",
              "    <tr style=\"text-align: right;\">\n",
              "      <th></th>\n",
              "      <th>column1</th>\n",
              "      <th>column2</th>\n",
              "      <th>column3</th>\n",
              "    </tr>\n",
              "  </thead>\n",
              "  <tbody>\n",
              "    <tr>\n",
              "      <th>index1</th>\n",
              "      <td>0</td>\n",
              "      <td>1</td>\n",
              "      <td>2</td>\n",
              "    </tr>\n",
              "    <tr>\n",
              "      <th>index2</th>\n",
              "      <td>3</td>\n",
              "      <td>4</td>\n",
              "      <td>5</td>\n",
              "    </tr>\n",
              "    <tr>\n",
              "      <th>index3</th>\n",
              "      <td>6</td>\n",
              "      <td>7</td>\n",
              "      <td>8</td>\n",
              "    </tr>\n",
              "  </tbody>\n",
              "</table>\n",
              "</div>"
            ],
            "text/plain": [
              "        column1  column2  column3\n",
              "index1        0        1        2\n",
              "index2        3        4        5\n",
              "index3        6        7        8"
            ]
          },
          "metadata": {
            "tags": []
          },
          "execution_count": 55
        }
      ]
    },
    {
      "cell_type": "code",
      "metadata": {
        "colab": {
          "base_uri": "https://localhost:8080/"
        },
        "id": "dxMvN81Ezx9_",
        "outputId": "eb2e6edc-a8db-42a8-b13a-56e159716111"
      },
      "source": [
        "# Selecting a single element:\n",
        "# This returns a scalar value:\n",
        "print(df.iloc[1, 0])\n",
        "# This returns a DataFrame:\n",
        "print(df.iloc[[1], [0]])"
      ],
      "execution_count": 56,
      "outputs": [
        {
          "output_type": "stream",
          "text": [
            "3\n",
            "        column1\n",
            "index2        3\n"
          ],
          "name": "stdout"
        }
      ]
    },
    {
      "cell_type": "markdown",
      "metadata": {
        "id": "cv3knGGk0kIz"
      },
      "source": [
        "# Conclusion\n",
        "\n",
        "In this notebook an introduction to pandas is given. Remember to check [this tutorial about pandas](https://medium.com/dunder-data/selecting-subsets-of-data-in-pandas-6fcd0170be9c)."
      ]
    }
  ]
}