{
  "nbformat": 4,
  "nbformat_minor": 0,
  "metadata": {
    "colab": {
      "name": "2_learning.ipynb",
      "provenance": [],
      "collapsed_sections": [],
      "toc_visible": true,
      "authorship_tag": "ABX9TyN6IPX5nDsjqxBE/0+hNRh8",
      "include_colab_link": true
    },
    "kernelspec": {
      "name": "python3",
      "display_name": "Python 3"
    },
    "language_info": {
      "name": "python"
    },
    "accelerator": "GPU"
  },
  "cells": [
    {
      "cell_type": "markdown",
      "metadata": {
        "id": "view-in-github",
        "colab_type": "text"
      },
      "source": [
        "<a href=\"https://colab.research.google.com/github/rusamentiaga/pytorch-test/blob/main/2_learning.ipynb\" target=\"_parent\"><img src=\"https://colab.research.google.com/assets/colab-badge.svg\" alt=\"Open In Colab\"/></a>"
      ]
    },
    {
      "cell_type": "markdown",
      "metadata": {
        "id": "NarO1rYBnxRA"
      },
      "source": [
        "# Machine learning\n",
        "\n",
        "Machine learning on a computer produces outputs to new inputs in the expected way. One of the most common forms used today is learning through examples, where a model is built that allows relating inputs and outputs. In this way, you can subsequently respond to new inputs using the information stored in the model. This form of learning is called supervised when the examples are labeled, that is, when each input has an expected output associated with it.\n",
        "\n",
        "To understand this process, this tutorial proposes an estimation of a linear model.\n"
      ]
    },
    {
      "cell_type": "markdown",
      "metadata": {
        "id": "bjxQXaWHplv1"
      },
      "source": [
        "# Data generation\n",
        "\n",
        "First, some data will be generated using PyTorch."
      ]
    },
    {
      "cell_type": "code",
      "metadata": {
        "colab": {
          "base_uri": "https://localhost:8080/",
          "height": 36
        },
        "id": "liAYc8UFNlOY",
        "outputId": "9b3772ae-1d52-4f06-f465-ae132f5f26c8"
      },
      "source": [
        "import matplotlib.pyplot as plt\n",
        "import torch\n",
        "torch.version.__version__"
      ],
      "execution_count": null,
      "outputs": [
        {
          "output_type": "execute_result",
          "data": {
            "application/vnd.google.colaboratory.intrinsic+json": {
              "type": "string"
            },
            "text/plain": [
              "'1.8.1+cu101'"
            ]
          },
          "metadata": {
            "tags": []
          },
          "execution_count": 1
        }
      ]
    },
    {
      "cell_type": "code",
      "metadata": {
        "colab": {
          "base_uri": "https://localhost:8080/"
        },
        "id": "L1woY6pkNr4B",
        "outputId": "cd5ba636-7112-4dc1-a115-ae201cd32f77"
      },
      "source": [
        "torch.cuda.is_available()"
      ],
      "execution_count": null,
      "outputs": [
        {
          "output_type": "execute_result",
          "data": {
            "text/plain": [
              "True"
            ]
          },
          "metadata": {
            "tags": []
          },
          "execution_count": 2
        }
      ]
    },
    {
      "cell_type": "markdown",
      "metadata": {
        "id": "ZiPirQ8Jpswr"
      },
      "source": [
        "Data is generated from a line and then noise is added to it."
      ]
    },
    {
      "cell_type": "code",
      "metadata": {
        "colab": {
          "base_uri": "https://localhost:8080/",
          "height": 283
        },
        "id": "wvu5JHu5OW5k",
        "outputId": "fe4d3d9c-793b-4f06-9bd0-fe79e17af9fa"
      },
      "source": [
        "torch.manual_seed(0)\n",
        "\n",
        "x = torch.tensor(range(100))\n",
        "W = 2\n",
        "B = 3\n",
        "y = W*x + B\n",
        "y = y + 10*(torch.rand(x.shape[0]) - 0.5)\n",
        "plt.plot(x,y)"
      ],
      "execution_count": null,
      "outputs": [
        {
          "output_type": "execute_result",
          "data": {
            "text/plain": [
              "[<matplotlib.lines.Line2D at 0x7f8dc00eecd0>]"
            ]
          },
          "metadata": {
            "tags": []
          },
          "execution_count": 3
        },
        {
          "output_type": "display_data",
          "data": {
            "image/png": "[encoded data removed]",
            "text/plain": [
              "<Figure size 432x288 with 1 Axes>"
            ]
          },
          "metadata": {
            "tags": [],
            "needs_background": "light"
          }
        }
      ]
    },
    {
      "cell_type": "markdown",
      "metadata": {
        "id": "vk1myubkpx1R"
      },
      "source": [
        "# Definition of the model"
      ]
    },
    {
      "cell_type": "markdown",
      "metadata": {
        "id": "97GOHnTdqHSf"
      },
      "source": [
        "A model is a mathematical function that relates inputs and outputs. In addition, each model will have certain parameters. In this case, the model of a straight line is $ y = wx + b $, therefore the parameters are $ w $ and $ b $."
      ]
    },
    {
      "cell_type": "code",
      "metadata": {
        "id": "ykMGY2H1PC3G"
      },
      "source": [
        "def model(x, w, b):\n",
        "  return w * x + b"
      ],
      "execution_count": null,
      "outputs": []
    },
    {
      "cell_type": "markdown",
      "metadata": {
        "id": "HvOxihHqqwa3"
      },
      "source": [
        "The model can be evaluated given some inputs and some parameters."
      ]
    },
    {
      "cell_type": "code",
      "metadata": {
        "colab": {
          "base_uri": "https://localhost:8080/",
          "height": 283
        },
        "id": "9qDCg5sOPIgD",
        "outputId": "6797da38-b6eb-4844-df17-ea632d0f279b"
      },
      "source": [
        "plt.plot(x,y)\n",
        "\n",
        "yp = model(x, 2.5, -20)\n",
        "plt.plot(x,yp)"
      ],
      "execution_count": null,
      "outputs": [
        {
          "output_type": "execute_result",
          "data": {
            "text/plain": [
              "[<matplotlib.lines.Line2D at 0x7f8dbd9a3e50>]"
            ]
          },
          "metadata": {
            "tags": []
          },
          "execution_count": 5
        },
        {
          "output_type": "display_data",
          "data": {
            "image/png": "[encoded data removed]",
            "text/plain": [
              "<Figure size 432x288 with 1 Axes>"
            ]
          },
          "metadata": {
            "tags": [],
            "needs_background": "light"
          }
        }
      ]
    },
    {
      "cell_type": "markdown",
      "metadata": {
        "id": "6oZDSjbLq0-_"
      },
      "source": [
        "# Loss function"
      ]
    },
    {
      "cell_type": "markdown",
      "metadata": {
        "id": "D--AIhPdrCH8"
      },
      "source": [
        "To determine the accuracy of a model, a loss function is defined to determine the difference between the prediction and the reality. The most common metric is the quadratic difference between the prediction and reality. $ MSE = \\frac {\\sum_i^ N {(yp-y) ^ 2}} {N} $"
      ]
    },
    {
      "cell_type": "code",
      "metadata": {
        "id": "FImDcO4aPQbp"
      },
      "source": [
        "def loss_fn(yp, y):\n",
        "  squared_diffs = (yp - y)**2\n",
        "  return squared_diffs.mean()"
      ],
      "execution_count": null,
      "outputs": []
    },
    {
      "cell_type": "markdown",
      "metadata": {
        "id": "mGL4a6IHr1Hc"
      },
      "source": [
        "The loss function allows us to determine how well a model fits the data."
      ]
    },
    {
      "cell_type": "code",
      "metadata": {
        "colab": {
          "base_uri": "https://localhost:8080/"
        },
        "id": "mgYTnjq-PbUl",
        "outputId": "5fe0c187-4e54-4e1f-ca93-976315267e97"
      },
      "source": [
        "yp = model(x, 2.5, -20)\n",
        "loss_fn(yp, y)"
      ],
      "execution_count": null,
      "outputs": [
        {
          "output_type": "execute_result",
          "data": {
            "text/plain": [
              "tensor(215.5211)"
            ]
          },
          "metadata": {
            "tags": []
          },
          "execution_count": 7
        }
      ]
    },
    {
      "cell_type": "markdown",
      "metadata": {
        "id": "CU2Jstztr9TT"
      },
      "source": [
        "The closer the model is to the optimum, the lower the loss."
      ]
    },
    {
      "cell_type": "code",
      "metadata": {
        "colab": {
          "base_uri": "https://localhost:8080/"
        },
        "id": "tOr6U6uDPnGW",
        "outputId": "0f93c1d5-4f3a-40dd-eba4-6abfd380432c"
      },
      "source": [
        "y3 = model(x, 2, 5)\n",
        "loss_fn(y3, y)"
      ],
      "execution_count": null,
      "outputs": [
        {
          "output_type": "execute_result",
          "data": {
            "text/plain": [
              "tensor(13.0642)"
            ]
          },
          "metadata": {
            "tags": []
          },
          "execution_count": 8
        }
      ]
    },
    {
      "cell_type": "markdown",
      "metadata": {
        "id": "-RK4iAs8rQ9Z"
      },
      "source": [
        "# Gradient descent training"
      ]
    },
    {
      "cell_type": "markdown",
      "metadata": {
        "id": "EzMMkloEsmB-"
      },
      "source": [
        "Training the model consists of estimating the optimal parameters of the model for certain data."
      ]
    },
    {
      "cell_type": "markdown",
      "metadata": {
        "id": "Au8g_l9Es0hJ"
      },
      "source": [
        "## Model initialization\n",
        "\n",
        "The model can be initialized from a configuration close to the ideal if it is known. In most cases, the optimum is not known, which forces a random initialization with the consequent error."
      ]
    },
    {
      "cell_type": "code",
      "metadata": {
        "colab": {
          "base_uri": "https://localhost:8080/"
        },
        "id": "PIWaAQZGt0jg",
        "outputId": "c0f9f20d-0b38-4ab8-acdb-34d45c14db6f"
      },
      "source": [
        "wp = torch.rand(1)\n",
        "bp = torch.rand(1)\n",
        "yp = model(x, wp, bp)\n",
        "loss_fn(yp, y)"
      ],
      "execution_count": null,
      "outputs": [
        {
          "output_type": "execute_result",
          "data": {
            "text/plain": [
              "tensor(3712.4043)"
            ]
          },
          "metadata": {
            "tags": []
          },
          "execution_count": 9
        }
      ]
    },
    {
      "cell_type": "markdown",
      "metadata": {
        "id": "vuV3VZF8uGUO"
      },
      "source": [
        "The problem of trining is to determine, given a configuration, how to move in the right direction."
      ]
    },
    {
      "cell_type": "markdown",
      "metadata": {
        "id": "4touLFMJEL3e"
      },
      "source": [
        "## Learning: estimating the optimal model parameters"
      ]
    },
    {
      "cell_type": "markdown",
      "metadata": {
        "id": "dvI8uEt2t0DH"
      },
      "source": [
        "Suppose you want to find the minimum of a function starting from a random point. In this case, which would be the advance direction?"
      ]
    },
    {
      "cell_type": "code",
      "metadata": {
        "colab": {
          "base_uri": "https://localhost:8080/",
          "height": 283
        },
        "id": "yYdQ5gRcuSP4",
        "outputId": "3a6388e1-8cc3-4e81-f262-2e4c37fd8fd7"
      },
      "source": [
        "xt = torch.linspace(-10,10,100)\n",
        "yt = xt**2\n",
        "plt.plot(xt,yt)\n",
        "\n",
        "xi = 7\n",
        "yi = xi**2\n",
        "plt.plot(xi,yi,'.')"
      ],
      "execution_count": null,
      "outputs": [
        {
          "output_type": "execute_result",
          "data": {
            "text/plain": [
              "[<matplotlib.lines.Line2D at 0x7f8dbd8a9890>]"
            ]
          },
          "metadata": {
            "tags": []
          },
          "execution_count": 10
        },
        {
          "output_type": "display_data",
          "data": {
            "image/png": "[encoded data removed]",
            "text/plain": [
              "<Figure size 432x288 with 1 Axes>"
            ]
          },
          "metadata": {
            "tags": [],
            "needs_background": "light"
          }
        }
      ]
    },
    {
      "cell_type": "markdown",
      "metadata": {
        "id": "hVBS5YSDvDWb"
      },
      "source": [
        "It seems clear that we must move in the direction of the gradient. Precisely, this is the algorithm used to find the optimal configuration of the model parameters: descending in the direction of the maximum gradient.\n",
        "\n",
        "This same process can be extended to the multidimensional case. The intuitive idea is that of the fall of water on a surface.\n",
        "\n",
        "<center><img src=\"https://upload.wikimedia.org/wikipedia/commons/6/68/Gradient_ascent_%28surface%29.png\"></center>"
      ]
    },
    {
      "cell_type": "markdown",
      "metadata": {
        "id": "mp1pu1bG6dKc"
      },
      "source": [
        "Mathematically, the idea consists in calculating the rate of change of the loss function with respect to each parameter of the model. Subsequently, each parameter is modified in the direction indicated by the loss function. Analytically, the calculation of the gradient corresponds to the calculation of the derivative.\n",
        "\n",
        "The calculation of the gradient of the loss function with respect to each parameter of the model would be:\n",
        "\n",
        "$\\frac{d(loss\\_fn)}{d(w)}$\n",
        "\n",
        "Applying the [chain rule](https://en.wikipedia.org/wiki/Chain_rule), this derivative can be calculated as\n",
        "\n",
        "$\\frac{d(loss\\_fn)}{d(w)} = \\frac{d(loss\\_fn)}{d(y)} \\frac{d(y)}{d(w)}$\n",
        "\n",
        "For the other parameter:\n",
        "\n",
        "$\\frac{d(loss\\_fn)}{d(b)} = \\frac{d(loss\\_fn)}{d(y)} \\frac{d(y)}{d(b)}$\n"
      ]
    },
    {
      "cell_type": "markdown",
      "metadata": {
        "id": "GfmKazWqtVN9"
      },
      "source": [
        "Functions with these derivatives can be implemented. For example for $y = wx+b$, then $\\frac{d(y)}{d(w)} = x$ and $\\frac{d(y)}{d(b)} = 1$"
      ]
    },
    {
      "cell_type": "code",
      "metadata": {
        "id": "r-qU7ytFRnWL"
      },
      "source": [
        "def dy_dw(x, w, b):\n",
        "  return x\n",
        "\n",
        "def dy_db(x, w, b):\n",
        "  return 1.0"
      ],
      "execution_count": null,
      "outputs": []
    },
    {
      "cell_type": "markdown",
      "metadata": {
        "id": "qBRu9_mk85Ea"
      },
      "source": [
        "Finally, the derivative of the loss function would be calculated and the gradient over the data would be evaluated."
      ]
    },
    {
      "cell_type": "code",
      "metadata": {
        "id": "kLVz_HdH87mS"
      },
      "source": [
        "def dloss_fn(yp, y):\n",
        "  dsq_diffs = 2 * (yp - y) / yp.size(0)\n",
        "  return dsq_diffs\n",
        "\n",
        "def grad_fn(x, y, yp, w, b):\n",
        "  dloss_dy = dloss_fn(yp, y)\n",
        "  dloss_dw = dloss_dy * dy_dw(x, w, b)\n",
        "  dloss_db = dloss_dy * dy_db(x, w, b)\n",
        "  return (dloss_dw.sum(), dloss_db.sum())"
      ],
      "execution_count": null,
      "outputs": []
    },
    {
      "cell_type": "markdown",
      "metadata": {
        "id": "j-qtjq_e9hjb"
      },
      "source": [
        "Once the gradient is known, the algorithm could iteratively advance in that direction at a certain speed. The speed at which it advances is known as the learning rateo. The algorithm would be similar to the following."
      ]
    },
    {
      "cell_type": "code",
      "metadata": {
        "id": "aFkQyAanQxHn"
      },
      "source": [
        "def training_loop(n_epochs, learning_rate, wp, bp, x, y):\n",
        "\n",
        "  loss_epochs = []\n",
        "  for epoch in range(n_epochs):\n",
        "      # Computes our model's predicted output\n",
        "      yp = model(x, wp, bp)\n",
        "      \n",
        "      # Compute the loss: how good the model is\n",
        "      loss = loss_fn(yp, y)\n",
        "      loss_epochs.append(loss)\n",
        "\n",
        "      # Compute the gradient\n",
        "      (wp_grad, bp_grad) = grad_fn(x, y, yp, wp, bp)\n",
        "    \n",
        "      # Updates parameters using gradients and the learning rate\n",
        "      wp = wp - learning_rate * wp_grad\n",
        "      bp = bp - learning_rate * bp_grad\n",
        "\n",
        "      if epoch+1 in (1, 2, 3, 4, 5, 10, 100, 500, 1000, 5000, 10000):\n",
        "        print(f'Epoch {epoch+1}, Loss {loss}, wp_grad: {wp_grad}, bp_grad: {bp_grad}')\n",
        "    \n",
        "  return (wp, bp, loss_epochs)"
      ],
      "execution_count": null,
      "outputs": []
    },
    {
      "cell_type": "markdown",
      "metadata": {
        "id": "bmZBSIU492bH"
      },
      "source": [
        "Learning is carried out from an initial model, with a certain learning ratio and during a number of iterations."
      ]
    },
    {
      "cell_type": "code",
      "metadata": {
        "colab": {
          "base_uri": "https://localhost:8080/"
        },
        "id": "xwGpwYHzp0Me",
        "outputId": "510a9648-d58f-4f5f-8959-cd142651c536"
      },
      "source": [
        "(wp, bp, loss) = training_loop(n_epochs = 1000, \n",
        "              learning_rate = 1e-2,\n",
        "              wp = 1,\n",
        "              bp = 1,\n",
        "              x = x,\n",
        "              y = y)"
      ],
      "execution_count": null,
      "outputs": [
        {
          "output_type": "stream",
          "text": [
            "Epoch 1, Loss 3491.89306640625, wp_grad: -6763.255859375, bp_grad: -102.76838684082031\n",
            "Epoch 2, Loss 14572118.0, wp_grad: 437481.5, bp_grad: 6594.91015625\n",
            "Epoch 3, Loss 60971732992.0, wp_grad: -28298460.0, bp_grad: -426643.625\n",
            "Epoch 4, Loss 255114279387136.0, wp_grad: 1830483712.0, bp_grad: 27597362.0\n",
            "Epoch 5, Loss 1.0674335821940654e+18, wp_grad: -118404694016.0, bp_grad: -1785133312.0\n",
            "Epoch 10, Loss 1.3688997551443584e+36, wp_grad: 1.3408626104393427e+20, bp_grad: 2.0215571310266286e+18\n",
            "Epoch 100, Loss nan, wp_grad: nan, bp_grad: nan\n",
            "Epoch 500, Loss nan, wp_grad: nan, bp_grad: nan\n",
            "Epoch 1000, Loss nan, wp_grad: nan, bp_grad: nan\n"
          ],
          "name": "stdout"
        }
      ]
    },
    {
      "cell_type": "markdown",
      "metadata": {
        "id": "x6i9bsIUwd3T"
      },
      "source": [
        "However, as can be seen, the algorithm does not work."
      ]
    },
    {
      "cell_type": "markdown",
      "metadata": {
        "id": "Jc_VNgYVEkki"
      },
      "source": [
        "## Solution to convergence problems"
      ]
    },
    {
      "cell_type": "markdown",
      "metadata": {
        "id": "R8oKAlRD-aGS"
      },
      "source": [
        "In this case, the system does not converge. The learning rate is too high. The problem can be seen in the following example."
      ]
    },
    {
      "cell_type": "code",
      "metadata": {
        "colab": {
          "base_uri": "https://localhost:8080/",
          "height": 265
        },
        "id": "p91qouIF-sSg",
        "outputId": "4e9084af-1ec7-43be-87ae-004a225de0d7"
      },
      "source": [
        "xt = torch.linspace(-20,20,100)\n",
        "yt = xt**2\n",
        "plt.plot(xt,yt)\n",
        "\n",
        "xi = 7\n",
        "yi = xi**2\n",
        "\n",
        "def train_test(n_epochs, learning_rate, xi, yi):\n",
        "  plt.plot(xi,yi,'.')\n",
        "\n",
        "  ax = plt.gca()\n",
        "\n",
        "  \n",
        "\n",
        "  for i in range(n_epochs):\n",
        "\n",
        "    xi = xi - learning_rate*(2*xi)\n",
        "    yi = xi**2\n",
        "    plt.plot(xi,yi,'.')\n",
        "  \n",
        "    plt.text(xi, yi, f'Epoch {i+1}')\n",
        "\n",
        "\n",
        "n_epochs = 3\n",
        "learning_rate = 1.2\n",
        "\n",
        "train_test(n_epochs, learning_rate, xi, yi)"
      ],
      "execution_count": null,
      "outputs": [
        {
          "output_type": "display_data",
          "data": {
            "image/png": "[encoded data removed]",
            "text/plain": [
              "<Figure size 432x288 with 1 Axes>"
            ]
          },
          "metadata": {
            "tags": [],
            "needs_background": "light"
          }
        }
      ]
    },
    {
      "cell_type": "markdown",
      "metadata": {
        "id": "wrk08ZJ2Cxcd"
      },
      "source": [
        "When the learning ratio is reduced this problem is solved."
      ]
    },
    {
      "cell_type": "code",
      "metadata": {
        "colab": {
          "base_uri": "https://localhost:8080/",
          "height": 265
        },
        "id": "F0VBDVs8Cicf",
        "outputId": "f546ec75-dd5c-43a4-a9b1-10184b29d5df"
      },
      "source": [
        "plt.plot(xt,yt)\n",
        "\n",
        "n_epochs = 3\n",
        "learning_rate = 0.8\n",
        "\n",
        "train_test(n_epochs, learning_rate, xi, yi)"
      ],
      "execution_count": null,
      "outputs": [
        {
          "output_type": "display_data",
          "data": {
            "image/png": "[encoded data removed]",
            "text/plain": [
              "<Figure size 432x288 with 1 Axes>"
            ]
          },
          "metadata": {
            "tags": [],
            "needs_background": "light"
          }
        }
      ]
    },
    {
      "cell_type": "markdown",
      "metadata": {
        "id": "8gnoiql_Cht_"
      },
      "source": [
        "Now, ff the number of iterations is also increased\n"
      ]
    },
    {
      "cell_type": "code",
      "metadata": {
        "colab": {
          "base_uri": "https://localhost:8080/",
          "height": 265
        },
        "id": "zSjvFIVmC6QK",
        "outputId": "42b10524-4d75-4d76-d2d4-28b597757831"
      },
      "source": [
        "plt.plot(xt,yt)\n",
        "\n",
        "n_epochs = 30\n",
        "learning_rate = 0.1\n",
        "\n",
        "train_test(n_epochs, learning_rate, xi, yi)"
      ],
      "execution_count": null,
      "outputs": [
        {
          "output_type": "display_data",
          "data": {
            "image/png": "[encoded data removed]",
            "text/plain": [
              "<Figure size 432x288 with 1 Axes>"
            ]
          },
          "metadata": {
            "tags": [],
            "needs_background": "light"
          }
        }
      ]
    },
    {
      "cell_type": "markdown",
      "metadata": {
        "id": "csB_O0CqDCHC"
      },
      "source": [
        "The same approach can be applied to learning with the linear model."
      ]
    },
    {
      "cell_type": "code",
      "metadata": {
        "colab": {
          "base_uri": "https://localhost:8080/"
        },
        "id": "3LIctvJfoapr",
        "outputId": "f9beb90d-00b0-4a22-8829-8352b68defa3"
      },
      "source": [
        "(wp, bp, loss) = training_loop(n_epochs = 10000, \n",
        "              learning_rate = 1e-4,\n",
        "              wp = 1,\n",
        "              bp = 1,\n",
        "              x = x,\n",
        "              y = y)"
      ],
      "execution_count": null,
      "outputs": [
        {
          "output_type": "stream",
          "text": [
            "Epoch 1, Loss 3491.89306640625, wp_grad: -6763.255859375, bp_grad: -102.76838684082031\n",
            "Epoch 2, Loss 419.2891540527344, wp_grad: -2320.80859375, bp_grad: -35.79161071777344\n",
            "Epoch 3, Loss 57.482444763183594, wp_grad: -796.37939453125, bp_grad: -12.808448791503906\n",
            "Epoch 4, Loss 14.878763198852539, wp_grad: -273.2704162597656, bp_grad: -4.921734809875488\n",
            "Epoch 5, Loss 9.862009048461914, wp_grad: -93.76502227783203, bp_grad: -2.215372085571289\n",
            "Epoch 10, Loss 9.192130088806152, wp_grad: -0.43365478515625, bp_grad: -0.8080571889877319\n",
            "Epoch 100, Loss 9.186361312866211, wp_grad: 0.01206207275390625, bp_grad: -0.7976835370063782\n",
            "Epoch 500, Loss 9.16141414642334, wp_grad: 0.010945320129394531, bp_grad: -0.781667947769165\n",
            "Epoch 1000, Loss 9.131614685058594, wp_grad: 0.01105499267578125, bp_grad: -0.7620790004730225\n",
            "Epoch 5000, Loss 8.940637588500977, wp_grad: 0.009258270263671875, bp_grad: -0.6220826506614685\n",
            "Epoch 10000, Loss 8.788850784301758, wp_grad: 0.008399009704589844, bp_grad: -0.48266398906707764\n"
          ],
          "name": "stdout"
        }
      ]
    },
    {
      "cell_type": "markdown",
      "metadata": {
        "id": "0kHOlR7bDH4w"
      },
      "source": [
        "It can be seen how the system converges and the loss function is reduced."
      ]
    },
    {
      "cell_type": "markdown",
      "metadata": {
        "id": "WcJ8fidZDORH"
      },
      "source": [
        "The graphical representation shows how most of the learning occurs in the first iterations."
      ]
    },
    {
      "cell_type": "code",
      "metadata": {
        "colab": {
          "base_uri": "https://localhost:8080/",
          "height": 283
        },
        "id": "8tTh1ZBw6jzN",
        "outputId": "05211d19-276d-4686-9f2a-62d99b8ede70"
      },
      "source": [
        "plt.semilogy(loss[1:50])"
      ],
      "execution_count": null,
      "outputs": [
        {
          "output_type": "execute_result",
          "data": {
            "text/plain": [
              "[<matplotlib.lines.Line2D at 0x7f8dbd6362d0>]"
            ]
          },
          "metadata": {
            "tags": []
          },
          "execution_count": 19
        },
        {
          "output_type": "display_data",
          "data": {
            "image/png": "[encoded data removed]",
            "text/plain": [
              "<Figure size 432x288 with 1 Axes>"
            ]
          },
          "metadata": {
            "tags": [],
            "needs_background": "light"
          }
        }
      ]
    },
    {
      "cell_type": "markdown",
      "metadata": {
        "id": "dVfKMkLIDVBn"
      },
      "source": [
        "The representation of the model with the data shows how it fits."
      ]
    },
    {
      "cell_type": "code",
      "metadata": {
        "colab": {
          "base_uri": "https://localhost:8080/",
          "height": 283
        },
        "id": "2TICsyVve0T9",
        "outputId": "0a1a13d6-eaa5-4159-85cf-95b31af4e35b"
      },
      "source": [
        "plt.plot(x,y)\n",
        "\n",
        "yp = model(x, wp, bp)\n",
        "plt.plot(x, yp)"
      ],
      "execution_count": null,
      "outputs": [
        {
          "output_type": "execute_result",
          "data": {
            "text/plain": [
              "[<matplotlib.lines.Line2D at 0x7f8dbd592050>]"
            ]
          },
          "metadata": {
            "tags": []
          },
          "execution_count": 20
        },
        {
          "output_type": "display_data",
          "data": {
            "image/png": "[encoded data removed]",
            "text/plain": [
              "<Figure size 432x288 with 1 Axes>"
            ]
          },
          "metadata": {
            "tags": [],
            "needs_background": "light"
          }
        }
      ]
    },
    {
      "cell_type": "markdown",
      "metadata": {
        "id": "ZybBPSxrEyK3"
      },
      "source": [
        "## Data normalization"
      ]
    },
    {
      "cell_type": "markdown",
      "metadata": {
        "id": "fZmNznO3DdoN"
      },
      "source": [
        "To improve the result it is usual to normalize the data. In this way one parameter will not have more weight than another. Below is an example where the x-axis is normalized by multiplying it by 0.1."
      ]
    },
    {
      "cell_type": "code",
      "metadata": {
        "colab": {
          "base_uri": "https://localhost:8080/"
        },
        "id": "A8L4FKLggymY",
        "outputId": "7948ea27-c829-4744-9eed-41d4bfa3eb43"
      },
      "source": [
        "(wp, bp, loss) = training_loop(n_epochs = 1000, \n",
        "              learning_rate = 1e-2,\n",
        "              wp = 1,\n",
        "              bp = 1,\n",
        "              x = x*0.1,\n",
        "              y = y)"
      ],
      "execution_count": null,
      "outputs": [
        {
          "output_type": "stream",
          "text": [
            "Epoch 1, Loss 12238.45703125, wp_grad: -1267.3555908203125, bp_grad: -191.86839294433594\n",
            "Epoch 2, Loss 1326.7628173828125, wp_grad: -416.088134765625, bp_grad: -62.56282043457031\n",
            "Epoch 3, Loss 150.96116638183594, wp_grad: -136.6494140625, bp_grad: -20.11884117126465\n",
            "Epoch 4, Loss 24.25811195373535, wp_grad: -44.9200439453125, bp_grad: -6.188183307647705\n",
            "Epoch 5, Loss 10.60157585144043, wp_grad: -14.808431625366211, bp_grad: -1.6173384189605713\n",
            "Epoch 10, Loss 8.933691024780273, wp_grad: -0.14766216278076172, bp_grad: 0.5941300392150879\n",
            "Epoch 100, Loss 8.712175369262695, wp_grad: -0.05856895446777344, bp_grad: 0.38515758514404297\n",
            "Epoch 500, Loss 8.56208610534668, wp_grad: -0.00793468952178955, bp_grad: 0.05267852544784546\n",
            "Epoch 1000, Loss 8.559248924255371, wp_grad: -0.0006420016288757324, bp_grad: 0.004382655024528503\n"
          ],
          "name": "stdout"
        }
      ]
    },
    {
      "cell_type": "markdown",
      "metadata": {
        "id": "MvCM_MYwDxtM"
      },
      "source": [
        "Linear fit can be performed analytically, no search required. Therefore, the previous model can be compared with the standard linear regression."
      ]
    },
    {
      "cell_type": "code",
      "metadata": {
        "colab": {
          "base_uri": "https://localhost:8080/"
        },
        "id": "F-sPfbgFrkBL",
        "outputId": "ab56d3b4-1044-49b9-9fdf-148e878f6c4e"
      },
      "source": [
        "from sklearn.linear_model import LinearRegression\n",
        "import numpy\n",
        "linr = LinearRegression()\n",
        "xnp = x.numpy().reshape((-1, 1))\n",
        "ynp = y.numpy()\n",
        "linr.fit(xnp, ynp)\n",
        "print(linr.intercept_, linr.coef_[0])\n",
        "\n",
        "yp = model(x, linr.coef_[0], linr.intercept_)\n",
        "     \n",
        "# How wrong is our model? That's the error! \n",
        "loss = loss_fn(yp, y)\n",
        "\n",
        "print(loss)"
      ],
      "execution_count": null,
      "outputs": [
        {
          "output_type": "stream",
          "text": [
            "2.5954728104808567 2.005832774851582\n",
            "tensor(8.5592)\n"
          ],
          "name": "stdout"
        }
      ]
    },
    {
      "cell_type": "markdown",
      "metadata": {
        "id": "S-wn9J2ZE-G2"
      },
      "source": [
        "# Automatic gradient calculation with PyTorch\n",
        "\n",
        "The training process for a more complex model is more difficult to analyze. The calculation of gradient can become very difficult when the output is obtained as the composition of many functions. PyTorch facilitates the training process by calculating the gradient automatically."
      ]
    },
    {
      "cell_type": "markdown",
      "metadata": {
        "id": "6fnJvqtJJWRH"
      },
      "source": [
        "Look at the following example."
      ]
    },
    {
      "cell_type": "code",
      "metadata": {
        "colab": {
          "base_uri": "https://localhost:8080/"
        },
        "id": "NniPjoNzFfIo",
        "outputId": "715673c6-bb4b-424b-bb2e-409ad31806b2"
      },
      "source": [
        "xt = torch.tensor(1.0, requires_grad=True)\n",
        "yt = xt**2\n",
        "\n",
        "yt.backward()\n",
        "xt.grad"
      ],
      "execution_count": null,
      "outputs": [
        {
          "output_type": "execute_result",
          "data": {
            "text/plain": [
              "tensor(2.)"
            ]
          },
          "metadata": {
            "tags": []
          },
          "execution_count": 23
        }
      ]
    },
    {
      "cell_type": "markdown",
      "metadata": {
        "id": "jaqbGTnnJeXW"
      },
      "source": [
        "An operation is performed and the gradient is propagated backwards $\\frac{dy}{dx}$."
      ]
    },
    {
      "cell_type": "markdown",
      "metadata": {
        "id": "H6THMV-MJ3na"
      },
      "source": [
        "This same idea can be used to calculate the gradient of the model with respect to the parameters."
      ]
    },
    {
      "cell_type": "code",
      "metadata": {
        "colab": {
          "base_uri": "https://localhost:8080/"
        },
        "id": "It6c0WdXr21M",
        "outputId": "ae4e7c0b-3122-4ff0-cd53-28e857f1e64e"
      },
      "source": [
        "def training_loop_grad(n_epochs, learning_rate, wp, bp, x, y):\n",
        "\n",
        "  # This indicates these tensors require the calculation of the gradient\n",
        "  wp = torch.tensor(wp, requires_grad=True, dtype=torch.float)\n",
        "  bp = torch.tensor(bp, requires_grad=True, dtype=torch.float)\n",
        "\n",
        "  for epoch in range(n_epochs):\n",
        "      # Computes our model's predicted output\n",
        "      yp = model(x, wp, bp)\n",
        "      \n",
        "      # Calculate loss\n",
        "      loss = loss_fn(yp, y)\n",
        "\n",
        "      # Propagate the gradient calculation\n",
        "      loss.backward()\n",
        "\n",
        "      # wp.grad is the gradient of loss with respect to wp, same for bp.grad\n",
        "\n",
        "      # no_grad tells pytorch not to use this calculation to update the gradient\n",
        "      with torch.no_grad():\n",
        "        wp -= learning_rate * wp.grad\n",
        "        bp -= learning_rate * bp.grad\n",
        "\n",
        "      if epoch+1 in (1, 2, 3, 4, 5, 10, 100, 500, 1000, 5000, 10000):\n",
        "        print(f'Epoch {epoch+1}, Loss {loss}, wp_grad: {wp.grad}, bp_grad: {bp.grad}')\n",
        "\n",
        "      wp.grad.zero_()\n",
        "      bp.grad.zero_()\n",
        "    \n",
        "  return (wp, bp)\n",
        "\n",
        "\n",
        "(wp, bp) = training_loop_grad(n_epochs = 10000, \n",
        "              learning_rate = 1e-4,\n",
        "              wp = 1.0,\n",
        "              bp = 1.0,\n",
        "              x = x,\n",
        "              y = y)"
      ],
      "execution_count": null,
      "outputs": [
        {
          "output_type": "stream",
          "text": [
            "Epoch 1, Loss 3491.89306640625, wp_grad: -6763.25537109375, bp_grad: -102.76837921142578\n",
            "Epoch 2, Loss 419.2891540527344, wp_grad: -2320.808349609375, bp_grad: -35.791603088378906\n",
            "Epoch 3, Loss 57.482444763183594, wp_grad: -796.3792724609375, bp_grad: -12.808448791503906\n",
            "Epoch 4, Loss 14.878763198852539, wp_grad: -273.2704162597656, bp_grad: -4.921734809875488\n",
            "Epoch 5, Loss 9.862009048461914, wp_grad: -93.76502227783203, bp_grad: -2.215372085571289\n",
            "Epoch 10, Loss 9.192130088806152, wp_grad: -0.43365478515625, bp_grad: -0.8080571889877319\n",
            "Epoch 100, Loss 9.186361312866211, wp_grad: 0.012063980102539062, bp_grad: -0.7976834774017334\n",
            "Epoch 500, Loss 9.16141414642334, wp_grad: 0.010945320129394531, bp_grad: -0.7816678881645203\n",
            "Epoch 1000, Loss 9.131614685058594, wp_grad: 0.011056900024414062, bp_grad: -0.7620788812637329\n",
            "Epoch 5000, Loss 8.940637588500977, wp_grad: 0.009259223937988281, bp_grad: -0.6220825910568237\n",
            "Epoch 10000, Loss 8.788850784301758, wp_grad: 0.008400917053222656, bp_grad: -0.4826638698577881\n"
          ],
          "name": "stdout"
        }
      ]
    },
    {
      "cell_type": "markdown",
      "metadata": {
        "id": "IXMUi31QKzz4"
      },
      "source": [
        "PyTorch knows how to calculate derivatives because it memorizes all the operations."
      ]
    },
    {
      "cell_type": "code",
      "metadata": {
        "colab": {
          "base_uri": "https://localhost:8080/"
        },
        "id": "ZwC2WlOszlli",
        "outputId": "7bfa6fbb-5361-40a6-90a5-8e225f1113d1"
      },
      "source": [
        "!pip install torchviz"
      ],
      "execution_count": null,
      "outputs": [
        {
          "output_type": "stream",
          "text": [
            "Collecting torchviz\n",
            "  Downloading https://files.pythonhosted.org/packages/79/e7/643808913211d6c1fc96a3a4333bf4c9276858fab00bcafaf98ea58a97be/torchviz-0.0.2.tar.gz\n",
            "Requirement already satisfied: torch in /usr/local/lib/python3.7/dist-packages (from torchviz) (1.8.1+cu101)\n",
            "Requirement already satisfied: graphviz in /usr/local/lib/python3.7/dist-packages (from torchviz) (0.10.1)\n",
            "Requirement already satisfied: numpy in /usr/local/lib/python3.7/dist-packages (from torch->torchviz) (1.19.5)\n",
            "Requirement already satisfied: typing-extensions in /usr/local/lib/python3.7/dist-packages (from torch->torchviz) (3.7.4.3)\n",
            "Building wheels for collected packages: torchviz\n",
            "  Building wheel for torchviz (setup.py) ... \u001b[?25l\u001b[?25hdone\n",
            "  Created wheel for torchviz: filename=torchviz-0.0.2-cp37-none-any.whl size=4152 sha256=3bc17749387241b9e8e225cebe841903aee47e7565f1de17ae2875b1c4eeb767\n",
            "  Stored in directory: /root/.cache/pip/wheels/01/26/58/026ffd533dbe8b3972eb423da9c7949beca68d1c98ed9e8624\n",
            "Successfully built torchviz\n",
            "Installing collected packages: torchviz\n",
            "Successfully installed torchviz-0.0.2\n"
          ],
          "name": "stdout"
        }
      ]
    },
    {
      "cell_type": "code",
      "metadata": {
        "colab": {
          "base_uri": "https://localhost:8080/",
          "height": 618
        },
        "id": "_9ecUYzO1LsQ",
        "outputId": "5ecfa6d6-c3c5-45f7-c521-4f9ae52db0b7"
      },
      "source": [
        "import torchviz\n",
        "\n",
        "w = torch.randn(1, requires_grad=True, dtype=torch.float)\n",
        "b = torch.randn(1, requires_grad=True, dtype=torch.float)\n",
        "\n",
        "yp = x * w + b\n",
        "error = yp - y\n",
        "loss = (error ** 2).mean()\n",
        "\n",
        "torchviz.make_dot(loss)"
      ],
      "execution_count": null,
      "outputs": [
        {
          "output_type": "execute_result",
          "data": {
            "text/plain": [
              "<graphviz.dot.Digraph at 0x7f8dbd4c2210>"
            ],
            "image/svg+xml": "<?xml version=\"1.0\" encoding=\"UTF-8\" standalone=\"no\"?>\n<!DOCTYPE svg PUBLIC \"-//W3C//DTD SVG 1.1//EN\"\n \"http://www.w3.org/Graphics/SVG/1.1/DTD/svg11.dtd\">\n<!-- Generated by graphviz version 2.40.1 (20161225.0304)\n -->\n<!-- Title: %3 Pages: 1 -->\n<svg width=\"222pt\" height=\"448pt\"\n viewBox=\"0.00 0.00 222.00 448.00\" xmlns=\"http://www.w3.org/2000/svg\" xmlns:xlink=\"http://www.w3.org/1999/xlink\">\n<g id=\"graph0\" class=\"graph\" transform=\"scale(1 1) rotate(0) translate(4 444)\">\n<title>%3</title>\n<polygon fill=\"#ffffff\" stroke=\"transparent\" points=\"-4,4 -4,-444 218,-444 218,4 -4,4\"/>\n<!-- 140246199083968 -->\n<g id=\"node1\" class=\"node\">\n<title>140246199083968</title>\n<polygon fill=\"#caff70\" stroke=\"#000000\" points=\"133.5,-31 79.5,-31 79.5,0 133.5,0 133.5,-31\"/>\n<text text-anchor=\"middle\" x=\"106.5\" y=\"-7\" font-family=\"monospace\" font-size=\"10.00\" fill=\"#000000\"> ()</text>\n</g>\n<!-- 140246199036752 -->\n<g id=\"node2\" class=\"node\">\n<title>140246199036752</title>\n<polygon fill=\"#d3d3d3\" stroke=\"#000000\" points=\"154,-86 59,-86 59,-67 154,-67 154,-86\"/>\n<text text-anchor=\"middle\" x=\"106.5\" y=\"-74\" font-family=\"monospace\" font-size=\"10.00\" fill=\"#000000\">MeanBackward0</text>\n</g>\n<!-- 140246199036752&#45;&gt;140246199083968 -->\n<g id=\"edge9\" class=\"edge\">\n<title>140246199036752&#45;&gt;140246199083968</title>\n<path fill=\"none\" stroke=\"#000000\" d=\"M106.5,-66.9688C106.5,-60.1289 106.5,-50.5621 106.5,-41.5298\"/>\n<polygon fill=\"#000000\" stroke=\"#000000\" points=\"110.0001,-41.3678 106.5,-31.3678 103.0001,-41.3678 110.0001,-41.3678\"/>\n</g>\n<!-- 140246199036816 -->\n<g id=\"node3\" class=\"node\">\n<title>140246199036816</title>\n<polygon fill=\"#d3d3d3\" stroke=\"#000000\" points=\"151,-141 62,-141 62,-122 151,-122 151,-141\"/>\n<text text-anchor=\"middle\" x=\"106.5\" y=\"-129\" font-family=\"monospace\" font-size=\"10.00\" fill=\"#000000\">PowBackward0</text>\n</g>\n<!-- 140246199036816&#45;&gt;140246199036752 -->\n<g id=\"edge1\" class=\"edge\">\n<title>140246199036816&#45;&gt;140246199036752</title>\n<path fill=\"none\" stroke=\"#000000\" d=\"M106.5,-121.9197C106.5,-114.9083 106.5,-105.1442 106.5,-96.4652\"/>\n<polygon fill=\"#000000\" stroke=\"#000000\" points=\"110.0001,-96.3408 106.5,-86.3408 103.0001,-96.3409 110.0001,-96.3408\"/>\n</g>\n<!-- 140246199036880 -->\n<g id=\"node4\" class=\"node\">\n<title>140246199036880</title>\n<polygon fill=\"#d3d3d3\" stroke=\"#000000\" points=\"151,-196 62,-196 62,-177 151,-177 151,-196\"/>\n<text text-anchor=\"middle\" x=\"106.5\" y=\"-184\" font-family=\"monospace\" font-size=\"10.00\" fill=\"#000000\">SubBackward0</text>\n</g>\n<!-- 140246199036880&#45;&gt;140246199036816 -->\n<g id=\"edge2\" class=\"edge\">\n<title>140246199036880&#45;&gt;140246199036816</title>\n<path fill=\"none\" stroke=\"#000000\" d=\"M106.5,-176.9197C106.5,-169.9083 106.5,-160.1442 106.5,-151.4652\"/>\n<polygon fill=\"#000000\" stroke=\"#000000\" points=\"110.0001,-151.3408 106.5,-141.3408 103.0001,-151.3409 110.0001,-151.3408\"/>\n</g>\n<!-- 140246199037008 -->\n<g id=\"node5\" class=\"node\">\n<title>140246199037008</title>\n<polygon fill=\"#d3d3d3\" stroke=\"#000000\" points=\"151,-251 62,-251 62,-232 151,-232 151,-251\"/>\n<text text-anchor=\"middle\" x=\"106.5\" y=\"-239\" font-family=\"monospace\" font-size=\"10.00\" fill=\"#000000\">AddBackward0</text>\n</g>\n<!-- 140246199037008&#45;&gt;140246199036880 -->\n<g id=\"edge3\" class=\"edge\">\n<title>140246199037008&#45;&gt;140246199036880</title>\n<path fill=\"none\" stroke=\"#000000\" d=\"M106.5,-231.9197C106.5,-224.9083 106.5,-215.1442 106.5,-206.4652\"/>\n<polygon fill=\"#000000\" stroke=\"#000000\" points=\"110.0001,-206.3408 106.5,-196.3408 103.0001,-206.3409 110.0001,-206.3408\"/>\n</g>\n<!-- 140246199037200 -->\n<g id=\"node6\" class=\"node\">\n<title>140246199037200</title>\n<polygon fill=\"#d3d3d3\" stroke=\"#000000\" points=\"95,-306 6,-306 6,-287 95,-287 95,-306\"/>\n<text text-anchor=\"middle\" x=\"50.5\" y=\"-294\" font-family=\"monospace\" font-size=\"10.00\" fill=\"#000000\">MulBackward0</text>\n</g>\n<!-- 140246199037200&#45;&gt;140246199037008 -->\n<g id=\"edge4\" class=\"edge\">\n<title>140246199037200&#45;&gt;140246199037008</title>\n<path fill=\"none\" stroke=\"#000000\" d=\"M60.2545,-286.9197C68.1865,-279.1293 79.5788,-267.9405 89.0712,-258.6176\"/>\n<polygon fill=\"#000000\" stroke=\"#000000\" points=\"91.7982,-260.845 96.4802,-251.3408 86.8932,-255.8509 91.7982,-260.845\"/>\n</g>\n<!-- 140246199036688 -->\n<g id=\"node7\" class=\"node\">\n<title>140246199036688</title>\n<polygon fill=\"#d3d3d3\" stroke=\"#000000\" points=\"101,-367 0,-367 0,-348 101,-348 101,-367\"/>\n<text text-anchor=\"middle\" x=\"50.5\" y=\"-355\" font-family=\"monospace\" font-size=\"10.00\" fill=\"#000000\">AccumulateGrad</text>\n</g>\n<!-- 140246199036688&#45;&gt;140246199037200 -->\n<g id=\"edge5\" class=\"edge\">\n<title>140246199036688&#45;&gt;140246199037200</title>\n<path fill=\"none\" stroke=\"#000000\" d=\"M50.5,-347.9688C50.5,-339.5131 50.5,-326.8901 50.5,-316.2615\"/>\n<polygon fill=\"#000000\" stroke=\"#000000\" points=\"54.0001,-316.1656 50.5,-306.1656 47.0001,-316.1657 54.0001,-316.1656\"/>\n</g>\n<!-- 140246743098464 -->\n<g id=\"node8\" class=\"node\">\n<title>140246743098464</title>\n<polygon fill=\"#add8e6\" stroke=\"#000000\" points=\"77.5,-440 23.5,-440 23.5,-409 77.5,-409 77.5,-440\"/>\n<text text-anchor=\"middle\" x=\"50.5\" y=\"-416\" font-family=\"monospace\" font-size=\"10.00\" fill=\"#000000\"> (1)</text>\n</g>\n<!-- 140246743098464&#45;&gt;140246199036688 -->\n<g id=\"edge6\" class=\"edge\">\n<title>140246743098464&#45;&gt;140246199036688</title>\n<path fill=\"none\" stroke=\"#000000\" d=\"M50.5,-408.9604C50.5,-399.6356 50.5,-387.6748 50.5,-377.6317\"/>\n<polygon fill=\"#000000\" stroke=\"#000000\" points=\"54.0001,-377.35 50.5,-367.3501 47.0001,-377.3501 54.0001,-377.35\"/>\n</g>\n<!-- 140246199037392 -->\n<g id=\"node9\" class=\"node\">\n<title>140246199037392</title>\n<polygon fill=\"#d3d3d3\" stroke=\"#000000\" points=\"214,-306 113,-306 113,-287 214,-287 214,-306\"/>\n<text text-anchor=\"middle\" x=\"163.5\" y=\"-294\" font-family=\"monospace\" font-size=\"10.00\" fill=\"#000000\">AccumulateGrad</text>\n</g>\n<!-- 140246199037392&#45;&gt;140246199037008 -->\n<g id=\"edge7\" class=\"edge\">\n<title>140246199037392&#45;&gt;140246199037008</title>\n<path fill=\"none\" stroke=\"#000000\" d=\"M153.5714,-286.9197C145.4169,-279.0514 133.6697,-267.7164 123.9508,-258.3385\"/>\n<polygon fill=\"#000000\" stroke=\"#000000\" points=\"126.3252,-255.7659 116.6987,-251.3408 121.4646,-260.8032 126.3252,-255.7659\"/>\n</g>\n<!-- 140248759615152 -->\n<g id=\"node10\" class=\"node\">\n<title>140248759615152</title>\n<polygon fill=\"#add8e6\" stroke=\"#000000\" points=\"190.5,-373 136.5,-373 136.5,-342 190.5,-342 190.5,-373\"/>\n<text text-anchor=\"middle\" x=\"163.5\" y=\"-349\" font-family=\"monospace\" font-size=\"10.00\" fill=\"#000000\"> (1)</text>\n</g>\n<!-- 140248759615152&#45;&gt;140246199037392 -->\n<g id=\"edge8\" class=\"edge\">\n<title>140248759615152&#45;&gt;140246199037392</title>\n<path fill=\"none\" stroke=\"#000000\" d=\"M163.5,-341.791C163.5,-334.0249 163.5,-324.5706 163.5,-316.3129\"/>\n<polygon fill=\"#000000\" stroke=\"#000000\" points=\"167.0001,-316.0647 163.5,-306.0648 160.0001,-316.0648 167.0001,-316.0647\"/>\n</g>\n</g>\n</svg>\n"
          },
          "metadata": {
            "tags": []
          },
          "execution_count": 26
        }
      ]
    },
    {
      "cell_type": "markdown",
      "metadata": {
        "id": "SVsQLmSDLHn-"
      },
      "source": [
        "# Using an optimizer\n",
        "\n",
        "Optimizers are also available in PyTorch, so you don't have to do the process manually. In this case we use [Stochastic gradient descent](https://en.wikipedia.org/wiki/Stochastic_gradient_descent) (SGD)"
      ]
    },
    {
      "cell_type": "code",
      "metadata": {
        "colab": {
          "base_uri": "https://localhost:8080/"
        },
        "id": "j2GAOsAZ2av6",
        "outputId": "608a427e-8757-4591-c5b2-a1b11ae55473"
      },
      "source": [
        "def training_loop_optim(n_epochs, optimizer, wp, bp, x, y):\n",
        "\n",
        "  for epoch in range(n_epochs):\n",
        "      # Computes our model's predicted output\n",
        "      yp = model(x, wp, bp)\n",
        "      \n",
        "      # How wrong is our model? That's the error! \n",
        "      loss = loss_fn(yp, y)\n",
        "      loss.backward()\n",
        "\n",
        "      optimizer.step()\n",
        "\n",
        "      if epoch+1 in (1, 2, 3, 4, 5, 10, 100, 500, 1000, 5000, 10000):\n",
        "        print(f'Epoch {epoch+1}, Loss {loss}, wp_grad: {wp.grad}, bp_grad: {bp.grad}')\n",
        "\n",
        "      optimizer.zero_grad()\n",
        "    \n",
        "  return (wp, bp)\n",
        "\n",
        "learning_rate = 1e-4\n",
        "\n",
        "wp = torch.tensor(1, requires_grad=True, dtype=torch.float)\n",
        "bp = torch.tensor(1, requires_grad=True, dtype=torch.float)\n",
        "\n",
        "optimizer = torch.optim.SGD([wp, bp], lr=learning_rate)\n",
        "\n",
        "(wp, bp) = training_loop_optim(n_epochs = 1000, \n",
        "              optimizer = optimizer,\n",
        "              wp = wp,\n",
        "              bp = bp,\n",
        "              x = x,\n",
        "              y = y)"
      ],
      "execution_count": null,
      "outputs": [
        {
          "output_type": "stream",
          "text": [
            "Epoch 1, Loss 3491.89306640625, wp_grad: -6763.25537109375, bp_grad: -102.76837921142578\n",
            "Epoch 2, Loss 419.2891540527344, wp_grad: -2320.808349609375, bp_grad: -35.791603088378906\n",
            "Epoch 3, Loss 57.482444763183594, wp_grad: -796.3792724609375, bp_grad: -12.808448791503906\n",
            "Epoch 4, Loss 14.878763198852539, wp_grad: -273.2704162597656, bp_grad: -4.921734809875488\n",
            "Epoch 5, Loss 9.862009048461914, wp_grad: -93.76502227783203, bp_grad: -2.215372085571289\n",
            "Epoch 10, Loss 9.192130088806152, wp_grad: -0.43365478515625, bp_grad: -0.8080571889877319\n",
            "Epoch 100, Loss 9.186361312866211, wp_grad: 0.012063980102539062, bp_grad: -0.7976834774017334\n",
            "Epoch 500, Loss 9.16141414642334, wp_grad: 0.010945320129394531, bp_grad: -0.7816678881645203\n",
            "Epoch 1000, Loss 9.131614685058594, wp_grad: 0.011056900024414062, bp_grad: -0.7620788812637329\n"
          ],
          "name": "stdout"
        }
      ]
    },
    {
      "cell_type": "markdown",
      "metadata": {
        "id": "sgPNttl4LxxF"
      },
      "source": [
        "Other options include the Adam optimizer."
      ]
    },
    {
      "cell_type": "code",
      "metadata": {
        "colab": {
          "base_uri": "https://localhost:8080/"
        },
        "id": "OiR69Dyt4Iew",
        "outputId": "ef1979f5-bb82-48bb-acb1-e80369770bb3"
      },
      "source": [
        "learning_rate = 1e-1\n",
        "\n",
        "wp = torch.tensor(1, requires_grad=True, dtype=torch.float)\n",
        "bp = torch.tensor(1, requires_grad=True, dtype=torch.float)\n",
        "\n",
        "optimizer = torch.optim.Adam([wp, bp], lr=learning_rate)\n",
        "\n",
        "(wp, bp) = training_loop_optim(n_epochs = 1000, \n",
        "              optimizer = optimizer,\n",
        "              wp = wp,\n",
        "              bp = bp,\n",
        "              x = x,\n",
        "              y = y)"
      ],
      "execution_count": null,
      "outputs": [
        {
          "output_type": "stream",
          "text": [
            "Epoch 1, Loss 3491.89306640625, wp_grad: -6763.25537109375, bp_grad: -102.76837921142578\n",
            "Epoch 2, Loss 2839.1259765625, wp_grad: -6096.6552734375, bp_grad: -92.66838836669922\n",
            "Epoch 3, Loss 2256.255859375, wp_grad: -5432.74755859375, bp_grad: -82.60918426513672\n",
            "Epoch 4, Loss 1744.1195068359375, wp_grad: -4773.8076171875, bp_grad: -72.625244140625\n",
            "Epoch 5, Loss 1302.919921875, wp_grad: -4122.5400390625, bp_grad: -62.757545471191406\n",
            "Epoch 10, Loss 102.81088256835938, wp_grad: -1111.7730712890625, bp_grad: -17.139726638793945\n",
            "Epoch 100, Loss 8.628947257995605, wp_grad: -8.459798812866211, bp_grad: -0.3829543888568878\n",
            "Epoch 500, Loss 8.561346054077148, wp_grad: 0.04411125183105469, bp_grad: -0.04572838544845581\n",
            "Epoch 1000, Loss 8.55922794342041, wp_grad: 0.0007381439208984375, bp_grad: -0.0008340030908584595\n"
          ],
          "name": "stdout"
        }
      ]
    },
    {
      "cell_type": "markdown",
      "metadata": {
        "id": "3lQ8CunEMH5p"
      },
      "source": [
        "As you can see, now the training method is decoupled from the optimizer."
      ]
    },
    {
      "cell_type": "markdown",
      "metadata": {
        "id": "GqGbxSILMRFY"
      },
      "source": [
        "The final result can be analyzed."
      ]
    },
    {
      "cell_type": "code",
      "metadata": {
        "colab": {
          "base_uri": "https://localhost:8080/",
          "height": 299
        },
        "id": "HvgcdMHX83Hl",
        "outputId": "cf3b8a3f-f644-4ddf-8b2d-9d44c375ae91"
      },
      "source": [
        "plt.plot(x,y)\n",
        "\n",
        "yp = model(x, wp, bp)\n",
        "plt.plot(x, yp.detach().numpy())\n",
        "plt.title(f'Model: y = x*{wp} + {bp}')"
      ],
      "execution_count": null,
      "outputs": [
        {
          "output_type": "execute_result",
          "data": {
            "text/plain": [
              "Text(0.5, 1.0, 'Model: y = x*2.0058577060699463 + 2.593824625015259')"
            ]
          },
          "metadata": {
            "tags": []
          },
          "execution_count": 29
        },
        {
          "output_type": "display_data",
          "data": {
            "image/png": "[encoded data removed]",
            "text/plain": [
              "<Figure size 432x288 with 1 Axes>"
            ]
          },
          "metadata": {
            "tags": [],
            "needs_background": "light"
          }
        }
      ]
    },
    {
      "cell_type": "markdown",
      "metadata": {
        "id": "oN7UlXhyMUfo"
      },
      "source": [
        "# Create a model with classes"
      ]
    },
    {
      "cell_type": "markdown",
      "metadata": {
        "id": "rnxKL8K2Mnql"
      },
      "source": [
        "In Pytorch models can be created more easily by inheriting the Module class. In this case, it is only necessary to redefine the forward method that the model applies to the data. It is also possible to use a loss function already available in the library."
      ]
    },
    {
      "cell_type": "code",
      "metadata": {
        "colab": {
          "base_uri": "https://localhost:8080/"
        },
        "id": "C0jfamKBdUwI",
        "outputId": "5628e4b2-9e4a-4d59-dd18-aa5def4892ff"
      },
      "source": [
        "class LinearModel(torch.nn.Module):\n",
        "    def __init__(self):\n",
        "        super().__init__()\n",
        "\n",
        "        self.w = torch.nn.Parameter(torch.randn(()))\n",
        "        self.b = torch.nn.Parameter(torch.randn(()))\n",
        "\n",
        "    def forward(self, x):\n",
        "        return self.w * x + self.b\n",
        "\n",
        "linearModel = LinearModel()\n",
        "\n",
        "device = torch.device(\"cpu\")\n",
        "linearModel.to(device)\n",
        "\n",
        "criterion = torch.nn.MSELoss(reduction='mean')\n",
        "optimizer = torch.optim.Adam(linearModel.parameters(), lr=1e-1)\n",
        "\n",
        "for epoch in range(10000):\n",
        "    # Forward pass: Compute predicted y by passing x to the model\n",
        "    y_pred = linearModel(x)\n",
        "\n",
        "    loss = criterion(y_pred, y)\n",
        "\n",
        "    if epoch+1 in (1, 2, 3, 4, 5, 10, 100, 500, 1000, 5000, 10000):\n",
        "      print(f'Epoch {epoch+1}, Loss {loss}')\n",
        "\n",
        "    # Zero gradients, perform a backward pass, and update the weights.\n",
        "    optimizer.zero_grad()\n",
        "    loss.backward()\n",
        "    optimizer.step()\n",
        "\n",
        "print(f'Model: y = {linearModel.b} + {linearModel.w} x')"
      ],
      "execution_count": null,
      "outputs": [
        {
          "output_type": "stream",
          "text": [
            "Epoch 1, Loss 332.0518493652344\n",
            "Epoch 2, Loss 157.12794494628906\n",
            "Epoch 3, Loss 51.96406555175781\n",
            "Epoch 4, Loss 11.540021896362305\n",
            "Epoch 5, Loss 20.641157150268555\n",
            "Epoch 10, Loss 62.1997184753418\n",
            "Epoch 100, Loss 9.000170707702637\n",
            "Epoch 500, Loss 8.559228897094727\n",
            "Epoch 1000, Loss 8.559226989746094\n",
            "Epoch 5000, Loss 8.559226036071777\n",
            "Epoch 10000, Loss 8.559231758117676\n",
            "Model: y = 2.595482110977173 + 2.0058412551879883 x\n"
          ],
          "name": "stdout"
        }
      ]
    },
    {
      "cell_type": "markdown",
      "metadata": {
        "id": "JLV5JCWTMcWH"
      },
      "source": [
        "# Using a prebuilt model"
      ]
    },
    {
      "cell_type": "markdown",
      "metadata": {
        "id": "4PC5i1k1NHXQ"
      },
      "source": [
        "In most cases there are already predesigned models that can be used to fit the data of a certain problem. In that case it can be used directly. This is precisely the case with a linear fit."
      ]
    },
    {
      "cell_type": "code",
      "metadata": {
        "colab": {
          "base_uri": "https://localhost:8080/"
        },
        "id": "IGg8k2hyWswE",
        "outputId": "99d4e88b-22f2-4bf8-dc86-01479f809a02"
      },
      "source": [
        "linearModel = torch.nn.Linear(1, 1)\n",
        "\n",
        "# Loss and optimizer\n",
        "criterion = torch.nn.MSELoss(reduction='mean')\n",
        "optimizer = torch.optim.Adam(linearModel.parameters(), lr=1e-1)\n",
        "\n",
        "xval = torch.unsqueeze(x,1).float()\n",
        "yval = torch.unsqueeze(y,1).float()\n",
        "\n",
        "# Train the model\n",
        "for epoch in range(10000):\n",
        "\n",
        "    # Forward pass\n",
        "    yp = linearModel(xval)\n",
        "    loss = criterion(yp, yval)\n",
        "\n",
        "    if epoch+1 in (1, 2, 3, 4, 5, 10, 100, 500, 1000, 5000, 10000):\n",
        "      print(f'Epoch {epoch+1}, Loss {loss}')\n",
        "    \n",
        "    # Backward and optimize\n",
        "    optimizer.zero_grad()\n",
        "    loss.backward()\n",
        "    optimizer.step()\n",
        "\n",
        "print(f'Model: y = {linearModel.bias.item()} + {linearModel.weight.item()} x')"
      ],
      "execution_count": null,
      "outputs": [
        {
          "output_type": "stream",
          "text": [
            "Epoch 1, Loss 19647.1796875\n",
            "Epoch 2, Loss 18050.712890625\n",
            "Epoch 3, Loss 16523.900390625\n",
            "Epoch 4, Loss 15067.86328125\n",
            "Epoch 5, Loss 13683.53515625\n",
            "Epoch 10, Loss 7855.986328125\n",
            "Epoch 100, Loss 8.70557689666748\n",
            "Epoch 500, Loss 8.573247909545898\n",
            "Epoch 1000, Loss 8.560593605041504\n",
            "Epoch 5000, Loss 8.559226989746094\n",
            "Epoch 10000, Loss 8.559225082397461\n",
            "Model: y = 2.5954713821411133 + 2.005831718444824 x\n"
          ],
          "name": "stdout"
        }
      ]
    },
    {
      "cell_type": "markdown",
      "metadata": {
        "id": "lbQYPfZZNfj8"
      },
      "source": [
        "# Exercise: polynomial fit\n",
        "\n"
      ]
    },
    {
      "cell_type": "markdown",
      "metadata": {
        "id": "FomIGuHZYU7k"
      },
      "source": [
        "<img  align=\"left\" style=\"padding-right:10px;\" src=\"https://raw.githubusercontent.com/albertofernandezvillan/computer-vision-and-deep-learning-course/main/assets/pencil.jpg\" width=50> Performs a fit of the following data to a polynomial of degree 4: $y=ax^4+bx^3+cx^2+dx+e$"
      ]
    },
    {
      "cell_type": "code",
      "metadata": {
        "colab": {
          "base_uri": "https://localhost:8080/",
          "height": 287
        },
        "id": "skCLT3CdT1bi",
        "outputId": "93e54aea-9917-4dc4-f2bc-026bfa6a5995"
      },
      "source": [
        "xt = torch.linspace(-10, 10, 100)\n",
        "yt = 3*xt**3 + 20*xt**2 + 500*xt.sin()\n",
        "plt.plot(xt,yt)"
      ],
      "execution_count": null,
      "outputs": [
        {
          "output_type": "execute_result",
          "data": {
            "text/plain": [
              "[<matplotlib.lines.Line2D at 0x7f8d9bf23650>]"
            ]
          },
          "metadata": {
            "tags": []
          },
          "execution_count": 32
        },
        {
          "output_type": "display_data",
          "data": {
            "image/png": "[encoded data removed]",
            "text/plain": [
              "<Figure size 432x288 with 1 Axes>"
            ]
          },
          "metadata": {
            "tags": [],
            "needs_background": "light"
          }
        }
      ]
    },
    {
      "cell_type": "code",
      "metadata": {
        "colab": {
          "base_uri": "https://localhost:8080/",
          "height": 487
        },
        "id": "L5UPFAGKNlwr",
        "outputId": "610595c8-89ad-4911-a24b-816398a5121b"
      },
      "source": [
        "#@title Click here to see the answer\n",
        "\n",
        "class PolModel3(torch.nn.Module):\n",
        "    def __init__(self):\n",
        "        super().__init__()\n",
        "\n",
        "        self.a = torch.nn.Parameter(torch.randn(()))\n",
        "        self.a = torch.nn.Parameter(torch.randn(()))\n",
        "        self.b = torch.nn.Parameter(torch.randn(()))\n",
        "        self.c = torch.nn.Parameter(torch.randn(()))\n",
        "        self.d = torch.nn.Parameter(torch.randn(()))\n",
        "        self.e = torch.nn.Parameter(torch.randn(()))\n",
        "\n",
        "    def forward(self, x):\n",
        "        return self.a * x**4 + self.b * x**3 + self.c* x**2 + self.d* x + self.e\n",
        "\n",
        "polModel = PolModel3()\n",
        "\n",
        "criterion = torch.nn.MSELoss(reduction='mean')\n",
        "optimizer = torch.optim.Adam(polModel.parameters(), lr=1e-2)\n",
        "\n",
        "xt = torch.linspace(-10, 10, 100)\n",
        "yt = 3*xt**3 + 20*xt**2 + 500*xt.sin()\n",
        "\n",
        "for epoch in range(10000):\n",
        "    # Forward pass: Compute predicted y by passing x to the model\n",
        "    y_pred = polModel(xt)\n",
        "\n",
        "    loss = criterion(y_pred, yt)\n",
        "\n",
        "    if epoch+1 in (1, 2, 3, 4, 5, 10, 100, 500, 1000, 5000, 10000):\n",
        "      print(f'Epoch {epoch+1}, Loss {loss}')\n",
        "\n",
        "    # Zero gradients, perform a backward pass, and update the weights.\n",
        "    optimizer.zero_grad()\n",
        "    loss.backward()\n",
        "    optimizer.step()\n",
        "\n",
        "plt.plot(xt, yt)\n",
        "plt.plot(xt, polModel(xt).detach())\n",
        "\n"
      ],
      "execution_count": null,
      "outputs": [
        {
          "output_type": "stream",
          "text": [
            "Epoch 1, Loss 10728244.0\n",
            "Epoch 2, Loss 10501343.0\n",
            "Epoch 3, Loss 10277005.0\n",
            "Epoch 4, Loss 10055277.0\n",
            "Epoch 5, Loss 9836198.0\n",
            "Epoch 10, Loss 8781891.0\n",
            "Epoch 100, Loss 634030.8125\n",
            "Epoch 500, Loss 173177.15625\n",
            "Epoch 1000, Loss 168959.4375\n",
            "Epoch 5000, Loss 118530.4296875\n",
            "Epoch 10000, Loss 113606.8203125\n"
          ],
          "name": "stdout"
        },
        {
          "output_type": "execute_result",
          "data": {
            "text/plain": [
              "[<matplotlib.lines.Line2D at 0x7f8d9beb0690>]"
            ]
          },
          "metadata": {
            "tags": []
          },
          "execution_count": 33
        },
        {
          "output_type": "display_data",
          "data": {
            "image/png": "[encoded data removed]",
            "text/plain": [
              "<Figure size 432x288 with 1 Axes>"
            ]
          },
          "metadata": {
            "tags": [],
            "needs_background": "light"
          }
        }
      ]
    },
    {
      "cell_type": "markdown",
      "metadata": {
        "id": "9uAwbVxaCdsC"
      },
      "source": [
        "## Example for polynomial of variable degree\n",
        "\n",
        "To fit a polynomial of variable degree you can perform a transformation:\n",
        "\n",
        "$y = ax^2+bx+c$\n",
        "\n",
        "$y = az_0+bz_1+c$\n",
        "\n",
        "where $z_0=x^2$ y $z_1=x$\n",
        "\n",
        "The same process can be followed for a higher degree.\n",
        "\n",
        "Following this approach, a transformation is performed to a linear fit that can be solved with the class `torch.nn.Linear`."
      ]
    },
    {
      "cell_type": "code",
      "metadata": {
        "colab": {
          "base_uri": "https://localhost:8080/",
          "height": 505
        },
        "id": "4xWl6Jxm2wru",
        "outputId": "d1caf68f-3f0c-4bc7-ad55-438ee002a7f6"
      },
      "source": [
        "#@title Click here to see the answer\n",
        "\n",
        "class PolModelN(torch.nn.Module):\n",
        "    def __init__(self, n):\n",
        "        super().__init__()\n",
        "        self.fc1 = torch.nn.Linear(n, 1)\n",
        "\n",
        "    def forward(self, x):\n",
        "        return self.fc1(x)\n",
        "\n",
        "xt = torch.linspace(-10, 10, 100)\n",
        "yt = 3*xt**3 + 20*xt**2 + 500*xt.sin()\n",
        "\n",
        "# Data normalization\n",
        "xt = (xt - xt.mean()) / xt.std()\n",
        "yt = (yt - yt.mean()) / yt.std()\n",
        "\n",
        "n = 15\n",
        "polModel = PolModelN(n)\n",
        "\n",
        "zt = torch.zeros(len(xt),n);\n",
        "for i in range(n):\n",
        "  zt[:,i] = xt**(i+1)\n",
        "  \n",
        "criterion = torch.nn.MSELoss(reduction='mean')\n",
        "optimizer = torch.optim.Adam(polModel.parameters(), lr=1e-2)\n",
        "\n",
        "yval = torch.unsqueeze(yt,1).float()\n",
        "\n",
        "for epoch in range(20000):\n",
        "    # Forward pass: Compute predicted y by passing x to the model\n",
        "    y_pred = polModel(zt)\n",
        "\n",
        "    loss = criterion(y_pred, yval)\n",
        "\n",
        "    if epoch+1 in (1, 2, 3, 4, 5, 10, 100, 500, 1000, 5000, 10000, 20000):\n",
        "      print(f'Epoch {epoch+1}, Loss {loss}')\n",
        "\n",
        "    # Zero gradients, perform a backward pass, and update the weights.\n",
        "    optimizer.zero_grad()\n",
        "    loss.backward()\n",
        "    optimizer.step()\n",
        "\n",
        "plt.plot(xt, yt)\n",
        "plt.plot(xt, polModel(zt).detach())"
      ],
      "execution_count": null,
      "outputs": [
        {
          "output_type": "stream",
          "text": [
            "Epoch 1, Loss 16089.6025390625\n",
            "Epoch 2, Loss 13319.9228515625\n",
            "Epoch 3, Loss 10821.673828125\n",
            "Epoch 4, Loss 8598.3173828125\n",
            "Epoch 5, Loss 6651.201171875\n",
            "Epoch 10, Loss 893.48876953125\n",
            "Epoch 100, Loss 56.58309555053711\n",
            "Epoch 500, Loss 4.430404186248779\n",
            "Epoch 1000, Loss 1.5624053478240967\n",
            "Epoch 5000, Loss 0.08451444655656815\n",
            "Epoch 10000, Loss 0.0317758210003376\n",
            "Epoch 20000, Loss 0.019111014902591705\n"
          ],
          "name": "stdout"
        },
        {
          "output_type": "execute_result",
          "data": {
            "text/plain": [
              "[<matplotlib.lines.Line2D at 0x7f8d996cb710>]"
            ]
          },
          "metadata": {
            "tags": []
          },
          "execution_count": 60
        },
        {
          "output_type": "display_data",
          "data": {
            "image/png": "[encoded data removed]",
            "text/plain": [
              "<Figure size 432x288 with 1 Axes>"
            ]
          },
          "metadata": {
            "tags": [],
            "needs_background": "light"
          }
        }
      ]
    }
  ]
}