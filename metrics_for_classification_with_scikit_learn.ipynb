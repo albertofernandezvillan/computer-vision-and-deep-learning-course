{
  "nbformat": 4,
  "nbformat_minor": 0,
  "metadata": {
    "colab": {
      "name": "metrics_for_classification_with_scikit_learn.ipynb",
      "provenance": [],
      "collapsed_sections": [],
      "toc_visible": true,
      "authorship_tag": "ABX9TyPK+ZavD2gbhdRMeG4s1XX7",
      "include_colab_link": true
    },
    "kernelspec": {
      "name": "python3",
      "display_name": "Python 3"
    }
  },
  "cells": [
    {
      "cell_type": "markdown",
      "metadata": {
        "id": "view-in-github",
        "colab_type": "text"
      },
      "source": [
        "<a href=\"https://colab.research.google.com/github/albertofernandezvillan/computer-vision-and-deep-learning-course/blob/main/metrics_for_classification_with_scikit_learn.ipynb\" target=\"_parent\"><img src=\"https://colab.research.google.com/assets/colab-badge.svg\" alt=\"Open In Colab\"/></a>"
      ]
    },
    {
      "cell_type": "markdown",
      "metadata": {
        "id": "FzpH7oqWeDV8"
      },
      "source": [
        "<img align=\"left\" style=\"padding-right:10px;\" src =\"https://raw.githubusercontent.com/albertofernandezvillan/computer-vision-and-deep-learning-course/main/assets/university_oviedo_logo.png\" width=300 px>\n",
        "\n",
        "This notebook is from the Course \"***Computer vision in the new era of Artificial Intelligence and Deep Learning***\", or \"*Visión por computador en la nueva era de la Inteligencia Artificial y el Deep Learning*\" (ES) from the \"Second quarter university extension courses\" that the University of Oviedo is offering (05/04/2021 - 16/04/2021)\n",
        "\n",
        "<[Github Repository](https://github.com/albertofernandezvillan/computer-vision-and-deep-learning-course) | [Course Web Page Information](https://www.uniovi.es/estudios/extension/cursos2c/-/asset_publisher/SEp0PJi4ISGo/content/vision-por-computador-en-la-nueva-era-de-la-inteligencia-artificial-y-el-deep-learning?redirect=%2Festudios%2Fextension%2Fcursos2c)>"
      ]
    },
    {
      "cell_type": "markdown",
      "metadata": {
        "id": "ApukvMiQF1ZY"
      },
      "source": [
        "# Summary\n",
        "\n",
        "The [sklearn.metrics](https://scikit-learn.org/stable/modules/classes.html#module-sklearn.metrics) module implements functions assessing prediction error for classification, regresion and clustering.\n",
        "\n",
        "You can check the scikit-learn documention if further information is required about \"[*Metrics and scoring: quantifying the quality of predictions*](https://scikit-learn.org/stable/modules/model_evaluation.html)\".\n",
        "\n",
        "In this notebook, we will see some of the metrics that scikit-learn provides for [classification](https://scikit-learn.org/stable/modules/model_evaluation.html#classification-metrics) and also write our own functions from scratch to understand the math behind a few of them."
      ]
    },
    {
      "cell_type": "markdown",
      "metadata": {
        "id": "y2Zt2qpUGBZN"
      },
      "source": [
        "# Introduction\n",
        "\n",
        "Imagine a study evaluating a test that screens people for a disease. Each person taking the test either has or does not have the disease. The test outcome can be positive (classifying the person as having the disease) or negative (classifying the person as not having the disease). Therefore, we can group the people under study in one of the four following groups:\n",
        "\n",
        " - **True positive (TP)**: Sick people (actual = 1) correctly identified as sick (predicted = 1)\n",
        " - **False positive (FP)**: Healthy people (actual = 0) incorrectly identified as sick (predicted = 1)\n",
        " - **True negative (TN)**: Healthy people (actual = 0) correctly identified as healthy (predicted = 0)\n",
        " - **False negative (FN)**: Sick people (actual = 1) incorrectly identified as healthy (predicted = 0)\n",
        "\n",
        "These four groups can be represented in the following figure (extracted from [here](https://towardsdatascience.com/understanding-data-science-classification-metrics-in-scikit-learn-in-python-3bc336865019)).\n",
        "\n",
        "\n",
        "<img src=\"https://miro.medium.com/max/407/1*2WBrkJP8qKO3DDG7Lvg0hg.png\">\n",
        "\n",
        "In the figure above, you can see that:\n",
        "- All the samples that have the condition (e.g. having disease): True Positives + False Negatives (right part of the image)\n",
        "- All the samples that do not have the condition (e.g. not having disease): True Negatives + False Positives (left part of the image)\n",
        "\n",
        "The figure above can also be displayed using a confusion matrix as shown below:\n",
        "\n",
        "<img src=\"https://raw.githubusercontent.com/albertofernandezvillan/computer-vision-and-deep-learning-course/main/assets/confusion_matrix.png\">\n",
        "\n",
        "Using TP, FP, FN and TN, we can calculate some metrics: sensitivity (or recall), specificity, and precision.\n",
        "\n",
        "**Sensitivity** is a measure of how well a test can **identify true positives**. Sensitivity can also be referred to as the **recall**, hit rate, or **true positive rate**. It is the percentage, or proportion, of true positives out of all the samples that have the condition (true positives and false negatives). It can be seen as \"*how sure you are that you are not missing any positives*\".\n",
        "\n",
        "**Specificity** is a measure of how well a test can **identify true negatives**. Specificity is also referred to as selectivity or **true negative rate**, and it is the percentage, or proportion, of the true negatives out of all the samples that do not have the condition (true negatives and false positives).\n",
        "\n",
        "**Precision** is intuitively the ability of the classifier not to label as positive a sample that is negative. Precision can also be referred as positive predictive values (PPV). It is the proportions of positive results that are true positive. Precision can be seen as \"*how sure you are of your true positives*\".\n",
        "\n"
      ]
    },
    {
      "cell_type": "markdown",
      "metadata": {
        "id": "qMMTGJ9qPczq"
      },
      "source": [
        "# Implementing our own functions provinding main metrics for classification\n",
        "\n",
        "We can code our own scoring functions using only NumPy. Firs of all, we have to calculate TP, FN, FP and TN. Then, and based on these metrics, we can calculate the confusion matrix, sensitivity, specificity, precision, recall and F1 score. Later on, we see how to apply these function for evaluation purposes and also compare the resuls with the metrics and scoring functions included in [sklearn.metrics](https://scikit-learn.org/stable/modules/classes.html#module-sklearn.metrics) module."
      ]
    },
    {
      "cell_type": "code",
      "metadata": {
        "id": "1EKYR2kM1FY_"
      },
      "source": [
        "import numpy as np\n",
        "\n",
        "def find_TP(y_true, y_pred):\n",
        "  # counts the number of true positives (y_true = 1, y_pred = 1)\n",
        "  return sum((y_true == 1) & (y_pred == 1))\n",
        "\n",
        "def find_FN(y_true, y_pred):\n",
        "  # counts the number of false negatives (y_true = 1, y_pred = 0)\n",
        "  return sum((y_true == 1) & (y_pred == 0))\n",
        "\n",
        "def find_FP(y_true, y_pred):\n",
        "  # counts the number of false positives (y_true = 0, y_pred = 1)\n",
        "  return sum((y_true == 0) & (y_pred == 1))\n",
        "\n",
        "def find_TN(y_true, y_pred):\n",
        "  # counts the number of true negatives (y_true = 0, y_pred = 0)\n",
        "  return sum((y_true == 0) & (y_pred == 0))\n",
        "\n",
        "def find_conf_matrix_values(y_true,y_pred):\n",
        "  # calculate TP, FN, FP, TN\n",
        "  TP = find_TP(y_true,y_pred)\n",
        "  FN = find_FN(y_true,y_pred)\n",
        "  FP = find_FP(y_true,y_pred)\n",
        "  TN = find_TN(y_true,y_pred)\n",
        "  return TP,FN,FP,TN\n",
        "\n",
        "def my_confusion_matrix(y_true, y_pred):\n",
        "  TP,FN,FP,TN = find_conf_matrix_values(y_true,y_pred)\n",
        "  return np.array([[TN,FP],[FN,TP]])\n",
        "\n",
        "def my_accuracy_score(y_true, y_pred):\n",
        "  # calculates the fraction of samples predicted correctly\n",
        "  TP,FN,FP,TN = find_conf_matrix_values(y_true,y_pred) \n",
        "  return (TP + TN)/(TP + FN + FP + TN)\n",
        "\n",
        "def my_recall_score(y_true, y_pred):\n",
        "  # True positive rate (TPR), recall, sensitivity\n",
        "  # calculates the fraction of positive samples predicted correctly\n",
        "  TP,FN,FP,TN = find_conf_matrix_values(y_true,y_pred)  \n",
        "  return TP / (TP + FN)\n",
        "\n",
        "def my_sensitivity_score(y_true, y_pred):\n",
        "  return my_recall_score(y_true, y_pred)\n",
        "\n",
        "def my_precision_score(y_true, y_pred):\n",
        "  # calculates the fraction of predicted positives samples that are actually positive\n",
        "  TP,FN,FP,TN = find_conf_matrix_values(y_true,y_pred)  \n",
        "  return TP / (TP + FP)\n",
        "\n",
        "# tn, fp, fn, tp = confusion_matrix(y_true, y_pred).ravel()\n",
        "# specificity = tn / (tn+fp)\n",
        "def my_specificity_score(y_true, y_pred):\n",
        "  # Specificity, selectivity, true negative rate (TNR)\n",
        "  # Calculates the fraction of negatives that are correctly identified\n",
        "  TP,FN,FP,TN = find_conf_matrix_values(y_true,y_pred)\n",
        "  return TN / (TN + FP)\n",
        "\n",
        "def my_f1_score(y_true, y_pred):\n",
        "  # calculates the F1 score\n",
        "  recall = my_recall_score(y_true,y_pred)  \n",
        "  precision = my_precision_score(y_true,y_pred)  \n",
        "  return 2 * (precision * recall) / (precision + recall)\n",
        "\n",
        "def show_metric(my_metric):\n",
        "  return \"{:.2f}%\".format(my_metric * 100)"
      ],
      "execution_count": null,
      "outputs": []
    },
    {
      "cell_type": "markdown",
      "metadata": {
        "id": "v-V3oRlKtEiv"
      },
      "source": [
        "At this point, we are going to show sample examples in order to introduce all the metrics and scoring functions defined above. These examples are extracted [from this tutorial](https://towardsdatascience.com/should-i-look-at-precision-recall-or-specificity-sensitivity-3946158aace1). \n",
        "\n",
        "<img align=\"left\"  src =\"https://raw.githubusercontent.com/albertofernandezvillan/computer-vision-and-deep-learning-course/main/assets/pencil.jpg\" width=40 px>\n",
        "\n",
        "You can check and complete this notebook with the missing examples included in the afforementioned tutorial."
      ]
    },
    {
      "cell_type": "markdown",
      "metadata": {
        "id": "_iDt6ZwQtKfc"
      },
      "source": [
        "## Example 1 — Low Precision, High Recall, and High Specificity\n",
        "\n",
        "<img src=\"https://miro.medium.com/max/700/1*btcfBuM5Eqqc6rJ3iw3sNQ.png\" width=600>"
      ]
    },
    {
      "cell_type": "code",
      "metadata": {
        "colab": {
          "base_uri": "https://localhost:8080/"
        },
        "id": "vhvYgiWxscOz",
        "outputId": "942e5e44-6294-400d-8f8d-40ed70f4b818"
      },
      "source": [
        "import numpy as np\n",
        "\n",
        "y_true = np.array([1,0,0,0,0,0,0,0,0,0])\n",
        "y_pred = np.array([1,1,1,0,0,0,0,0,0,0])\n",
        "\n",
        "print(\"precision: {}\".format(show_metric(my_precision_score(y_true, y_pred))))\n",
        "print(\"recall: {}\".format(show_metric(my_recall_score(y_true, y_pred))))\n",
        "print(\"specificity: {}\".format(show_metric(my_specificity_score(y_true, y_pred))))\n",
        "print(\"sensitivity: {}\".format(show_metric(my_sensitivity_score(y_true, y_pred))))\n",
        "print(\"accuracy: {}\".format(show_metric(my_accuracy_score(y_true, y_pred))))\n",
        "print(\"F1 score: {}\".format(show_metric(my_f1_score(y_true, y_pred))))"
      ],
      "execution_count": null,
      "outputs": [
        {
          "output_type": "stream",
          "text": [
            "precision: 33.33%\n",
            "recall: 100.00%\n",
            "specificity: 77.78%\n",
            "sensitivity: 100.00%\n",
            "accuracy: 80.00%\n",
            "F1 score: 50.00%\n"
          ],
          "name": "stdout"
        }
      ]
    },
    {
      "cell_type": "markdown",
      "metadata": {
        "id": "fjMEGULf3rEI"
      },
      "source": [
        "From the above:\n",
        "- If the classifier predicts negative, you can trust it, the example is negative.\n",
        "- If the example is negative, you can’t be sure it will predict it as negative (specificity=78%).\n",
        "- If the classifier predicts positive, you can’t trust it (precision=33%)\n",
        "- If the example is positive, you can trust the classifier (recall=100%)."
      ]
    },
    {
      "cell_type": "markdown",
      "metadata": {
        "id": "_RNXdoNN40lc"
      },
      "source": [
        "## Example 2 — High Precision, High Recall, and Low Specificity\n",
        "\n",
        "<img src=\"https://miro.medium.com/max/2400/1*5tE354A0ULFcQJBB0iroLQ.png\" width=600>"
      ]
    },
    {
      "cell_type": "code",
      "metadata": {
        "colab": {
          "base_uri": "https://localhost:8080/"
        },
        "id": "_AwFR29I5J7F",
        "outputId": "3c55223b-b2a1-4e57-f31a-80fb23330838"
      },
      "source": [
        "import numpy as np\n",
        "\n",
        "y_true = np.array([0,1,1,1,1,1,1,1,1,1])\n",
        "y_pred = np.array([1,1,1,1,1,1,1,1,1,1])\n",
        "\n",
        "print(\"precision: {}\".format(show_metric(my_precision_score(y_true, y_pred))))\n",
        "print(\"recall: {}\".format(show_metric(my_recall_score(y_true, y_pred))))\n",
        "print(\"specificity: {}\".format(show_metric(my_specificity_score(y_true, y_pred))))\n",
        "print(\"sensitivity: {}\".format(show_metric(my_sensitivity_score(y_true, y_pred))))\n",
        "print(\"accuracy: {}\".format(show_metric(my_accuracy_score(y_true, y_pred))))\n",
        "print(\"F1 score: {}\".format(show_metric(my_f1_score(y_true, y_pred))))"
      ],
      "execution_count": null,
      "outputs": [
        {
          "output_type": "stream",
          "text": [
            "precision: 90.00%\n",
            "recall: 100.00%\n",
            "specificity: 0.00%\n",
            "sensitivity: 100.00%\n",
            "accuracy: 90.00%\n",
            "F1 score: 94.74%\n"
          ],
          "name": "stdout"
        }
      ]
    },
    {
      "cell_type": "markdown",
      "metadata": {
        "id": "q6aIhQkO5oby"
      },
      "source": [
        "From the above:\n",
        "- Predicting everything as positive clearly can’t be a good idea. However, because the population is imbalanced the precision is relatively high (90%) \n",
        "- The recall is 100% because all the positive examples are predicted as positive.  \n",
        "- The specificity is 0% because no negative example is predicted as negative."
      ]
    },
    {
      "cell_type": "markdown",
      "metadata": {
        "id": "OTWhFwCh_2oy"
      },
      "source": [
        "## Example 3 — High Precision, Low Recall, and High Specificity\n",
        "\n",
        "<img src=\"https://miro.medium.com/max/700/1*595ygSPyeaRYuDXYSnfCZQ.png\" width=600>"
      ]
    },
    {
      "cell_type": "code",
      "metadata": {
        "colab": {
          "base_uri": "https://localhost:8080/"
        },
        "id": "djtLxxs0_-F1",
        "outputId": "bf97ba4c-1c00-4dca-d26c-8deb9642382a"
      },
      "source": [
        "import numpy as np\n",
        "\n",
        "y_true = np.array([0,1,1,1,1,1,1,1,1,1])\n",
        "y_pred = np.array([0,1,0,0,0,0,0,0,0,0])\n",
        "\n",
        "print(\"precision: {}\".format(show_metric(my_precision_score(y_true, y_pred))))\n",
        "print(\"recall: {}\".format(show_metric(my_recall_score(y_true, y_pred))))\n",
        "print(\"specificity: {}\".format(show_metric(my_specificity_score(y_true, y_pred))))\n",
        "print(\"sensitivity: {}\".format(show_metric(my_sensitivity_score(y_true, y_pred))))\n",
        "print(\"accuracy: {}\".format(show_metric(my_accuracy_score(y_true, y_pred))))\n",
        "print(\"F1 score: {}\".format(show_metric(my_f1_score(y_true, y_pred))))"
      ],
      "execution_count": null,
      "outputs": [
        {
          "output_type": "stream",
          "text": [
            "precision: 100.00%\n",
            "recall: 11.11%\n",
            "specificity: 100.00%\n",
            "sensitivity: 11.11%\n",
            "accuracy: 20.00%\n",
            "F1 score: 20.00%\n"
          ],
          "name": "stdout"
        }
      ]
    },
    {
      "cell_type": "markdown",
      "metadata": {
        "id": "A9g94VhYA0zb"
      },
      "source": [
        "From the above:\n",
        "- If it predicts that an example is positive, you can trust it because it is positive.\n",
        "- If it predicts it is negative, you can’t trust it, the chances are that it is still positive."
      ]
    },
    {
      "cell_type": "markdown",
      "metadata": {
        "id": "i-2QqR3mRp__"
      },
      "source": [
        "# Scikit-learn classification metrics\n",
        "\n",
        "At this point we are going to introduce some of the main metrics scikit-learn provides for classification purposes. First of all, let's get [some data](https://towardsdatascience.com/understanding-data-science-classification-metrics-in-scikit-learn-in-python-3bc336865019). \n",
        "This dataset has the actual labels (`actual_label`) and the prediction probabilities for two models (`model_RF` and `model_LR`). Here the probabilities are the probability of being `class 1`.\n",
        "Moreover, let's show first rows."
      ]
    },
    {
      "cell_type": "code",
      "metadata": {
        "colab": {
          "base_uri": "https://localhost:8080/",
          "height": 198
        },
        "id": "YdzOs0K9tfAZ",
        "outputId": "e7753edf-bc1e-400b-bd9b-00b184545860"
      },
      "source": [
        "import pandas as pd\n",
        "\n",
        "url = \"https://raw.githubusercontent.com/andrewwlong/classification_metrics_sklearn/master/data.csv\"\n",
        "df = pd.read_csv(url)\n",
        "df.head()"
      ],
      "execution_count": null,
      "outputs": [
        {
          "output_type": "execute_result",
          "data": {
            "text/html": [
              "<div>\n",
              "<style scoped>\n",
              "    .dataframe tbody tr th:only-of-type {\n",
              "        vertical-align: middle;\n",
              "    }\n",
              "\n",
              "    .dataframe tbody tr th {\n",
              "        vertical-align: top;\n",
              "    }\n",
              "\n",
              "    .dataframe thead th {\n",
              "        text-align: right;\n",
              "    }\n",
              "</style>\n",
              "<table border=\"1\" class=\"dataframe\">\n",
              "  <thead>\n",
              "    <tr style=\"text-align: right;\">\n",
              "      <th></th>\n",
              "      <th>actual_label</th>\n",
              "      <th>model_RF</th>\n",
              "      <th>model_LR</th>\n",
              "    </tr>\n",
              "  </thead>\n",
              "  <tbody>\n",
              "    <tr>\n",
              "      <th>0</th>\n",
              "      <td>1</td>\n",
              "      <td>0.639816</td>\n",
              "      <td>0.531904</td>\n",
              "    </tr>\n",
              "    <tr>\n",
              "      <th>1</th>\n",
              "      <td>0</td>\n",
              "      <td>0.490993</td>\n",
              "      <td>0.414496</td>\n",
              "    </tr>\n",
              "    <tr>\n",
              "      <th>2</th>\n",
              "      <td>1</td>\n",
              "      <td>0.623815</td>\n",
              "      <td>0.569883</td>\n",
              "    </tr>\n",
              "    <tr>\n",
              "      <th>3</th>\n",
              "      <td>1</td>\n",
              "      <td>0.506616</td>\n",
              "      <td>0.443674</td>\n",
              "    </tr>\n",
              "    <tr>\n",
              "      <th>4</th>\n",
              "      <td>0</td>\n",
              "      <td>0.418302</td>\n",
              "      <td>0.369532</td>\n",
              "    </tr>\n",
              "  </tbody>\n",
              "</table>\n",
              "</div>"
            ],
            "text/plain": [
              "   actual_label  model_RF  model_LR\n",
              "0             1  0.639816  0.531904\n",
              "1             0  0.490993  0.414496\n",
              "2             1  0.623815  0.569883\n",
              "3             1  0.506616  0.443674\n",
              "4             0  0.418302  0.369532"
            ]
          },
          "metadata": {
            "tags": []
          },
          "execution_count": 2
        }
      ]
    },
    {
      "cell_type": "markdown",
      "metadata": {
        "id": "D3WGCK0sVlWm"
      },
      "source": [
        "In most data science projects, you will define a threshold to define which prediction probabilities are labeled as predicted positive vs predicted negative. For now let’s assume the threshold is `0.5`. Let’s add two additional columns that convert the probabilities to predicted labels."
      ]
    },
    {
      "cell_type": "code",
      "metadata": {
        "colab": {
          "base_uri": "https://localhost:8080/",
          "height": 198
        },
        "id": "evR5THFQ-3vt",
        "outputId": "c5af6713-ef16-4417-96f1-4e769d0d2371"
      },
      "source": [
        "thresh = 0.5\n",
        "df['predicted_RF'] = (df.model_RF >= 0.5).astype('int')\n",
        "df['predicted_LR'] = (df.model_LR >= 0.5).astype('int')\n",
        "df.head()"
      ],
      "execution_count": null,
      "outputs": [
        {
          "output_type": "execute_result",
          "data": {
            "text/html": [
              "<div>\n",
              "<style scoped>\n",
              "    .dataframe tbody tr th:only-of-type {\n",
              "        vertical-align: middle;\n",
              "    }\n",
              "\n",
              "    .dataframe tbody tr th {\n",
              "        vertical-align: top;\n",
              "    }\n",
              "\n",
              "    .dataframe thead th {\n",
              "        text-align: right;\n",
              "    }\n",
              "</style>\n",
              "<table border=\"1\" class=\"dataframe\">\n",
              "  <thead>\n",
              "    <tr style=\"text-align: right;\">\n",
              "      <th></th>\n",
              "      <th>actual_label</th>\n",
              "      <th>model_RF</th>\n",
              "      <th>model_LR</th>\n",
              "      <th>predicted_RF</th>\n",
              "      <th>predicted_LR</th>\n",
              "    </tr>\n",
              "  </thead>\n",
              "  <tbody>\n",
              "    <tr>\n",
              "      <th>0</th>\n",
              "      <td>1</td>\n",
              "      <td>0.639816</td>\n",
              "      <td>0.531904</td>\n",
              "      <td>1</td>\n",
              "      <td>1</td>\n",
              "    </tr>\n",
              "    <tr>\n",
              "      <th>1</th>\n",
              "      <td>0</td>\n",
              "      <td>0.490993</td>\n",
              "      <td>0.414496</td>\n",
              "      <td>0</td>\n",
              "      <td>0</td>\n",
              "    </tr>\n",
              "    <tr>\n",
              "      <th>2</th>\n",
              "      <td>1</td>\n",
              "      <td>0.623815</td>\n",
              "      <td>0.569883</td>\n",
              "      <td>1</td>\n",
              "      <td>1</td>\n",
              "    </tr>\n",
              "    <tr>\n",
              "      <th>3</th>\n",
              "      <td>1</td>\n",
              "      <td>0.506616</td>\n",
              "      <td>0.443674</td>\n",
              "      <td>1</td>\n",
              "      <td>0</td>\n",
              "    </tr>\n",
              "    <tr>\n",
              "      <th>4</th>\n",
              "      <td>0</td>\n",
              "      <td>0.418302</td>\n",
              "      <td>0.369532</td>\n",
              "      <td>0</td>\n",
              "      <td>0</td>\n",
              "    </tr>\n",
              "  </tbody>\n",
              "</table>\n",
              "</div>"
            ],
            "text/plain": [
              "   actual_label  model_RF  model_LR  predicted_RF  predicted_LR\n",
              "0             1  0.639816  0.531904             1             1\n",
              "1             0  0.490993  0.414496             0             0\n",
              "2             1  0.623815  0.569883             1             1\n",
              "3             1  0.506616  0.443674             1             0\n",
              "4             0  0.418302  0.369532             0             0"
            ]
          },
          "metadata": {
            "tags": []
          },
          "execution_count": 3
        }
      ]
    },
    {
      "cell_type": "markdown",
      "metadata": {
        "id": "OLZa_jyIXJDu"
      },
      "source": [
        "## Accuracy\n",
        "\n",
        "**Accuracy score**\n",
        "The [accuracy_score](https://scikit-learn.org/stable/modules/generated/sklearn.metrics.accuracy_score.html#sklearn.metrics.accuracy_score) function computes the accuracy, either the fraction of correct predictions (default) or the count (`normalize=False`) of correct predictions.\n",
        "\n",
        "$\\ \\texttt{accuracy}(y, \\hat{y}) = \\frac{1}{n_\\text{samples}} \\sum_{i=0}^{n_\\text{samples}-1} 1(\\hat{y}_i = y_i)$\n",
        "\n",
        "Accuracy is the most common evaluation metric for classification problems. However, it should only be used when:\n",
        "\n",
        "- There are an equal number of observations in each class\n",
        "- All predictions and prediction errors are equally important"
      ]
    },
    {
      "cell_type": "code",
      "metadata": {
        "colab": {
          "base_uri": "https://localhost:8080/"
        },
        "id": "_9iJ5xKyYpcV",
        "outputId": "ea88c00e-0beb-4c62-9350-426fe1581875"
      },
      "source": [
        "from sklearn.metrics import accuracy_score\n",
        "\n",
        "print(accuracy_score(df[\"actual_label\"], df[\"predicted_RF\"]))\n",
        "print(my_accuracy_score(df[\"actual_label\"], df[\"predicted_RF\"]))"
      ],
      "execution_count": null,
      "outputs": [
        {
          "output_type": "stream",
          "text": [
            "0.6705165630156111\n",
            "0.6705165630156111\n"
          ],
          "name": "stdout"
        }
      ]
    },
    {
      "cell_type": "markdown",
      "metadata": {
        "id": "d1PCb8Qsp-ri"
      },
      "source": [
        "## Balanced accuracy\n",
        "\n",
        "[`balanced_accuracy_score()`](https://scikit-learn.org/stable/modules/generated/sklearn.metrics.balanced_accuracy_score.html) can be used in binary and multiclass classification problems to deal with imbalanced datasets. `balanced_accuracy_score()` returns the average accuracy per class. In the example below, we have 10 samples for 2 classes with 7 observations in class 0 and 3 observations in class 1. Therefore, `accuracy_score()` give as a value of (7/10 = 0.7) and `balanced_accuracy_score()` would return (6/7 + 1/3)/2 = 0,5952.\n",
        "\n"
      ]
    },
    {
      "cell_type": "code",
      "metadata": {
        "colab": {
          "base_uri": "https://localhost:8080/"
        },
        "id": "CbIGDr0Tqbb9",
        "outputId": "06e13b78-0fe3-4a5e-ae67-27e41640ac9c"
      },
      "source": [
        "from sklearn.metrics import balanced_accuracy_score\n",
        "\n",
        "y_true = np.array([1,1,0,0,0,0,0,0,0,1])\n",
        "y_pred = np.array([0,1,0,0,0,0,0,0,1,0])\n",
        "\n",
        "print(accuracy_score(y_true, y_pred))\n",
        "print(balanced_accuracy_score(y_true, y_pred))"
      ],
      "execution_count": null,
      "outputs": [
        {
          "output_type": "stream",
          "text": [
            "0.7\n",
            "0.5952380952380952\n"
          ],
          "name": "stdout"
        }
      ]
    },
    {
      "cell_type": "markdown",
      "metadata": {
        "id": "VBy2wufIXDUU"
      },
      "source": [
        "## Confusion matrix\n",
        "\n",
        "A confusion matrix is a technique for summarizing the performance of a classification algorithm. Classification accuracy alone can be misleading if you have an unequal number of observations in each class or if you have more than two classes in your dataset.\n",
        "Calculating a confusion matrix can give you a better idea of what your classification model is getting right and what types of errors it is making."
      ]
    },
    {
      "cell_type": "code",
      "metadata": {
        "colab": {
          "base_uri": "https://localhost:8080/"
        },
        "id": "YeIEzS0R-9ID",
        "outputId": "6ac70acd-550c-492f-ab76-0d83c16d050e"
      },
      "source": [
        "from sklearn.metrics import confusion_matrix\n",
        "\n",
        "# [TN,FP],[FN,TP]\n",
        "print(confusion_matrix(df['actual_label'], df['predicted_RF']))\n",
        "print(my_confusion_matrix(df['actual_label'], df['predicted_RF']))"
      ],
      "execution_count": null,
      "outputs": [
        {
          "output_type": "stream",
          "text": [
            "[[5519 2360]\n",
            " [2832 5047]]\n",
            "[[5519 2360]\n",
            " [2832 5047]]\n"
          ],
          "name": "stdout"
        }
      ]
    },
    {
      "cell_type": "markdown",
      "metadata": {
        "id": "F91CD3oSeHu5"
      },
      "source": [
        "We can also show the confusion matrix using [`ConfusionMatrixDisplay`](https://scikit-learn.org/stable/modules/generated/sklearn.metrics.ConfusionMatrixDisplay.html), which provides a nice visualization. Based on the documentation \"*It is recommend to use `plot_confusion_matrix` to create a `ConfusionMatrixDisplay`*\". The main problem of using [`plot_confusion_matrix`](https://scikit-learn.org/stable/modules/generated/sklearn.metrics.plot_confusion_matrix.html#sklearn.metrics.plot_confusion_matrix) is that requires an `estimator` as first argument. So, in this case, we have to use `ConfusionMatrixDisplay` directly because we have not defined a classifier."
      ]
    },
    {
      "cell_type": "code",
      "metadata": {
        "colab": {
          "base_uri": "https://localhost:8080/",
          "height": 282
        },
        "id": "Tba5y_D5acwp",
        "outputId": "4184d311-158c-45fd-e3ac-4236cc48cd13"
      },
      "source": [
        "# https://stackoverflow.com/questions/59165149/plot-confusion-matrix-with-scikit-learn-without-a-classifier\n",
        "\n",
        "import matplotlib.pyplot as plt\n",
        "from sklearn.metrics import ConfusionMatrixDisplay\n",
        "\n",
        "cm = confusion_matrix(df['actual_label'], df['predicted_RF'])\n",
        "display_labels = [\"0\", \"1\"]\n",
        "disp = ConfusionMatrixDisplay(confusion_matrix=cm, display_labels=display_labels)\n",
        "disp = disp.plot(values_format='.0f')\n",
        "plt.show()"
      ],
      "execution_count": null,
      "outputs": [
        {
          "output_type": "display_data",
          "data": {
            "image/png": "[encoded data removed]",
            "text/plain": [
              "<Figure size 432x288 with 2 Axes>"
            ]
          },
          "metadata": {
            "tags": [],
            "needs_background": "light"
          }
        }
      ]
    },
    {
      "cell_type": "markdown",
      "metadata": {
        "id": "q_SxETtbfzrR"
      },
      "source": [
        "The confusion matrix can also be normalized. The parameter `normalize` allows to report ratios instead of counts. The confusion matrix can be normalized in 3 different ways: `'pred'`, `'true'`, and `'all'` which will divide the counts by the sum of each columns, rows, or the entire matrix, respectively."
      ]
    },
    {
      "cell_type": "code",
      "metadata": {
        "colab": {
          "base_uri": "https://localhost:8080/",
          "height": 283
        },
        "id": "7kEz8RCRfmCe",
        "outputId": "73ff9aae-c963-4e6e-e594-035d5c19e3fd"
      },
      "source": [
        "import matplotlib.pyplot as plt\n",
        "from sklearn.metrics import ConfusionMatrixDisplay\n",
        "\n",
        "cm = confusion_matrix(df['actual_label'], df['predicted_RF'], normalize='all')\n",
        "display_labels = [\"0\", \"1\"]\n",
        "disp = ConfusionMatrixDisplay(confusion_matrix=cm, display_labels=display_labels)\n",
        "disp = disp.plot(values_format='.2%')\n",
        "plt.show()"
      ],
      "execution_count": null,
      "outputs": [
        {
          "output_type": "display_data",
          "data": {
            "image/png": "[encoded data removed]",
            "text/plain": [
              "<Figure size 432x288 with 2 Axes>"
            ]
          },
          "metadata": {
            "tags": [],
            "needs_background": "light"
          }
        }
      ]
    },
    {
      "cell_type": "markdown",
      "metadata": {
        "id": "hlYayaJVkB4Y"
      },
      "source": [
        "## Precision\n",
        "\n",
        "The [precision](https://scikit-learn.org/stable/modules/generated/sklearn.metrics.precision_score.html#sklearn.metrics.precision_score) is intuitively the ability of the classifier not to label as positive a sample that is negative. It can be computed using `precision_score()`:\n"
      ]
    },
    {
      "cell_type": "code",
      "metadata": {
        "colab": {
          "base_uri": "https://localhost:8080/"
        },
        "id": "1W3wguPakrvN",
        "outputId": "9b3cf866-683e-496d-d932-a82b3f4234df"
      },
      "source": [
        "from sklearn.metrics import precision_score\n",
        "\n",
        "print(precision_score(df['actual_label'], df['predicted_RF']))\n",
        "print(my_precision_score(df['actual_label'], df['predicted_RF']))"
      ],
      "execution_count": null,
      "outputs": [
        {
          "output_type": "stream",
          "text": [
            "0.681382476036182\n",
            "0.681382476036182\n"
          ],
          "name": "stdout"
        }
      ]
    },
    {
      "cell_type": "markdown",
      "metadata": {
        "id": "9Aqj8RhDk0mH"
      },
      "source": [
        "## Recall\n",
        "\n",
        "The [recall](https://scikit-learn.org/stable/modules/generated/sklearn.metrics.recall_score.html#sklearn.metrics.recall_score) is intuitively the ability of the classifier to find all the positive samples. It can be computed using `recall_score()`:\n"
      ]
    },
    {
      "cell_type": "code",
      "metadata": {
        "colab": {
          "base_uri": "https://localhost:8080/"
        },
        "id": "Ttbd1rWOBORI",
        "outputId": "aa5732c8-4899-4ba8-ab51-240376b66356"
      },
      "source": [
        "from sklearn.metrics import recall_score\n",
        "\n",
        "print(recall_score(df['actual_label'], df['predicted_RF']))\n",
        "print(my_recall_score(df['actual_label'], df['predicted_RF']))"
      ],
      "execution_count": null,
      "outputs": [
        {
          "output_type": "stream",
          "text": [
            "0.6405635232897576\n",
            "0.6405635232897576\n"
          ],
          "name": "stdout"
        }
      ]
    },
    {
      "cell_type": "markdown",
      "metadata": {
        "id": "oVcJUoy8mxxf"
      },
      "source": [
        "## F1 Score\n",
        "\n",
        "[`f1_score()`](https://scikit-learn.org/stable/modules/generated/sklearn.metrics.f1_score.html) computes the F1 score, also known as balanced F-score or F-measure. The F1 score can be interpreted as a weighted average of the precision and recall, where an F1 score reaches its best value at 1 and worst score at 0. "
      ]
    },
    {
      "cell_type": "code",
      "metadata": {
        "colab": {
          "base_uri": "https://localhost:8080/"
        },
        "id": "k_hPKmY6nYRN",
        "outputId": "2fa38b62-11ca-482f-d5c3-5c08c1a5ed1d"
      },
      "source": [
        "from sklearn.metrics import f1_score\n",
        "\n",
        "print(f1_score(df['actual_label'], df['predicted_RF']))\n",
        "print(my_f1_score(df['actual_label'], df['predicted_RF']))"
      ],
      "execution_count": null,
      "outputs": [
        {
          "output_type": "stream",
          "text": [
            "0.660342797330891\n",
            "0.660342797330891\n"
          ],
          "name": "stdout"
        }
      ]
    },
    {
      "cell_type": "markdown",
      "metadata": {
        "id": "a9_Oi3eihkds"
      },
      "source": [
        "## Classification report\n",
        "\n",
        "The [`classification_report()`](https://scikit-learn.org/stable/modules/generated/sklearn.metrics.classification_report.html) function builds a text report showing the main classification metrics.\n",
        "\n",
        "- The recall means \"how many of this class you find over the whole number of element of this class\"\n",
        "- The precision will be \"how many are correctly classified among that class\"\n",
        "- The f1-score is the harmonic mean between precision & recall\n",
        "- The support is the number of occurence of the given class in your dataset\n",
        "\n",
        "Here is a small example with custom `target_names`."
      ]
    },
    {
      "cell_type": "code",
      "metadata": {
        "colab": {
          "base_uri": "https://localhost:8080/"
        },
        "id": "nmOicWYkhwjJ",
        "outputId": "60247956-4297-4b66-fd55-640ba6d990af"
      },
      "source": [
        "from sklearn.metrics import classification_report\n",
        "\n",
        "target_names = ['class 0', 'class 1']\n",
        "print(classification_report(df['actual_label'], df['predicted_RF'], target_names=target_names))"
      ],
      "execution_count": null,
      "outputs": [
        {
          "output_type": "stream",
          "text": [
            "              precision    recall  f1-score   support\n",
            "\n",
            "     class 0       0.66      0.70      0.68      7879\n",
            "     class 1       0.68      0.64      0.66      7879\n",
            "\n",
            "    accuracy                           0.67     15758\n",
            "   macro avg       0.67      0.67      0.67     15758\n",
            "weighted avg       0.67      0.67      0.67     15758\n",
            "\n"
          ],
          "name": "stdout"
        }
      ]
    },
    {
      "cell_type": "markdown",
      "metadata": {
        "id": "1cbLy1zb1aOU"
      },
      "source": [
        "## ROC Curves\n",
        "\n",
        "So far, we have set a threshold of `0.5` for selecting which samples are predicted as positive. Based on this threshold all metrics that we have seen above are calculated accordingly. Moreover, this threshold can be adjusted to tune the behavior of the model for a specific problem.\n",
        "\n",
        "When making a prediction for a binary or two-class classification problem, the two types of error that we could make are: false positive error and false negative error. By predicting probabilities and calibrating a threshold, a balance of these two errors can be stablished.\n",
        "\n",
        "A useful tool when predicting the probability of a binary outcome is the Receiver Operating Characteristic curve, or ROC curve.\n",
        "\n",
        "[`roc_curve()`](https://scikit-learn.org/stable/modules/generated/sklearn.metrics.roc_curve.html) computes Receiver operating characteristic (ROC). Note that this implementation is restricted to the binary classification task.\n",
        "\n",
        "It is a plot of the **false positive rate** (x-axis) versus the **true positive rate** (y-axis) for a number of different candidate threshold values between 0.0 and 1.0.\n",
        "\n",
        "- The true positive rate is also referred to as sensitivity.\n",
        "- The false positive rate is also referred to as the inverted specificity (1 - specificity)\n",
        "\n",
        "An ROC space is defined by FPR and TPR as x and y axes, respectively, which depicts relative trade-offs between true positive (benefits) and false positive (costs). Since TPR is equivalent to sensitivity and FPR is equal to 1 − specificity, the ROC graph is sometimes called the sensitivity vs (1 − specificity) plot.\n",
        "\n",
        "<img src=\"https://upload.wikimedia.org/wikipedia/commons/thumb/3/36/Roc-draft-xkcd-style.svg/500px-Roc-draft-xkcd-style.svg.png\">\n",
        "\n",
        "Some notes from the figure shown previously:\n",
        "\n",
        "- The best possible prediction method would yield a point in the upper left corner or coordinate (0,1) of the ROC space, representing 100% sensitivity (no false negatives) and 100% specificity (no false positives).\n",
        "\n",
        "- A random guess would give a point along a diagonal line (the so-called line of no-discrimination) from the left bottom to the top right corners (regardless of the positive and negative base rates).\n",
        "\n",
        "- The diagonal divides the ROC space. \n",
        " - Points above the diagonal represent good classification results (better than random).\n",
        " - Points below the line represent bad results (worse than random). Note that the output of a consistently bad predictor could simply be inverted to obtain a good predictor.\n",
        "\n",
        "Additionally, the Compute Area Under the Receiver Operating Characteristic Curve (ROC AUC) can be calculated using the [`roc_auc_score()`](https://scikit-learn.org/stable/modules/generated/sklearn.metrics.roc_auc_score.html)function. "
      ]
    },
    {
      "cell_type": "code",
      "metadata": {
        "colab": {
          "base_uri": "https://localhost:8080/"
        },
        "id": "UkLmZcyI5I7s",
        "outputId": "039c6cf0-6587-460e-a464-5f2c3bc370fe"
      },
      "source": [
        "from sklearn.metrics import roc_curve\n",
        "from sklearn.metrics import roc_auc_score\n",
        "\n",
        "fpr, tpr, thresholds = roc_curve(df[\"actual_label\"], df[\"model_RF\"])\n",
        "print(roc_auc_score(df[\"actual_label\"], df[\"model_RF\"]))"
      ],
      "execution_count": null,
      "outputs": [
        {
          "output_type": "stream",
          "text": [
            "0.73829514083596\n"
          ],
          "name": "stdout"
        }
      ]
    },
    {
      "cell_type": "code",
      "metadata": {
        "colab": {
          "base_uri": "https://localhost:8080/",
          "height": 279
        },
        "id": "ZzCKaw1N6eEY",
        "outputId": "2aee7d8a-4e34-4b1b-e87b-24d891e3efa1"
      },
      "source": [
        "import matplotlib.pyplot as plt\n",
        "\n",
        "plt.plot(fpr, tpr,'r-',label = 'RF')\n",
        "plt.legend()\n",
        "plt.xlabel('False Positive Rate')\n",
        "plt.ylabel('True Positive Rate')\n",
        "plt.show()"
      ],
      "execution_count": null,
      "outputs": [
        {
          "output_type": "display_data",
          "data": {
            "image/png": "[encoded data removed]",
            "text/plain": [
              "<Figure size 432x288 with 1 Axes>"
            ]
          },
          "metadata": {
            "tags": [],
            "needs_background": "light"
          }
        }
      ]
    },
    {
      "cell_type": "markdown",
      "metadata": {
        "id": "VRBfACBjCwlh"
      },
      "source": [
        "A high threshold results in a point in the bottom left. A low threshold results in a point in the top right. This means as you decrease the threshold you get higher TPR at the cost of a higher FPR"
      ]
    },
    {
      "cell_type": "markdown",
      "metadata": {
        "id": "2T6xwUbyFC8_"
      },
      "source": [
        "## Precision-Recall Curves\n",
        "\n",
        "The precision and recall can be calculated for thresholds using the [precision_recall_curve()](https://scikit-learn.org/stable/modules/generated/sklearn.metrics.precision_recall_curve.html) function that takes the true output values and the probabilities for the positive class as input and returns the precision, recall and threshold values."
      ]
    },
    {
      "cell_type": "code",
      "metadata": {
        "id": "U09bUQGEFI_M"
      },
      "source": [
        "from sklearn.metrics import precision_recall_curve\n",
        "\n",
        "precision, recall, thresholds = precision_recall_curve(df[\"actual_label\"], df[\"model_RF\"])"
      ],
      "execution_count": null,
      "outputs": []
    },
    {
      "cell_type": "code",
      "metadata": {
        "colab": {
          "base_uri": "https://localhost:8080/",
          "height": 279
        },
        "id": "ziCUW0f6Fdlm",
        "outputId": "ec012928-e336-48cd-8388-7a926792df82"
      },
      "source": [
        "import matplotlib.pyplot as plt\n",
        "\n",
        "plt.plot(recall, precision, 'r-',label = 'RF')\n",
        "plt.xlabel('Recall')\n",
        "plt.ylabel('Precision')\n",
        "plt.legend()\n",
        "plt.show()"
      ],
      "execution_count": null,
      "outputs": [
        {
          "output_type": "display_data",
          "data": {
            "image/png": "[encoded data removed]",
            "text/plain": [
              "<Figure size 432x288 with 1 Axes>"
            ]
          },
          "metadata": {
            "tags": [],
            "needs_background": "light"
          }
        }
      ]
    },
    {
      "cell_type": "markdown",
      "metadata": {
        "id": "Zo1FKAyrL2ac"
      },
      "source": [
        "The Precision-Recall curve (PRC) shows the trade-off between precision and recall for different thresholds. A high area under the curve represents both high recall and high precision, where high precision relates to a low false positive rate, and high recall relates to a low false negative rate.\n",
        "\n",
        "\n",
        "Generally, the use of ROC curves and precision-recall curves are as follows:\n",
        "\n",
        "- ROC curves should be used when there are roughly equal numbers of observations for each class.\n",
        "- Precision-Recall curves should be used when there is a moderate to large class imbalance.\n",
        "\n",
        "The reason for this recommendation is that [ROC curves present an optimistic picture of the model on datasets with a class imbalance](https://machinelearningmastery.com/roc-curves-and-precision-recall-curves-for-classification-in-python/)."
      ]
    },
    {
      "cell_type": "markdown",
      "metadata": {
        "id": "EuRR0BndMjmA"
      },
      "source": [
        "# Comparing with dummy classifiers\n",
        "\n",
        "[DummyClassifier](https://scikit-learn.org/stable/modules/generated/sklearn.dummy.DummyClassifier.html) is a classifier that makes predictions using simple rules. This classifier is useful as a simple baseline to compare with other (real) classifiers. Do not use it for real problems.\n",
        "\n"
      ]
    },
    {
      "cell_type": "code",
      "metadata": {
        "colab": {
          "base_uri": "https://localhost:8080/"
        },
        "id": "8aHZ3iv7NrW6",
        "outputId": "1960edab-28f2-47b7-8258-804b7360d868"
      },
      "source": [
        "from sklearn.dummy import DummyClassifier\n",
        "\n",
        "dummy_clf = DummyClassifier(strategy=\"most_frequent\")\n",
        "\n",
        "X = np.zeros(df.shape[0]) # ignored\n",
        "dummy_clf.fit(X, df[\"actual_label\"])"
      ],
      "execution_count": null,
      "outputs": [
        {
          "output_type": "execute_result",
          "data": {
            "text/plain": [
              "DummyClassifier(constant=None, random_state=None, strategy='most_frequent')"
            ]
          },
          "metadata": {
            "tags": []
          },
          "execution_count": 17
        }
      ]
    },
    {
      "cell_type": "code",
      "metadata": {
        "id": "FGCFe6AZPS4D"
      },
      "source": [
        "from sklearn.metrics import roc_curve\n",
        "from sklearn.metrics import roc_auc_score\n",
        "\n",
        "fpr_dummy, tpr_dummy, thresholds_dummy = roc_curve(df[\"actual_label\"], dummy_clf.predict(X))"
      ],
      "execution_count": null,
      "outputs": []
    },
    {
      "cell_type": "code",
      "metadata": {
        "colab": {
          "base_uri": "https://localhost:8080/",
          "height": 279
        },
        "id": "XYqx-kccPwc2",
        "outputId": "e10b698a-6532-4856-c4b9-fe7e680d3ff5"
      },
      "source": [
        "import matplotlib.pyplot as plt\n",
        "\n",
        "plt.plot(fpr_dummy, tpr_dummy,'r-',label = 'dummy')\n",
        "plt.legend()\n",
        "plt.xlabel('False Positive Rate')\n",
        "plt.ylabel('True Positive Rate')\n",
        "plt.show()"
      ],
      "execution_count": null,
      "outputs": [
        {
          "output_type": "display_data",
          "data": {
            "image/png": "[encoded data removed]",
            "text/plain": [
              "<Figure size 432x288 with 1 Axes>"
            ]
          },
          "metadata": {
            "tags": [],
            "needs_background": "light"
          }
        }
      ]
    },
    {
      "cell_type": "markdown",
      "metadata": {
        "id": "LpS6Cnrkn03l"
      },
      "source": [
        "# Conclusions\n",
        "\n",
        "In this notebook, we have seen some of the metrics that scikit-learn provides for classification and also we have written our own functions from scratch. More specifically, we have seen how to compute and calculate: accuracy, balanced accuracy, confusion matrix, precision, recall, F1 score, and also some interesting functionallities like the classification report, ROC curves, precision-recall curves and dummy classifiers.\n",
        "\n",
        "Finally, fell free to check these interesting tutorials, from which many of the content of this notebook is based:\n",
        "\n",
        "- [Data Science Performance Metrics for Everyone](https://towardsdatascience.com/data-science-performance-metrics-for-everyone-4d68f4859eef) \n",
        "- [Understanding Data Science Classification Metrics in Scikit-Learn in Python](https://towardsdatascience.com/understanding-data-science-classification-metrics-in-scikit-learn-in-python-3bc336865019)\n",
        "- [How to Use ROC Curves and Precision-Recall Curves for Classification in Python](https://machinelearningmastery.com/roc-curves-and-precision-recall-curves-for-classification-in-python/)\n",
        "\n",
        "Finally, it is also recommend to take the first course [\"AI for Medical Diagnosis](https://www.coursera.org/learn/ai-for-medical-diagnosis)\" of the [Coursera AI for Medicine Specialization](https://www.coursera.org/specializations/ai-for-medicine), where the evaluation of diagnostic models is carried out."
      ]
    }
  ]
}