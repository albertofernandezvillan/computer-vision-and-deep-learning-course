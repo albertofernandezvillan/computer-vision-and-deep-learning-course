{
  "nbformat": 4,
  "nbformat_minor": 0,
  "metadata": {
    "colab": {
      "name": "NumpyIndexing.ipynb",
      "provenance": [],
      "collapsed_sections": [],
      "authorship_tag": "ABX9TyNZeHGgcKI3GWqj2V135kgd",
      "include_colab_link": true
    },
    "kernelspec": {
      "name": "python3",
      "display_name": "Python 3"
    }
  },
  "cells": [
    {
      "cell_type": "markdown",
      "metadata": {
        "id": "view-in-github",
        "colab_type": "text"
      },
      "source": [
        "<a href=\"https://colab.research.google.com/github/albertofernandezvillan/dl-ml-notebooks/blob/main/NumpyIndexing.ipynb\" target=\"_parent\"><img src=\"https://colab.research.google.com/assets/colab-badge.svg\" alt=\"Open In Colab\"/></a>"
      ]
    },
    {
      "cell_type": "code",
      "metadata": {
        "colab": {
          "base_uri": "https://localhost:8080/"
        },
        "id": "DrnYjhhsv4TV",
        "outputId": "6d539def-f6bd-46e9-b530-4bf08ccf5ec4"
      },
      "source": [
        "# Ref here for more information: https://www.geeksforgeeks.org/numpy-indexing/\r\n",
        "# Import required packages:\r\n",
        "import numpy as np\r\n",
        "!pip install termcolor\r\n",
        "from termcolor import colored"
      ],
      "execution_count": 15,
      "outputs": [
        {
          "output_type": "stream",
          "text": [
            "Requirement already satisfied: termcolor in /usr/local/lib/python3.6/dist-packages (1.1.0)\n"
          ],
          "name": "stdout"
        }
      ]
    },
    {
      "cell_type": "code",
      "metadata": {
        "colab": {
          "base_uri": "https://localhost:8080/"
        },
        "id": "0hY2QV1LwG99",
        "outputId": "b0feb711-645d-4f32-eb32-fc75f8cef66d"
      },
      "source": [
        "# Create a (6x6) array:\r\n",
        "a = np.array([[0, 1, 2, 3, 4, 5], [6, 7, 8, 9, 10, 11], [12, 13, 14, 15, 16, 17], [18, 19, 20, 21, 22, 23], [24, 25, 26, 27, 28, 29], [30, 31, 32, 33, 34, 35]])\r\n",
        "print(a.shape)"
      ],
      "execution_count": 2,
      "outputs": [
        {
          "output_type": "stream",
          "text": [
            "(6, 6)\n"
          ],
          "name": "stdout"
        }
      ]
    },
    {
      "cell_type": "markdown",
      "metadata": {
        "id": "I7Px8ms1yr3M"
      },
      "source": [
        "**Let's see some types of indexing.\r\n",
        "The next Figure summarizes what we are going to do**\r\n",
        "\r\n"
      ]
    },
    {
      "cell_type": "markdown",
      "metadata": {
        "id": "Jd6-1XOezFfh"
      },
      "source": [
        "For inserting the Figure, the following code is necessary:\r\n",
        "```\r\n",
        "<img src=\"https://raw.githubusercontent.com/albertofernandezvillan/dl-ml-notebooks/main/numpy-indexing.jpg\">\r\n",
        "```"
      ]
    },
    {
      "cell_type": "markdown",
      "metadata": {
        "id": "Nq-q79J8yaxV"
      },
      "source": [
        "<img src=\"https://raw.githubusercontent.com/albertofernandezvillan/dl-ml-notebooks/main/numpy-indexing.jpg\">"
      ]
    },
    {
      "cell_type": "code",
      "metadata": {
        "colab": {
          "base_uri": "https://localhost:8080/"
        },
        "id": "BcicEZMhzci6",
        "outputId": "68c5f407-368d-45e4-a8d0-c7953dda20fa"
      },
      "source": [
        "# slicing and indexing\r\n",
        "result_1 = a[0, 3:5]\r\n",
        "result_2 = a[4:, 4:]\r\n",
        "result_3 = a[:, 2]\r\n",
        "result_4 = a[2::2, ::2]\r\n",
        "\r\n",
        "print(\"\\n a[0, 3:5]  = \", colored(result_1, 'magenta')) \r\n",
        "print(\"\\n a[4:, 4:]  = \", colored(result_2, 'blue')) \r\n",
        "print(\"\\n a[:, 2]  = \", colored(result_3, 'red')) \r\n",
        "print(\"\\n a[2::2, ::2]  = \", colored(result_4, 'green'))"
      ],
      "execution_count": 22,
      "outputs": [
        {
          "output_type": "stream",
          "text": [
            "\n",
            " a[0, 3:5]  =  \u001b[35m[3 4]\u001b[0m\n",
            "\n",
            " a[4:, 4:]  =  \u001b[34m[[28 29]\n",
            " [34 35]]\u001b[0m\n",
            "\n",
            " a[:, 2]  =  \u001b[31m[ 2  8 14 20 26 32]\u001b[0m\n",
            "\n",
            " a[2::2, ::2]  =  \u001b[32m[[12 14 16]\n",
            " [24 26 28]]\u001b[0m\n"
          ],
          "name": "stdout"
        }
      ]
    }
  ]
}