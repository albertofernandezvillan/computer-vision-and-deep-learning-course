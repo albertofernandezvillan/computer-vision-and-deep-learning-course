{
  "nbformat": 4,
  "nbformat_minor": 0,
  "metadata": {
    "colab": {
      "name": "closed_eyes_detection.ipynb",
      "provenance": [],
      "collapsed_sections": [],
      "toc_visible": true,
      "authorship_tag": "ABX9TyOMZwvZwa5Rzx9J7rH5vwYh",
      "include_colab_link": true
    },
    "kernelspec": {
      "name": "python3",
      "display_name": "Python 3"
    },
    "language_info": {
      "name": "python"
    }
  },
  "cells": [
    {
      "cell_type": "markdown",
      "metadata": {
        "id": "view-in-github",
        "colab_type": "text"
      },
      "source": [
        "<a href=\"https://colab.research.google.com/github/albertofernandezvillan/computer-vision-and-deep-learning-course/blob/main/closed_eyes_detection.ipynb\" target=\"_parent\"><img src=\"https://colab.research.google.com/assets/colab-badge.svg\" alt=\"Open In Colab\"/></a>"
      ]
    },
    {
      "cell_type": "markdown",
      "metadata": {
        "id": "k2mhF9frki9u"
      },
      "source": [
        "<img align=\"left\" style=\"padding-right:10px;\" src =\"https://raw.githubusercontent.com/albertofernandezvillan/computer-vision-and-deep-learning-course/main/assets/university_oviedo_logo.png\" width=300 px>\n",
        "\n",
        "This notebook is from the Course \"***Computer vision in the new era of Artificial Intelligence and Deep Learning***\", or \"*Visión por computador en la nueva era de la Inteligencia Artificial y el Deep Learning*\" (ES) from the \"Second quarter university extension courses\" that the University of Oviedo is offering (05/04/2021 - 16/04/2021)\n",
        "\n",
        "<[Github Repository](https://github.com/albertofernandezvillan/computer-vision-and-deep-learning-course) | [Course Web Page Information](https://www.uniovi.es/estudios/extension/cursos2c/-/asset_publisher/SEp0PJi4ISGo/content/vision-por-computador-en-la-nueva-era-de-la-inteligencia-artificial-y-el-deep-learning?redirect=%2Festudios%2Fextension%2Fcursos2c)>"
      ]
    },
    {
      "cell_type": "markdown",
      "metadata": {
        "id": "wg3EVpLQkmdR"
      },
      "source": [
        "# Summary\n",
        "\n",
        "In this notebook, we are introducing a \"typical\" problem involving both computer vision and machine learning. In this case, the objective is to build a classifier for closed eyes detection in the wild. The features to be used by the classifier are going to be extracted using the [Histogram of Oriented Gradient (HOG) feature descriptor](https://scikit-image.org/docs/stable/auto_examples/features_detection/plot_hog.html) included in [scikit-image](https://scikit-image.org/). Moreover, in order to build the classifier, we are going to use some of the [classifiers included in scikit-learn](https://scikit-learn.org/stable/supervised_learning.html#supervised-learning). \n"
      ]
    },
    {
      "cell_type": "markdown",
      "metadata": {
        "id": "ObL8BNyZVaIr"
      },
      "source": [
        "# Introducing the dataset"
      ]
    },
    {
      "cell_type": "markdown",
      "metadata": {
        "id": "kR5wP6YYVu8G"
      },
      "source": [
        "[Closed Eyes In The Wild (CEW) dataset](http://parnec.nuaa.edu.cn/_upload/tpl/02/db/731/template731/pages/xtan/ClosedEyeDatabases.html)\n",
        "\n",
        "They provide three versions of the dataset for you to download: \n",
        "1. Facial images in original resolution (Raw face images with background), 20M in Rar\n",
        "2. Facial images in size of 100×100 (face images warped), 7.6M in Rar\n",
        "3. Eye images in size of 24×24 (eye patches only), 2.6M in Rar\n",
        "\n",
        "We are going to use the third one, as we are not interested in all the processing. In this notebook, we are only introducing a simple example in order to see how we can get the features from each image and use a scikit-learn classifier. If you are interested in all the pre-processing of the facial images (e.g. face detection, facial landmarks detection) in order to get the eye patches, [you can check this notebook](https://colab.research.google.com/github/albertofernandezvillan/dl-ml-notebooks/blob/main/face_processing.ipynb), which deals with face processing, and is also included in the repository of this course.\n",
        "\n"
      ]
    },
    {
      "cell_type": "markdown",
      "metadata": {
        "id": "H8tFRLwgXDwm"
      },
      "source": [
        "# Download and exploring the dataset"
      ]
    },
    {
      "cell_type": "code",
      "metadata": {
        "id": "S2Szb_NS1eSS"
      },
      "source": [
        "!wget https://raw.githubusercontent.com/albertofernandezvillan/computer-vision-and-deep-learning-course/main/assets/datasets/dataset_B_Eye_Images.zip -O dataset_B_Eye_Images.zip\n",
        "!unzip /content/dataset_B_Eye_Images.zip\n",
        "PATH_CLOSED = \"/content/dataset_B_Eye_Images/dataset_B_Eye_Images/closedLeftEyes\"\n",
        "PATH_OPEN = \"/content/dataset_B_Eye_Images/dataset_B_Eye_Images/openLeftEyes\""
      ],
      "execution_count": null,
      "outputs": []
    },
    {
      "cell_type": "markdown",
      "metadata": {
        "id": "xLF__0KcXHXF"
      },
      "source": [
        "## Show sample images"
      ]
    },
    {
      "cell_type": "code",
      "metadata": {
        "colab": {
          "base_uri": "https://localhost:8080/",
          "height": 217
        },
        "id": "jlU4uLDHWT5Q",
        "outputId": "1e5cf587-699a-4a32-a658-565c66b65a91"
      },
      "source": [
        "import cv2\n",
        "from google.colab.patches import cv2_imshow\n",
        "\n",
        "img = cv2.imread(\"/content/dataset_B_Eye_Images/dataset_B_Eye_Images/closedLeftEyes/closed_eye_0001.jpg_face_1_L.jpg\")\n",
        "img = cv2.resize(img, (200, 200))\n",
        "cv2_imshow(img)"
      ],
      "execution_count": null,
      "outputs": [
        {
          "output_type": "display_data",
          "data": {
            "image/png": "[encoded data removed]",
            "text/plain": [
              "<PIL.Image.Image image mode=RGB size=200x200 at 0x7FD67560DF50>"
            ]
          },
          "metadata": {
            "tags": []
          }
        }
      ]
    },
    {
      "cell_type": "code",
      "metadata": {
        "colab": {
          "base_uri": "https://localhost:8080/",
          "height": 217
        },
        "id": "IC0lZJYAWmL8",
        "outputId": "729ffbc3-89f3-4bca-bec3-0c6db0660065"
      },
      "source": [
        "import cv2\n",
        "from google.colab.patches import cv2_imshow\n",
        "\n",
        "img = cv2.imread(\"/content/dataset_B_Eye_Images/dataset_B_Eye_Images/openLeftEyes/Aaron_Guiel_0001_L.jpg\")\n",
        "img = cv2.resize(img, (200, 200))\n",
        "cv2_imshow(img)"
      ],
      "execution_count": null,
      "outputs": [
        {
          "output_type": "display_data",
          "data": {
            "image/png": "[encoded data removed]",
            "text/plain": [
              "<PIL.Image.Image image mode=RGB size=200x200 at 0x7FD665997590>"
            ]
          },
          "metadata": {
            "tags": []
          }
        }
      ]
    },
    {
      "cell_type": "markdown",
      "metadata": {
        "id": "kNZpX5r4XKOm"
      },
      "source": [
        "# Show HOG descriptor"
      ]
    },
    {
      "cell_type": "markdown",
      "metadata": {
        "id": "Tw1vnL0gnuB4"
      },
      "source": [
        "The Histogram of Oriented Gradient (HOG) feature descriptor is popular for object detection. In the following example, we compute the [HOG descriptor](https://en.wikipedia.org/wiki/Histogram_of_oriented_gradients) and display a visualisation. Briefly, HOG counts occurrences of gradient orientation in localized portions of an image."
      ]
    },
    {
      "cell_type": "code",
      "metadata": {
        "id": "lK5rEltmHAo_"
      },
      "source": [
        "from skimage.feature import hog\n",
        "from skimage import exposure\n",
        "\n",
        "def get_hog_descriptor(image):\n",
        "  # fd, hog_image = hog(image, orientations=8, pixels_per_cell=(4, 4), cells_per_block=(1, 1), visualize=True, multichannel=True)\n",
        "  fd, hog_image = hog(image, orientations=8, pixels_per_cell=(8, 8), cells_per_block=(1, 1), visualize=True, multichannel=True)\n",
        "  return fd, hog_image"
      ],
      "execution_count": null,
      "outputs": []
    },
    {
      "cell_type": "code",
      "metadata": {
        "colab": {
          "base_uri": "https://localhost:8080/"
        },
        "id": "zPK9jANBIBMt",
        "outputId": "33b94316-0098-49b8-dec7-dcb6e38be97a"
      },
      "source": [
        "import cv2\n",
        "\n",
        "img = cv2.imread(\"/content/dataset_B_Eye_Images/dataset_B_Eye_Images/closedLeftEyes/closed_eye_0001.jpg_face_1_L.jpg\")\n",
        "img = cv2.cvtColor(img, cv2.COLOR_BGR2RGB)\n",
        "\n",
        "fd, hog_image = get_hog_descriptor(img)\n",
        "print(fd.shape)"
      ],
      "execution_count": null,
      "outputs": [
        {
          "output_type": "stream",
          "text": [
            "(72,)\n"
          ],
          "name": "stdout"
        }
      ]
    },
    {
      "cell_type": "code",
      "metadata": {
        "id": "PWtSxoDZIN5E"
      },
      "source": [
        "hog_image_rescaled = exposure.rescale_intensity(hog_image, in_range=(0, 10))"
      ],
      "execution_count": null,
      "outputs": []
    },
    {
      "cell_type": "code",
      "metadata": {
        "colab": {
          "base_uri": "https://localhost:8080/",
          "height": 283
        },
        "id": "bX867e_WI4VZ",
        "outputId": "09ed28e3-efd6-45a8-bdd3-c816d1f21a33"
      },
      "source": [
        "import matplotlib.pyplot as plt\n",
        "\n",
        "plt.imshow(hog_image_rescaled, cmap=plt.cm.gray)"
      ],
      "execution_count": null,
      "outputs": [
        {
          "output_type": "execute_result",
          "data": {
            "text/plain": [
              "<matplotlib.image.AxesImage at 0x7fd64da92350>"
            ]
          },
          "metadata": {
            "tags": []
          },
          "execution_count": 7
        },
        {
          "output_type": "display_data",
          "data": {
            "image/png": "[encoded data removed]",
            "text/plain": [
              "<Figure size 432x288 with 1 Axes>"
            ]
          },
          "metadata": {
            "tags": [],
            "needs_background": "light"
          }
        }
      ]
    },
    {
      "cell_type": "code",
      "metadata": {
        "colab": {
          "base_uri": "https://localhost:8080/",
          "height": 301
        },
        "id": "vBGOBAhQVBFf",
        "outputId": "a768135d-e277-46a7-a2c8-bbe54024ca15"
      },
      "source": [
        "img = cv2.imread(\"/content/dataset_B_Eye_Images/dataset_B_Eye_Images/openLeftEyes/Aaron_Guiel_0001_L.jpg\")\n",
        "img = cv2.cvtColor(img, cv2.COLOR_BGR2RGB)\n",
        "\n",
        "fd, hog_image = get_hog_descriptor(img)\n",
        "print(fd.shape)\n",
        "hog_image_rescaled = exposure.rescale_intensity(hog_image, in_range=(0, 10))\n",
        "plt.imshow(hog_image_rescaled, cmap=plt.cm.gray)"
      ],
      "execution_count": null,
      "outputs": [
        {
          "output_type": "stream",
          "text": [
            "(72,)\n"
          ],
          "name": "stdout"
        },
        {
          "output_type": "execute_result",
          "data": {
            "text/plain": [
              "<matplotlib.image.AxesImage at 0x7fd64d59ce90>"
            ]
          },
          "metadata": {
            "tags": []
          },
          "execution_count": 8
        },
        {
          "output_type": "display_data",
          "data": {
            "image/png": "[encoded data removed]",
            "text/plain": [
              "<Figure size 432x288 with 1 Axes>"
            ]
          },
          "metadata": {
            "tags": [],
            "needs_background": "light"
          }
        }
      ]
    },
    {
      "cell_type": "markdown",
      "metadata": {
        "id": "QFEadlOgodbJ"
      },
      "source": [
        "As we can see, the generated features for each eye patch with a size of 24x24 is composed of 72 features. We are going to use these features to build the classifier. Therefore, the key step at this point is to get the features (and the corresponding label) for each image in our dataset."
      ]
    },
    {
      "cell_type": "markdown",
      "metadata": {
        "id": "o0dcb5rkWwla"
      },
      "source": [
        "# Get the features from the images\n",
        "\n",
        "We are going to extract the HOG features for each of both `N_OPEN` and `N_CLOSED` images. One key point here is in connection with the images that we are using:\n",
        "\n",
        "```\n",
        "PATH_CLOSED = \"/content/dataset_B_Eye_Images/dataset_B_Eye_Images/closedLeftEyes\"\n",
        "PATH_OPEN = \"/content/dataset_B_Eye_Images/dataset_B_Eye_Images/openLeftEyes\"\n",
        "```\n",
        "\n",
        "Look that we are going to use only the left eye patches. Therefore, we are going to use these images for both training and testing the classifiers. We could also test the classifiers with some right eye patches in order to check if our classifier (trained only with left eye patches) is able to predict the correct class (open, closed) for right eye patches. Moreover, we can also train a \"unique\" classifier considering both left and right eye patches.\n",
        "\n",
        "In this example, for the sake of simplification, we are only training and testing a classifier involving only left eye patches.\n",
        "\n",
        "\n"
      ]
    },
    {
      "cell_type": "code",
      "metadata": {
        "id": "TRJdmBk_JGG5"
      },
      "source": [
        "import os\n",
        "\n",
        "CLASS_OPEN = 0\n",
        "CLASS_CLOSED = 1\n",
        "\n",
        "N_OPEN = 500\n",
        "N_CLOSED = 500\n",
        "\n",
        "feature_list = []\n",
        "labels = []\n",
        "\n",
        "curr_close = 0\n",
        "curr_open = 0\n",
        "\n",
        "for filename in os.listdir(PATH_CLOSED):\n",
        "  path_image = os.path.join(PATH_CLOSED, filename)\n",
        "  # print(path_image)\n",
        "\n",
        "  img = cv2.imread(path_image)\n",
        "  try:\n",
        "    img = cv2.cvtColor(img, cv2.COLOR_BGR2RGB)\n",
        "  except Exception:\n",
        "    continue\n",
        "\n",
        "  fd, hog_image = get_hog_descriptor(img)\n",
        "\n",
        "  feature_list.append(fd)\n",
        "  labels.append(CLASS_CLOSED)\n",
        "\n",
        "  curr_close += 1\n",
        "\n",
        "  if curr_close >= N_CLOSED:\n",
        "    break;\n",
        "\n",
        "for filename in os.listdir(PATH_OPEN):\n",
        "  path_image = os.path.join(PATH_OPEN, filename)\n",
        "  # print(path_image)\n",
        "\n",
        "  img = cv2.imread(path_image)\n",
        "  try:\n",
        "    img = cv2.cvtColor(img, cv2.COLOR_BGR2RGB)\n",
        "  except Exception:\n",
        "    continue\n",
        "  fd, hog_image = get_hog_descriptor(img)\n",
        "\n",
        "  feature_list.append(fd)\n",
        "  labels.append(CLASS_OPEN)\n",
        "\n",
        "  curr_open += 1\n",
        "\n",
        "  if curr_open >= N_OPEN:\n",
        "    break;"
      ],
      "execution_count": null,
      "outputs": []
    },
    {
      "cell_type": "code",
      "metadata": {
        "colab": {
          "base_uri": "https://localhost:8080/"
        },
        "id": "FgI6FoSJjWp_",
        "outputId": "cad674f1-44b9-44e6-a9b4-fc37d3f5d017"
      },
      "source": [
        "import numpy as np\n",
        "\n",
        "feature_list_np = np.array(feature_list)\n",
        "labels_np = np.array(labels)\n",
        "\n",
        "print(feature_list_np.shape)\n",
        "print(labels_np.shape)"
      ],
      "execution_count": null,
      "outputs": [
        {
          "output_type": "stream",
          "text": [
            "(1000, 72)\n",
            "(1000,)\n"
          ],
          "name": "stdout"
        }
      ]
    },
    {
      "cell_type": "markdown",
      "metadata": {
        "id": "sFYK6P7VW4HB"
      },
      "source": [
        "# Train and test a scikit-learn classifier"
      ]
    },
    {
      "cell_type": "markdown",
      "metadata": {
        "id": "zBzhV0K8qWHo"
      },
      "source": [
        "At this point, we can train and test a classifier using [scikit-learn](https://scikit-learn.org/stable/index.html). In this case, we are going to train and test two classifiers: a [logistic regression classifier](https://scikit-learn.org/stable/modules/generated/sklearn.linear_model.LogisticRegression.html), and also [Support Vector Machine (SVM) classifier](https://scikit-learn.org/stable/modules/svm.html)."
      ]
    },
    {
      "cell_type": "code",
      "metadata": {
        "colab": {
          "base_uri": "https://localhost:8080/"
        },
        "id": "mftd13XQsh-5",
        "outputId": "851035d1-de76-4394-83ec-9153b673bf8a"
      },
      "source": [
        "from sklearn.model_selection import train_test_split\n",
        "\n",
        "# Split the dataset for training and testing:\n",
        "x_train, x_test, y_train, y_test = train_test_split(feature_list_np, labels_np, test_size=0.2, random_state=123)\n",
        "print(\"x train shape: '{}'\".format(x_train.shape))\n",
        "print(\"x test shape: '{}'\".format(x_test.shape))"
      ],
      "execution_count": null,
      "outputs": [
        {
          "output_type": "stream",
          "text": [
            "x train shape: '(800, 72)'\n",
            "x test shape: '(200, 72)'\n"
          ],
          "name": "stdout"
        }
      ]
    },
    {
      "cell_type": "code",
      "metadata": {
        "colab": {
          "base_uri": "https://localhost:8080/"
        },
        "id": "frxGsjrsj6VY",
        "outputId": "6f72a0ec-8006-4eba-9e92-c44bf14a7703"
      },
      "source": [
        "from sklearn.linear_model import LogisticRegression\n",
        "\n",
        "log_reg_model = LogisticRegression(max_iter=200)\n",
        "log_reg_model.fit(x_train, y_train)"
      ],
      "execution_count": null,
      "outputs": [
        {
          "output_type": "execute_result",
          "data": {
            "text/plain": [
              "LogisticRegression(C=1.0, class_weight=None, dual=False, fit_intercept=True,\n",
              "                   intercept_scaling=1, l1_ratio=None, max_iter=200,\n",
              "                   multi_class='auto', n_jobs=None, penalty='l2',\n",
              "                   random_state=None, solver='lbfgs', tol=0.0001, verbose=0,\n",
              "                   warm_start=False)"
            ]
          },
          "metadata": {
            "tags": []
          },
          "execution_count": 12
        }
      ]
    },
    {
      "cell_type": "code",
      "metadata": {
        "colab": {
          "base_uri": "https://localhost:8080/"
        },
        "id": "0viy-qb1j80e",
        "outputId": "43626a4e-d99f-4769-8c5d-3acae3fde411"
      },
      "source": [
        "print(log_reg_model.score(x_train, y_train))"
      ],
      "execution_count": null,
      "outputs": [
        {
          "output_type": "stream",
          "text": [
            "0.92125\n"
          ],
          "name": "stdout"
        }
      ]
    },
    {
      "cell_type": "code",
      "metadata": {
        "id": "FU8-r2dctBv-"
      },
      "source": [
        "my_predictions = log_reg_model.predict(x_test)"
      ],
      "execution_count": null,
      "outputs": []
    },
    {
      "cell_type": "code",
      "metadata": {
        "colab": {
          "base_uri": "https://localhost:8080/"
        },
        "id": "hNwoNpw8s7Me",
        "outputId": "e11212df-a39b-4d55-aeb7-b4b9c4e66d60"
      },
      "source": [
        "from sklearn.metrics import accuracy_score\n",
        "\n",
        "print(\"Accuracy: '{}'\".format(accuracy_score(y_test, my_predictions)))"
      ],
      "execution_count": null,
      "outputs": [
        {
          "output_type": "stream",
          "text": [
            "Accuracy: '0.93'\n"
          ],
          "name": "stdout"
        }
      ]
    },
    {
      "cell_type": "code",
      "metadata": {
        "colab": {
          "base_uri": "https://localhost:8080/",
          "height": 363
        },
        "id": "cGoI8bMFtRid",
        "outputId": "db73bc40-0801-4a0b-810f-f49762c61e5a"
      },
      "source": [
        "import sklearn.metrics as metrics\n",
        "import matplotlib.pyplot as plt\n",
        "\n",
        "\n",
        "disp = metrics.plot_confusion_matrix(log_reg_model, x_test, y_test)\n",
        "disp.figure_.suptitle(\"Confusion Matrix\")\n",
        "print(f\"Confusion matrix:\\n{disp.confusion_matrix}\")\n",
        "\n",
        "plt.show()"
      ],
      "execution_count": null,
      "outputs": [
        {
          "output_type": "stream",
          "text": [
            "Confusion matrix:\n",
            "[[93  6]\n",
            " [ 8 93]]\n"
          ],
          "name": "stdout"
        },
        {
          "output_type": "display_data",
          "data": {
            "image/png": "[encoded data removed]",
            "text/plain": [
              "<Figure size 432x288 with 2 Axes>"
            ]
          },
          "metadata": {
            "tags": [],
            "needs_background": "light"
          }
        }
      ]
    },
    {
      "cell_type": "code",
      "metadata": {
        "colab": {
          "base_uri": "https://localhost:8080/"
        },
        "id": "HQV7FVrUQd69",
        "outputId": "2dcc7bd2-88d0-472e-d55b-46e10810d272"
      },
      "source": [
        "from sklearn import svm\n",
        "\n",
        "svm_model = svm.SVC()\n",
        "\n",
        "svm_model.fit(x_train, y_train)\n",
        "print(svm_model.score(x_train, y_train))\n",
        "my_predictions = svm_model.predict(x_test)\n",
        "print(\"Accuracy: '{}'\".format(accuracy_score(y_test, my_predictions)))"
      ],
      "execution_count": null,
      "outputs": [
        {
          "output_type": "stream",
          "text": [
            "0.95875\n",
            "Accuracy: '0.92'\n"
          ],
          "name": "stdout"
        }
      ]
    },
    {
      "cell_type": "code",
      "metadata": {
        "colab": {
          "base_uri": "https://localhost:8080/",
          "height": 363
        },
        "id": "qEo8ooukQ1vv",
        "outputId": "db134bf0-68ed-41aa-f615-a67b8e57c322"
      },
      "source": [
        "import sklearn.metrics as metrics\n",
        "import matplotlib.pyplot as plt\n",
        "\n",
        "disp = metrics.plot_confusion_matrix(svm_model, x_test, y_test)\n",
        "disp.figure_.suptitle(\"Confusion Matrix\")\n",
        "print(f\"Confusion matrix:\\n{disp.confusion_matrix}\")\n",
        "\n",
        "plt.show()"
      ],
      "execution_count": null,
      "outputs": [
        {
          "output_type": "stream",
          "text": [
            "Confusion matrix:\n",
            "[[92  7]\n",
            " [ 9 92]]\n"
          ],
          "name": "stdout"
        },
        {
          "output_type": "display_data",
          "data": {
            "image/png": "[encoded data removed]",
            "text/plain": [
              "<Figure size 432x288 with 2 Axes>"
            ]
          },
          "metadata": {
            "tags": [],
            "needs_background": "light"
          }
        }
      ]
    },
    {
      "cell_type": "markdown",
      "metadata": {
        "id": "E0V_WOocrEmp"
      },
      "source": [
        "# Conclusions\n",
        "\n",
        "In this notebook, we have used HOG descriptor as a feature extractor. In this sense, the [Local Binary Pattern (LBP) operator](https://scikit-image.org/docs/dev/auto_examples/features_detection/plot_local_binary_pattern.html) is also a powerful feature extractor that can be used to extract the features. LBP is a type of visual descriptor used for classification in computer vision. Therefore we can use (or compare the obtained results agains the HOG descriptor) this descriptor to extract the features for each eye patch, considering also the possibility to compute the [muti-block LBP (MB-LBP)](https://scikit-image.org/docs/dev/auto_examples/features_detection/plot_multiblock_local_binary_pattern.html).\n",
        "\n",
        "Moreover, once the features for each eye patch of the dataset are extracted, we train and test two scikit-learn classifiers to build a classifier for the task of closed eyes detection in the wild.\n",
        "\n"
      ]
    }
  ]
}