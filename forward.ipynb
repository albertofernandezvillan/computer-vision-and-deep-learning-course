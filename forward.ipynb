{
  "nbformat": 4,
  "nbformat_minor": 0,
  "metadata": {
    "colab": {
      "name": "forward.ipynb",
      "provenance": [],
      "collapsed_sections": [],
      "authorship_tag": "ABX9TyMm6r41aF/N9a3/1jnkmvAY",
      "include_colab_link": true
    },
    "kernelspec": {
      "name": "python3",
      "display_name": "Python 3"
    },
    "language_info": {
      "name": "python"
    }
  },
  "cells": [
    {
      "cell_type": "markdown",
      "metadata": {
        "id": "view-in-github",
        "colab_type": "text"
      },
      "source": [
        "<a href=\"https://colab.research.google.com/github/albertofernandezvillan/computer-vision-and-deep-learning-course/blob/main/forward.ipynb\" target=\"_parent\"><img src=\"https://colab.research.google.com/assets/colab-badge.svg\" alt=\"Open In Colab\"/></a>"
      ]
    },
    {
      "cell_type": "markdown",
      "metadata": {
        "id": "8OpONGVBP0Ww"
      },
      "source": [
        "# MLP forward"
      ]
    },
    {
      "cell_type": "code",
      "metadata": {
        "id": "l7V1hjG7NQJi"
      },
      "source": [
        "import torch"
      ],
      "execution_count": null,
      "outputs": []
    },
    {
      "cell_type": "code",
      "metadata": {
        "id": "CMwu7AV8NkyA"
      },
      "source": [
        "n_input = 3\n",
        "n_hidden = 7\n",
        "n_output = 1"
      ],
      "execution_count": null,
      "outputs": []
    },
    {
      "cell_type": "code",
      "metadata": {
        "id": "N7vUn2A5Osr_"
      },
      "source": [
        "def act(x):\n",
        "    return 1/(1+torch.exp(-x))"
      ],
      "execution_count": null,
      "outputs": []
    },
    {
      "cell_type": "code",
      "metadata": {
        "id": "gT9FG3YTNxWv"
      },
      "source": [
        "W1 = torch.randn(n_input, n_hidden)\n",
        "W2 = torch.randn(n_hidden, n_output)\n",
        "B1 = torch.randn(1, n_hidden)\n",
        "B2 = torch.randn(1, n_output)"
      ],
      "execution_count": null,
      "outputs": []
    },
    {
      "cell_type": "code",
      "metadata": {
        "id": "mInyZMVkOyAI"
      },
      "source": [
        "input = torch.rand(1, n_input)"
      ],
      "execution_count": null,
      "outputs": []
    },
    {
      "cell_type": "code",
      "metadata": {
        "colab": {
          "base_uri": "https://localhost:8080/"
        },
        "id": "p0G1jZ3gOg4w",
        "outputId": "7a5563e4-64bf-4481-9c6e-ea4557dfb36f"
      },
      "source": [
        "output = act(act(input @ W1 + B1) @ W2 + B2)\n",
        "output"
      ],
      "execution_count": null,
      "outputs": [
        {
          "output_type": "execute_result",
          "data": {
            "text/plain": [
              "tensor([[0.8896]])"
            ]
          },
          "metadata": {
            "tags": []
          },
          "execution_count": 103
        }
      ]
    },
    {
      "cell_type": "markdown",
      "metadata": {
        "id": "kCBmLk8yQXyW"
      },
      "source": [
        "## Steps"
      ]
    },
    {
      "cell_type": "code",
      "metadata": {
        "colab": {
          "base_uri": "https://localhost:8080/"
        },
        "id": "62GWCMQpQ4Ax",
        "outputId": "eeb13b1d-9531-4ad2-f784-f520d181b29a"
      },
      "source": [
        "input @ W1"
      ],
      "execution_count": null,
      "outputs": [
        {
          "output_type": "execute_result",
          "data": {
            "text/plain": [
              "tensor([[-0.7807,  1.0567,  0.3053,  0.3670,  0.2926,  0.7168, -0.6421]])"
            ]
          },
          "metadata": {
            "tags": []
          },
          "execution_count": 104
        }
      ]
    },
    {
      "cell_type": "code",
      "metadata": {
        "colab": {
          "base_uri": "https://localhost:8080/"
        },
        "id": "_paBpZA6RD2_",
        "outputId": "5153a562-e383-4bbe-dc6b-eab068f93e1d"
      },
      "source": [
        "input @ W1 + B1"
      ],
      "execution_count": null,
      "outputs": [
        {
          "output_type": "execute_result",
          "data": {
            "text/plain": [
              "tensor([[-0.7045, -0.9776, -0.8295,  0.8542, -0.1621,  0.4958, -0.5418]])"
            ]
          },
          "metadata": {
            "tags": []
          },
          "execution_count": 105
        }
      ]
    },
    {
      "cell_type": "code",
      "metadata": {
        "colab": {
          "base_uri": "https://localhost:8080/"
        },
        "id": "XISAVSeKRG8u",
        "outputId": "ccc6fa09-9c4a-46ca-ca79-d52f71ec9933"
      },
      "source": [
        "act(input @ W1 + B1)"
      ],
      "execution_count": null,
      "outputs": [
        {
          "output_type": "execute_result",
          "data": {
            "text/plain": [
              "tensor([[0.3308, 0.2734, 0.3038, 0.7014, 0.4596, 0.6215, 0.3678]])"
            ]
          },
          "metadata": {
            "tags": []
          },
          "execution_count": 106
        }
      ]
    },
    {
      "cell_type": "code",
      "metadata": {
        "id": "IPOXHigMQJ6f"
      },
      "source": [
        "output_layer1 = act(input @ W1 + B1)"
      ],
      "execution_count": null,
      "outputs": []
    },
    {
      "cell_type": "code",
      "metadata": {
        "id": "emIIKORnQOx-"
      },
      "source": [
        "output_layer2 = act(output_layer1 @ W2 + B2)"
      ],
      "execution_count": null,
      "outputs": []
    }
  ]
}