{
  "nbformat": 4,
  "nbformat_minor": 0,
  "metadata": {
    "colab": {
      "name": "take_video_from_webcam_in_colab.ipynb",
      "provenance": [],
      "collapsed_sections": [],
      "authorship_tag": "ABX9TyMf0VX69//e2/yzck++Oc0e",
      "include_colab_link": true
    },
    "kernelspec": {
      "name": "python3",
      "display_name": "Python 3"
    }
  },
  "cells": [
    {
      "cell_type": "markdown",
      "metadata": {
        "id": "view-in-github",
        "colab_type": "text"
      },
      "source": [
        "<a href=\"https://colab.research.google.com/github/albertofernandezvillan/computer-vision-and-deep-learning-course/blob/main/take_video_from_webcam_in_colab.ipynb\" target=\"_parent\"><img src=\"https://colab.research.google.com/assets/colab-badge.svg\" alt=\"Open In Colab\"/></a>"
      ]
    },
    {
      "cell_type": "markdown",
      "metadata": {
        "id": "RbOxtIH2O1VF"
      },
      "source": [
        "<img align=\"left\" style=\"padding-right:10px;\" src =\"https://raw.githubusercontent.com/albertofernandezvillan/computer-vision-and-deep-learning-course/main/assets/university_oviedo_logo.png\" width=300 px>\n",
        "\n",
        "This notebook is from the Course \"***Computer vision in the new era of Artificial Intelligence and Deep Learning***\", or \"*Visión por computador en la nueva era de la Inteligencia Artificial y el Deep Learning*\" (ES) from the \"Second quarter university extension courses\" that the University of Oviedo is offering (05/04/2021 - 16/04/2021)\n",
        "\n",
        "<[Github Repository](https://github.com/albertofernandezvillan/computer-vision-and-deep-learning-course) | [Course Web Page Information](https://www.uniovi.es/estudios/extension/cursos2c/-/asset_publisher/SEp0PJi4ISGo/content/vision-por-computador-en-la-nueva-era-de-la-inteligencia-artificial-y-el-deep-learning?redirect=%2Festudios%2Fextension%2Fcursos2c)>"
      ]
    },
    {
      "cell_type": "markdown",
      "metadata": {
        "id": "kuIB7TjEPJtM"
      },
      "source": [
        "# Summary\n",
        "\n",
        "In the notebook **take_image_from_webcam_as_numpy_array.ipynb** we have seen how to take an image from the webcam as a numpy array (in RGB format). As commented in this notebook, OpenCV provides a very simple interface to capture live stream with camera. To capture a video, you need to create a VideoCapture object (`cv2.VideoCapture()`). Its argument can be either the device index or the name of a video file. However, `cv2.VideoCapture()` does not work in Colab, because the previous method can only access hardware (e.g. webcam) connected locally. Therefore, accessing the webcam in Colab is not straightforward because the Notebook is executed remotelly.\n",
        "\n",
        "In this notebook, we are going to see a workaround in order to provide an alternative implementation to `cv2.VideoCapture()` working on Colab.\n",
        "\n",
        "All credits should be given to [this repository](https://github.com/ricardodeazambuja/colab_utils). More specifically, [this file](https://github.com/ricardodeazambuja/colab_utils/blob/master/colab_utils/__init__.py) provides the implementation of `videoGrabber()`, which can access your webcam and retrieve frames from it. See next how to do it.\n",
        "\n",
        "\n"
      ]
    },
    {
      "cell_type": "markdown",
      "metadata": {
        "id": "tJv-DI6ASzXz"
      },
      "source": [
        "# Take video from webcam\n",
        "\n",
        "As commented before, [this repository](https://github.com/ricardodeazambuja/colab_utils) provides the required functionality to take video from webcam. It this repository, the instructions for installing and using it are given.\n",
        "\n",
        "However to install it, we are going to make use of `download_and_execute_file()` function (previously introduced in this course). Therefore, we are going to download the file that contains the implementation of \"[colab_utils](https://github.com/ricardodeazambuja/colab_utils/blob/master/colab_utils/__init__.py)\" and execute it once downloaded. This way, `videoGrabber` will be ready to use.\n",
        "\n",
        "So the first step is to define the function `download_and_execute_file()`:\n"
      ]
    },
    {
      "cell_type": "code",
      "metadata": {
        "id": "_FC1f5Y5GzNU"
      },
      "source": [
        "import requests\n",
        "\n",
        "# https://stackoverflow.com/questions/14409167/how-to-pass-a-variable-to-magic-%C2%B4run%C2%B4-function-in-ipython\n",
        "def download_and_execute_file(fname, url, params=\"\", execute=True, show_content=False):\n",
        "  # Download and write the file:\n",
        "  r = requests.get(url)\n",
        "  open(fname , 'wb').write(r.content)\n",
        "\n",
        "  # Show the content of the script if required:\n",
        "  if show_content:\n",
        "    print(\"\\n\")\n",
        "    with open(fname,'r') as testwritefile:\n",
        "      print(testwritefile.read())\n",
        "    print(\"\\n\")\n",
        "\n",
        "  # Execute the script if required:\n",
        "  if execute:    \n",
        "    execution = \"run \" + fname + \" \" + params\n",
        "    ipy = get_ipython()\n",
        "    ipy.magic(execution)"
      ],
      "execution_count": 1,
      "outputs": []
    },
    {
      "cell_type": "markdown",
      "metadata": {
        "id": "yHACpd7FVjkc"
      },
      "source": [
        "Therefore, we have to download the required file. Note that the original frame is located at https://github.com/ricardodeazambuja/colab_utils/blob/master/colab_utils/__init__.py. \n",
        "\n",
        "However, \"import ffmpeg\" gives an error, and it is not necessary. Therefore, we have make a copy of this file with this line commented and, hence, this is the file we are going to install and download. This \"modified\" file can be seen [here](https://github.com/albertofernandezvillan/computer-vision-and-deep-learning-course/blob/main/assets/colab_utils/colab_utils.py)."
      ]
    },
    {
      "cell_type": "code",
      "metadata": {
        "id": "qWnHale_G5hY"
      },
      "source": [
        "fname = 'colab_utils.py'\n",
        "url = 'https://raw.githubusercontent.com/albertofernandezvillan/computer-vision-and-deep-learning-course/main/assets/colab_utils/colab_utils.py'\n",
        "\n",
        "download_and_execute_file(fname, url, params= \"\", execute=True, show_content=False)"
      ],
      "execution_count": 2,
      "outputs": []
    },
    {
      "cell_type": "markdown",
      "metadata": {
        "id": "JSAY_zahWRWI"
      },
      "source": [
        "At this point, we can make use of `videoGrabber`. In the next example, we are going to retrieve 20 frames from the webcam and show them."
      ]
    },
    {
      "cell_type": "code",
      "metadata": {
        "id": "ifzgDkJPHpdi"
      },
      "source": [
        "total_iter=20\n",
        "\n",
        "vid = videoGrabber(showVideo=False)\n",
        "try:\n",
        "  n_iter = 0\n",
        "  while n_iter <= total_iter:\n",
        "    n_iter += 1\n",
        "    image_np = np.array(vid(0))\n",
        "    imshow(image_np) \n",
        "finally:\n",
        "  vid(stop=True)"
      ],
      "execution_count": null,
      "outputs": []
    },
    {
      "cell_type": "markdown",
      "metadata": {
        "id": "NofxNKADWgIt"
      },
      "source": [
        "# Conclusions\n",
        "\n",
        "In this notebook we have seen how to install and use videoGrabber in Colab. All the credit should be given to [this repository](https://github.com/ricardodeazambuja/colab_utils)."
      ]
    }
  ]
}