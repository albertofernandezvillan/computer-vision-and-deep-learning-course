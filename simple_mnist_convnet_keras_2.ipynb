{
  "nbformat": 4,
  "nbformat_minor": 0,
  "metadata": {
    "colab": {
      "name": "simple_mnist_convnet_keras_2.ipynb",
      "provenance": [],
      "collapsed_sections": [],
      "toc_visible": true,
      "authorship_tag": "ABX9TyP8vqdwGJzjnENFt+U300tK",
      "include_colab_link": true
    },
    "kernelspec": {
      "name": "python3",
      "display_name": "Python 3"
    },
    "language_info": {
      "name": "python"
    },
    "accelerator": "GPU"
  },
  "cells": [
    {
      "cell_type": "markdown",
      "metadata": {
        "id": "view-in-github",
        "colab_type": "text"
      },
      "source": [
        "<a href=\"https://colab.research.google.com/github/albertofernandezvillan/computer-vision-and-deep-learning-course/blob/main/simple_mnist_convnet_keras_2.ipynb\" target=\"_parent\"><img src=\"https://colab.research.google.com/assets/colab-badge.svg\" alt=\"Open In Colab\"/></a>"
      ]
    },
    {
      "cell_type": "markdown",
      "metadata": {
        "id": "KBNiRKu8Z9UW"
      },
      "source": [
        "# Simple MNIST convnet\n",
        "\n",
        "Example from: https://keras.io/examples/vision/mnist_convnet/"
      ]
    },
    {
      "cell_type": "code",
      "metadata": {
        "id": "MBKsJlg8Y58a"
      },
      "source": [
        "# Import the required packages:\n",
        "import numpy as np\n",
        "from tensorflow import keras\n",
        "from tensorflow.keras import layers"
      ],
      "execution_count": 1,
      "outputs": []
    },
    {
      "cell_type": "code",
      "metadata": {
        "colab": {
          "base_uri": "https://localhost:8080/"
        },
        "id": "-tV5tR4_Y8HE",
        "outputId": "e9aa1f17-8c70-472d-c4e9-490c8978301a"
      },
      "source": [
        "# Model / data parameters\n",
        "num_classes = 10\n",
        "input_shape = (28, 28, 1)\n",
        "\n",
        "# the data, split between train and test sets\n",
        "(x_train, y_train), (x_test, y_test) = keras.datasets.mnist.load_data()\n",
        "\n",
        "print(\"Shape of the training data: {}\".format(x_train.shape))\n",
        "print(\"Shape of the testing data: {}\".format(x_test.shape))\n",
        "\n",
        "# Get the first image of the dataset:\n",
        "first_img = x_train[0]\n",
        "print(\"Shape of each image: {}\".format(first_img.shape))\n",
        "\n",
        "# Scale images to the [0, 1] range\n",
        "x_train = x_train.astype(\"float32\") / 255\n",
        "x_test = x_test.astype(\"float32\") / 255\n",
        "\n",
        "# Make sure images have shape (28, 28, 1)\n",
        "x_train = np.expand_dims(x_train, -1)\n",
        "x_test = np.expand_dims(x_test, -1)\n",
        "print(\"x_train shape:\", x_train.shape)\n",
        "print(x_train.shape[0], \"train samples\")\n",
        "print(x_test.shape[0], \"test samples\")\n",
        "\n",
        "print(\"Showing the class of the first sample: {}\".format(y_test[0]))"
      ],
      "execution_count": 2,
      "outputs": [
        {
          "output_type": "stream",
          "text": [
            "Downloading data from https://storage.googleapis.com/tensorflow/tf-keras-datasets/mnist.npz\n",
            "11493376/11490434 [==============================] - 0s 0us/step\n",
            "Shape of the training data: (60000, 28, 28)\n",
            "Shape of the testing data: (10000, 28, 28)\n",
            "Shape of each image: (28, 28)\n",
            "x_train shape: (60000, 28, 28, 1)\n",
            "60000 train samples\n",
            "10000 test samples\n",
            "Showing the class of the first sample: 7\n"
          ],
          "name": "stdout"
        }
      ]
    },
    {
      "cell_type": "code",
      "metadata": {
        "colab": {
          "base_uri": "https://localhost:8080/",
          "height": 283
        },
        "id": "tXl0jx08bP5A",
        "outputId": "b2af2f87-584d-4d27-9d8f-692fe7c468d4"
      },
      "source": [
        "import matplotlib.pyplot as plt\n",
        "\n",
        "# Show the first image:\n",
        "plt.imshow(first_img, cmap=\"gray\")"
      ],
      "execution_count": 3,
      "outputs": [
        {
          "output_type": "execute_result",
          "data": {
            "text/plain": [
              "<matplotlib.image.AxesImage at 0x7f2516d6c7d0>"
            ]
          },
          "metadata": {
            "tags": []
          },
          "execution_count": 3
        },
        {
          "output_type": "display_data",
          "data": {
            "image/png": "[encoded data removed]",
            "text/plain": [
              "<Figure size 432x288 with 1 Axes>"
            ]
          },
          "metadata": {
            "tags": [],
            "needs_background": "light"
          }
        }
      ]
    },
    {
      "cell_type": "code",
      "metadata": {
        "colab": {
          "base_uri": "https://localhost:8080/"
        },
        "id": "nMOtGBVzZJjV",
        "outputId": "f69b619b-6bbd-46c5-ac89-f919abc2c501"
      },
      "source": [
        "model = keras.Sequential(\n",
        "    [\n",
        "        keras.Input(shape=input_shape),\n",
        "        layers.Conv2D(32, kernel_size=(3, 3), activation=\"relu\"),\n",
        "        layers.MaxPooling2D(pool_size=(2, 2)),\n",
        "        layers.Conv2D(64, kernel_size=(3, 3), activation=\"relu\"),\n",
        "        layers.MaxPooling2D(pool_size=(2, 2)),\n",
        "        layers.Flatten(),\n",
        "        layers.Dropout(0.5),\n",
        "        layers.Dense(num_classes, activation=\"softmax\"),\n",
        "    ]\n",
        ")\n",
        "\n",
        "model.summary()"
      ],
      "execution_count": 4,
      "outputs": [
        {
          "output_type": "stream",
          "text": [
            "Model: \"sequential\"\n",
            "_________________________________________________________________\n",
            "Layer (type)                 Output Shape              Param #   \n",
            "=================================================================\n",
            "conv2d (Conv2D)              (None, 26, 26, 32)        320       \n",
            "_________________________________________________________________\n",
            "max_pooling2d (MaxPooling2D) (None, 13, 13, 32)        0         \n",
            "_________________________________________________________________\n",
            "conv2d_1 (Conv2D)            (None, 11, 11, 64)        18496     \n",
            "_________________________________________________________________\n",
            "max_pooling2d_1 (MaxPooling2 (None, 5, 5, 64)          0         \n",
            "_________________________________________________________________\n",
            "flatten (Flatten)            (None, 1600)              0         \n",
            "_________________________________________________________________\n",
            "dropout (Dropout)            (None, 1600)              0         \n",
            "_________________________________________________________________\n",
            "dense (Dense)                (None, 10)                16010     \n",
            "=================================================================\n",
            "Total params: 34,826\n",
            "Trainable params: 34,826\n",
            "Non-trainable params: 0\n",
            "_________________________________________________________________\n"
          ],
          "name": "stdout"
        }
      ]
    },
    {
      "cell_type": "code",
      "metadata": {
        "colab": {
          "base_uri": "https://localhost:8080/"
        },
        "id": "5sPDiUCTZNNo",
        "outputId": "8f490791-d8f2-422b-ec9d-24e77450de16"
      },
      "source": [
        "batch_size = 128\n",
        "epochs = 15\n",
        "\n",
        "# model.compile(loss=\"categorical_crossentropy\", optimizer=\"adam\", metrics=[\"accuracy\"])\n",
        "model.compile(loss=\"sparse_categorical_crossentropy\", optimizer=\"adam\", metrics=[\"accuracy\"]) \n",
        "\n",
        "model.fit(x_train, y_train, batch_size=batch_size, epochs=epochs, validation_split=0.1)"
      ],
      "execution_count": 6,
      "outputs": [
        {
          "output_type": "stream",
          "text": [
            "Epoch 1/15\n",
            "422/422 [==============================] - 33s 9ms/step - loss: 0.7636 - accuracy: 0.7648 - val_loss: 0.0752 - val_accuracy: 0.9815\n",
            "Epoch 2/15\n",
            "422/422 [==============================] - 3s 8ms/step - loss: 0.1185 - accuracy: 0.9641 - val_loss: 0.0547 - val_accuracy: 0.9842\n",
            "Epoch 3/15\n",
            "422/422 [==============================] - 3s 8ms/step - loss: 0.0856 - accuracy: 0.9732 - val_loss: 0.0517 - val_accuracy: 0.9865\n",
            "Epoch 4/15\n",
            "422/422 [==============================] - 3s 8ms/step - loss: 0.0734 - accuracy: 0.9773 - val_loss: 0.0418 - val_accuracy: 0.9882\n",
            "Epoch 5/15\n",
            "422/422 [==============================] - 3s 8ms/step - loss: 0.0655 - accuracy: 0.9791 - val_loss: 0.0391 - val_accuracy: 0.9890\n",
            "Epoch 6/15\n",
            "422/422 [==============================] - 4s 8ms/step - loss: 0.0584 - accuracy: 0.9810 - val_loss: 0.0371 - val_accuracy: 0.9903\n",
            "Epoch 7/15\n",
            "422/422 [==============================] - 4s 8ms/step - loss: 0.0531 - accuracy: 0.9830 - val_loss: 0.0353 - val_accuracy: 0.9905\n",
            "Epoch 8/15\n",
            "422/422 [==============================] - 4s 8ms/step - loss: 0.0481 - accuracy: 0.9838 - val_loss: 0.0321 - val_accuracy: 0.9912\n",
            "Epoch 9/15\n",
            "422/422 [==============================] - 3s 8ms/step - loss: 0.0435 - accuracy: 0.9858 - val_loss: 0.0332 - val_accuracy: 0.9907\n",
            "Epoch 10/15\n",
            "422/422 [==============================] - 4s 8ms/step - loss: 0.0398 - accuracy: 0.9874 - val_loss: 0.0305 - val_accuracy: 0.9910\n",
            "Epoch 11/15\n",
            "422/422 [==============================] - 3s 8ms/step - loss: 0.0410 - accuracy: 0.9865 - val_loss: 0.0309 - val_accuracy: 0.9907\n",
            "Epoch 12/15\n",
            "422/422 [==============================] - 4s 8ms/step - loss: 0.0384 - accuracy: 0.9878 - val_loss: 0.0294 - val_accuracy: 0.9918\n",
            "Epoch 13/15\n",
            "422/422 [==============================] - 4s 8ms/step - loss: 0.0342 - accuracy: 0.9892 - val_loss: 0.0275 - val_accuracy: 0.9915\n",
            "Epoch 14/15\n",
            "422/422 [==============================] - 3s 8ms/step - loss: 0.0345 - accuracy: 0.9886 - val_loss: 0.0283 - val_accuracy: 0.9920\n",
            "Epoch 15/15\n",
            "422/422 [==============================] - 3s 8ms/step - loss: 0.0335 - accuracy: 0.9896 - val_loss: 0.0329 - val_accuracy: 0.9902\n"
          ],
          "name": "stdout"
        },
        {
          "output_type": "execute_result",
          "data": {
            "text/plain": [
              "<tensorflow.python.keras.callbacks.History at 0x7f2510454510>"
            ]
          },
          "metadata": {
            "tags": []
          },
          "execution_count": 6
        }
      ]
    },
    {
      "cell_type": "code",
      "metadata": {
        "colab": {
          "base_uri": "https://localhost:8080/"
        },
        "id": "y0tHTdGCZuxi",
        "outputId": "4da12e74-7a17-4ed3-fece-a23d81d920c4"
      },
      "source": [
        "score = model.evaluate(x_test, y_test, verbose=0)\n",
        "print(\"Test loss:\", score[0])\n",
        "print(\"Test accuracy:\", score[1])"
      ],
      "execution_count": 7,
      "outputs": [
        {
          "output_type": "stream",
          "text": [
            "Test loss: 0.025150109082460403\n",
            "Test accuracy: 0.9915000200271606\n"
          ],
          "name": "stdout"
        }
      ]
    },
    {
      "cell_type": "markdown",
      "metadata": {
        "id": "_1JI4AeugbQ-"
      },
      "source": [
        "# Using the model for prediction"
      ]
    },
    {
      "cell_type": "markdown",
      "metadata": {
        "id": "H2onoGcOgfSt"
      },
      "source": [
        "We show the shape of all the test images."
      ]
    },
    {
      "cell_type": "code",
      "metadata": {
        "colab": {
          "base_uri": "https://localhost:8080/"
        },
        "id": "ky3F_BgXdywF",
        "outputId": "56b62a46-6916-4e5b-97ce-293bfefd349d"
      },
      "source": [
        "print(x_test.shape)"
      ],
      "execution_count": 25,
      "outputs": [
        {
          "output_type": "stream",
          "text": [
            "(10000, 28, 28, 1)\n"
          ],
          "name": "stdout"
        }
      ]
    },
    {
      "cell_type": "markdown",
      "metadata": {
        "id": "5vu8zHcfgkx9"
      },
      "source": [
        "We get the first image and show its dimensions"
      ]
    },
    {
      "cell_type": "code",
      "metadata": {
        "colab": {
          "base_uri": "https://localhost:8080/"
        },
        "id": "3fnwwEkVesGO",
        "outputId": "dc35e6c8-4798-490c-d1d9-434336a891cb"
      },
      "source": [
        "first_img = x_test[0]\n",
        "print(first_img.shape)"
      ],
      "execution_count": 26,
      "outputs": [
        {
          "output_type": "stream",
          "text": [
            "(28, 28, 1)\n"
          ],
          "name": "stdout"
        }
      ]
    },
    {
      "cell_type": "markdown",
      "metadata": {
        "id": "9mjpVSURgnZe"
      },
      "source": [
        "First, we reshape it just for visualization."
      ]
    },
    {
      "cell_type": "code",
      "metadata": {
        "colab": {
          "base_uri": "https://localhost:8080/",
          "height": 301
        },
        "id": "0Zupdo9iexml",
        "outputId": "a6c6e3a9-a368-4bcd-eb81-f3c64babbdf0"
      },
      "source": [
        "import matplotlib.pyplot as plt\n",
        "\n",
        "first_img_vis = np.reshape(first_img, (28,28))\n",
        "print(first_img_vis.shape)\n",
        "\n",
        "# Show the first image:\n",
        "plt.imshow(first_img_vis, cmap=\"gray\")"
      ],
      "execution_count": 27,
      "outputs": [
        {
          "output_type": "stream",
          "text": [
            "(28, 28)\n"
          ],
          "name": "stdout"
        },
        {
          "output_type": "execute_result",
          "data": {
            "text/plain": [
              "<matplotlib.image.AxesImage at 0x7f2467db1590>"
            ]
          },
          "metadata": {
            "tags": []
          },
          "execution_count": 27
        },
        {
          "output_type": "display_data",
          "data": {
            "image/png": "[encoded data removed]",
            "text/plain": [
              "<Figure size 432x288 with 1 Axes>"
            ]
          },
          "metadata": {
            "tags": [],
            "needs_background": "light"
          }
        }
      ]
    },
    {
      "cell_type": "code",
      "metadata": {
        "colab": {
          "base_uri": "https://localhost:8080/"
        },
        "id": "O6xvDXllfG8j",
        "outputId": "dedfd8eb-719f-4e2f-8015-eafc5dea2349"
      },
      "source": [
        "first_img_res = np.reshape(first_img, (1, 28, 28, 1))\n",
        "prediction = model.predict(first_img_res)\n",
        "print(prediction)"
      ],
      "execution_count": 28,
      "outputs": [
        {
          "output_type": "stream",
          "text": [
            "[[3.6088646e-10 6.0397004e-10 2.0292337e-06 6.6275311e-07 3.2978649e-13\n",
            "  8.6347186e-11 3.2261179e-17 9.9999678e-01 6.9672135e-09 4.7509866e-07]]\n"
          ],
          "name": "stdout"
        }
      ]
    },
    {
      "cell_type": "markdown",
      "metadata": {
        "id": "ntzLU70dhB3u"
      },
      "source": [
        "Show the index corresponding to the max value of the array"
      ]
    },
    {
      "cell_type": "code",
      "metadata": {
        "colab": {
          "base_uri": "https://localhost:8080/"
        },
        "id": "diYIaDGYgFud",
        "outputId": "be45a285-e0a2-48df-f512-d0ea24d1c4b2"
      },
      "source": [
        "print(np.argmax(model.predict(first_img_reshaped)))"
      ],
      "execution_count": 29,
      "outputs": [
        {
          "output_type": "stream",
          "text": [
            "7\n"
          ],
          "name": "stdout"
        }
      ]
    }
  ]
}