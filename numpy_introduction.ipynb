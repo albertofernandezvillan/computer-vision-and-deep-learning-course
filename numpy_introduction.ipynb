{
  "nbformat": 4,
  "nbformat_minor": 0,
  "metadata": {
    "colab": {
      "name": "numpy_introduction.ipynb",
      "provenance": [],
      "collapsed_sections": [
        "tofe2KTnavjJ"
      ],
      "toc_visible": true,
      "authorship_tag": "ABX9TyMJO3eEcKAMBUaKYtuvI5x/",
      "include_colab_link": true
    },
    "kernelspec": {
      "name": "python3",
      "display_name": "Python 3"
    },
    "language_info": {
      "name": "python"
    }
  },
  "cells": [
    {
      "cell_type": "markdown",
      "metadata": {
        "id": "view-in-github",
        "colab_type": "text"
      },
      "source": [
        "<a href=\"https://colab.research.google.com/github/albertofernandezvillan/computer-vision-and-deep-learning-course/blob/main/numpy_introduction.ipynb\" target=\"_parent\"><img src=\"https://colab.research.google.com/assets/colab-badge.svg\" alt=\"Open In Colab\"/></a>"
      ]
    },
    {
      "cell_type": "markdown",
      "metadata": {
        "id": "jD8cgTu5atO5"
      },
      "source": [
        "<img align=\"left\" style=\"padding-right:10px;\" src =\"https://raw.githubusercontent.com/albertofernandezvillan/computer-vision-and-deep-learning-course/main/assets/university_oviedo_logo.png\" width=300 px>\n",
        "\n",
        "This notebook is from the Course \"***Computer vision in the new era of Artificial Intelligence and Deep Learning***\", or \"*Visión por computador en la nueva era de la Inteligencia Artificial y el Deep Learning*\" (ES) from the \"Second quarter university extension courses\" that the University of Oviedo is offering (05/04/2021 - 16/04/2021)\n",
        "\n",
        "<[Github Repository](https://github.com/albertofernandezvillan/computer-vision-and-deep-learning-course) | [Course Web Page Information](https://www.uniovi.es/estudios/extension/cursos2c/-/asset_publisher/SEp0PJi4ISGo/content/vision-por-computador-en-la-nueva-era-de-la-inteligencia-artificial-y-el-deep-learning?redirect=%2Festudios%2Fextension%2Fcursos2c)>"
      ]
    },
    {
      "cell_type": "markdown",
      "metadata": {
        "id": "tofe2KTnavjJ"
      },
      "source": [
        "# Summary\n",
        "<center><img src=\"https://upload.wikimedia.org/wikipedia/commons/thumb/3/31/NumPy_logo_2020.svg/320px-NumPy_logo_2020.svg.png\"></center>\n",
        "\n",
        "NumPy is a library for the Python programming language, adding support for large, multi-dimensional arrays and matrices, along with a large collection of high-level mathematical functions to operate on these arrays. In this notebook, we will learn the basics of numerical analysis using the NumPy library."
      ]
    },
    {
      "cell_type": "markdown",
      "metadata": {
        "id": "tOsKoS3hcX-c"
      },
      "source": [
        "# Introduction\n",
        "\n",
        "The core functionality of NumPy is its \"ndarray\", for n-dimensional array, data structure. In contrast to Python's built-in list data structure, these arrays are homogeneously typed: all elements of a single array must be of the same type. To use NumPy, we first need to import the `numpy` package. At the time of writing this notebook (April 2021), NumPy version is: `1.19.5`."
      ]
    },
    {
      "cell_type": "code",
      "metadata": {
        "colab": {
          "base_uri": "https://localhost:8080/"
        },
        "id": "VmqOdc4Oajz7",
        "outputId": "e3701c66-9247-4859-8c3b-4f4e5f064524"
      },
      "source": [
        "import numpy as np\n",
        "\n",
        "print(\"Numpy version: {}\".format(np.__version__))"
      ],
      "execution_count": null,
      "outputs": [
        {
          "output_type": "stream",
          "text": [
            "Numpy version: 1.19.5\n"
          ],
          "name": "stdout"
        }
      ]
    },
    {
      "cell_type": "markdown",
      "metadata": {
        "id": "P_dp3IJ-M-MB"
      },
      "source": [
        "# The basics\n",
        "\n",
        "NumPy’s main object is the homogeneous multidimensional array. NumPy’s array class is called `ndarray`. It is also known by the alias `array`. Note that `numpy.array` is not the same as the Standard Python Library class `array.array`, which only handles one-dimensional arrays and offers less functionality.\n",
        "\n",
        "`numpy.array()` is just a method which returns an array object of the type `ndarray`.\n"
      ]
    },
    {
      "cell_type": "code",
      "metadata": {
        "colab": {
          "base_uri": "https://localhost:8080/"
        },
        "id": "70H07btkNTYK",
        "outputId": "c30ceffa-a49d-4ea1-fd91-78c8a65cbac7"
      },
      "source": [
        "import array as arr\n",
        "import numpy as np\n",
        "\n",
        "my_python_array = arr.array(\"i\", [1,2,3,4,5,6])\n",
        "my_numpy_array = np.array([1,2,3,4,5,6])\n",
        "\n",
        "print(\"my_python_array: {} with type: {}\".format(my_python_array, type(my_python_array)))\n",
        "print(\"my_numpy_array: {} with type: {}\".format(my_numpy_array, type(my_numpy_array)))"
      ],
      "execution_count": 1,
      "outputs": [
        {
          "output_type": "stream",
          "text": [
            "my_python_array: array('i', [1, 2, 3, 4, 5, 6]) with type: <class 'array.array'>\n",
            "my_numpy_array: [1 2 3 4 5 6] with type: <class 'numpy.ndarray'>\n"
          ],
          "name": "stdout"
        }
      ]
    },
    {
      "cell_type": "markdown",
      "metadata": {
        "id": "b6Ral_06Ofoo"
      },
      "source": [
        "The more important **attributes** of an `ndarray` object are:\n",
        "\n",
        "- `a.shape`: tuple of integers indicating the size of the array in each dimensions\n",
        "- `a.ndim`: the number of axes (dimensions) of the array (also called as rank)\n",
        "- `a.size`: the total number of elements of the array\n",
        "- `a.dtype`: an object describing the type of the elements in the array\n",
        "- `a.data`: the buffer containing the actual elements of the array"
      ]
    },
    {
      "cell_type": "code",
      "metadata": {
        "colab": {
          "base_uri": "https://localhost:8080/"
        },
        "id": "zbXSEq2_Qzm-",
        "outputId": "aa7d3325-4ae9-4960-f249-ea20c0a9a22f"
      },
      "source": [
        "import numpy as np\n",
        "\n",
        "# Creating a numpy array:\n",
        "my_numpy_array = np.array([[1,2,3],[4,5,6]])\n",
        "\n",
        "# Show its attributes:\n",
        "print(my_numpy_array)\n",
        "print(my_numpy_array.shape)\n",
        "print(my_numpy_array.ndim)\n",
        "print(my_numpy_array.size)\n",
        "print(my_numpy_array.dtype)\n",
        "print(my_numpy_array.data)"
      ],
      "execution_count": 2,
      "outputs": [
        {
          "output_type": "stream",
          "text": [
            "[[1 2 3]\n",
            " [4 5 6]]\n",
            "(2, 3)\n",
            "2\n",
            "6\n",
            "int64\n",
            "<memory at 0x7f976af51f30>\n"
          ],
          "name": "stdout"
        }
      ]
    },
    {
      "cell_type": "markdown",
      "metadata": {
        "id": "Y7q0BMefPWS9"
      },
      "source": [
        "# Array creation\n",
        "\n",
        "There are many ways to create NumPy arrays. For example, you can create an array from a regular Python list or tuple using the `array()` function.  The type of the resulting array is deduced from the type of the elements in the sequences, but it can be specified via the key word argument `dtype`."
      ]
    },
    {
      "cell_type": "code",
      "metadata": {
        "colab": {
          "base_uri": "https://localhost:8080/"
        },
        "id": "Dc8jqypBST1D",
        "outputId": "a8b7173c-7dd0-4572-96d4-954247728509"
      },
      "source": [
        "import numpy as np\n",
        "\n",
        "# Creating a numpy array from a Python list:\n",
        "my_numpy_array = np.array([1,2,3,4,5,6])\n",
        "\n",
        "print(my_numpy_array.dtype)\n",
        "print(my_numpy_array)"
      ],
      "execution_count": 3,
      "outputs": [
        {
          "output_type": "stream",
          "text": [
            "int64\n",
            "[1 2 3 4 5 6]\n"
          ],
          "name": "stdout"
        }
      ]
    },
    {
      "cell_type": "code",
      "metadata": {
        "colab": {
          "base_uri": "https://localhost:8080/"
        },
        "id": "FBZWMqGZScIH",
        "outputId": "2e00a186-d583-49eb-9638-f484969df639"
      },
      "source": [
        "import numpy as np\n",
        "\n",
        "# Creating a numpy array from a Python with an explicit type:\n",
        "my_numpy_array = np.array([1,2,3,4,5,6], dtype=np.float32)\n",
        "\n",
        "print(my_numpy_array.dtype)\n",
        "print(my_numpy_array)"
      ],
      "execution_count": 4,
      "outputs": [
        {
          "output_type": "stream",
          "text": [
            "float32\n",
            "[1. 2. 3. 4. 5. 6.]\n"
          ],
          "name": "stdout"
        }
      ]
    },
    {
      "cell_type": "markdown",
      "metadata": {
        "id": "QdvpRyCISzaM"
      },
      "source": [
        "Do you remember that NumPy arrays are homogeneously typed: all elements of a single array must be of the same type? Let's check it if we can create a Numpy array with different types."
      ]
    },
    {
      "cell_type": "code",
      "metadata": {
        "colab": {
          "base_uri": "https://localhost:8080/"
        },
        "id": "8hwtPiT3S9OH",
        "outputId": "84d6c883-969d-423a-c150-93b41556fb4e"
      },
      "source": [
        "import numpy as np\n",
        "\n",
        "# Creating a Numpy array from a Pytho list:\n",
        "my_numbers = np.array([\"123\", 3, 6, 9, 12])\n",
        "\n",
        "print(my_numbers)\n",
        "print(my_numbers.dtype) # 3-character string"
      ],
      "execution_count": 5,
      "outputs": [
        {
          "output_type": "stream",
          "text": [
            "['123' '3' '6' '9' '12']\n",
            "<U3\n"
          ],
          "name": "stdout"
        }
      ]
    },
    {
      "cell_type": "code",
      "metadata": {
        "colab": {
          "base_uri": "https://localhost:8080/"
        },
        "id": "3Fw781UuTGOu",
        "outputId": "21f75ac3-d5c3-4f19-b277-0171369d6522"
      },
      "source": [
        "import numpy as np\n",
        "\n",
        "# Creating a Numpy array from a Pytho list with an explicit type\n",
        "my_numbers = np.array([\"123\", 3, 6, 9, 12], dtype=np.int16)\n",
        "\n",
        "print(my_numbers)\n",
        "print(my_numbers.dtype) # int16"
      ],
      "execution_count": 6,
      "outputs": [
        {
          "output_type": "stream",
          "text": [
            "[123   3   6   9  12]\n",
            "int16\n"
          ],
          "name": "stdout"
        }
      ]
    },
    {
      "cell_type": "markdown",
      "metadata": {
        "id": "lkfTxME6QxZr"
      },
      "source": [
        "In connection with array creation, Numpy provides several functions:\n",
        "- `np.array([1, 2, 3])`: This creates an array from a list of values\n",
        "- `np.zeros((3,4))`: This creates an array of zeros with the specified shape\n",
        "- `np.ones((3,4))`: This creates an array of ones with the specified shape\n",
        "- `np.eye(2)`: This creates a diagonal `2x2` array\n",
        "- `np.random.random((2,2))`: This creates a random array with the specified shape\n",
        "- `np.linspace(0,10,21)`: This creates an array with `21` elements from `0` to `10`\n",
        "- `np.arange(0,10.5,0.5)`: This cretes an array from `0` to `10` (the upper interval `10.5` is not included) with a step of `0.5`\n",
        "\n"
      ]
    },
    {
      "cell_type": "code",
      "metadata": {
        "colab": {
          "base_uri": "https://localhost:8080/"
        },
        "id": "xVF_EWq0PO7k",
        "outputId": "06869634-e9b7-4010-ece7-d8d4a48f4b12"
      },
      "source": [
        "# Creating some numpy arrays:\n",
        "print(np.array([1, 2, 3]))\n",
        "print(np.zeros((3,4), dtype=np.int16)) # 3 rows, 4 cols and type np.int16\n",
        "print(np.ones((3,4)))                  # 3 rows, 4 cols\n",
        "print(np.eye(2))\n",
        "\n",
        "# Set seed for reproducibility\n",
        "np.random.seed(seed=1234)\n",
        "print(np.random.random((2,2)))\n",
        "\n",
        "# These two lines creates the same array:\n",
        "print(np.linspace(0, 10, 21))\n",
        "print(np.arange(0, 10.5, 0.5))\n",
        "\n",
        "print(np.linspace(0, 10, 21).shape)\n",
        "print(np.arange(0, 10.5, 0.5).shape)\n",
        "\n",
        "# Let's check it:\n",
        "print(np.array_equal(np.linspace(0,10,21), np.arange(0,10.5,0.5)))"
      ],
      "execution_count": 7,
      "outputs": [
        {
          "output_type": "stream",
          "text": [
            "[1 2 3]\n",
            "[[0 0 0 0]\n",
            " [0 0 0 0]\n",
            " [0 0 0 0]]\n",
            "[[1. 1. 1. 1.]\n",
            " [1. 1. 1. 1.]\n",
            " [1. 1. 1. 1.]]\n",
            "[[1. 0.]\n",
            " [0. 1.]]\n",
            "[[0.19151945 0.62210877]\n",
            " [0.43772774 0.78535858]]\n",
            "[ 0.   0.5  1.   1.5  2.   2.5  3.   3.5  4.   4.5  5.   5.5  6.   6.5\n",
            "  7.   7.5  8.   8.5  9.   9.5 10. ]\n",
            "[ 0.   0.5  1.   1.5  2.   2.5  3.   3.5  4.   4.5  5.   5.5  6.   6.5\n",
            "  7.   7.5  8.   8.5  9.   9.5 10. ]\n",
            "(21,)\n",
            "(21,)\n",
            "True\n"
          ],
          "name": "stdout"
        }
      ]
    },
    {
      "cell_type": "markdown",
      "metadata": {
        "id": "queSg_8mdamy"
      },
      "source": [
        "# Arithmetic operations with arrays\n",
        "\n",
        "We can perform arithmetic operations with arrays (e.g. subtraction, addition, division, multiplication, ...). See next code cell for some practical examples.\n",
        "\n",
        "\n",
        "\n",
        "\n"
      ]
    },
    {
      "cell_type": "code",
      "metadata": {
        "colab": {
          "base_uri": "https://localhost:8080/"
        },
        "id": "NA2lrfRNeZxr",
        "outputId": "c32f5d0c-860d-4493-f6d8-0f6977e8fce8"
      },
      "source": [
        "array_a = np.arange(1, 10, 1)\n",
        "array_b = np.arange(1, 10, 1)\n",
        "\n",
        "print(array_a)\n",
        "print(array_b)\n",
        "\n",
        "print(array_a + array_b)\n",
        "\n",
        "print(array_b - array_a)\n",
        "print(np.subtract(array_b, array_a))\n",
        "\n",
        "print(array_a / array_b)\n",
        "print(np.divide(array_a, array_b))\n",
        "\n",
        "# Here, we're adding an array and a value (scalar). \n",
        "# Their dimensions aren’t compatible \n",
        "# This is where broadcasting comes in. The scalar is broadcast across the array \n",
        "# so that they have compatible shapes.\n",
        "print(array_a + 5)\n",
        "\n",
        "# Broadcasting also happens here:\n",
        "print(array_a * 5)\n",
        "\n",
        "# See that array multiplication is not matrix multiplication\n",
        "# If you multiply two NumPy arrays together, NumPy assumes you want to do \n",
        "# element-wise multiplication.\n",
        "print(array_a * array_b)\n",
        "print(np.multiply(array_a, array_b))\n",
        "\n",
        "# As the name suggests, this computes the dot product of two vectors.\n",
        "print(array_a.dot(array_b))\n",
        "\n",
        "# If you use this function with a pair of 2D vectors, it does matrix multiplication. \n",
        "# But it is recommended to use np.matmul() for this purpose\n",
        "# See here 'https://blog.finxter.com/numpy-matmul-operator/' for more information\n",
        "print(\"\\nPerforming matrix multiplication...\\n\")\n",
        "my_matrix_1 = np.ones((3, 2))\n",
        "my_matrix_2 = np.ones((2, 4))\n",
        "print(my_matrix_1)\n",
        "print(my_matrix_2)\n",
        "\n",
        "# Multiplying a matrix of shape (3,2) with another of (2,4) give us a new one with shape (3,4)\n",
        "print(np.matmul(my_matrix_1, my_matrix_2))\n",
        "print(np.matmul(my_matrix_1, my_matrix_2).shape)\n",
        "\n",
        "# We cannot perform matrix multiplication with shapes (2,4) amd (3,2):\n",
        "try:\n",
        "  print(np.matmul(my_matrix_2, my_matrix_1))\n",
        "except ValueError:\n",
        "  print(\"Error tryring to perform matmul: size 3 is different from 4\")\n",
        "\n",
        "# dot product is not recommended for matrix multiplication:\n",
        "print(my_matrix_1.dot(my_matrix_2))"
      ],
      "execution_count": 8,
      "outputs": [
        {
          "output_type": "stream",
          "text": [
            "[1 2 3 4 5 6 7 8 9]\n",
            "[1 2 3 4 5 6 7 8 9]\n",
            "[ 2  4  6  8 10 12 14 16 18]\n",
            "[0 0 0 0 0 0 0 0 0]\n",
            "[0 0 0 0 0 0 0 0 0]\n",
            "[1. 1. 1. 1. 1. 1. 1. 1. 1.]\n",
            "[1. 1. 1. 1. 1. 1. 1. 1. 1.]\n",
            "[ 6  7  8  9 10 11 12 13 14]\n",
            "[ 5 10 15 20 25 30 35 40 45]\n",
            "[ 1  4  9 16 25 36 49 64 81]\n",
            "[ 1  4  9 16 25 36 49 64 81]\n",
            "285\n",
            "\n",
            "Performing matrix multiplication...\n",
            "\n",
            "[[1. 1.]\n",
            " [1. 1.]\n",
            " [1. 1.]]\n",
            "[[1. 1. 1. 1.]\n",
            " [1. 1. 1. 1.]]\n",
            "[[2. 2. 2. 2.]\n",
            " [2. 2. 2. 2.]\n",
            " [2. 2. 2. 2.]]\n",
            "(3, 4)\n",
            "Error tryring to perform matmul: size 3 is different from 4\n",
            "[[2. 2. 2. 2.]\n",
            " [2. 2. 2. 2.]\n",
            " [2. 2. 2. 2.]]\n"
          ],
          "name": "stdout"
        }
      ]
    },
    {
      "cell_type": "markdown",
      "metadata": {
        "id": "RrXXDNVMpY71"
      },
      "source": [
        "# Indexing and slicing\n",
        "\n",
        "We can access elements of an array by using their indices. This is called **indexing**. \n",
        "\n",
        "- For one-dimensional Numpy arrays, you only need to specify one index value, which is the position of the element in the Numpy array (e.g. `arrayname[index]`).\n",
        "\n",
        "- For two-dimensional Numpy arrays, you need to specify both a row index and a column index for the element (e.g. `arrayname[indexrow,indexcol]`).\n",
        "\n",
        "First of all, let's create a one-dimensional NumPy array and see how indexing works."
      ]
    },
    {
      "cell_type": "code",
      "metadata": {
        "colab": {
          "base_uri": "https://localhost:8080/"
        },
        "id": "pw9PtnB_uiej",
        "outputId": "fb5a3348-e740-444e-b6e4-211b9dcefa8e"
      },
      "source": [
        "import numpy as np\n",
        "\n",
        "# Create the array from a Python list:\n",
        "my_array = np.array([10,20,30,40,50])\n",
        "\n",
        "print(\"Created array: {} with a shape of {}\".format(my_array, my_array.shape))\n",
        "print(\"First element of the array: {}\".format(my_array[0]))\n",
        "print(\"Last element of the array: {}\".format(my_array[my_array.shape[0] - 1]))"
      ],
      "execution_count": 9,
      "outputs": [
        {
          "output_type": "stream",
          "text": [
            "Created array: [10 20 30 40 50] with a shape of (5,)\n",
            "First element of the array: 10\n",
            "Last element of the array: 50\n"
          ],
          "name": "stdout"
        }
      ]
    },
    {
      "cell_type": "markdown",
      "metadata": {
        "id": "gIAV8--wueqr"
      },
      "source": [
        "Now, let's create a two-dimensional NumPy array with shape `(3,5)`, which means that this array has `3` rows and `5` cols. To access an specific element of the array you have to provide first the row index and then, the column index. You can use this image as a reference.\n",
        "\n",
        "<img src=\"https://raw.githubusercontent.com/albertofernandezvillan/computer-vision-and-deep-learning-course/main/assets/numpy_and_pandas_axes_with_values.jpg\" width=600>"
      ]
    },
    {
      "cell_type": "code",
      "metadata": {
        "colab": {
          "base_uri": "https://localhost:8080/"
        },
        "id": "vhbGJ0HjsJem",
        "outputId": "998eba49-cc22-4e4e-e2f1-5f0ab226480b"
      },
      "source": [
        "import numpy as np\n",
        "\n",
        "# Create the array from Python lists:\n",
        "my_array = np.array([[1,2,3,4,5],[6,7,8,9,10],[11,12,13,14,15]])\n",
        "\n",
        "print(my_array)\n",
        "print(my_array.shape)\n",
        "\n",
        "row = 1\n",
        "col = 2\n",
        "print(my_array[row, col])"
      ],
      "execution_count": 10,
      "outputs": [
        {
          "output_type": "stream",
          "text": [
            "[[ 1  2  3  4  5]\n",
            " [ 6  7  8  9 10]\n",
            " [11 12 13 14 15]]\n",
            "(3, 5)\n",
            "8\n"
          ],
          "name": "stdout"
        }
      ]
    },
    {
      "cell_type": "markdown",
      "metadata": {
        "id": "6PPk-ujJxQJL"
      },
      "source": [
        "At this point, let's see how to perform **slicing**. Slicing in Python means taking elements from one given index to another given index:\n",
        "\n",
        "- We pass slice instead of index like this: `[start:end]`\n",
        "- We can also define the step, like this: `[start:end:step]`\n",
        "- If we don't pass start its considered `0`\n",
        "- If we don't pass end its considered length of array in that dimension\n",
        "- If we don't pass step its considered `1`"
      ]
    },
    {
      "cell_type": "code",
      "metadata": {
        "colab": {
          "base_uri": "https://localhost:8080/"
        },
        "id": "N_iQ-3dPyflO",
        "outputId": "c9f1314f-76a8-4b33-bb9f-997709cd3775"
      },
      "source": [
        "import numpy as np\n",
        "\n",
        "# Create the array from a Python list:\n",
        "my_array = np.array([10,20,30,40,50,60,70,80])\n",
        "\n",
        "print(my_array)\n",
        "print(my_array[0:7])\n",
        "print(my_array[0:7:2])"
      ],
      "execution_count": 11,
      "outputs": [
        {
          "output_type": "stream",
          "text": [
            "[10 20 30 40 50 60 70 80]\n",
            "[10 20 30 40 50 60 70]\n",
            "[10 30 50 70]\n"
          ],
          "name": "stdout"
        }
      ]
    },
    {
      "cell_type": "code",
      "metadata": {
        "colab": {
          "base_uri": "https://localhost:8080/"
        },
        "id": "xoKogzW0y3x8",
        "outputId": "244ee796-879e-4d79-abb5-64a1738c5e14"
      },
      "source": [
        "import numpy as np\n",
        "\n",
        "# Create the array from Python lists:\n",
        "my_array = np.array([[1,2,3,4,5],[6,7,8,9,10],[11,12,13,14,15]])\n",
        "\n",
        "print(my_array)\n",
        "print(my_array[0:2, 1:3])"
      ],
      "execution_count": 13,
      "outputs": [
        {
          "output_type": "stream",
          "text": [
            "[[ 1  2  3  4  5]\n",
            " [ 6  7  8  9 10]\n",
            " [11 12 13 14 15]]\n",
            "[[2 3]\n",
            " [7 8]]\n"
          ],
          "name": "stdout"
        }
      ]
    },
    {
      "cell_type": "markdown",
      "metadata": {
        "id": "zme6w9-mz1tS"
      },
      "source": [
        "We can use the minus operator to refer to an index from the end (this is called negative slicing)."
      ]
    },
    {
      "cell_type": "code",
      "metadata": {
        "colab": {
          "base_uri": "https://localhost:8080/"
        },
        "id": "_JcZNrYr0JBG",
        "outputId": "21af8d47-a2d5-4f71-ceac-66381f4e4dfd"
      },
      "source": [
        "import numpy as np\n",
        "\n",
        "# Create the array from a Python list:\n",
        "my_array = np.array([10,20,30,40,50,60,70,80])\n",
        "\n",
        "print(my_array)\n",
        "print(my_array[-6:-1])\n",
        "print(my_array[-6:-1:2])\n",
        "print(my_array[-6:])\n",
        "print(my_array[:-1:2])"
      ],
      "execution_count": 14,
      "outputs": [
        {
          "output_type": "stream",
          "text": [
            "[10 20 30 40 50 60 70 80]\n",
            "[30 40 50 60 70]\n",
            "[30 50 70]\n",
            "[30 40 50 60 70 80]\n",
            "[10 30 50 70]\n"
          ],
          "name": "stdout"
        }
      ]
    },
    {
      "cell_type": "markdown",
      "metadata": {
        "id": "A81ruSC609Bm"
      },
      "source": [
        "A slice of an array is a view into the same data, so modifying it will modify the original array."
      ]
    },
    {
      "cell_type": "code",
      "metadata": {
        "colab": {
          "base_uri": "https://localhost:8080/"
        },
        "id": "EGCOKKm40_0L",
        "outputId": "27eab379-b489-43dd-d151-e8d32718f152"
      },
      "source": [
        "import numpy as np\n",
        "\n",
        "# Create the array from a Python list:\n",
        "my_array = np.array([10,20,30,40,50,60,70,80])\n",
        "\n",
        "my_array[0:7:2] = 500\n",
        "print(my_array)"
      ],
      "execution_count": 15,
      "outputs": [
        {
          "output_type": "stream",
          "text": [
            "[500  20 500  40 500  60 500  80]\n"
          ],
          "name": "stdout"
        }
      ]
    },
    {
      "cell_type": "markdown",
      "metadata": {
        "id": "fnyociyL3dG5"
      },
      "source": [
        "# Axis operations\n",
        "\n",
        "We can also do operations across a specific axis. For this, the previously included figure can also be useful. Axes are like directions along the NumPy array. In a 2-dimensional array:\n",
        "- `axis 0` is the axis that points down the rows \n",
        "- `axis 1` is the axis that points horizontally across the columns.\n",
        "\n",
        "Let's see how this works with both `np.sum()` and `np.max()` functions."
      ]
    },
    {
      "cell_type": "code",
      "metadata": {
        "colab": {
          "base_uri": "https://localhost:8080/"
        },
        "id": "rlaBMl_R4J8P",
        "outputId": "166dc4bb-9516-46fa-ea19-2ff4aa44cbdd"
      },
      "source": [
        "import numpy as np\n",
        "\n",
        "# Create the array from Python lists:\n",
        "my_array = np.array([[1,2,3,4,5],[6,7,8,9,10],[11,12,13,14,15]])\n",
        "\n",
        "print(my_array)\n",
        "print(np.sum(my_array))\n",
        "print(np.sum(my_array, axis=0))\n",
        "print(np.sum(my_array, axis=1))"
      ],
      "execution_count": 16,
      "outputs": [
        {
          "output_type": "stream",
          "text": [
            "[[ 1  2  3  4  5]\n",
            " [ 6  7  8  9 10]\n",
            " [11 12 13 14 15]]\n",
            "120\n",
            "[18 21 24 27 30]\n",
            "[15 40 65]\n"
          ],
          "name": "stdout"
        }
      ]
    },
    {
      "cell_type": "code",
      "metadata": {
        "colab": {
          "base_uri": "https://localhost:8080/"
        },
        "id": "iVnkUvwY5P6s",
        "outputId": "70a4c5bc-cec7-4f40-b735-f003b2a5f76c"
      },
      "source": [
        "import numpy as np\n",
        "\n",
        "# Create the array from Python lists:\n",
        "my_array = np.array([[1,2,3,4,5],[6,7,8,9,10],[11,12,13,14,15]])\n",
        "\n",
        "print(my_array)\n",
        "print(np.max(my_array))\n",
        "print(np.max(my_array, axis=0))\n",
        "print(np.max(my_array, axis=1))"
      ],
      "execution_count": 18,
      "outputs": [
        {
          "output_type": "stream",
          "text": [
            "[[ 1  2  3  4  5]\n",
            " [ 6  7  8  9 10]\n",
            " [11 12 13 14 15]]\n",
            "15\n",
            "[11 12 13 14 15]\n",
            "[ 5 10 15]\n"
          ],
          "name": "stdout"
        }
      ]
    },
    {
      "cell_type": "markdown",
      "metadata": {
        "id": "XwFf02Ac579v"
      },
      "source": [
        "# Exercises\n",
        "\n",
        "<img  align=\"left\" style=\"padding-right:10px;\" src=\"https://raw.githubusercontent.com/albertofernandezvillan/computer-vision-and-deep-learning-course/main/assets/pencil.jpg\" width=50> Numpy slicing and indexing are ver important. Therefore, we have included an exercise related to these topics. The task here is to reproduce the obtained results using the following image as reference.\n",
        "\n",
        "<img src=\"https://raw.githubusercontent.com/albertofernandezvillan/dl-ml-notebooks/main/assets/numpy-indexing.jpg\">\n"
      ]
    },
    {
      "cell_type": "code",
      "metadata": {
        "colab": {
          "base_uri": "https://localhost:8080/"
        },
        "id": "kB7wgVmK6z0B",
        "outputId": "91645396-0964-4b0c-b0fc-84638067f826"
      },
      "source": [
        "# Ref here for more information: https://www.geeksforgeeks.org/numpy-indexing/\n",
        "# Import required packages:\n",
        "import numpy as np\n",
        "\n",
        "# Create a (6x6) array:\n",
        "a = np.array([[0, 1, 2, 3, 4, 5], \n",
        "              [6, 7, 8, 9, 10, 11], \n",
        "              [12, 13, 14, 15, 16, 17], \n",
        "              [18, 19, 20, 21, 22, 23], \n",
        "              [24, 25, 26, 27, 28, 29], \n",
        "              [30, 31, 32, 33, 34, 35]])\n",
        "\n",
        "# slicing and indexing\n",
        "result_1 = a[0, 3:5]\n",
        "result_2 = a[4:, 4:]\n",
        "result_3 = a[:, 2]\n",
        "result_4 = a[2::2, ::2]\n",
        "\n",
        "print(result_1)\n",
        "print(result_2)\n",
        "print(result_3)\n",
        "print(result_4)"
      ],
      "execution_count": 19,
      "outputs": [
        {
          "output_type": "stream",
          "text": [
            "[3 4]\n",
            "[[28 29]\n",
            " [34 35]]\n",
            "[ 2  8 14 20 26 32]\n",
            "[[12 14 16]\n",
            " [24 26 28]]\n"
          ],
          "name": "stdout"
        }
      ]
    },
    {
      "cell_type": "markdown",
      "metadata": {
        "id": "_RLhbP8H7wWZ"
      },
      "source": [
        "One last note is in connection with `result_1 = a[0, 3:5]`. See the obtained shape (of lower rank than `a`). This is because we are mixing both indexing and slicing. We can use `result_1 = a[0:1, 3:5]` to obtain the same rank."
      ]
    },
    {
      "cell_type": "code",
      "metadata": {
        "colab": {
          "base_uri": "https://localhost:8080/"
        },
        "id": "g2CqZtU78QkF",
        "outputId": "66f19c77-b931-4685-b6f8-fd3ef6169c31"
      },
      "source": [
        "# Ref here for more information: https://www.geeksforgeeks.org/numpy-indexing/\n",
        "# Import required packages:\n",
        "import numpy as np\n",
        "\n",
        "# Create a (6x6) array:\n",
        "a = np.array([[0, 1, 2, 3, 4, 5], \n",
        "              [6, 7, 8, 9, 10, 11], \n",
        "              [12, 13, 14, 15, 16, 17], \n",
        "              [18, 19, 20, 21, 22, 23], \n",
        "              [24, 25, 26, 27, 28, 29], \n",
        "              [30, 31, 32, 33, 34, 35]])\n",
        "print(a.shape)\n",
        "\n",
        "print(a[0, 3:5])\n",
        "print(a[0, 3:5].shape)\n",
        "\n",
        "print(a[0:1, 3:5])\n",
        "print(a[0:1, 3:5].shape)"
      ],
      "execution_count": 20,
      "outputs": [
        {
          "output_type": "stream",
          "text": [
            "(6, 6)\n",
            "[3 4]\n",
            "(2,)\n",
            "[[3 4]]\n",
            "(1, 2)\n"
          ],
          "name": "stdout"
        }
      ]
    },
    {
      "cell_type": "markdown",
      "metadata": {
        "id": "GKvgyRkb-OE7"
      },
      "source": [
        "# Conclusions\n",
        "\n",
        "In this notebook, an introduction to NumPy was given. If you are new to NumPy, it is recommended to see these official tutorials:\n",
        "\n",
        "- [NumPy: the absolute basics for beginners](https://numpy.org/doc/stable/user/absolute_beginners.html)\n",
        "- [NumPy quickstart](https://numpy.org/doc/stable/user/quickstart.html)\n",
        "- [NumPy basics](https://numpy.org/doc/stable/user/basics.html)\n",
        "\n",
        "\n",
        "\n",
        "\n"
      ]
    }
  ]
}