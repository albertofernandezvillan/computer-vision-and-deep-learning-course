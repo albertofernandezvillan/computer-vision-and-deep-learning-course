{
  "nbformat": 4,
  "nbformat_minor": 0,
  "metadata": {
    "colab": {
      "name": "basic_drawing_opencv.ipynb",
      "provenance": [],
      "collapsed_sections": [],
      "toc_visible": true,
      "authorship_tag": "ABX9TyPZABQu24JJpISrfPMwZYXs",
      "include_colab_link": true
    },
    "kernelspec": {
      "name": "python3",
      "display_name": "Python 3"
    }
  },
  "cells": [
    {
      "cell_type": "markdown",
      "metadata": {
        "id": "view-in-github",
        "colab_type": "text"
      },
      "source": [
        "<a href=\"https://colab.research.google.com/github/albertofernandezvillan/computer-vision-and-deep-learning-course/blob/main/basic_drawing_opencv.ipynb\" target=\"_parent\"><img src=\"https://colab.research.google.com/assets/colab-badge.svg\" alt=\"Open In Colab\"/></a>"
      ]
    },
    {
      "cell_type": "markdown",
      "metadata": {
        "id": "hNYPaYeuJ4nM"
      },
      "source": [
        "<img align=\"left\" style=\"padding-right:10px;\" src =\"https://raw.githubusercontent.com/albertofernandezvillan/computer-vision-and-deep-learning-course/main/assets/university_oviedo_logo.png\" width=300 px>\n",
        "\n",
        "This notebook is from the Course \"***Computer vision in the new era of Artificial Intelligence and Deep Learning***\", or \"*Visión por computador en la nueva era de la Inteligencia Artificial y el Deep Learning*\" (ES) from the \"Second quarter university extension courses\" that the University of Oviedo is offering (05/04/2021 - 16/04/2021)\n",
        "\n",
        "<[Github Repository](https://github.com/albertofernandezvillan/computer-vision-and-deep-learning-course) | [Course Web Page Information](https://www.uniovi.es/estudios/extension/cursos2c/-/asset_publisher/SEp0PJi4ISGo/content/vision-por-computador-en-la-nueva-era-de-la-inteligencia-artificial-y-el-deep-learning?redirect=%2Festudios%2Fextension%2Fcursos2c)>"
      ]
    },
    {
      "cell_type": "markdown",
      "metadata": {
        "id": "IVdarsyjKCNt"
      },
      "source": [
        "# Summary\n",
        "\n",
        "In this notebook, we are going to see how to draw several figures: lines, circles, rectangles, polygonal curves, among others. More specifically we will see the following functions: `cv2.line()`, `cv2.rectangle()`, `cv2.circle()`, `cv2.clipLine()`, `cv2.arrowedLine()`, `cv2.polylines()`, `cv2.fillPoly()`."
      ]
    },
    {
      "cell_type": "markdown",
      "metadata": {
        "id": "g-M_XeDRKfWm"
      },
      "source": [
        "# Basic drawing: lines, rectangles and circles\n",
        "\n"
      ]
    },
    {
      "cell_type": "markdown",
      "metadata": {
        "id": "dIhr248Jm2kx"
      },
      "source": [
        "## Introduction to basic drawing with OpenCV\n",
        "\n",
        "Drawing functions in OpenCV usually have the following parameters in common:\n",
        "\n",
        "*   **img**: image on which you want to draw, it is always the first one we indicate.\n",
        "*   **color**: color the figure should be painted in.\n",
        "*   **thickness**: thickness of the outline of the figure, `-1` fills the figure, the default value is `1`.\n",
        "*   **lineType**: define the line type, by default it is `cv2.LINE_8`, the option `cv2.LINE_AA` uses anti-aliased so the result will be better, you can also use `cv2.LINE_4`.\n",
        "\n",
        "In this section we will see some basic drawing, including lines, rectangles and circles. We first define a function, which creates the canvas to draw: `400x400` pixels, `3` channels, `uint8` (8-bit unsigned integers). We set the background to black using `np.zeros()`:"
      ]
    },
    {
      "cell_type": "code",
      "metadata": {
        "id": "L3-U1C1uJ4Bf"
      },
      "source": [
        "import numpy as np\n",
        "\n",
        "def create_canvas():\n",
        "  canvas = np.zeros((400, 400, 3), dtype=\"uint8\")\n",
        "  return canvas"
      ],
      "execution_count": 1,
      "outputs": []
    },
    {
      "cell_type": "markdown",
      "metadata": {
        "id": "UQNezpUEKwlZ"
      },
      "source": [
        "We are going to see how `cv2.line()`, `cv2.rectangle()`, and `cv2.circle()` works. We are going to draw:\n",
        "\n",
        "*   A red line starting at `(0,0)` and ending at `(400,400)` with a thickness of `3` pixels.\n",
        "*   A magenta rectangle with a top left point at `(10, 50)` and a bottom right point at `(50, 380)` with a thickness of `3` pixels\n",
        "*   A filled blue rectangle with a top left point at `(100, 300)` and a bottom right point `(150, 350)` with a thickness of `3` pixels\n",
        "*   A cyan circle centered at `(150, 350)` with a radius of `50` pixels\n",
        "\n",
        "\n"
      ]
    },
    {
      "cell_type": "code",
      "metadata": {
        "colab": {
          "base_uri": "https://localhost:8080/",
          "height": 286
        },
        "id": "bU6OEFdfK5C1",
        "outputId": "479c2a72-320e-4659-a97b-d21b6077a34a"
      },
      "source": [
        "import cv2\n",
        "from matplotlib import pyplot as plt\n",
        "\n",
        "image = create_canvas()\n",
        "cv2.line(image, (0, 0), (400, 400), (0, 0, 255), 3)\n",
        "cv2.rectangle(image, (10, 50), (50, 380), (255, 0, 255), 3)\n",
        "cv2.rectangle(image, (100, 300), (150, 350), (255, 0, 0), -1)\n",
        "cv2.circle(image, (200, 200), 50, (255, 255, 0), 3)\n",
        "\n",
        "plt.imshow(image[:, :, ::-1])"
      ],
      "execution_count": 2,
      "outputs": [
        {
          "output_type": "execute_result",
          "data": {
            "text/plain": [
              "<matplotlib.image.AxesImage at 0x7fe6ececa4d0>"
            ]
          },
          "metadata": {
            "tags": []
          },
          "execution_count": 2
        },
        {
          "output_type": "display_data",
          "data": {
            "image/png": "[encoded data removed]",
            "text/plain": [
              "<Figure size 432x288 with 1 Axes>"
            ]
          },
          "metadata": {
            "tags": [],
            "needs_background": "light"
          }
        }
      ]
    },
    {
      "cell_type": "markdown",
      "metadata": {
        "id": "Ii0M5UkdlNEo"
      },
      "source": [
        "## More basic drawing examples\n",
        "\n",
        "We are going to execute the script `basic_drawing.py` (from here: https://github.com/PacktPublishing/Mastering-OpenCV-4-with-Python/blob/master/Chapter04/01-chapter-content/basic_drawing.py). See \"**explore_and_execute_external_scripts_in_colab.ipynb**\" for more information about how to execute external scripts, where the function `download_and_execute_file()` was introduced."
      ]
    },
    {
      "cell_type": "code",
      "metadata": {
        "id": "IUCmZ7vMkR21"
      },
      "source": [
        "import requests\n",
        "\n",
        "# https://stackoverflow.com/questions/14409167/how-to-pass-a-variable-to-magic-%C2%B4run%C2%B4-function-in-ipython\n",
        "def download_and_execute_file(fname, url, params=\"\", execute=True, show_content=False):\n",
        "  # Download and write the file:\n",
        "  r = requests.get(url)\n",
        "  open(fname , 'wb').write(r.content)\n",
        "\n",
        "  # Show the content of the script if required:\n",
        "  if show_content:\n",
        "    print(\"\\n\")\n",
        "    with open(fname,'r') as testwritefile:\n",
        "      print(testwritefile.read())\n",
        "    print(\"\\n\")\n",
        "\n",
        "  # Execute the script if required:\n",
        "  if execute:    \n",
        "    execution = \"run \" + fname + \" \" + params\n",
        "    ipy = get_ipython()\n",
        "    ipy.magic(execution)"
      ],
      "execution_count": 3,
      "outputs": []
    },
    {
      "cell_type": "code",
      "metadata": {
        "colab": {
          "base_uri": "https://localhost:8080/",
          "height": 1000
        },
        "id": "tDPoGVBskbJL",
        "outputId": "54146bf5-6870-4e39-b246-b21c17ab6294"
      },
      "source": [
        "fname = \"basic_drawing.py\"\n",
        "url = \"https://raw.githubusercontent.com/PacktPublishing/Mastering-OpenCV-4-with-Python/master/Chapter04/01-chapter-content/basic_drawing.py\"\n",
        "download_and_execute_file(fname, url, params= \"\", execute=True, show_content=True)"
      ],
      "execution_count": 4,
      "outputs": [
        {
          "output_type": "stream",
          "text": [
            "\n",
            "\n",
            "\"\"\"\n",
            "Example to show how to draw basic shapes using OpenCV\n",
            "\"\"\"\n",
            "\n",
            "# Import required packages:\n",
            "import cv2\n",
            "import numpy as np\n",
            "import matplotlib.pyplot as plt\n",
            "\n",
            "\n",
            "def show_with_matplotlib(img, title):\n",
            "    \"\"\"Shows an image using matplotlib capabilities\"\"\"\n",
            "\n",
            "    # Convert BGR image to RGB:\n",
            "    img_RGB = img[:, :, ::-1]\n",
            "\n",
            "    # Show the image using matplotlib:\n",
            "    plt.imshow(img_RGB)\n",
            "    plt.title(title)\n",
            "    plt.show()\n",
            "\n",
            "\n",
            "# Dictionary containing some colors:\n",
            "colors = {'blue': (255, 0, 0), 'green': (0, 255, 0), 'red': (0, 0, 255), 'yellow': (0, 255, 255),\n",
            "          'magenta': (255, 0, 255), 'cyan': (255, 255, 0), 'white': (255, 255, 255), 'black': (0, 0, 0),\n",
            "          'gray': (125, 125, 125), 'rand': np.random.randint(0, high=256, size=(3,)).tolist(),\n",
            "          'dark_gray': (50, 50, 50), 'light_gray': (220, 220, 220)}\n",
            "\n",
            "# We create the canvas to draw: 400 x 400 pixels, 3 channels, uint8 (8-bit unsigned integers)\n",
            "# We set the background to black using np.zeros():\n",
            "image = np.zeros((400, 400, 3), dtype=\"uint8\")\n",
            "\n",
            "# If you want another background color you can do the following:\n",
            "image[:] = colors['light_gray']\n",
            "\n",
            "# Show image:\n",
            "show_with_matplotlib(image, '')\n",
            "\n",
            "# 1. We are going to see how cv2.line() works:\n",
            "cv2.line(image, (0, 0), (400, 400), colors['green'], 3)\n",
            "cv2.line(image, (0, 400), (400, 0), colors['blue'], 3)\n",
            "cv2.line(image, (200, 0), (200, 400), colors['red'], 10)\n",
            "cv2.line(image, (0, 200), (400, 200), colors['yellow'], 10)\n",
            "\n",
            "# Show image:\n",
            "show_with_matplotlib(image, 'cv2.line()')\n",
            "\n",
            "# Clean the canvas to draw again:\n",
            "image[:] = colors['light_gray']\n",
            "\n",
            "# 2. We are going to see how cv2.rectangle() works:\n",
            "cv2.rectangle(image, (10, 50), (60, 300), colors['green'], 3)\n",
            "cv2.rectangle(image, (80, 50), (130, 300), colors['blue'], -1)\n",
            "cv2.rectangle(image, (150, 50), (350, 100), colors['red'], -1)\n",
            "cv2.rectangle(image, (150, 150), (350, 300), colors['cyan'], 10)\n",
            "\n",
            "# Show image:\n",
            "show_with_matplotlib(image, 'cv2.rectangle()')\n",
            "\n",
            "# Clean the canvas to draw again:\n",
            "image[:] = colors['light_gray']\n",
            "\n",
            "# 3. We are going to see how cv2.circle() works:\n",
            "cv2.circle(image, (50, 50), 20, colors['green'], 3)\n",
            "cv2.circle(image, (100, 100), 30, colors['blue'], -1)\n",
            "cv2.circle(image, (200, 200), 40, colors['magenta'], 10)\n",
            "cv2.circle(image, (300, 300), 40, colors['cyan'], -1)\n",
            "\n",
            "# Show image:\n",
            "show_with_matplotlib(image, 'cv2.circle()')\n",
            "\n",
            "\n",
            "\n"
          ],
          "name": "stdout"
        },
        {
          "output_type": "display_data",
          "data": {
            "image/png": "[encoded data removed]",
            "text/plain": [
              "<Figure size 432x288 with 1 Axes>"
            ]
          },
          "metadata": {
            "tags": [],
            "needs_background": "light"
          }
        },
        {
          "output_type": "display_data",
          "data": {
            "image/png": "[encoded data removed]",
            "text/plain": [
              "<Figure size 432x288 with 1 Axes>"
            ]
          },
          "metadata": {
            "tags": [],
            "needs_background": "light"
          }
        },
        {
          "output_type": "display_data",
          "data": {
            "image/png": "[encoded data removed]",
            "text/plain": [
              "<Figure size 432x288 with 1 Axes>"
            ]
          },
          "metadata": {
            "tags": [],
            "needs_background": "light"
          }
        },
        {
          "output_type": "display_data",
          "data": {
            "image/png": "[encoded data removed]",
            "text/plain": [
              "<Figure size 432x288 with 1 Axes>"
            ]
          },
          "metadata": {
            "tags": [],
            "needs_background": "light"
          }
        },
        {
          "output_type": "display_data",
          "data": {
            "text/plain": [
              "<Figure size 432x288 with 0 Axes>"
            ]
          },
          "metadata": {
            "tags": []
          }
        }
      ]
    },
    {
      "cell_type": "markdown",
      "metadata": {
        "id": "VanxWPjVmy89"
      },
      "source": [
        "# Basic drawing: clip lines, arrowed lines, ..."
      ]
    },
    {
      "cell_type": "markdown",
      "metadata": {
        "id": "kDRYKZ0poh6A"
      },
      "source": [
        "The signature for the `cv2.clipLine()` function is as follows:\n",
        "```\n",
        "retval, pt1, pt2 = clipLine(imgRect, pt1, pt2)\n",
        "```\n",
        "The `cv2.clipLine()` function returns the segment (defined by the `pt1` and `pt2` output points) inside the rectangle (the function clips the segment against the defined rectangle). In this sense, `retval` is `False`, if the two original `pt1` and `pt2` points are both outside the rectangle. Otherwise (some of the two `pt1` or `pt2` points are inside the rectangle) this function returns `True`."
      ]
    },
    {
      "cell_type": "code",
      "metadata": {
        "colab": {
          "base_uri": "https://localhost:8080/",
          "height": 286
        },
        "id": "D1J27w8enMkJ",
        "outputId": "1a87e8dc-95ee-410d-ba73-d3e966754996"
      },
      "source": [
        "import cv2\n",
        "from matplotlib import pyplot as plt\n",
        "\n",
        "image = create_canvas()\n",
        "\n",
        "# Draw a rectangle and a line:\n",
        "cv2.line(image, (0, 0), (400, 400), (0,0,255), 3)\n",
        "cv2.rectangle(image, (150, 100), (300, 300), (255,0,0), 3)\n",
        "\n",
        "# Rectangle is (x0, y0, width, height) in OpenCV:\n",
        "rect = (150, 100, 150, 200)\n",
        "\n",
        "# We call the function cv2.clipLine():\n",
        "ret, p1, p2 = cv2.clipLine(rect, (0, 0), (400, 400))\n",
        "\n",
        "# cv2.clipLine() returns False if the line is outside the rectangle; returns True otherwise\n",
        "if ret:\n",
        "    cv2.line(image, p1, p2, colors['yellow'], 3)\n",
        "\n",
        "plt.imshow(image[:, :, ::-1])"
      ],
      "execution_count": null,
      "outputs": [
        {
          "output_type": "execute_result",
          "data": {
            "text/plain": [
              "<matplotlib.image.AxesImage at 0x7ff29e33ce50>"
            ]
          },
          "metadata": {
            "tags": []
          },
          "execution_count": 59
        },
        {
          "output_type": "display_data",
          "data": {
            "image/png": "[encoded data removed]",
            "text/plain": [
              "<Figure size 432x288 with 1 Axes>"
            ]
          },
          "metadata": {
            "tags": [],
            "needs_background": "light"
          }
        }
      ]
    },
    {
      "cell_type": "markdown",
      "metadata": {
        "id": "GRFKudFQ8dJF"
      },
      "source": [
        "`cv2.arrowedLine()` method is used to draw arrow segment pointing from the start point to the end point. The signature of this function is:\n",
        "```\n",
        "cv.arrowedLine(img, pt1, pt2, color[, thickness[, line_type[, shift[, tipLength]]]])\n",
        "```\n",
        "We can change length of the arrow tip in relation with the arrow length with the parameter `tipLength`."
      ]
    },
    {
      "cell_type": "code",
      "metadata": {
        "colab": {
          "base_uri": "https://localhost:8080/",
          "height": 286
        },
        "id": "QWbseQK36gL2",
        "outputId": "7c2f739c-b7aa-46bb-d56c-32125b9feecd"
      },
      "source": [
        "import cv2\n",
        "from matplotlib import pyplot as plt\n",
        "\n",
        "image = create_canvas()\n",
        "\n",
        "cv2.arrowedLine(image, (50, 50),  (200, 50),  (0, 255, 0) , 3)\n",
        "cv2.arrowedLine(image, (50, 200), (200, 200), (0, 0, 255) , 3, cv2.LINE_AA, 0, 0.5)\n",
        "cv2.arrowedLine(image, (50, 350), (200, 350), (255, 0, 0) , 3, cv2.LINE_AA, 0, 0.3)\n",
        "\n",
        "plt.imshow(image[:, :, ::-1])"
      ],
      "execution_count": null,
      "outputs": [
        {
          "output_type": "execute_result",
          "data": {
            "text/plain": [
              "<matplotlib.image.AxesImage at 0x7ff29df9f910>"
            ]
          },
          "metadata": {
            "tags": []
          },
          "execution_count": 69
        },
        {
          "output_type": "display_data",
          "data": {
            "image/png": "[encoded data removed]",
            "text/plain": [
              "<Figure size 432x288 with 1 Axes>"
            ]
          },
          "metadata": {
            "tags": [],
            "needs_background": "light"
          }
        }
      ]
    },
    {
      "cell_type": "markdown",
      "metadata": {
        "id": "rUYsAWA-CwRx"
      },
      "source": [
        "We can draw several polygonal curves using `cv2.polylines()`. We must create a set of points that define the figure; these points will be joined using lines, so we can create complex figures. \n",
        "The signature of this function is:\n",
        "```\n",
        "cv2.polylines(img, pts, isClosed, color[, thickness[, lineType[, shift]]])\n",
        "```\n",
        "`isClosed` flag indicates whether the drawn polylines are closed or not. If they are closed, the function draws a line from the last vertex of each curve to its first vertex. `pts` is the array of points to be drawn."
      ]
    },
    {
      "cell_type": "code",
      "metadata": {
        "colab": {
          "base_uri": "https://localhost:8080/",
          "height": 286
        },
        "id": "S85l4wDHEJDT",
        "outputId": "830a2040-7de2-4a83-f23d-7d32a5d28096"
      },
      "source": [
        "import cv2\n",
        "from matplotlib import pyplot as plt\n",
        "\n",
        "image = create_canvas()\n",
        "\n",
        "pts = np.array([[20, 90], [60, 60], [100, 90], [80, 130], [40, 130]], np.int32)\n",
        "pts2 = np.array([[20, 180], [60, 150], [100, 180], [80, 220], [40, 220]], np.int32)\n",
        "pts3 = np.array([[150, 100], [200, 100], [200, 150], [150, 150]], np.int32)\n",
        "pts4 = np.array([[250, 5], [220, 80], [280, 80]], np.int32)\n",
        "\n",
        "cv2.polylines(image, [pts, pts2, pts3, pts4], True, (255,0,0), 3)\n",
        "\n",
        "plt.imshow(image[:, :, ::-1])"
      ],
      "execution_count": null,
      "outputs": [
        {
          "output_type": "execute_result",
          "data": {
            "text/plain": [
              "<matplotlib.image.AxesImage at 0x7ff29da328d0>"
            ]
          },
          "metadata": {
            "tags": []
          },
          "execution_count": 82
        },
        {
          "output_type": "display_data",
          "data": {
            "image/png": "[encoded data removed]",
            "text/plain": [
              "<Figure size 432x288 with 1 Axes>"
            ]
          },
          "metadata": {
            "tags": [],
            "needs_background": "light"
          }
        }
      ]
    },
    {
      "cell_type": "markdown",
      "metadata": {
        "id": "yeEAXfGnF_EN"
      },
      "source": [
        "If we want to draw a filled  figure we must use `cv2.fillPoly().` This function is similarly used as the previous one with the difference that the inside of the figure is filled."
      ]
    },
    {
      "cell_type": "code",
      "metadata": {
        "colab": {
          "base_uri": "https://localhost:8080/",
          "height": 286
        },
        "id": "jKX6xpkrGSri",
        "outputId": "e317dbfb-3551-4f6e-eb30-a4de2976a7bb"
      },
      "source": [
        "import cv2\n",
        "from matplotlib import pyplot as plt\n",
        "\n",
        "image = create_canvas()\n",
        "\n",
        "pts = np.array([[20, 90], [60, 60], [100, 90], [80, 130], [40, 130]], np.int32)\n",
        "pts2 = np.array([[20, 180], [60, 150], [100, 180], [80, 220], [40, 220]], np.int32)\n",
        "pts3 = np.array([[150, 100], [200, 100], [200, 150], [150, 150]], np.int32)\n",
        "pts4 = np.array([[250, 5], [220, 80], [280, 80]], np.int32)\n",
        "\n",
        "cv2.fillPoly(image, [pts, pts2, pts3, pts4], (255,0,0), cv2.LINE_AA)\n",
        "\n",
        "plt.imshow(image[:, :, ::-1])"
      ],
      "execution_count": null,
      "outputs": [
        {
          "output_type": "execute_result",
          "data": {
            "text/plain": [
              "<matplotlib.image.AxesImage at 0x7ff29da22e90>"
            ]
          },
          "metadata": {
            "tags": []
          },
          "execution_count": 84
        },
        {
          "output_type": "display_data",
          "data": {
            "image/png": "[encoded data removed]",
            "text/plain": [
              "<Figure size 432x288 with 1 Axes>"
            ]
          },
          "metadata": {
            "tags": [],
            "needs_background": "light"
          }
        }
      ]
    },
    {
      "cell_type": "markdown",
      "metadata": {
        "id": "eP4zZmlPIqeZ"
      },
      "source": [
        "## More examples involving clip lines, arrowed lines, polylines, ...\n",
        "\n",
        "We are going to execute the script `basic_drawing_2.py` (from here: https://github.com/PacktPublishing/Mastering-OpenCV-4-with-Python/blob/master/Chapter04/01-chapter-content/basic_drawing_2.py). See \"**explore_and_execute_external_scripts_in_colab.ipynb**\" for more information about how to execute external scripts and where the function `download_and_execute_file()` was introduced."
      ]
    },
    {
      "cell_type": "code",
      "metadata": {
        "colab": {
          "base_uri": "https://localhost:8080/",
          "height": 1000
        },
        "id": "KREZrNpbJDne",
        "outputId": "b6ae357c-b7fd-4ff4-a24e-e3d7ce2bd486"
      },
      "source": [
        "fname = \"basic_drawing_2.py\"\n",
        "url = \"https://raw.githubusercontent.com/PacktPublishing/Mastering-OpenCV-4-with-Python/master/Chapter04/01-chapter-content/basic_drawing_2.py\"\n",
        "download_and_execute_file(fname, url, params= \"\", execute=True, show_content=True)"
      ],
      "execution_count": null,
      "outputs": [
        {
          "output_type": "stream",
          "text": [
            "\n",
            "\n",
            "\"\"\"\n",
            "Example to show how to draw basic shapes using OpenCV (2)\n",
            "\"\"\"\n",
            "\n",
            "# Import required packages:\n",
            "import cv2\n",
            "import numpy as np\n",
            "import matplotlib.pyplot as plt\n",
            "\n",
            "\n",
            "def show_with_matplotlib(img, title):\n",
            "    \"\"\"Shows an image using matplotlib capabilities\"\"\"\n",
            "\n",
            "    # Convert BGR image to RGB:\n",
            "    img_RGB = img[:, :, ::-1]\n",
            "\n",
            "    # Show the image using matplotlib:\n",
            "    plt.imshow(img_RGB)\n",
            "    plt.title(title)\n",
            "    plt.show()\n",
            "\n",
            "\n",
            "# Dictionary containing some colors:\n",
            "colors = {'blue': (255, 0, 0), 'green': (0, 255, 0), 'red': (0, 0, 255), 'yellow': (0, 255, 255),\n",
            "          'magenta': (255, 0, 255), 'cyan': (255, 255, 0), 'white': (255, 255, 255), 'black': (0, 0, 0),\n",
            "          'gray': (125, 125, 125), 'rand': np.random.randint(0, high=256, size=(3,)).tolist(),\n",
            "          'dark_gray': (50, 50, 50), 'light_gray': (220, 220, 220)}\n",
            "\n",
            "# We create the canvas to draw: 300 x 300 pixels, 3 channels, uint8 (8-bit unsigned integers)\n",
            "# We set background to black using np.zeros():\n",
            "image = np.zeros((300, 300, 3), dtype=\"uint8\")\n",
            "\n",
            "# If you want another background color you can do the following:\n",
            "image[:] = colors['light_gray']\n",
            "\n",
            "# 1. We are going to see how cv2.clipLine() works\n",
            "# Draw a rectangle and a line:\n",
            "cv2.line(image, (0, 0), (300, 300), colors['green'], 3)\n",
            "cv2.rectangle(image, (0, 0), (100, 100), colors['blue'], 3)\n",
            "\n",
            "# We call the function cv2.clipLine():\n",
            "ret, p1, p2 = cv2.clipLine((0, 0, 100, 100), (0, 0), (300, 300))\n",
            "\n",
            "# cv2.clipLine() returns False if the line is outside the rectangle\n",
            "# And returns True otherwise\n",
            "if ret:\n",
            "    cv2.line(image, p1, p2, colors['yellow'], 3)\n",
            "\n",
            "# Show image:\n",
            "show_with_matplotlib(image, 'cv2.clipLine()')\n",
            "\n",
            "# Clean the canvas to draw again:\n",
            "image[:] = colors['light_gray']\n",
            "\n",
            "# 2. We are going to see how cv2.arrowedLine() works:\n",
            "cv2.arrowedLine(image, (50, 50), (200, 50), colors['red'], 3, 8, 0, 0.1)\n",
            "cv2.arrowedLine(image, (50, 120), (200, 120), colors['green'], 3, cv2.LINE_AA, 0, 0.3)\n",
            "cv2.arrowedLine(image, (50, 200), (200, 200), colors['blue'], 3, 8, 0, 0.3)\n",
            "\n",
            "# Show image:\n",
            "show_with_matplotlib(image, 'cv2.arrowedLine()')\n",
            "\n",
            "# Clean the canvas to draw again:\n",
            "image[:] = colors['light_gray']\n",
            "\n",
            "# 3. We are going to see how cv2.ellipse() works:\n",
            "cv2.ellipse(image, (80, 80), (60, 40), 0, 0, 360, colors['red'], -1)\n",
            "cv2.ellipse(image, (80, 200), (80, 40), 0, 0, 360, colors['green'], 3)\n",
            "cv2.ellipse(image, (80, 200), (10, 40), 0, 0, 360, colors['blue'], 3)\n",
            "cv2.ellipse(image, (200, 200), (10, 40), 0, 0, 180, colors['yellow'], 3)\n",
            "cv2.ellipse(image, (200, 100), (10, 40), 0, 0, 270, colors['cyan'], 3)\n",
            "cv2.ellipse(image, (250, 250), (30, 30), 0, 0, 360, colors['magenta'], 3)\n",
            "cv2.ellipse(image, (250, 100), (20, 40), 45, 0, 360, colors['gray'], 3)\n",
            "\n",
            "# Show image:\n",
            "show_with_matplotlib(image, 'cv2.ellipse()')\n",
            "\n",
            "# Clean the canvas to draw again:\n",
            "image[:] = colors['light_gray']\n",
            "\n",
            "# 4. We are going to draw several polylines\n",
            "# These points define a triangle:\n",
            "pts = np.array([[250, 5], [220, 80], [280, 80]], np.int32)\n",
            "# Reshape to shape (number_vertex, 1, 2)\n",
            "pts = pts.reshape((-1, 1, 2))\n",
            "# Print the shapes: this line is not necessary, only for visualization:\n",
            "print(\"shape of pts '{}'\".format(pts.shape))\n",
            "# Draw this polygon with True option:\n",
            "cv2.polylines(image, [pts], True, colors['green'], 3)\n",
            "\n",
            "# These points define a triangle:\n",
            "pts = np.array([[250, 105], [220, 180], [280, 180]], np.int32)\n",
            "# Reshape to shape (number_vertex, 1, 2)\n",
            "pts = pts.reshape((-1, 1, 2))\n",
            "# Print the shapes:\n",
            "print(\"shape of pts '{}'\".format(pts.shape))\n",
            "# Draw this polygon with False option:\n",
            "cv2.polylines(image, [pts], False, colors['green'], 3)\n",
            "\n",
            "# These points define a pentagon:\n",
            "pts = np.array([[20, 90], [60, 60], [100, 90], [80, 130], [40, 130]], np.int32)\n",
            "# Reshape to shape (number_vertex, 1, 2)\n",
            "pts = pts.reshape((-1, 1, 2))\n",
            "# Print the shapes:\n",
            "print(\"shape of pts '{}'\".format(pts.shape))\n",
            "# Draw this polygon with True option:\n",
            "cv2.polylines(image, [pts], True, colors['blue'], 3)\n",
            "\n",
            "# These points define a pentagon:\n",
            "pts = np.array([[20, 180], [60, 150], [100, 180], [80, 220], [40, 220]], np.int32)\n",
            "# Reshape to shape (number_vertex, 1, 2)\n",
            "pts = pts.reshape((-1, 1, 2))\n",
            "# Print the shapes:\n",
            "print(\"shape of pts '{}'\".format(pts.shape))\n",
            "# Draw this polygon with False option:\n",
            "cv2.polylines(image, [pts], False, colors['blue'], 3)\n",
            "\n",
            "# These points define a rectangle:\n",
            "pts = np.array([[150, 100], [200, 100], [200, 150], [150, 150]], np.int32)\n",
            "# Reshape to shape (number_vertex, 1, 2)\n",
            "pts = pts.reshape((-1, 1, 2))\n",
            "# Print the shapes:\n",
            "print(\"shape of pts '{}'\".format(pts.shape))\n",
            "# Draw this polygon with False option:\n",
            "cv2.polylines(image, [pts], True, colors['yellow'], 3)\n",
            "\n",
            "# These points define a rectangle:\n",
            "pts = np.array([[150, 200], [200, 200], [200, 250], [150, 250]], np.int32)\n",
            "# Reshape to shape (number_vertex, 1, 2)\n",
            "pts = pts.reshape((-1, 1, 2))\n",
            "# Print the shapes:\n",
            "print(\"shape of pts '{}'\".format(pts.shape))\n",
            "# Draw this polygon with False option:\n",
            "cv2.polylines(image, [pts], False, colors['yellow'], 3)\n",
            "\n",
            "# Show image:\n",
            "show_with_matplotlib(image, 'cv2.polylines()')\n",
            "\n",
            "\n",
            "\n"
          ],
          "name": "stdout"
        },
        {
          "output_type": "display_data",
          "data": {
            "image/png": "[encoded data removed]",
            "text/plain": [
              "<Figure size 432x288 with 1 Axes>"
            ]
          },
          "metadata": {
            "tags": [],
            "needs_background": "light"
          }
        },
        {
          "output_type": "display_data",
          "data": {
            "image/png": "[encoded data removed]",
            "text/plain": [
              "<Figure size 432x288 with 1 Axes>"
            ]
          },
          "metadata": {
            "tags": [],
            "needs_background": "light"
          }
        },
        {
          "output_type": "display_data",
          "data": {
            "image/png": "[encoded data removed]",
            "text/plain": [
              "<Figure size 432x288 with 1 Axes>"
            ]
          },
          "metadata": {
            "tags": [],
            "needs_background": "light"
          }
        },
        {
          "output_type": "stream",
          "text": [
            "shape of pts '(3, 1, 2)'\n",
            "shape of pts '(3, 1, 2)'\n",
            "shape of pts '(5, 1, 2)'\n",
            "shape of pts '(5, 1, 2)'\n",
            "shape of pts '(4, 1, 2)'\n",
            "shape of pts '(4, 1, 2)'\n"
          ],
          "name": "stdout"
        },
        {
          "output_type": "display_data",
          "data": {
            "image/png": "[encoded data removed]",
            "text/plain": [
              "<Figure size 432x288 with 1 Axes>"
            ]
          },
          "metadata": {
            "tags": [],
            "needs_background": "light"
          }
        },
        {
          "output_type": "display_data",
          "data": {
            "text/plain": [
              "<Figure size 432x288 with 0 Axes>"
            ]
          },
          "metadata": {
            "tags": []
          }
        }
      ]
    },
    {
      "cell_type": "markdown",
      "metadata": {
        "id": "9qEEBxg2J617"
      },
      "source": [
        "# Conclusions\n",
        "\n",
        "In this notebook, we have seen how to draw basic figures. In summary, we have seen the following functions:\n",
        "\n",
        "*   `cv2.line()`\n",
        "*   `cv2.rectangle()`\n",
        "*   `cv2.circle()`\n",
        "*   `cv2.clipLine()`\n",
        "*   `cv2.arrowedLine()`\n",
        "*   `cv2.polylines()`\n",
        "*   `cv2.fillPoly()`\n",
        "\n"
      ]
    }
  ]
}