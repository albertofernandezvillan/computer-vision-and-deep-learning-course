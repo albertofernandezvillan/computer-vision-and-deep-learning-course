{
  "nbformat": 4,
  "nbformat_minor": 0,
  "metadata": {
    "colab": {
      "name": "4_transfer.ipynb",
      "provenance": [],
      "collapsed_sections": [],
      "toc_visible": true,
      "authorship_tag": "ABX9TyNTK8/Ulca+61CN8VmL9aDf",
      "include_colab_link": true
    },
    "kernelspec": {
      "name": "python3",
      "display_name": "Python 3"
    },
    "language_info": {
      "name": "python"
    },
    "accelerator": "GPU",
    "widgets": {
      "application/vnd.jupyter.widget-state+json": {
        "f68696535f20404ebacb57dea0814b46": {
          "model_module": "@jupyter-widgets/controls",
          "model_name": "HBoxModel",
          "state": {
            "_view_name": "HBoxView",
            "_dom_classes": [],
            "_model_name": "HBoxModel",
            "_view_module": "@jupyter-widgets/controls",
            "_model_module_version": "1.5.0",
            "_view_count": null,
            "_view_module_version": "1.5.0",
            "box_style": "",
            "layout": "IPY_MODEL_1d7e5ffd7b534736ac3258335651554c",
            "_model_module": "@jupyter-widgets/controls",
            "children": [
              "IPY_MODEL_42454eee55234c1f814432222637a2b7",
              "IPY_MODEL_3d19932dbc9d4a6f831eb3abf2910994"
            ]
          }
        },
        "1d7e5ffd7b534736ac3258335651554c": {
          "model_module": "@jupyter-widgets/base",
          "model_name": "LayoutModel",
          "state": {
            "_view_name": "LayoutView",
            "grid_template_rows": null,
            "right": null,
            "justify_content": null,
            "_view_module": "@jupyter-widgets/base",
            "overflow": null,
            "_model_module_version": "1.2.0",
            "_view_count": null,
            "flex_flow": null,
            "width": null,
            "min_width": null,
            "border": null,
            "align_items": null,
            "bottom": null,
            "_model_module": "@jupyter-widgets/base",
            "top": null,
            "grid_column": null,
            "overflow_y": null,
            "overflow_x": null,
            "grid_auto_flow": null,
            "grid_area": null,
            "grid_template_columns": null,
            "flex": null,
            "_model_name": "LayoutModel",
            "justify_items": null,
            "grid_row": null,
            "max_height": null,
            "align_content": null,
            "visibility": null,
            "align_self": null,
            "height": null,
            "min_height": null,
            "padding": null,
            "grid_auto_rows": null,
            "grid_gap": null,
            "max_width": null,
            "order": null,
            "_view_module_version": "1.2.0",
            "grid_template_areas": null,
            "object_position": null,
            "object_fit": null,
            "grid_auto_columns": null,
            "margin": null,
            "display": null,
            "left": null
          }
        },
        "42454eee55234c1f814432222637a2b7": {
          "model_module": "@jupyter-widgets/controls",
          "model_name": "FloatProgressModel",
          "state": {
            "_view_name": "ProgressView",
            "style": "IPY_MODEL_4bfaec3586a349a1870b9400a2c40860",
            "_dom_classes": [],
            "description": "",
            "_model_name": "FloatProgressModel",
            "bar_style": "success",
            "max": 170498071,
            "_view_module": "@jupyter-widgets/controls",
            "_model_module_version": "1.5.0",
            "value": 170498071,
            "_view_count": null,
            "_view_module_version": "1.5.0",
            "orientation": "horizontal",
            "min": 0,
            "description_tooltip": null,
            "_model_module": "@jupyter-widgets/controls",
            "layout": "IPY_MODEL_de9c818dcd5242c48f01b6d240b29db3"
          }
        },
        "3d19932dbc9d4a6f831eb3abf2910994": {
          "model_module": "@jupyter-widgets/controls",
          "model_name": "HTMLModel",
          "state": {
            "_view_name": "HTMLView",
            "style": "IPY_MODEL_143aa3a4a6d94cdfa98cc6113244badb",
            "_dom_classes": [],
            "description": "",
            "_model_name": "HTMLModel",
            "placeholder": "​",
            "_view_module": "@jupyter-widgets/controls",
            "_model_module_version": "1.5.0",
            "value": " 170499072/? [00:01&lt;00:00, 91449242.80it/s]",
            "_view_count": null,
            "_view_module_version": "1.5.0",
            "description_tooltip": null,
            "_model_module": "@jupyter-widgets/controls",
            "layout": "IPY_MODEL_f3df92d0847245cdac3108f655fc9242"
          }
        },
        "4bfaec3586a349a1870b9400a2c40860": {
          "model_module": "@jupyter-widgets/controls",
          "model_name": "ProgressStyleModel",
          "state": {
            "_view_name": "StyleView",
            "_model_name": "ProgressStyleModel",
            "description_width": "initial",
            "_view_module": "@jupyter-widgets/base",
            "_model_module_version": "1.5.0",
            "_view_count": null,
            "_view_module_version": "1.2.0",
            "bar_color": null,
            "_model_module": "@jupyter-widgets/controls"
          }
        },
        "de9c818dcd5242c48f01b6d240b29db3": {
          "model_module": "@jupyter-widgets/base",
          "model_name": "LayoutModel",
          "state": {
            "_view_name": "LayoutView",
            "grid_template_rows": null,
            "right": null,
            "justify_content": null,
            "_view_module": "@jupyter-widgets/base",
            "overflow": null,
            "_model_module_version": "1.2.0",
            "_view_count": null,
            "flex_flow": null,
            "width": null,
            "min_width": null,
            "border": null,
            "align_items": null,
            "bottom": null,
            "_model_module": "@jupyter-widgets/base",
            "top": null,
            "grid_column": null,
            "overflow_y": null,
            "overflow_x": null,
            "grid_auto_flow": null,
            "grid_area": null,
            "grid_template_columns": null,
            "flex": null,
            "_model_name": "LayoutModel",
            "justify_items": null,
            "grid_row": null,
            "max_height": null,
            "align_content": null,
            "visibility": null,
            "align_self": null,
            "height": null,
            "min_height": null,
            "padding": null,
            "grid_auto_rows": null,
            "grid_gap": null,
            "max_width": null,
            "order": null,
            "_view_module_version": "1.2.0",
            "grid_template_areas": null,
            "object_position": null,
            "object_fit": null,
            "grid_auto_columns": null,
            "margin": null,
            "display": null,
            "left": null
          }
        },
        "143aa3a4a6d94cdfa98cc6113244badb": {
          "model_module": "@jupyter-widgets/controls",
          "model_name": "DescriptionStyleModel",
          "state": {
            "_view_name": "StyleView",
            "_model_name": "DescriptionStyleModel",
            "description_width": "",
            "_view_module": "@jupyter-widgets/base",
            "_model_module_version": "1.5.0",
            "_view_count": null,
            "_view_module_version": "1.2.0",
            "_model_module": "@jupyter-widgets/controls"
          }
        },
        "f3df92d0847245cdac3108f655fc9242": {
          "model_module": "@jupyter-widgets/base",
          "model_name": "LayoutModel",
          "state": {
            "_view_name": "LayoutView",
            "grid_template_rows": null,
            "right": null,
            "justify_content": null,
            "_view_module": "@jupyter-widgets/base",
            "overflow": null,
            "_model_module_version": "1.2.0",
            "_view_count": null,
            "flex_flow": null,
            "width": null,
            "min_width": null,
            "border": null,
            "align_items": null,
            "bottom": null,
            "_model_module": "@jupyter-widgets/base",
            "top": null,
            "grid_column": null,
            "overflow_y": null,
            "overflow_x": null,
            "grid_auto_flow": null,
            "grid_area": null,
            "grid_template_columns": null,
            "flex": null,
            "_model_name": "LayoutModel",
            "justify_items": null,
            "grid_row": null,
            "max_height": null,
            "align_content": null,
            "visibility": null,
            "align_self": null,
            "height": null,
            "min_height": null,
            "padding": null,
            "grid_auto_rows": null,
            "grid_gap": null,
            "max_width": null,
            "order": null,
            "_view_module_version": "1.2.0",
            "grid_template_areas": null,
            "object_position": null,
            "object_fit": null,
            "grid_auto_columns": null,
            "margin": null,
            "display": null,
            "left": null
          }
        },
        "664717e63806462aa629d0dd3a7cda86": {
          "model_module": "@jupyter-widgets/controls",
          "model_name": "HBoxModel",
          "state": {
            "_view_name": "HBoxView",
            "_dom_classes": [],
            "_model_name": "HBoxModel",
            "_view_module": "@jupyter-widgets/controls",
            "_model_module_version": "1.5.0",
            "_view_count": null,
            "_view_module_version": "1.5.0",
            "box_style": "",
            "layout": "IPY_MODEL_431d8488d757496184051848d0743d95",
            "_model_module": "@jupyter-widgets/controls",
            "children": [
              "IPY_MODEL_c34c5bca4c8b4e66b9c528bda94ec5ef",
              "IPY_MODEL_e3d680e26de5416a870bfe99b48e81f2"
            ]
          }
        },
        "431d8488d757496184051848d0743d95": {
          "model_module": "@jupyter-widgets/base",
          "model_name": "LayoutModel",
          "state": {
            "_view_name": "LayoutView",
            "grid_template_rows": null,
            "right": null,
            "justify_content": null,
            "_view_module": "@jupyter-widgets/base",
            "overflow": null,
            "_model_module_version": "1.2.0",
            "_view_count": null,
            "flex_flow": null,
            "width": null,
            "min_width": null,
            "border": null,
            "align_items": null,
            "bottom": null,
            "_model_module": "@jupyter-widgets/base",
            "top": null,
            "grid_column": null,
            "overflow_y": null,
            "overflow_x": null,
            "grid_auto_flow": null,
            "grid_area": null,
            "grid_template_columns": null,
            "flex": null,
            "_model_name": "LayoutModel",
            "justify_items": null,
            "grid_row": null,
            "max_height": null,
            "align_content": null,
            "visibility": null,
            "align_self": null,
            "height": null,
            "min_height": null,
            "padding": null,
            "grid_auto_rows": null,
            "grid_gap": null,
            "max_width": null,
            "order": null,
            "_view_module_version": "1.2.0",
            "grid_template_areas": null,
            "object_position": null,
            "object_fit": null,
            "grid_auto_columns": null,
            "margin": null,
            "display": null,
            "left": null
          }
        },
        "c34c5bca4c8b4e66b9c528bda94ec5ef": {
          "model_module": "@jupyter-widgets/controls",
          "model_name": "FloatProgressModel",
          "state": {
            "_view_name": "ProgressView",
            "style": "IPY_MODEL_65469b89b3e64677a1411ae5bcfc10fc",
            "_dom_classes": [],
            "description": "100%",
            "_model_name": "FloatProgressModel",
            "bar_style": "success",
            "max": 244418560,
            "_view_module": "@jupyter-widgets/controls",
            "_model_module_version": "1.5.0",
            "value": 244418560,
            "_view_count": null,
            "_view_module_version": "1.5.0",
            "orientation": "horizontal",
            "min": 0,
            "description_tooltip": null,
            "_model_module": "@jupyter-widgets/controls",
            "layout": "IPY_MODEL_242e232a92e047658527d9564f2101f7"
          }
        },
        "e3d680e26de5416a870bfe99b48e81f2": {
          "model_module": "@jupyter-widgets/controls",
          "model_name": "HTMLModel",
          "state": {
            "_view_name": "HTMLView",
            "style": "IPY_MODEL_4beb81b0d5ca42d98e917391ed1965ef",
            "_dom_classes": [],
            "description": "",
            "_model_name": "HTMLModel",
            "placeholder": "​",
            "_view_module": "@jupyter-widgets/controls",
            "_model_module_version": "1.5.0",
            "value": " 233M/233M [00:01&lt;00:00, 223MB/s]",
            "_view_count": null,
            "_view_module_version": "1.5.0",
            "description_tooltip": null,
            "_model_module": "@jupyter-widgets/controls",
            "layout": "IPY_MODEL_0f52a7a1db274af9bcafe76932c86afc"
          }
        },
        "65469b89b3e64677a1411ae5bcfc10fc": {
          "model_module": "@jupyter-widgets/controls",
          "model_name": "ProgressStyleModel",
          "state": {
            "_view_name": "StyleView",
            "_model_name": "ProgressStyleModel",
            "description_width": "initial",
            "_view_module": "@jupyter-widgets/base",
            "_model_module_version": "1.5.0",
            "_view_count": null,
            "_view_module_version": "1.2.0",
            "bar_color": null,
            "_model_module": "@jupyter-widgets/controls"
          }
        },
        "242e232a92e047658527d9564f2101f7": {
          "model_module": "@jupyter-widgets/base",
          "model_name": "LayoutModel",
          "state": {
            "_view_name": "LayoutView",
            "grid_template_rows": null,
            "right": null,
            "justify_content": null,
            "_view_module": "@jupyter-widgets/base",
            "overflow": null,
            "_model_module_version": "1.2.0",
            "_view_count": null,
            "flex_flow": null,
            "width": null,
            "min_width": null,
            "border": null,
            "align_items": null,
            "bottom": null,
            "_model_module": "@jupyter-widgets/base",
            "top": null,
            "grid_column": null,
            "overflow_y": null,
            "overflow_x": null,
            "grid_auto_flow": null,
            "grid_area": null,
            "grid_template_columns": null,
            "flex": null,
            "_model_name": "LayoutModel",
            "justify_items": null,
            "grid_row": null,
            "max_height": null,
            "align_content": null,
            "visibility": null,
            "align_self": null,
            "height": null,
            "min_height": null,
            "padding": null,
            "grid_auto_rows": null,
            "grid_gap": null,
            "max_width": null,
            "order": null,
            "_view_module_version": "1.2.0",
            "grid_template_areas": null,
            "object_position": null,
            "object_fit": null,
            "grid_auto_columns": null,
            "margin": null,
            "display": null,
            "left": null
          }
        },
        "4beb81b0d5ca42d98e917391ed1965ef": {
          "model_module": "@jupyter-widgets/controls",
          "model_name": "DescriptionStyleModel",
          "state": {
            "_view_name": "StyleView",
            "_model_name": "DescriptionStyleModel",
            "description_width": "",
            "_view_module": "@jupyter-widgets/base",
            "_model_module_version": "1.5.0",
            "_view_count": null,
            "_view_module_version": "1.2.0",
            "_model_module": "@jupyter-widgets/controls"
          }
        },
        "0f52a7a1db274af9bcafe76932c86afc": {
          "model_module": "@jupyter-widgets/base",
          "model_name": "LayoutModel",
          "state": {
            "_view_name": "LayoutView",
            "grid_template_rows": null,
            "right": null,
            "justify_content": null,
            "_view_module": "@jupyter-widgets/base",
            "overflow": null,
            "_model_module_version": "1.2.0",
            "_view_count": null,
            "flex_flow": null,
            "width": null,
            "min_width": null,
            "border": null,
            "align_items": null,
            "bottom": null,
            "_model_module": "@jupyter-widgets/base",
            "top": null,
            "grid_column": null,
            "overflow_y": null,
            "overflow_x": null,
            "grid_auto_flow": null,
            "grid_area": null,
            "grid_template_columns": null,
            "flex": null,
            "_model_name": "LayoutModel",
            "justify_items": null,
            "grid_row": null,
            "max_height": null,
            "align_content": null,
            "visibility": null,
            "align_self": null,
            "height": null,
            "min_height": null,
            "padding": null,
            "grid_auto_rows": null,
            "grid_gap": null,
            "max_width": null,
            "order": null,
            "_view_module_version": "1.2.0",
            "grid_template_areas": null,
            "object_position": null,
            "object_fit": null,
            "grid_auto_columns": null,
            "margin": null,
            "display": null,
            "left": null
          }
        }
      }
    }
  },
  "cells": [
    {
      "cell_type": "markdown",
      "metadata": {
        "id": "view-in-github",
        "colab_type": "text"
      },
      "source": [
        "<a href=\"https://colab.research.google.com/github/rusamentiaga/pytorch-test/blob/main/4_transfer.ipynb\" target=\"_parent\"><img src=\"https://colab.research.google.com/assets/colab-badge.svg\" alt=\"Open In Colab\"/></a>"
      ]
    },
    {
      "cell_type": "markdown",
      "metadata": {
        "id": "ik1U4OS_xQDf"
      },
      "source": [
        "# Models and transfer learning"
      ]
    },
    {
      "cell_type": "markdown",
      "metadata": {
        "id": "TXb8_4I1xT3r"
      },
      "source": [
        "The advantage of machine learning is that models do not need to be created  from scratch, you can start from predesigned models that can be used to a similar problem. In addition, it is possible to start from pre-trained models, where only specific layers are trained to adapt them to a specific problem."
      ]
    },
    {
      "cell_type": "markdown",
      "metadata": {
        "id": "PlL4IwoYxyO2"
      },
      "source": [
        "# Dataset cifar-10"
      ]
    },
    {
      "cell_type": "markdown",
      "metadata": {
        "id": "GqglGS-Lx0aY"
      },
      "source": [
        "To demonstrate how transfer learning works, a dataset available in torchvision will be used: [Cifar-10](https://www.cs.toronto.edu/~kriz/cifar.html)."
      ]
    },
    {
      "cell_type": "markdown",
      "metadata": {
        "id": "siXlJnq7x_Ls"
      },
      "source": [
        "Packages are loaded."
      ]
    },
    {
      "cell_type": "code",
      "metadata": {
        "id": "4gJAEtYmgCsM"
      },
      "source": [
        "import torch\n",
        "import torchvision\n",
        "import torchvision.transforms as transforms"
      ],
      "execution_count": 1,
      "outputs": []
    },
    {
      "cell_type": "markdown",
      "metadata": {
        "id": "VX2AYYlbyB5l"
      },
      "source": [
        "The device is configured"
      ]
    },
    {
      "cell_type": "code",
      "metadata": {
        "colab": {
          "base_uri": "https://localhost:8080/"
        },
        "id": "o8jLcLAqgLWB",
        "outputId": "cef15cbb-b410-4a5a-9c85-9798430ae026"
      },
      "source": [
        "device = torch.device('cuda' if torch.cuda.is_available() else 'cpu')\n",
        "device"
      ],
      "execution_count": 2,
      "outputs": [
        {
          "output_type": "execute_result",
          "data": {
            "text/plain": [
              "device(type='cuda')"
            ]
          },
          "metadata": {
            "tags": []
          },
          "execution_count": 2
        }
      ]
    },
    {
      "cell_type": "markdown",
      "metadata": {
        "id": "wBXVPwAsyE_k"
      },
      "source": [
        "A transformation is defined to adapt the dataset to the input size expected by the network. In addition, it is normalized."
      ]
    },
    {
      "cell_type": "code",
      "metadata": {
        "id": "7w73OIOPgkbu"
      },
      "source": [
        "transform = transforms.Compose([\n",
        "    transforms.Resize(256),\n",
        "    transforms.CenterCrop(224),\n",
        "    transforms.ToTensor(),\n",
        "    transforms.Normalize(mean=[0.485, 0.456, 0.406], std=[0.229, 0.224, 0.225]),\n",
        "])"
      ],
      "execution_count": 3,
      "outputs": []
    },
    {
      "cell_type": "markdown",
      "metadata": {
        "id": "pgqV6S9TyMdj"
      },
      "source": [
        "The dataset is downloaded and the loaders are configured."
      ]
    },
    {
      "cell_type": "code",
      "metadata": {
        "colab": {
          "base_uri": "https://localhost:8080/",
          "height": 123,
          "referenced_widgets": [
            "f68696535f20404ebacb57dea0814b46",
            "1d7e5ffd7b534736ac3258335651554c",
            "42454eee55234c1f814432222637a2b7",
            "3d19932dbc9d4a6f831eb3abf2910994",
            "4bfaec3586a349a1870b9400a2c40860",
            "de9c818dcd5242c48f01b6d240b29db3",
            "143aa3a4a6d94cdfa98cc6113244badb",
            "f3df92d0847245cdac3108f655fc9242"
          ]
        },
        "id": "LrpDm6PXgry7",
        "outputId": "9f4c16a9-a3a7-4c6e-b326-4d418270a71e"
      },
      "source": [
        "batch_size = 4\n",
        "\n",
        "#Downloading training data\n",
        "train_data = torchvision.datasets.CIFAR10(root='./data', train=True, download=True, transform=transform)\n",
        "\n",
        "trainloader = torch.utils.data.DataLoader(train_data, batch_size=batch_size, shuffle=True, num_workers=2)\n",
        "\n",
        "#Downloading test data\n",
        "test_data = torchvision.datasets.CIFAR10(root='./data', train=False, download=True, transform=transform)\n",
        "\n",
        "testloader = torch.utils.data.DataLoader(test_data, batch_size=batch_size, shuffle=False, num_workers=2)\n",
        "\n",
        "#Class labels\n",
        "\n",
        "classes = ('Airplane', 'Car', 'Bird', 'Cat', 'Deer', 'Dog', 'Frog', 'Horse', 'Ship', 'Truck')\n",
        "num_classes = len(classes)\n"
      ],
      "execution_count": 4,
      "outputs": [
        {
          "output_type": "stream",
          "text": [
            "Downloading https://www.cs.toronto.edu/~kriz/cifar-10-python.tar.gz to ./data/cifar-10-python.tar.gz\n"
          ],
          "name": "stdout"
        },
        {
          "output_type": "display_data",
          "data": {
            "application/vnd.jupyter.widget-view+json": {
              "model_id": "f68696535f20404ebacb57dea0814b46",
              "version_minor": 0,
              "version_major": 2
            },
            "text/plain": [
              "HBox(children=(FloatProgress(value=0.0, max=170498071.0), HTML(value='')))"
            ]
          },
          "metadata": {
            "tags": []
          }
        },
        {
          "output_type": "stream",
          "text": [
            "\n",
            "Extracting ./data/cifar-10-python.tar.gz to ./data\n",
            "Files already downloaded and verified\n"
          ],
          "name": "stdout"
        }
      ]
    },
    {
      "cell_type": "markdown",
      "metadata": {
        "id": "xXGRuMURyRrZ"
      },
      "source": [
        "It is verified that the files are on disk."
      ]
    },
    {
      "cell_type": "code",
      "metadata": {
        "colab": {
          "base_uri": "https://localhost:8080/"
        },
        "id": "ayQ9ANMFhBuY",
        "outputId": "f31338b3-ea56-46e2-e0ed-37808b7f6fa6"
      },
      "source": [
        "!ls data/cifar-10-batches-py"
      ],
      "execution_count": 5,
      "outputs": [
        {
          "output_type": "stream",
          "text": [
            "batches.meta  data_batch_2  data_batch_4  readme.html\n",
            "data_batch_1  data_batch_3  data_batch_5  test_batch\n"
          ],
          "name": "stdout"
        }
      ]
    },
    {
      "cell_type": "markdown",
      "metadata": {
        "id": "oxjcVyllyUtp"
      },
      "source": [
        "You can see the size of each batch."
      ]
    },
    {
      "cell_type": "code",
      "metadata": {
        "colab": {
          "base_uri": "https://localhost:8080/"
        },
        "id": "gpMKxJNHhL3O",
        "outputId": "17ddf804-ff1b-4603-b0f8-dfd4cde618dd"
      },
      "source": [
        "dataiter = iter(trainloader)\n",
        "images, labels = dataiter.next()\n",
        "images.shape\n"
      ],
      "execution_count": 6,
      "outputs": [
        {
          "output_type": "execute_result",
          "data": {
            "text/plain": [
              "torch.Size([4, 3, 224, 224])"
            ]
          },
          "metadata": {
            "tags": []
          },
          "execution_count": 6
        }
      ]
    },
    {
      "cell_type": "code",
      "metadata": {
        "colab": {
          "base_uri": "https://localhost:8080/"
        },
        "id": "n66ucY5p2hDU",
        "outputId": "bca7a336-681c-4c1c-a8f1-bb5c2fd05c6f"
      },
      "source": [
        "print(f'Train images: {len(train_data)}')\n",
        "print(f'Test images: {len(test_data)}')\n",
        "print(f'Train batches: {int(len(train_data)/batch_size)}')"
      ],
      "execution_count": null,
      "outputs": [
        {
          "output_type": "stream",
          "text": [
            "Train images: 50000\n",
            "Test images: 10000\n",
            "Train batches: 12500\n"
          ],
          "name": "stdout"
        }
      ]
    },
    {
      "cell_type": "markdown",
      "metadata": {
        "id": "qe2CjUmTyYHH"
      },
      "source": [
        "A batch is displayed. The dataset contains low-resolution images of 10 classes."
      ]
    },
    {
      "cell_type": "code",
      "metadata": {
        "colab": {
          "base_uri": "https://localhost:8080/",
          "height": 185
        },
        "id": "i1951BPJhWME",
        "outputId": "ec353f30-b8dd-4281-e883-f44ee46aceb9"
      },
      "source": [
        "import matplotlib.pyplot as plt\n",
        "\n",
        "grid = torchvision.utils.make_grid(images)\n",
        "grid.shape\n",
        "\n",
        "# unnormalize\n",
        "grid = grid / 2 + 0.5     \n",
        "plt.imshow(grid.permute(1,2,0))\n",
        "\n",
        "plt.title(' '.join('%5s' % classes[labels[j]] for j in range(4)))"
      ],
      "execution_count": null,
      "outputs": [
        {
          "output_type": "stream",
          "text": [
            "Clipping input data to the valid range for imshow with RGB data ([0..1] for floats or [0..255] for integers).\n"
          ],
          "name": "stderr"
        },
        {
          "output_type": "execute_result",
          "data": {
            "text/plain": [
              "Text(0.5, 1.0, ' Ship   Cat  Ship Truck')"
            ]
          },
          "metadata": {
            "tags": []
          },
          "execution_count": 64
        },
        {
          "output_type": "display_data",
          "data": {
            "image/png": "[encoded data removed]",
            "text/plain": [
              "<Figure size 432x288 with 1 Axes>"
            ]
          },
          "metadata": {
            "tags": [],
            "needs_background": "light"
          }
        }
      ]
    },
    {
      "cell_type": "markdown",
      "metadata": {
        "id": "YtmHj4aMtts5"
      },
      "source": [
        "# Starting from a pre-designed model\n",
        "\n",
        "In order to classify the dataset, we will start with [AlexNet](https://github.com/pytorch/vision/blob/master/torchvision/models/alexnet.py). The model can be downloaded with the parameters trained with [ImageNet](https://www.google.com/search?q=Imagenet).\n"
      ]
    },
    {
      "cell_type": "code",
      "metadata": {
        "colab": {
          "base_uri": "https://localhost:8080/"
        },
        "id": "vlYff843iYiK",
        "outputId": "b8d07ba1-b5bf-4d00-a350-b84edf56d64d"
      },
      "source": [
        "alexnet = torch.hub.load('pytorch/vision', 'alexnet', pretrained=False)\n",
        "alexnet.eval()"
      ],
      "execution_count": null,
      "outputs": [
        {
          "output_type": "stream",
          "text": [
            "Using cache found in /root/.cache/torch/hub/pytorch_vision_master\n"
          ],
          "name": "stderr"
        },
        {
          "output_type": "execute_result",
          "data": {
            "text/plain": [
              "AlexNet(\n",
              "  (features): Sequential(\n",
              "    (0): Conv2d(3, 64, kernel_size=(11, 11), stride=(4, 4), padding=(2, 2))\n",
              "    (1): ReLU(inplace=True)\n",
              "    (2): MaxPool2d(kernel_size=3, stride=2, padding=0, dilation=1, ceil_mode=False)\n",
              "    (3): Conv2d(64, 192, kernel_size=(5, 5), stride=(1, 1), padding=(2, 2))\n",
              "    (4): ReLU(inplace=True)\n",
              "    (5): MaxPool2d(kernel_size=3, stride=2, padding=0, dilation=1, ceil_mode=False)\n",
              "    (6): Conv2d(192, 384, kernel_size=(3, 3), stride=(1, 1), padding=(1, 1))\n",
              "    (7): ReLU(inplace=True)\n",
              "    (8): Conv2d(384, 256, kernel_size=(3, 3), stride=(1, 1), padding=(1, 1))\n",
              "    (9): ReLU(inplace=True)\n",
              "    (10): Conv2d(256, 256, kernel_size=(3, 3), stride=(1, 1), padding=(1, 1))\n",
              "    (11): ReLU(inplace=True)\n",
              "    (12): MaxPool2d(kernel_size=3, stride=2, padding=0, dilation=1, ceil_mode=False)\n",
              "  )\n",
              "  (avgpool): AdaptiveAvgPool2d(output_size=(6, 6))\n",
              "  (classifier): Sequential(\n",
              "    (0): Dropout(p=0.5, inplace=False)\n",
              "    (1): Linear(in_features=9216, out_features=4096, bias=True)\n",
              "    (2): ReLU(inplace=True)\n",
              "    (3): Dropout(p=0.5, inplace=False)\n",
              "    (4): Linear(in_features=4096, out_features=4096, bias=True)\n",
              "    (5): ReLU(inplace=True)\n",
              "    (6): Linear(in_features=4096, out_features=1000, bias=True)\n",
              "  )\n",
              ")"
            ]
          },
          "metadata": {
            "tags": []
          },
          "execution_count": 65
        }
      ]
    },
    {
      "cell_type": "markdown",
      "metadata": {
        "id": "wsbnva9liybP"
      },
      "source": [
        "To adapt it to the specific problem, the last layer must be changed."
      ]
    },
    {
      "cell_type": "code",
      "metadata": {
        "colab": {
          "base_uri": "https://localhost:8080/"
        },
        "id": "5y9TMAeZi-Sz",
        "outputId": "bb096fbb-2cfe-4057-bd7d-1f914024ff95"
      },
      "source": [
        "#Updating the third and the last classifier that is the output layer of the network. Make sure to have 10 output nodes if we are going to get 10 class labels through our model.\n",
        "alexnet.classifier[6] = torch.nn.Linear(4096,num_classes)\n",
        "alexnet.eval()"
      ],
      "execution_count": null,
      "outputs": [
        {
          "output_type": "execute_result",
          "data": {
            "text/plain": [
              "AlexNet(\n",
              "  (features): Sequential(\n",
              "    (0): Conv2d(3, 64, kernel_size=(11, 11), stride=(4, 4), padding=(2, 2))\n",
              "    (1): ReLU(inplace=True)\n",
              "    (2): MaxPool2d(kernel_size=3, stride=2, padding=0, dilation=1, ceil_mode=False)\n",
              "    (3): Conv2d(64, 192, kernel_size=(5, 5), stride=(1, 1), padding=(2, 2))\n",
              "    (4): ReLU(inplace=True)\n",
              "    (5): MaxPool2d(kernel_size=3, stride=2, padding=0, dilation=1, ceil_mode=False)\n",
              "    (6): Conv2d(192, 384, kernel_size=(3, 3), stride=(1, 1), padding=(1, 1))\n",
              "    (7): ReLU(inplace=True)\n",
              "    (8): Conv2d(384, 256, kernel_size=(3, 3), stride=(1, 1), padding=(1, 1))\n",
              "    (9): ReLU(inplace=True)\n",
              "    (10): Conv2d(256, 256, kernel_size=(3, 3), stride=(1, 1), padding=(1, 1))\n",
              "    (11): ReLU(inplace=True)\n",
              "    (12): MaxPool2d(kernel_size=3, stride=2, padding=0, dilation=1, ceil_mode=False)\n",
              "  )\n",
              "  (avgpool): AdaptiveAvgPool2d(output_size=(6, 6))\n",
              "  (classifier): Sequential(\n",
              "    (0): Dropout(p=0.5, inplace=False)\n",
              "    (1): Linear(in_features=9216, out_features=4096, bias=True)\n",
              "    (2): ReLU(inplace=True)\n",
              "    (3): Dropout(p=0.5, inplace=False)\n",
              "    (4): Linear(in_features=4096, out_features=4096, bias=True)\n",
              "    (5): ReLU(inplace=True)\n",
              "    (6): Linear(in_features=4096, out_features=10, bias=True)\n",
              "  )\n",
              ")"
            ]
          },
          "metadata": {
            "tags": []
          },
          "execution_count": 66
        }
      ]
    },
    {
      "cell_type": "markdown",
      "metadata": {
        "id": "GLNH28MV0C1n"
      },
      "source": [
        "The training function is defined."
      ]
    },
    {
      "cell_type": "code",
      "metadata": {
        "id": "nlbWPVdKj7vS"
      },
      "source": [
        "import time\n",
        "\n",
        "def train_model(model, criterion, optimizer):\n",
        "  # Train the model\n",
        "\n",
        "  training_start = time.time()\n",
        "\n",
        "  model.train()\n",
        "  total_step = len(trainloader)\n",
        "  for epoch in range(num_epochs):\n",
        "      start = time.time()\n",
        "      for i, (images, labels) in enumerate(trainloader):\n",
        "          images = images.to(device)\n",
        "          labels = labels.to(device)\n",
        "          \n",
        "          # Forward pass\n",
        "          outputs = model(images)\n",
        "          loss = criterion(outputs, labels)\n",
        "          \n",
        "          # Backward and optimize\n",
        "          optimizer.zero_grad()\n",
        "          loss.backward()\n",
        "          optimizer.step()\n",
        "\n",
        "          if (i+1) % 100 == 0:\n",
        "              end = time.time()\n",
        "              print (f'Epoch [{epoch+1}/{num_epochs}], Step [{i+1}/{total_step}], Loss: {loss}, Time: {end - start}')\n",
        "              start = time.time()\n",
        "\n",
        "  training_end = time.time()\n",
        "  print(f'Training time: {training_end - training_start}')\n"
      ],
      "execution_count": null,
      "outputs": []
    },
    {
      "cell_type": "markdown",
      "metadata": {
        "id": "LjvyC0160HTm"
      },
      "source": [
        "The evaluation function is defined."
      ]
    },
    {
      "cell_type": "code",
      "metadata": {
        "id": "t55PJIOErOJT"
      },
      "source": [
        "def eval_model(model):\n",
        "  model.eval()  # eval mode (batchnorm uses moving mean/variance instead of mini-batch mean/variance)\n",
        "  with torch.no_grad():\n",
        "      correct = 0\n",
        "      total = 0\n",
        "      for images, labels in testloader:\n",
        "          images = images.to(device)\n",
        "          labels = labels.to(device)\n",
        "          outputs = model(images)\n",
        "          _, predicted = torch.max(outputs.data, 1)\n",
        "          total += labels.size(0)\n",
        "          correct += (predicted == labels).sum().item()\n",
        "\n",
        "      print('Test Accuracy of the model using the test images: {} %'.format(100 * correct / total)) "
      ],
      "execution_count": null,
      "outputs": []
    },
    {
      "cell_type": "markdown",
      "metadata": {
        "id": "IynG0raO0Kc_"
      },
      "source": [
        "The model is trained with a certain configuration."
      ]
    },
    {
      "cell_type": "code",
      "metadata": {
        "colab": {
          "base_uri": "https://localhost:8080/"
        },
        "id": "Wj3DpcDzkJeX",
        "outputId": "a3f0c5c1-f6e1-4cff-eff5-23dfc2daa20c"
      },
      "source": [
        "# Hyperparameters\n",
        "num_epochs = 1\n",
        "learning_rate = 0.001\n",
        "momentum = 0.9\n",
        "\n",
        "# Model\n",
        "model = alexnet.to(device)\n",
        "\n",
        "# Loss and optimizer\n",
        "criterion = torch.nn.CrossEntropyLoss()\n",
        "optimizer = torch.optim.SGD(model.parameters(), lr=learning_rate, momentum=momentum)\n",
        "\n",
        "# Train\n",
        "train_model(model, criterion, optimizer)\n",
        "\n",
        "# Eval\n",
        "eval_model(model)"
      ],
      "execution_count": null,
      "outputs": [
        {
          "output_type": "stream",
          "text": [
            "Epoch [1/1], Step [100/12500], Loss: 2.2805428504943848, Time: 1.1791431903839111\n",
            "Epoch [1/1], Step [200/12500], Loss: 2.272365093231201, Time: 1.0493731498718262\n",
            "Epoch [1/1], Step [300/12500], Loss: 2.2991724014282227, Time: 1.0501453876495361\n",
            "Epoch [1/1], Step [400/12500], Loss: 2.308487892150879, Time: 1.0279579162597656\n",
            "Epoch [1/1], Step [500/12500], Loss: 2.32207989692688, Time: 1.0348734855651855\n",
            "Epoch [1/1], Step [600/12500], Loss: 2.3082218170166016, Time: 1.0280702114105225\n",
            "Epoch [1/1], Step [700/12500], Loss: 2.3015477657318115, Time: 1.0353822708129883\n",
            "Epoch [1/1], Step [800/12500], Loss: 2.2580275535583496, Time: 1.0340821743011475\n",
            "Epoch [1/1], Step [900/12500], Loss: 2.139927387237549, Time: 1.0339584350585938\n",
            "Epoch [1/1], Step [1000/12500], Loss: 2.3122196197509766, Time: 1.0231287479400635\n",
            "Epoch [1/1], Step [1100/12500], Loss: 2.084153890609741, Time: 1.1194777488708496\n",
            "Epoch [1/1], Step [1200/12500], Loss: 2.2698659896850586, Time: 1.029364824295044\n",
            "Epoch [1/1], Step [1300/12500], Loss: 2.424981117248535, Time: 1.0362260341644287\n",
            "Epoch [1/1], Step [1400/12500], Loss: 2.634838104248047, Time: 1.028578519821167\n",
            "Epoch [1/1], Step [1500/12500], Loss: 2.068392753601074, Time: 1.0417675971984863\n",
            "Epoch [1/1], Step [1600/12500], Loss: 2.112886905670166, Time: 1.020266056060791\n",
            "Epoch [1/1], Step [1700/12500], Loss: 2.2649624347686768, Time: 1.0207223892211914\n",
            "Epoch [1/1], Step [1800/12500], Loss: 2.2959728240966797, Time: 1.0401418209075928\n",
            "Epoch [1/1], Step [1900/12500], Loss: 2.3472132682800293, Time: 1.0345797538757324\n",
            "Epoch [1/1], Step [2000/12500], Loss: 2.0847835540771484, Time: 1.038681983947754\n",
            "Epoch [1/1], Step [2100/12500], Loss: 1.9002867937088013, Time: 1.0379986763000488\n",
            "Epoch [1/1], Step [2200/12500], Loss: 2.139350414276123, Time: 1.033207893371582\n",
            "Epoch [1/1], Step [2300/12500], Loss: 2.4168543815612793, Time: 1.0301997661590576\n",
            "Epoch [1/1], Step [2400/12500], Loss: 2.0144128799438477, Time: 1.040158748626709\n",
            "Epoch [1/1], Step [2500/12500], Loss: 2.059861183166504, Time: 1.0419363975524902\n",
            "Epoch [1/1], Step [2600/12500], Loss: 2.124149799346924, Time: 1.0243439674377441\n",
            "Epoch [1/1], Step [2700/12500], Loss: 2.479001998901367, Time: 1.034559965133667\n",
            "Epoch [1/1], Step [2800/12500], Loss: 2.135462760925293, Time: 1.0368499755859375\n",
            "Epoch [1/1], Step [2900/12500], Loss: 2.04278564453125, Time: 1.0329687595367432\n",
            "Epoch [1/1], Step [3000/12500], Loss: 1.75029456615448, Time: 1.0252656936645508\n",
            "Epoch [1/1], Step [3100/12500], Loss: 2.09456205368042, Time: 1.0387136936187744\n",
            "Epoch [1/1], Step [3200/12500], Loss: 1.8929102420806885, Time: 1.0351645946502686\n",
            "Epoch [1/1], Step [3300/12500], Loss: 1.610176682472229, Time: 1.0341322422027588\n",
            "Epoch [1/1], Step [3400/12500], Loss: 2.024104118347168, Time: 1.0283026695251465\n",
            "Epoch [1/1], Step [3500/12500], Loss: 2.641451120376587, Time: 1.0223095417022705\n",
            "Epoch [1/1], Step [3600/12500], Loss: 1.8098233938217163, Time: 1.02982759475708\n",
            "Epoch [1/1], Step [3700/12500], Loss: 1.4311509132385254, Time: 1.0257437229156494\n",
            "Epoch [1/1], Step [3800/12500], Loss: 1.598618745803833, Time: 1.0292017459869385\n",
            "Epoch [1/1], Step [3900/12500], Loss: 1.8602262735366821, Time: 1.0279746055603027\n",
            "Epoch [1/1], Step [4000/12500], Loss: 2.3766958713531494, Time: 1.0471317768096924\n",
            "Epoch [1/1], Step [4100/12500], Loss: 1.3653792142868042, Time: 1.0422625541687012\n",
            "Epoch [1/1], Step [4200/12500], Loss: 2.023437261581421, Time: 1.0371696949005127\n",
            "Epoch [1/1], Step [4300/12500], Loss: 2.1105663776397705, Time: 1.0192811489105225\n",
            "Epoch [1/1], Step [4400/12500], Loss: 2.3527984619140625, Time: 1.042799949645996\n",
            "Epoch [1/1], Step [4500/12500], Loss: 1.459748387336731, Time: 1.0224525928497314\n",
            "Epoch [1/1], Step [4600/12500], Loss: 1.6758975982666016, Time: 1.03084135055542\n",
            "Epoch [1/1], Step [4700/12500], Loss: 1.7732338905334473, Time: 1.0271291732788086\n",
            "Epoch [1/1], Step [4800/12500], Loss: 1.6718626022338867, Time: 1.0248003005981445\n",
            "Epoch [1/1], Step [4900/12500], Loss: 1.247835636138916, Time: 1.024496078491211\n",
            "Epoch [1/1], Step [5000/12500], Loss: 1.8664987087249756, Time: 1.0324804782867432\n",
            "Epoch [1/1], Step [5100/12500], Loss: 1.5481390953063965, Time: 1.0433197021484375\n",
            "Epoch [1/1], Step [5200/12500], Loss: 2.683539867401123, Time: 1.0216360092163086\n",
            "Epoch [1/1], Step [5300/12500], Loss: 1.7556452751159668, Time: 1.0314602851867676\n",
            "Epoch [1/1], Step [5400/12500], Loss: 1.2633862495422363, Time: 1.0291032791137695\n",
            "Epoch [1/1], Step [5500/12500], Loss: 2.2117512226104736, Time: 1.027843713760376\n",
            "Epoch [1/1], Step [5600/12500], Loss: 1.298720359802246, Time: 1.023911714553833\n",
            "Epoch [1/1], Step [5700/12500], Loss: 1.344791293144226, Time: 1.0392441749572754\n",
            "Epoch [1/1], Step [5800/12500], Loss: 1.6671173572540283, Time: 1.0393035411834717\n",
            "Epoch [1/1], Step [5900/12500], Loss: 2.179377555847168, Time: 1.0256035327911377\n",
            "Epoch [1/1], Step [6000/12500], Loss: 2.1565566062927246, Time: 1.040024757385254\n",
            "Epoch [1/1], Step [6100/12500], Loss: 2.5616931915283203, Time: 1.028862714767456\n",
            "Epoch [1/1], Step [6200/12500], Loss: 0.8835264444351196, Time: 1.0302226543426514\n",
            "Epoch [1/1], Step [6300/12500], Loss: 1.5267329216003418, Time: 1.031949758529663\n",
            "Epoch [1/1], Step [6400/12500], Loss: 2.8578619956970215, Time: 1.0388402938842773\n",
            "Epoch [1/1], Step [6500/12500], Loss: 1.902389645576477, Time: 1.026118278503418\n",
            "Epoch [1/1], Step [6600/12500], Loss: 1.7479197978973389, Time: 1.0343971252441406\n",
            "Epoch [1/1], Step [6700/12500], Loss: 3.3873534202575684, Time: 1.0317387580871582\n",
            "Epoch [1/1], Step [6800/12500], Loss: 1.6360981464385986, Time: 1.0303266048431396\n",
            "Epoch [1/1], Step [6900/12500], Loss: 1.3778972625732422, Time: 1.0258080959320068\n",
            "Epoch [1/1], Step [7000/12500], Loss: 1.8448011875152588, Time: 1.0530669689178467\n",
            "Epoch [1/1], Step [7100/12500], Loss: 1.3209426403045654, Time: 1.0332763195037842\n",
            "Epoch [1/1], Step [7200/12500], Loss: 2.5120201110839844, Time: 1.0279040336608887\n",
            "Epoch [1/1], Step [7300/12500], Loss: 1.8589838743209839, Time: 1.0312554836273193\n",
            "Epoch [1/1], Step [7400/12500], Loss: 1.484920620918274, Time: 1.0266687870025635\n",
            "Epoch [1/1], Step [7500/12500], Loss: 1.1463038921356201, Time: 1.0273244380950928\n",
            "Epoch [1/1], Step [7600/12500], Loss: 1.5394251346588135, Time: 1.0368387699127197\n",
            "Epoch [1/1], Step [7700/12500], Loss: 2.761683940887451, Time: 1.026628017425537\n",
            "Epoch [1/1], Step [7800/12500], Loss: 1.0689189434051514, Time: 1.0236873626708984\n",
            "Epoch [1/1], Step [7900/12500], Loss: 1.8217291831970215, Time: 1.026710033416748\n",
            "Epoch [1/1], Step [8000/12500], Loss: 1.3654329776763916, Time: 1.0454652309417725\n",
            "Epoch [1/1], Step [8100/12500], Loss: 1.5866997241973877, Time: 1.0313408374786377\n",
            "Epoch [1/1], Step [8200/12500], Loss: 0.8956280946731567, Time: 1.0356714725494385\n",
            "Epoch [1/1], Step [8300/12500], Loss: 1.1303577423095703, Time: 1.0274391174316406\n",
            "Epoch [1/1], Step [8400/12500], Loss: 0.9238891005516052, Time: 1.0316600799560547\n",
            "Epoch [1/1], Step [8500/12500], Loss: 0.9711570739746094, Time: 1.0350909233093262\n",
            "Epoch [1/1], Step [8600/12500], Loss: 2.184046745300293, Time: 1.0268068313598633\n",
            "Epoch [1/1], Step [8700/12500], Loss: 1.225926399230957, Time: 1.0156071186065674\n",
            "Epoch [1/1], Step [8800/12500], Loss: 1.7344567775726318, Time: 1.04610013961792\n",
            "Epoch [1/1], Step [8900/12500], Loss: 1.144434928894043, Time: 1.0404553413391113\n",
            "Epoch [1/1], Step [9000/12500], Loss: 1.3906750679016113, Time: 1.0405914783477783\n",
            "Epoch [1/1], Step [9100/12500], Loss: 1.6612169742584229, Time: 1.0371191501617432\n",
            "Epoch [1/1], Step [9200/12500], Loss: 0.7204704284667969, Time: 1.0338366031646729\n",
            "Epoch [1/1], Step [9300/12500], Loss: 0.7789672613143921, Time: 1.037794828414917\n",
            "Epoch [1/1], Step [9400/12500], Loss: 1.9813494682312012, Time: 1.029597520828247\n",
            "Epoch [1/1], Step [9500/12500], Loss: 0.6983844041824341, Time: 1.0249323844909668\n",
            "Epoch [1/1], Step [9600/12500], Loss: 1.5174446105957031, Time: 1.0200457572937012\n",
            "Epoch [1/1], Step [9700/12500], Loss: 1.1449857950210571, Time: 1.02168869972229\n",
            "Epoch [1/1], Step [9800/12500], Loss: 1.5654075145721436, Time: 1.0293333530426025\n",
            "Epoch [1/1], Step [9900/12500], Loss: 1.0934314727783203, Time: 1.0244665145874023\n",
            "Epoch [1/1], Step [10000/12500], Loss: 1.738965392112732, Time: 1.0389058589935303\n",
            "Epoch [1/1], Step [10100/12500], Loss: 1.2123851776123047, Time: 1.0323212146759033\n",
            "Epoch [1/1], Step [10200/12500], Loss: 1.2738889455795288, Time: 1.0337674617767334\n",
            "Epoch [1/1], Step [10300/12500], Loss: 1.3240292072296143, Time: 1.021883487701416\n",
            "Epoch [1/1], Step [10400/12500], Loss: 1.6188457012176514, Time: 1.0392918586730957\n",
            "Epoch [1/1], Step [10500/12500], Loss: 1.4442003965377808, Time: 1.0264244079589844\n",
            "Epoch [1/1], Step [10600/12500], Loss: 0.9797412157058716, Time: 1.038224220275879\n",
            "Epoch [1/1], Step [10700/12500], Loss: 1.679238200187683, Time: 1.0313193798065186\n",
            "Epoch [1/1], Step [10800/12500], Loss: 1.3443020582199097, Time: 1.0279405117034912\n",
            "Epoch [1/1], Step [10900/12500], Loss: 0.9421427845954895, Time: 1.0369174480438232\n",
            "Epoch [1/1], Step [11000/12500], Loss: 0.8738828897476196, Time: 1.0351262092590332\n",
            "Epoch [1/1], Step [11100/12500], Loss: 1.0266814231872559, Time: 1.0352566242218018\n",
            "Epoch [1/1], Step [11200/12500], Loss: 0.9033070206642151, Time: 1.0300443172454834\n",
            "Epoch [1/1], Step [11300/12500], Loss: 0.6097345948219299, Time: 1.0377616882324219\n",
            "Epoch [1/1], Step [11400/12500], Loss: 2.1569325923919678, Time: 1.0334208011627197\n",
            "Epoch [1/1], Step [11500/12500], Loss: 1.556684970855713, Time: 1.027761459350586\n",
            "Epoch [1/1], Step [11600/12500], Loss: 1.1254340410232544, Time: 1.0339767932891846\n",
            "Epoch [1/1], Step [11700/12500], Loss: 3.5665063858032227, Time: 1.0274298191070557\n",
            "Epoch [1/1], Step [11800/12500], Loss: 0.9942662715911865, Time: 1.0291659832000732\n",
            "Epoch [1/1], Step [11900/12500], Loss: 1.128046989440918, Time: 1.029672384262085\n",
            "Epoch [1/1], Step [12000/12500], Loss: 1.48664391040802, Time: 1.0577507019042969\n",
            "Epoch [1/1], Step [12100/12500], Loss: 1.1843100786209106, Time: 1.0270049571990967\n",
            "Epoch [1/1], Step [12200/12500], Loss: 1.150700330734253, Time: 1.020491361618042\n",
            "Epoch [1/1], Step [12300/12500], Loss: 1.5890090465545654, Time: 1.0295021533966064\n",
            "Epoch [1/1], Step [12400/12500], Loss: 0.9615539312362671, Time: 1.0301005840301514\n",
            "Epoch [1/1], Step [12500/12500], Loss: 1.403385043144226, Time: 1.016845464706421\n",
            "Training time: 130.04297828674316\n",
            "Test Accuracy of the model using the test images: 54.0 %\n"
          ],
          "name": "stdout"
        }
      ]
    },
    {
      "cell_type": "markdown",
      "metadata": {
        "id": "7uJZGapgYPlZ"
      },
      "source": [
        "You can now try the same process but downloading the pre-trained network."
      ]
    },
    {
      "cell_type": "markdown",
      "metadata": {
        "id": "GWTNhWRBymrV"
      },
      "source": [
        "# Blocking learning in some layers\n",
        "During training you can block the training of certain layers to speed up the process.\n"
      ]
    },
    {
      "cell_type": "code",
      "metadata": {
        "colab": {
          "base_uri": "https://localhost:8080/",
          "height": 603,
          "referenced_widgets": [
            "664717e63806462aa629d0dd3a7cda86",
            "431d8488d757496184051848d0743d95",
            "c34c5bca4c8b4e66b9c528bda94ec5ef",
            "e3d680e26de5416a870bfe99b48e81f2",
            "65469b89b3e64677a1411ae5bcfc10fc",
            "242e232a92e047658527d9564f2101f7",
            "4beb81b0d5ca42d98e917391ed1965ef",
            "0f52a7a1db274af9bcafe76932c86afc"
          ]
        },
        "id": "QJ4BwmmjmUVJ",
        "outputId": "03c4fcb0-58c4-4e06-cf9f-bc9afcdc0e3f"
      },
      "source": [
        "alexnet_lock = torch.hub.load('pytorch/vision', 'alexnet', pretrained=True)\n",
        "alexnet_lock.eval()"
      ],
      "execution_count": 7,
      "outputs": [
        {
          "output_type": "stream",
          "text": [
            "Downloading: \"https://github.com/pytorch/vision/archive/master.zip\" to /root/.cache/torch/hub/master.zip\n",
            "Downloading: \"https://download.pytorch.org/models/alexnet-owt-4df8aa71.pth\" to /root/.cache/torch/hub/checkpoints/alexnet-owt-4df8aa71.pth\n"
          ],
          "name": "stderr"
        },
        {
          "output_type": "display_data",
          "data": {
            "application/vnd.jupyter.widget-view+json": {
              "model_id": "664717e63806462aa629d0dd3a7cda86",
              "version_minor": 0,
              "version_major": 2
            },
            "text/plain": [
              "HBox(children=(FloatProgress(value=0.0, max=244418560.0), HTML(value='')))"
            ]
          },
          "metadata": {
            "tags": []
          }
        },
        {
          "output_type": "stream",
          "text": [
            "\n"
          ],
          "name": "stdout"
        },
        {
          "output_type": "execute_result",
          "data": {
            "text/plain": [
              "AlexNet(\n",
              "  (features): Sequential(\n",
              "    (0): Conv2d(3, 64, kernel_size=(11, 11), stride=(4, 4), padding=(2, 2))\n",
              "    (1): ReLU(inplace=True)\n",
              "    (2): MaxPool2d(kernel_size=3, stride=2, padding=0, dilation=1, ceil_mode=False)\n",
              "    (3): Conv2d(64, 192, kernel_size=(5, 5), stride=(1, 1), padding=(2, 2))\n",
              "    (4): ReLU(inplace=True)\n",
              "    (5): MaxPool2d(kernel_size=3, stride=2, padding=0, dilation=1, ceil_mode=False)\n",
              "    (6): Conv2d(192, 384, kernel_size=(3, 3), stride=(1, 1), padding=(1, 1))\n",
              "    (7): ReLU(inplace=True)\n",
              "    (8): Conv2d(384, 256, kernel_size=(3, 3), stride=(1, 1), padding=(1, 1))\n",
              "    (9): ReLU(inplace=True)\n",
              "    (10): Conv2d(256, 256, kernel_size=(3, 3), stride=(1, 1), padding=(1, 1))\n",
              "    (11): ReLU(inplace=True)\n",
              "    (12): MaxPool2d(kernel_size=3, stride=2, padding=0, dilation=1, ceil_mode=False)\n",
              "  )\n",
              "  (avgpool): AdaptiveAvgPool2d(output_size=(6, 6))\n",
              "  (classifier): Sequential(\n",
              "    (0): Dropout(p=0.5, inplace=False)\n",
              "    (1): Linear(in_features=9216, out_features=4096, bias=True)\n",
              "    (2): ReLU(inplace=True)\n",
              "    (3): Dropout(p=0.5, inplace=False)\n",
              "    (4): Linear(in_features=4096, out_features=4096, bias=True)\n",
              "    (5): ReLU(inplace=True)\n",
              "    (6): Linear(in_features=4096, out_features=1000, bias=True)\n",
              "  )\n",
              ")"
            ]
          },
          "metadata": {
            "tags": []
          },
          "execution_count": 7
        }
      ]
    },
    {
      "cell_type": "markdown",
      "metadata": {
        "id": "kNtIn1Np0mJJ"
      },
      "source": [
        "It is specified that no gradient is calculated for the model."
      ]
    },
    {
      "cell_type": "code",
      "metadata": {
        "id": "0l2zmu7EmWjK"
      },
      "source": [
        "# Freeze model weights\n",
        "for param in alexnet_lock.parameters():\n",
        "    param.requires_grad = False"
      ],
      "execution_count": 12,
      "outputs": []
    },
    {
      "cell_type": "markdown",
      "metadata": {
        "id": "h7PduxLS0tDg"
      },
      "source": [
        "A new classification layer is added. When a new layer is added, by default it is established that the gradient will be calculated and, therefore, its training is allowed."
      ]
    },
    {
      "cell_type": "code",
      "metadata": {
        "colab": {
          "base_uri": "https://localhost:8080/"
        },
        "id": "HvZ8xcU4_-Gp",
        "outputId": "3f88a43b-9272-4729-fdce-31b5200c08e5"
      },
      "source": [
        "alexnet_lock.classifier[6] = torch.nn.Linear(4096, num_classes)\n",
        "alexnet_lock.eval()"
      ],
      "execution_count": 13,
      "outputs": [
        {
          "output_type": "execute_result",
          "data": {
            "text/plain": [
              "AlexNet(\n",
              "  (features): Sequential(\n",
              "    (0): Conv2d(3, 64, kernel_size=(11, 11), stride=(4, 4), padding=(2, 2))\n",
              "    (1): ReLU(inplace=True)\n",
              "    (2): MaxPool2d(kernel_size=3, stride=2, padding=0, dilation=1, ceil_mode=False)\n",
              "    (3): Conv2d(64, 192, kernel_size=(5, 5), stride=(1, 1), padding=(2, 2))\n",
              "    (4): ReLU(inplace=True)\n",
              "    (5): MaxPool2d(kernel_size=3, stride=2, padding=0, dilation=1, ceil_mode=False)\n",
              "    (6): Conv2d(192, 384, kernel_size=(3, 3), stride=(1, 1), padding=(1, 1))\n",
              "    (7): ReLU(inplace=True)\n",
              "    (8): Conv2d(384, 256, kernel_size=(3, 3), stride=(1, 1), padding=(1, 1))\n",
              "    (9): ReLU(inplace=True)\n",
              "    (10): Conv2d(256, 256, kernel_size=(3, 3), stride=(1, 1), padding=(1, 1))\n",
              "    (11): ReLU(inplace=True)\n",
              "    (12): MaxPool2d(kernel_size=3, stride=2, padding=0, dilation=1, ceil_mode=False)\n",
              "  )\n",
              "  (avgpool): AdaptiveAvgPool2d(output_size=(6, 6))\n",
              "  (classifier): Sequential(\n",
              "    (0): Dropout(p=0.5, inplace=False)\n",
              "    (1): Linear(in_features=9216, out_features=4096, bias=True)\n",
              "    (2): ReLU(inplace=True)\n",
              "    (3): Dropout(p=0.5, inplace=False)\n",
              "    (4): Linear(in_features=4096, out_features=512, bias=True)\n",
              "    (5): ReLU(inplace=True)\n",
              "    (6): Linear(in_features=4096, out_features=10, bias=True)\n",
              "  )\n",
              ")"
            ]
          },
          "metadata": {
            "tags": []
          },
          "execution_count": 13
        }
      ]
    },
    {
      "cell_type": "markdown",
      "metadata": {
        "id": "FGyfva6xAj9C"
      },
      "source": [
        "You can also change a set of layers and reduce for example the complexity from 4096 to 512 in the last layer."
      ]
    },
    {
      "cell_type": "code",
      "metadata": {
        "colab": {
          "base_uri": "https://localhost:8080/"
        },
        "id": "MdrtzwHLmb6P",
        "outputId": "e3a2dca0-c73f-4758-8579-52a85722683a"
      },
      "source": [
        "alexnet_lock.classifier = torch.nn.Sequential(\n",
        "  torch.nn.Dropout(),\n",
        "  torch.nn.Linear(256 * 6 * 6, 4096),\n",
        "  torch.nn.ReLU(inplace=True),\n",
        "  torch.nn.Dropout(),\n",
        "  torch.nn.Linear(4096, 512),\n",
        "  torch.nn.ReLU(inplace=True),\n",
        "  torch.nn.Linear(512, num_classes),\n",
        ")\n",
        "alexnet_lock.eval()"
      ],
      "execution_count": 10,
      "outputs": [
        {
          "output_type": "execute_result",
          "data": {
            "text/plain": [
              "AlexNet(\n",
              "  (features): Sequential(\n",
              "    (0): Conv2d(3, 64, kernel_size=(11, 11), stride=(4, 4), padding=(2, 2))\n",
              "    (1): ReLU(inplace=True)\n",
              "    (2): MaxPool2d(kernel_size=3, stride=2, padding=0, dilation=1, ceil_mode=False)\n",
              "    (3): Conv2d(64, 192, kernel_size=(5, 5), stride=(1, 1), padding=(2, 2))\n",
              "    (4): ReLU(inplace=True)\n",
              "    (5): MaxPool2d(kernel_size=3, stride=2, padding=0, dilation=1, ceil_mode=False)\n",
              "    (6): Conv2d(192, 384, kernel_size=(3, 3), stride=(1, 1), padding=(1, 1))\n",
              "    (7): ReLU(inplace=True)\n",
              "    (8): Conv2d(384, 256, kernel_size=(3, 3), stride=(1, 1), padding=(1, 1))\n",
              "    (9): ReLU(inplace=True)\n",
              "    (10): Conv2d(256, 256, kernel_size=(3, 3), stride=(1, 1), padding=(1, 1))\n",
              "    (11): ReLU(inplace=True)\n",
              "    (12): MaxPool2d(kernel_size=3, stride=2, padding=0, dilation=1, ceil_mode=False)\n",
              "  )\n",
              "  (avgpool): AdaptiveAvgPool2d(output_size=(6, 6))\n",
              "  (classifier): Sequential(\n",
              "    (0): Dropout(p=0.5, inplace=False)\n",
              "    (1): Linear(in_features=9216, out_features=4096, bias=True)\n",
              "    (2): ReLU(inplace=True)\n",
              "    (3): Dropout(p=0.5, inplace=False)\n",
              "    (4): Linear(in_features=4096, out_features=512, bias=True)\n",
              "    (5): ReLU(inplace=True)\n",
              "    (6): Linear(in_features=512, out_features=10, bias=True)\n",
              "  )\n",
              ")"
            ]
          },
          "metadata": {
            "tags": []
          },
          "execution_count": 10
        }
      ]
    },
    {
      "cell_type": "markdown",
      "metadata": {
        "id": "W1XWyOms029m"
      },
      "source": [
        "Locked parameters can be observed."
      ]
    },
    {
      "cell_type": "code",
      "metadata": {
        "colab": {
          "base_uri": "https://localhost:8080/"
        },
        "id": "rkUZjydApHwL",
        "outputId": "5e86b1be-544e-428c-8bcd-035e141a2f21"
      },
      "source": [
        "total_params = sum(p.numel() for p in alexnet_lock.parameters())\n",
        "print(f'{total_params:,} total parameters.')\n",
        "total_trainable_params = sum(\n",
        "    p.numel() for p in alexnet_lock.parameters() if p.requires_grad)\n",
        "print(f'{total_trainable_params:,} training parameters.')"
      ],
      "execution_count": 14,
      "outputs": [
        {
          "output_type": "stream",
          "text": [
            "42,361,162 total parameters.\n",
            "40,970 training parameters.\n"
          ],
          "name": "stdout"
        }
      ]
    },
    {
      "cell_type": "markdown",
      "metadata": {
        "id": "tNTYfJlR1Dmk"
      },
      "source": [
        "Parameters are configured and training is performed."
      ]
    },
    {
      "cell_type": "code",
      "metadata": {
        "colab": {
          "base_uri": "https://localhost:8080/"
        },
        "id": "wr0cNik4m5ua",
        "outputId": "cd021acf-c2d0-466f-9397-8fda0bcd35eb"
      },
      "source": [
        "# Hyperparameters\n",
        "num_epochs = 2\n",
        "learning_rate = 0.001\n",
        "momentum = 0.9\n",
        "\n",
        "# Model\n",
        "model = alexnet_lock.to(device)\n",
        "\n",
        "# Loss and optimizer\n",
        "criterion = torch.nn.CrossEntropyLoss()\n",
        "optimizer = torch.optim.SGD(model.parameters(), lr=learning_rate, momentum=momentum)\n",
        "\n",
        "# Train\n",
        "train_model(model, criterion, optimizer)\n",
        "\n",
        "# Eval\n",
        "eval_model(model)"
      ],
      "execution_count": null,
      "outputs": [
        {
          "output_type": "stream",
          "text": [
            "Epoch [1/2], Step [100/12500], Loss: 1.6063991785049438, Time: 0.9697377681732178\n",
            "Epoch [1/2], Step [200/12500], Loss: 1.3835158348083496, Time: 0.7986788749694824\n",
            "Epoch [1/2], Step [300/12500], Loss: 0.9807689189910889, Time: 0.8232200145721436\n",
            "Epoch [1/2], Step [400/12500], Loss: 0.8265544772148132, Time: 0.8202576637268066\n",
            "Epoch [1/2], Step [500/12500], Loss: 1.590893268585205, Time: 0.833930253982544\n",
            "Epoch [1/2], Step [600/12500], Loss: 0.9324761033058167, Time: 0.8340668678283691\n",
            "Epoch [1/2], Step [700/12500], Loss: 0.4583611488342285, Time: 0.800642728805542\n",
            "Epoch [1/2], Step [800/12500], Loss: 1.620725393295288, Time: 0.8343210220336914\n",
            "Epoch [1/2], Step [900/12500], Loss: 1.029371738433838, Time: 0.8448023796081543\n",
            "Epoch [1/2], Step [1000/12500], Loss: 1.305085301399231, Time: 0.8326833248138428\n",
            "Epoch [1/2], Step [1100/12500], Loss: 0.9985271692276001, Time: 0.8109915256500244\n",
            "Epoch [1/2], Step [1200/12500], Loss: 0.9321693778038025, Time: 0.8180696964263916\n",
            "Epoch [1/2], Step [1300/12500], Loss: 0.2854967713356018, Time: 0.7868528366088867\n",
            "Epoch [1/2], Step [1400/12500], Loss: 0.7386033535003662, Time: 0.8073098659515381\n",
            "Epoch [1/2], Step [1500/12500], Loss: 1.0177350044250488, Time: 0.8095126152038574\n",
            "Epoch [1/2], Step [1600/12500], Loss: 0.5881913900375366, Time: 0.8055822849273682\n",
            "Epoch [1/2], Step [1700/12500], Loss: 0.6950551867485046, Time: 0.8045845031738281\n",
            "Epoch [1/2], Step [1800/12500], Loss: 0.3247930705547333, Time: 0.8237521648406982\n",
            "Epoch [1/2], Step [1900/12500], Loss: 0.5518942475318909, Time: 0.8172743320465088\n",
            "Epoch [1/2], Step [2000/12500], Loss: 1.097264289855957, Time: 0.8087000846862793\n",
            "Epoch [1/2], Step [2100/12500], Loss: 0.13078472018241882, Time: 0.8081011772155762\n",
            "Epoch [1/2], Step [2200/12500], Loss: 1.8807141780853271, Time: 0.8342657089233398\n",
            "Epoch [1/2], Step [2300/12500], Loss: 0.9242702722549438, Time: 0.7867004871368408\n",
            "Epoch [1/2], Step [2400/12500], Loss: 0.43076732754707336, Time: 0.8389859199523926\n",
            "Epoch [1/2], Step [2500/12500], Loss: 0.5267519354820251, Time: 0.8125848770141602\n",
            "Epoch [1/2], Step [2600/12500], Loss: 0.7240831851959229, Time: 0.8102371692657471\n",
            "Epoch [1/2], Step [2700/12500], Loss: 0.08291435241699219, Time: 0.805558443069458\n",
            "Epoch [1/2], Step [2800/12500], Loss: 0.6569459438323975, Time: 0.8244953155517578\n",
            "Epoch [1/2], Step [2900/12500], Loss: 1.741443157196045, Time: 0.8040754795074463\n",
            "Epoch [1/2], Step [3000/12500], Loss: 0.19010210037231445, Time: 0.8111753463745117\n",
            "Epoch [1/2], Step [3100/12500], Loss: 0.6532045006752014, Time: 0.8206701278686523\n",
            "Epoch [1/2], Step [3200/12500], Loss: 0.41950538754463196, Time: 0.8199083805084229\n",
            "Epoch [1/2], Step [3300/12500], Loss: 1.1643813848495483, Time: 0.823070764541626\n",
            "Epoch [1/2], Step [3400/12500], Loss: 1.226689338684082, Time: 0.7924785614013672\n",
            "Epoch [1/2], Step [3500/12500], Loss: 0.5639850497245789, Time: 0.8158214092254639\n",
            "Epoch [1/2], Step [3600/12500], Loss: 0.8597517013549805, Time: 0.8124866485595703\n",
            "Epoch [1/2], Step [3700/12500], Loss: 0.3381930887699127, Time: 0.8096921443939209\n",
            "Epoch [1/2], Step [3800/12500], Loss: 0.5416433215141296, Time: 0.8005483150482178\n",
            "Epoch [1/2], Step [3900/12500], Loss: 0.937588095664978, Time: 0.828211784362793\n",
            "Epoch [1/2], Step [4000/12500], Loss: 1.7429394721984863, Time: 0.819075345993042\n",
            "Epoch [1/2], Step [4100/12500], Loss: 2.7855396270751953, Time: 0.8279869556427002\n",
            "Epoch [1/2], Step [4200/12500], Loss: 0.7322638034820557, Time: 0.8247334957122803\n",
            "Epoch [1/2], Step [4300/12500], Loss: 0.9925322532653809, Time: 0.8358182907104492\n",
            "Epoch [1/2], Step [4400/12500], Loss: 0.09124501049518585, Time: 0.7979755401611328\n",
            "Epoch [1/2], Step [4500/12500], Loss: 0.8903074264526367, Time: 0.8272225856781006\n",
            "Epoch [1/2], Step [4600/12500], Loss: 0.06127602607011795, Time: 0.8389387130737305\n",
            "Epoch [1/2], Step [4700/12500], Loss: 0.5799046158790588, Time: 0.835686206817627\n",
            "Epoch [1/2], Step [4800/12500], Loss: 0.896998405456543, Time: 0.8169188499450684\n",
            "Epoch [1/2], Step [4900/12500], Loss: 0.5793533325195312, Time: 0.8352494239807129\n",
            "Epoch [1/2], Step [5000/12500], Loss: 0.8605412244796753, Time: 0.8076772689819336\n",
            "Epoch [1/2], Step [5100/12500], Loss: 1.5453392267227173, Time: 0.8139016628265381\n",
            "Epoch [1/2], Step [5200/12500], Loss: 0.9337895512580872, Time: 0.8210036754608154\n",
            "Epoch [1/2], Step [5300/12500], Loss: 0.9823080897331238, Time: 0.8212952613830566\n",
            "Epoch [1/2], Step [5400/12500], Loss: 0.024286678060889244, Time: 0.8169715404510498\n",
            "Epoch [1/2], Step [5500/12500], Loss: 1.0426832437515259, Time: 0.8148047924041748\n",
            "Epoch [1/2], Step [5600/12500], Loss: 1.9151068925857544, Time: 0.8308389186859131\n",
            "Epoch [1/2], Step [5700/12500], Loss: 0.8640539646148682, Time: 0.8112730979919434\n",
            "Epoch [1/2], Step [5800/12500], Loss: 0.9046639204025269, Time: 0.8222982883453369\n",
            "Epoch [1/2], Step [5900/12500], Loss: 0.9167837500572205, Time: 0.8121378421783447\n",
            "Epoch [1/2], Step [6000/12500], Loss: 0.5471838116645813, Time: 0.8115499019622803\n",
            "Epoch [1/2], Step [6100/12500], Loss: 0.12646938860416412, Time: 0.8253297805786133\n",
            "Epoch [1/2], Step [6200/12500], Loss: 0.15064969658851624, Time: 0.8105447292327881\n",
            "Epoch [1/2], Step [6300/12500], Loss: 1.980818510055542, Time: 0.8083946704864502\n",
            "Epoch [1/2], Step [6400/12500], Loss: 0.2659508287906647, Time: 0.8145914077758789\n",
            "Epoch [1/2], Step [6500/12500], Loss: 0.702991783618927, Time: 0.8123319149017334\n",
            "Epoch [1/2], Step [6600/12500], Loss: 1.0721465349197388, Time: 0.8029665946960449\n",
            "Epoch [1/2], Step [6700/12500], Loss: 0.3959324359893799, Time: 0.8023922443389893\n",
            "Epoch [1/2], Step [6800/12500], Loss: 0.4204452335834503, Time: 0.8088967800140381\n",
            "Epoch [1/2], Step [6900/12500], Loss: 0.2465142011642456, Time: 0.8106346130371094\n",
            "Epoch [1/2], Step [7000/12500], Loss: 1.3995018005371094, Time: 0.8044111728668213\n",
            "Epoch [1/2], Step [7100/12500], Loss: 1.0515614748001099, Time: 0.8052093982696533\n",
            "Epoch [1/2], Step [7200/12500], Loss: 1.0104857683181763, Time: 0.8142471313476562\n",
            "Epoch [1/2], Step [7300/12500], Loss: 2.4564497470855713, Time: 0.8158669471740723\n",
            "Epoch [1/2], Step [7400/12500], Loss: 4.387275695800781, Time: 0.828369140625\n",
            "Epoch [1/2], Step [7500/12500], Loss: 0.17186154425144196, Time: 0.8057689666748047\n",
            "Epoch [1/2], Step [7600/12500], Loss: 0.11585429310798645, Time: 0.8229436874389648\n",
            "Epoch [1/2], Step [7700/12500], Loss: 0.6854432225227356, Time: 0.8003427982330322\n",
            "Epoch [1/2], Step [7800/12500], Loss: 0.9486708641052246, Time: 0.8253738880157471\n",
            "Epoch [1/2], Step [7900/12500], Loss: 0.21260115504264832, Time: 0.8044610023498535\n",
            "Epoch [1/2], Step [8000/12500], Loss: 0.7946569919586182, Time: 0.82999587059021\n",
            "Epoch [1/2], Step [8100/12500], Loss: 0.637887179851532, Time: 0.8191311359405518\n",
            "Epoch [1/2], Step [8200/12500], Loss: 0.19031943380832672, Time: 0.8278603553771973\n",
            "Epoch [1/2], Step [8300/12500], Loss: 0.6457411050796509, Time: 0.8544507026672363\n",
            "Epoch [1/2], Step [8400/12500], Loss: 0.43114909529685974, Time: 0.8194794654846191\n",
            "Epoch [1/2], Step [8500/12500], Loss: 0.2589459717273712, Time: 0.824336051940918\n",
            "Epoch [1/2], Step [8600/12500], Loss: 0.8381468057632446, Time: 0.8274354934692383\n",
            "Epoch [1/2], Step [8700/12500], Loss: 1.087982177734375, Time: 0.8275642395019531\n",
            "Epoch [1/2], Step [8800/12500], Loss: 0.6535693407058716, Time: 0.8145084381103516\n",
            "Epoch [1/2], Step [8900/12500], Loss: 0.8043779134750366, Time: 0.8484399318695068\n",
            "Epoch [1/2], Step [9000/12500], Loss: 1.8663686513900757, Time: 0.8296923637390137\n",
            "Epoch [1/2], Step [9100/12500], Loss: 1.27411949634552, Time: 0.8365378379821777\n",
            "Epoch [1/2], Step [9200/12500], Loss: 0.648527204990387, Time: 0.8098304271697998\n",
            "Epoch [1/2], Step [9300/12500], Loss: 1.2820541858673096, Time: 0.8417809009552002\n",
            "Epoch [1/2], Step [9400/12500], Loss: 0.2823169529438019, Time: 0.8112077713012695\n",
            "Epoch [1/2], Step [9500/12500], Loss: 0.7564831972122192, Time: 0.8066658973693848\n",
            "Epoch [1/2], Step [9600/12500], Loss: 0.6254956722259521, Time: 0.8155884742736816\n",
            "Epoch [1/2], Step [9700/12500], Loss: 0.04481836035847664, Time: 0.8125653266906738\n",
            "Epoch [1/2], Step [9800/12500], Loss: 0.33018389344215393, Time: 0.8090240955352783\n",
            "Epoch [1/2], Step [9900/12500], Loss: 1.1331145763397217, Time: 0.8035953044891357\n",
            "Epoch [1/2], Step [10000/12500], Loss: 0.34600740671157837, Time: 0.8273694515228271\n",
            "Epoch [1/2], Step [10100/12500], Loss: 0.9373306632041931, Time: 0.8170008659362793\n",
            "Epoch [1/2], Step [10200/12500], Loss: 0.36546486616134644, Time: 0.8207998275756836\n",
            "Epoch [1/2], Step [10300/12500], Loss: 1.9437637329101562, Time: 0.8145403861999512\n",
            "Epoch [1/2], Step [10400/12500], Loss: 0.7217995524406433, Time: 0.8108763694763184\n",
            "Epoch [1/2], Step [10500/12500], Loss: 0.30536291003227234, Time: 0.8219225406646729\n",
            "Epoch [1/2], Step [10600/12500], Loss: 1.4720417261123657, Time: 0.8305332660675049\n",
            "Epoch [1/2], Step [10700/12500], Loss: 0.3433769643306732, Time: 0.8035247325897217\n",
            "Epoch [1/2], Step [10800/12500], Loss: 0.19461648166179657, Time: 0.8092846870422363\n",
            "Epoch [1/2], Step [10900/12500], Loss: 1.2150945663452148, Time: 0.8157899379730225\n",
            "Epoch [1/2], Step [11000/12500], Loss: 0.9441819787025452, Time: 0.8240933418273926\n",
            "Epoch [1/2], Step [11100/12500], Loss: 0.46256789565086365, Time: 0.801123857498169\n",
            "Epoch [1/2], Step [11200/12500], Loss: 0.510202944278717, Time: 0.8185768127441406\n",
            "Epoch [1/2], Step [11300/12500], Loss: 0.993437647819519, Time: 0.8185117244720459\n",
            "Epoch [1/2], Step [11400/12500], Loss: 0.3199905455112457, Time: 0.8171257972717285\n",
            "Epoch [1/2], Step [11500/12500], Loss: 0.9346989989280701, Time: 0.8201630115509033\n",
            "Epoch [1/2], Step [11600/12500], Loss: 3.0557119846343994, Time: 0.8081905841827393\n",
            "Epoch [1/2], Step [11700/12500], Loss: 0.9757558703422546, Time: 0.8300216197967529\n",
            "Epoch [1/2], Step [11800/12500], Loss: 1.0243141651153564, Time: 0.8160593509674072\n",
            "Epoch [1/2], Step [11900/12500], Loss: 0.6505305767059326, Time: 0.8478884696960449\n",
            "Epoch [1/2], Step [12000/12500], Loss: 0.09748963266611099, Time: 0.8160099983215332\n",
            "Epoch [1/2], Step [12100/12500], Loss: 0.6243187785148621, Time: 0.8263351917266846\n",
            "Epoch [1/2], Step [12200/12500], Loss: 1.452099084854126, Time: 0.8216969966888428\n",
            "Epoch [1/2], Step [12300/12500], Loss: 0.3063591420650482, Time: 0.8105409145355225\n",
            "Epoch [1/2], Step [12400/12500], Loss: 0.47987934947013855, Time: 0.8220694065093994\n",
            "Epoch [1/2], Step [12500/12500], Loss: 0.49071723222732544, Time: 0.8042078018188477\n",
            "Epoch [2/2], Step [100/12500], Loss: 0.3632180690765381, Time: 0.9096424579620361\n",
            "Epoch [2/2], Step [200/12500], Loss: 0.6598713397979736, Time: 0.8114404678344727\n",
            "Epoch [2/2], Step [300/12500], Loss: 0.6029719114303589, Time: 0.8210113048553467\n",
            "Epoch [2/2], Step [400/12500], Loss: 2.872714042663574, Time: 0.8273868560791016\n",
            "Epoch [2/2], Step [500/12500], Loss: 0.793778657913208, Time: 0.822645902633667\n",
            "Epoch [2/2], Step [600/12500], Loss: 1.7520756721496582, Time: 0.8034930229187012\n",
            "Epoch [2/2], Step [700/12500], Loss: 0.19261868298053741, Time: 0.8170866966247559\n",
            "Epoch [2/2], Step [800/12500], Loss: 0.5652464032173157, Time: 0.8102021217346191\n",
            "Epoch [2/2], Step [900/12500], Loss: 0.612334668636322, Time: 0.8114674091339111\n",
            "Epoch [2/2], Step [1000/12500], Loss: 1.4171128273010254, Time: 0.7875432968139648\n",
            "Epoch [2/2], Step [1100/12500], Loss: 1.1042144298553467, Time: 0.8116700649261475\n",
            "Epoch [2/2], Step [1200/12500], Loss: 2.6437392234802246, Time: 0.837770938873291\n",
            "Epoch [2/2], Step [1300/12500], Loss: 0.2788592576980591, Time: 0.8288400173187256\n",
            "Epoch [2/2], Step [1400/12500], Loss: 0.6452152132987976, Time: 0.8504540920257568\n",
            "Epoch [2/2], Step [1500/12500], Loss: 0.07773079723119736, Time: 0.8460099697113037\n",
            "Epoch [2/2], Step [1600/12500], Loss: 0.848203718662262, Time: 0.8111097812652588\n",
            "Epoch [2/2], Step [1700/12500], Loss: 0.458032488822937, Time: 0.8269503116607666\n",
            "Epoch [2/2], Step [1800/12500], Loss: 0.7118319869041443, Time: 0.8524045944213867\n",
            "Epoch [2/2], Step [1900/12500], Loss: 1.1733546257019043, Time: 0.8183486461639404\n",
            "Epoch [2/2], Step [2000/12500], Loss: 0.7836736440658569, Time: 0.8223617076873779\n",
            "Epoch [2/2], Step [2100/12500], Loss: 1.2639808654785156, Time: 0.8172333240509033\n",
            "Epoch [2/2], Step [2200/12500], Loss: 1.3627936840057373, Time: 0.8351912498474121\n",
            "Epoch [2/2], Step [2300/12500], Loss: 2.7442500591278076, Time: 0.8289198875427246\n",
            "Epoch [2/2], Step [2400/12500], Loss: 0.40318769216537476, Time: 0.8385567665100098\n",
            "Epoch [2/2], Step [2500/12500], Loss: 0.2127610743045807, Time: 0.832167387008667\n",
            "Epoch [2/2], Step [2600/12500], Loss: 0.10755525529384613, Time: 0.8289265632629395\n",
            "Epoch [2/2], Step [2700/12500], Loss: 0.8928454518318176, Time: 0.8423402309417725\n",
            "Epoch [2/2], Step [2800/12500], Loss: 0.43439143896102905, Time: 0.8556020259857178\n",
            "Epoch [2/2], Step [2900/12500], Loss: 0.8902762532234192, Time: 0.8203489780426025\n",
            "Epoch [2/2], Step [3000/12500], Loss: 0.5707114934921265, Time: 0.8199076652526855\n",
            "Epoch [2/2], Step [3100/12500], Loss: 1.0012832880020142, Time: 0.8207998275756836\n",
            "Epoch [2/2], Step [3200/12500], Loss: 0.49851036071777344, Time: 0.7925729751586914\n",
            "Epoch [2/2], Step [3300/12500], Loss: 0.6863923668861389, Time: 0.8117494583129883\n",
            "Epoch [2/2], Step [3400/12500], Loss: 0.1643970012664795, Time: 0.8251330852508545\n",
            "Epoch [2/2], Step [3500/12500], Loss: 0.37888815999031067, Time: 0.8067536354064941\n",
            "Epoch [2/2], Step [3600/12500], Loss: 0.6180516481399536, Time: 0.8202528953552246\n",
            "Epoch [2/2], Step [3700/12500], Loss: 0.5802485942840576, Time: 0.8013920783996582\n",
            "Epoch [2/2], Step [3800/12500], Loss: 0.05337907746434212, Time: 0.8382837772369385\n",
            "Epoch [2/2], Step [3900/12500], Loss: 1.3778436183929443, Time: 0.8172810077667236\n",
            "Epoch [2/2], Step [4000/12500], Loss: 0.8437150716781616, Time: 0.8204505443572998\n",
            "Epoch [2/2], Step [4100/12500], Loss: 0.03384402021765709, Time: 0.80218505859375\n",
            "Epoch [2/2], Step [4200/12500], Loss: 1.100348949432373, Time: 0.8055386543273926\n",
            "Epoch [2/2], Step [4300/12500], Loss: 0.4952702224254608, Time: 0.8232150077819824\n",
            "Epoch [2/2], Step [4400/12500], Loss: 0.8529579639434814, Time: 0.8324933052062988\n",
            "Epoch [2/2], Step [4500/12500], Loss: 1.8699791431427002, Time: 0.852367639541626\n",
            "Epoch [2/2], Step [4600/12500], Loss: 0.7202994227409363, Time: 0.8129174709320068\n",
            "Epoch [2/2], Step [4700/12500], Loss: 0.07083027809858322, Time: 0.8077914714813232\n",
            "Epoch [2/2], Step [4800/12500], Loss: 0.7318703532218933, Time: 0.8275132179260254\n",
            "Epoch [2/2], Step [4900/12500], Loss: 0.15164823830127716, Time: 0.8267912864685059\n",
            "Epoch [2/2], Step [5000/12500], Loss: 3.451688289642334, Time: 0.81221604347229\n",
            "Epoch [2/2], Step [5100/12500], Loss: 1.1244089603424072, Time: 0.8048999309539795\n",
            "Epoch [2/2], Step [5200/12500], Loss: 0.6433777809143066, Time: 0.8133594989776611\n",
            "Epoch [2/2], Step [5300/12500], Loss: 0.8244345784187317, Time: 0.810187578201294\n",
            "Epoch [2/2], Step [5400/12500], Loss: 1.3183273077011108, Time: 0.8266708850860596\n",
            "Epoch [2/2], Step [5500/12500], Loss: 1.0617661476135254, Time: 0.8418445587158203\n",
            "Epoch [2/2], Step [5600/12500], Loss: 0.6092498302459717, Time: 0.8118476867675781\n",
            "Epoch [2/2], Step [5700/12500], Loss: 1.7889854907989502, Time: 0.8223013877868652\n",
            "Epoch [2/2], Step [5800/12500], Loss: 0.4995795488357544, Time: 0.8150315284729004\n",
            "Epoch [2/2], Step [5900/12500], Loss: 0.4692741334438324, Time: 0.8162648677825928\n",
            "Epoch [2/2], Step [6000/12500], Loss: 0.3335595428943634, Time: 0.8102450370788574\n",
            "Epoch [2/2], Step [6100/12500], Loss: 0.7609072327613831, Time: 0.8170192241668701\n",
            "Epoch [2/2], Step [6200/12500], Loss: 0.1754080355167389, Time: 0.8273544311523438\n",
            "Epoch [2/2], Step [6300/12500], Loss: 0.029963374137878418, Time: 0.8049983978271484\n",
            "Epoch [2/2], Step [6400/12500], Loss: 0.70893394947052, Time: 0.8201720714569092\n",
            "Epoch [2/2], Step [6500/12500], Loss: 0.9951111674308777, Time: 0.8269169330596924\n",
            "Epoch [2/2], Step [6600/12500], Loss: 0.5249385833740234, Time: 0.8254728317260742\n",
            "Epoch [2/2], Step [6700/12500], Loss: 0.07385782152414322, Time: 0.8437027931213379\n",
            "Epoch [2/2], Step [6800/12500], Loss: 0.8299667835235596, Time: 0.8298556804656982\n",
            "Epoch [2/2], Step [6900/12500], Loss: 0.6799259185791016, Time: 0.8121292591094971\n",
            "Epoch [2/2], Step [7000/12500], Loss: 0.0930648148059845, Time: 0.8136765956878662\n",
            "Epoch [2/2], Step [7100/12500], Loss: 1.1086711883544922, Time: 0.8117735385894775\n",
            "Epoch [2/2], Step [7200/12500], Loss: 0.7589168548583984, Time: 0.810246467590332\n",
            "Epoch [2/2], Step [7300/12500], Loss: 1.7484474182128906, Time: 0.8261480331420898\n",
            "Epoch [2/2], Step [7400/12500], Loss: 0.027516646310687065, Time: 0.8435394763946533\n",
            "Epoch [2/2], Step [7500/12500], Loss: 0.008261431008577347, Time: 0.8210582733154297\n",
            "Epoch [2/2], Step [7600/12500], Loss: 0.830562949180603, Time: 0.8138532638549805\n",
            "Epoch [2/2], Step [7700/12500], Loss: 0.508175253868103, Time: 0.8189077377319336\n",
            "Epoch [2/2], Step [7800/12500], Loss: 0.17194005846977234, Time: 0.8143131732940674\n",
            "Epoch [2/2], Step [7900/12500], Loss: 1.1980563402175903, Time: 0.8123576641082764\n",
            "Epoch [2/2], Step [8000/12500], Loss: 0.45149192214012146, Time: 0.8277957439422607\n",
            "Epoch [2/2], Step [8100/12500], Loss: 0.2909175157546997, Time: 0.8107554912567139\n",
            "Epoch [2/2], Step [8200/12500], Loss: 1.4572218656539917, Time: 0.811333179473877\n",
            "Epoch [2/2], Step [8300/12500], Loss: 0.6774466633796692, Time: 0.810783863067627\n",
            "Epoch [2/2], Step [8400/12500], Loss: 1.191849946975708, Time: 0.8403153419494629\n",
            "Epoch [2/2], Step [8500/12500], Loss: 0.877011775970459, Time: 0.8210384845733643\n",
            "Epoch [2/2], Step [8600/12500], Loss: 1.076132893562317, Time: 0.8156368732452393\n",
            "Epoch [2/2], Step [8700/12500], Loss: 0.476909339427948, Time: 0.8196280002593994\n",
            "Epoch [2/2], Step [8800/12500], Loss: 0.34321457147598267, Time: 0.8274490833282471\n",
            "Epoch [2/2], Step [8900/12500], Loss: 0.23387926816940308, Time: 0.7870025634765625\n",
            "Epoch [2/2], Step [9000/12500], Loss: 1.1577699184417725, Time: 0.8017151355743408\n",
            "Epoch [2/2], Step [9100/12500], Loss: 0.3798958361148834, Time: 0.8152046203613281\n",
            "Epoch [2/2], Step [9200/12500], Loss: 0.004684811923652887, Time: 0.8360440731048584\n",
            "Epoch [2/2], Step [9300/12500], Loss: 0.20031575858592987, Time: 0.8181943893432617\n",
            "Epoch [2/2], Step [9400/12500], Loss: 0.40675604343414307, Time: 0.8096086978912354\n",
            "Epoch [2/2], Step [9500/12500], Loss: 0.0929502546787262, Time: 0.8368213176727295\n",
            "Epoch [2/2], Step [9600/12500], Loss: 0.33449792861938477, Time: 0.8029763698577881\n",
            "Epoch [2/2], Step [9700/12500], Loss: 0.19900168478488922, Time: 0.8002238273620605\n",
            "Epoch [2/2], Step [9800/12500], Loss: 0.008255249820649624, Time: 0.8103170394897461\n",
            "Epoch [2/2], Step [9900/12500], Loss: 0.4584745168685913, Time: 0.8248085975646973\n",
            "Epoch [2/2], Step [10000/12500], Loss: 0.35899242758750916, Time: 0.8221619129180908\n",
            "Epoch [2/2], Step [10100/12500], Loss: 1.2706506252288818, Time: 0.7942345142364502\n",
            "Epoch [2/2], Step [10200/12500], Loss: 0.451986163854599, Time: 0.8122515678405762\n",
            "Epoch [2/2], Step [10300/12500], Loss: 0.7357502579689026, Time: 0.8055901527404785\n",
            "Epoch [2/2], Step [10400/12500], Loss: 0.8121556043624878, Time: 0.8046514987945557\n",
            "Epoch [2/2], Step [10500/12500], Loss: 0.5716556906700134, Time: 0.8187587261199951\n",
            "Epoch [2/2], Step [10600/12500], Loss: 0.20778889954090118, Time: 0.8251752853393555\n",
            "Epoch [2/2], Step [10700/12500], Loss: 0.43356993794441223, Time: 0.815927267074585\n",
            "Epoch [2/2], Step [10800/12500], Loss: 0.1739293783903122, Time: 0.8074545860290527\n",
            "Epoch [2/2], Step [10900/12500], Loss: 0.5144019722938538, Time: 0.8369042873382568\n",
            "Epoch [2/2], Step [11000/12500], Loss: 0.3864504098892212, Time: 0.835162878036499\n",
            "Epoch [2/2], Step [11100/12500], Loss: 1.111384630203247, Time: 0.8292980194091797\n",
            "Epoch [2/2], Step [11200/12500], Loss: 1.0133605003356934, Time: 0.8947389125823975\n",
            "Epoch [2/2], Step [11300/12500], Loss: 0.4673628807067871, Time: 0.8293924331665039\n",
            "Epoch [2/2], Step [11400/12500], Loss: 0.16200752556324005, Time: 0.8316071033477783\n",
            "Epoch [2/2], Step [11500/12500], Loss: 1.3646459579467773, Time: 0.811922550201416\n",
            "Epoch [2/2], Step [11600/12500], Loss: 1.2025988101959229, Time: 0.8100872039794922\n",
            "Epoch [2/2], Step [11700/12500], Loss: 0.5032040476799011, Time: 0.8246016502380371\n",
            "Epoch [2/2], Step [11800/12500], Loss: 1.0253931283950806, Time: 0.8500020503997803\n",
            "Epoch [2/2], Step [11900/12500], Loss: 1.5083880424499512, Time: 0.828216552734375\n",
            "Epoch [2/2], Step [12000/12500], Loss: 0.30883175134658813, Time: 0.8201384544372559\n",
            "Epoch [2/2], Step [12100/12500], Loss: 0.6825715899467468, Time: 0.798389196395874\n",
            "Epoch [2/2], Step [12200/12500], Loss: 0.508353054523468, Time: 0.8093571662902832\n",
            "Epoch [2/2], Step [12300/12500], Loss: 0.23059464991092682, Time: 0.8140618801116943\n",
            "Epoch [2/2], Step [12400/12500], Loss: 0.48030832409858704, Time: 0.8340275287628174\n",
            "Epoch [2/2], Step [12500/12500], Loss: 0.009462550282478333, Time: 0.8203186988830566\n",
            "Training time: 206.1454255580902\n",
            "Test Accuracy of the model using the test images: 79.54 %\n"
          ],
          "name": "stdout"
        }
      ]
    },
    {
      "cell_type": "markdown",
      "metadata": {
        "id": "rW_KVtvE1JPD"
      },
      "source": [
        "\n",
        "# Other models in torchvision\n",
        "\n",
        "The cifar-10 dataset is very common for analyzing the performance of new models. You can check [the accuracy of the new models](https://benchmarks.ai/cifar-10).\n",
        "\n",
        "More [models](https://pytorch.org/vision/stable/models.html) are available in PyTorch for testing purposes.\n",
        "\n"
      ]
    },
    {
      "cell_type": "markdown",
      "metadata": {
        "id": "FsT3y1Rw-PVz"
      },
      "source": [
        "Models can be compared based on their complexity."
      ]
    },
    {
      "cell_type": "code",
      "metadata": {
        "colab": {
          "base_uri": "https://localhost:8080/"
        },
        "id": "9YGGaNR46ybY",
        "outputId": "a86133c5-b41c-44c9-8ca7-e9d3486f2745"
      },
      "source": [
        "import torchvision.models as models\n",
        "resnet18 = models.resnet18()\n",
        "alexnet = models.alexnet()\n",
        "vgg16 = models.vgg16()\n",
        "squeezenet = models.squeezenet1_0()\n",
        "densenet = models.densenet161()\n",
        "inception = models.inception_v3()\n",
        "googlenet = models.googlenet()\n",
        "shufflenet = models.shufflenet_v2_x1_0()\n",
        "mobilenet_v2 = models.mobilenet_v2()\n",
        "mobilenet_v3_large = models.mobilenet_v3_large()\n",
        "mobilenet_v3_small = models.mobilenet_v3_small()\n",
        "resnext50_32x4d = models.resnext50_32x4d()\n",
        "wide_resnet50_2 = models.wide_resnet50_2()\n",
        "mnasnet = models.mnasnet1_0()"
      ],
      "execution_count": null,
      "outputs": [
        {
          "output_type": "stream",
          "text": [
            "/usr/local/lib/python3.7/dist-packages/torchvision/models/inception.py:82: FutureWarning: The default weight initialization of inception_v3 will be changed in future releases of torchvision. If you wish to keep the old behavior (which leads to long initialization times due to scipy/scipy#11299), please set init_weights=True.\n",
            "  ' due to scipy/scipy#11299), please set init_weights=True.', FutureWarning)\n",
            "/usr/local/lib/python3.7/dist-packages/torchvision/models/googlenet.py:79: FutureWarning: The default weight initialization of GoogleNet will be changed in future releases of torchvision. If you wish to keep the old behavior (which leads to long initialization times due to scipy/scipy#11299), please set init_weights=True.\n",
            "  ' due to scipy/scipy#11299), please set init_weights=True.', FutureWarning)\n"
          ],
          "name": "stderr"
        }
      ]
    },
    {
      "cell_type": "code",
      "metadata": {
        "colab": {
          "base_uri": "https://localhost:8080/"
        },
        "id": "-Ow33sZ17B3U",
        "outputId": "5e631f4f-9ab8-45ff-e6a4-90c93cfcf2db"
      },
      "source": [
        "total_params = sum(p.numel() for p in vgg16.parameters())\n",
        "print(f'Total params: {total_params:,}');"
      ],
      "execution_count": null,
      "outputs": [
        {
          "output_type": "stream",
          "text": [
            "Total params: 138,357,544\n"
          ],
          "name": "stdout"
        }
      ]
    },
    {
      "cell_type": "code",
      "metadata": {
        "colab": {
          "base_uri": "https://localhost:8080/",
          "height": 370
        },
        "id": "GKkAHyIZ7rUt",
        "outputId": "b087d93b-ac40-44fe-87fa-15de7d00090e"
      },
      "source": [
        "m = []\n",
        "\n",
        "m.append(resnet18)\n",
        "m.append(alexnet)\n",
        "m.append(vgg16)\n",
        "m.append(squeezenet)\n",
        "m.append(densenet)\n",
        "m.append(inception)\n",
        "m.append(googlenet)\n",
        "m.append(shufflenet)\n",
        "m.append(mobilenet_v2)\n",
        "m.append(mobilenet_v3_large)\n",
        "m.append(mobilenet_v3_small)\n",
        "m.append(resnext50_32x4d)\n",
        "m.append(wide_resnet50_2)\n",
        "m.append(mnasnet)\n",
        "\n",
        "params = []\n",
        "for model in m:\n",
        "  params.append(sum(p.numel() for p in model.parameters()))\n",
        "\n",
        "tparams = torch.tensor(params)\n",
        "objects = ('resnet18', 'alexnet', 'vgg16', 'squeezenet', 'densenet', \n",
        "           'inception', 'googlenet', 'shufflenet', 'mobilenet_v2', 'mobilenet_v3_large', \n",
        "           'mobilenet_v3_small', 'resnext50_32x4d', 'wide_resnet50_2', 'mnasnet')\n",
        "pos = range(len(objects))\n",
        "\n",
        "y=plt.bar(pos, params, align='center', alpha=0.5)\n",
        "plt.xticks(pos, objects, rotation='vertical')\n",
        "plt.ylabel('Number of parameters')\n",
        "plt.title('Model complexity')\n",
        "\n",
        "plt.show()\n"
      ],
      "execution_count": null,
      "outputs": [
        {
          "output_type": "display_data",
          "data": {
            "image/png": "[encoded data removed]",
            "text/plain": [
              "<Figure size 432x288 with 1 Axes>"
            ]
          },
          "metadata": {
            "tags": [],
            "needs_background": "light"
          }
        }
      ]
    }
  ]
}