{
  "nbformat": 4,
  "nbformat_minor": 0,
  "metadata": {
    "colab": {
      "name": "notebooks_and_colab_introduction.ipynb",
      "provenance": [],
      "collapsed_sections": [],
      "toc_visible": true,
      "authorship_tag": "ABX9TyPAuCTWcPbRnwt3AtHO88Ha",
      "include_colab_link": true
    },
    "kernelspec": {
      "name": "python3",
      "display_name": "Python 3"
    },
    "language_info": {
      "name": "python"
    }
  },
  "cells": [
    {
      "cell_type": "markdown",
      "metadata": {
        "id": "view-in-github",
        "colab_type": "text"
      },
      "source": [
        "<a href=\"https://colab.research.google.com/github/albertofernandezvillan/computer-vision-and-deep-learning-course/blob/main/notebooks_and_colab_introduction.ipynb\" target=\"_parent\"><img src=\"https://colab.research.google.com/assets/colab-badge.svg\" alt=\"Open In Colab\"/></a>"
      ]
    },
    {
      "cell_type": "markdown",
      "metadata": {
        "id": "dRLkM1Fr8kIH"
      },
      "source": [
        "<img align=\"left\" style=\"padding-right:10px;\" src =\"https://raw.githubusercontent.com/albertofernandezvillan/computer-vision-and-deep-learning-course/main/assets/university_oviedo_logo.png\" width=300 px>\n",
        "\n",
        "This notebook is from the Course \"***Computer vision in the new era of Artificial Intelligence and Deep Learning***\", or \"*Visión por computador en la nueva era de la Inteligencia Artificial y el Deep Learning*\" (ES) from the \"Second quarter university extension courses\" that the University of Oviedo is offering (05/04/2021 - 16/04/2021)\n",
        "\n",
        "<[Github Repository](https://github.com/albertofernandezvillan/computer-vision-and-deep-learning-course) | [Course Web Page Information](https://www.uniovi.es/estudios/extension/cursos2c/-/asset_publisher/SEp0PJi4ISGo/content/vision-por-computador-en-la-nueva-era-de-la-inteligencia-artificial-y-el-deep-learning?redirect=%2Festudios%2Fextension%2Fcursos2c)>"
      ]
    },
    {
      "cell_type": "markdown",
      "metadata": {
        "id": "4Qm-p8PG-c7g"
      },
      "source": [
        "# Summary\n",
        "\n",
        "In this notebook, an introduction to Notebooks and Colab will be given. "
      ]
    },
    {
      "cell_type": "markdown",
      "metadata": {
        "id": "cmmZ3AN-GYyB"
      },
      "source": [
        "# <p><img alt=\"Colaboratory logo\" height=\"45px\" src=\"/img/colab_favicon.ico\" align=\"left\" hspace=\"10px\" vspace=\"0px\"></p> What is Colaboratory"
      ]
    },
    {
      "cell_type": "markdown",
      "metadata": {
        "id": "o65ueHfqGmXd"
      },
      "source": [
        "Collaboratory, also called \"Colab\", allows you to run and code in Python in your browser with the following advantages:\n",
        "- No configuration required\n",
        "- Gives free access to GPUs\n",
        "- Allows content sharing easily"
      ]
    },
    {
      "cell_type": "markdown",
      "metadata": {
        "id": "dj6tJWox-3ly"
      },
      "source": [
        "# Starting with Colab\n",
        "\n",
        "- First step is to sign into your [Google account](https://accounts.google.com/signin) to start using notebooks. Note that this step is not necessary if you do not want to save your work or execute the cells (cells will be explained in next section).\n",
        "\n",
        "- If you want to save your work, click the **Copy to Drive** (**Copiar en Drive**, in spanish) button on the toolbar. This will open a new notebook in a new tab. You can rename this new notebook as desired.\n",
        "\n"
      ]
    },
    {
      "cell_type": "markdown",
      "metadata": {
        "id": "uW-3Vu8yAvms"
      },
      "source": [
        "# Cells\n",
        "\n",
        "Notebooks are composed of cells. There are two types of cells: code cells and text cells. \n",
        "- Code cells are used for both writting and executing code. \n",
        "- Text cells are used for writing text, HTML or including Figures among others.Text cells are usually included to explain or introduce a piece of code (including in one or several cells).\n"
      ]
    },
    {
      "cell_type": "markdown",
      "metadata": {
        "id": "Oa_XPhMhBmd0"
      },
      "source": [
        "## Code cells\n",
        "Below is a **code cell**. Once the toolbar button indicates CONNECTED, click in the cell to select it and execute the contents in the following ways:\n",
        "\n",
        "* Click the **Play icon** in the left gutter of the cell;\n",
        "* Type **Cmd/Ctrl+Enter** to run the cell in place;\n",
        "* Type **Shift+Enter** to run the cell and move focus to the next cell (adding one if none exists); or\n",
        "* Type **Alt+Enter** to run the cell and insert a new code cell immediately below it.\n",
        "\n",
        "There are additional options for running some or all cells in the **Runtime** (**Entorno de ejecución**, in spanish) menu."
      ]
    },
    {
      "cell_type": "code",
      "metadata": {
        "colab": {
          "base_uri": "https://localhost:8080/"
        },
        "id": "BwcQ1qVMCoJI",
        "outputId": "4b2c64a6-4565-409a-904e-9467ddf02aca"
      },
      "source": [
        "a = 10\n",
        "a"
      ],
      "execution_count": 1,
      "outputs": [
        {
          "output_type": "execute_result",
          "data": {
            "text/plain": [
              "10"
            ]
          },
          "metadata": {
            "tags": []
          },
          "execution_count": 1
        }
      ]
    },
    {
      "cell_type": "markdown",
      "metadata": {
        "id": "vC1_Wd9xCuur"
      },
      "source": [
        "## Text cells\n",
        "This is a **text cell**. You can **double-click** to edit this cell. Text cells\n",
        "use markdown syntax. To learn more, see our [markdown\n",
        "guide](/notebooks/markdown_guide.ipynb).\n",
        "\n",
        "You can also add math to text cells using [LaTeX](http://www.latex-project.org/)\n",
        "to be rendered by [MathJax](https://www.mathjax.org). Just place the statement\n",
        "within a pair of **\\$** signs. For example `$\\sqrt{3x-1}+(1+x)^2$` becomes\n",
        "$\\sqrt{3x-1}+(1+x)^2.$"
      ]
    },
    {
      "cell_type": "markdown",
      "metadata": {
        "id": "s9UweQnlDGEJ"
      },
      "source": [
        "## Adding and moving cells\n",
        "You can add new cells by using the **+ CODE** (**+ Código**, in spanish) and **+ TEXT** (**+ Texto**, in spanish) buttons that show when you hover between cells. These buttons are also in the toolbar above the notebook where they can be used to add a cell below the currently selected cell.\n",
        "\n",
        "You can move a cell by selecting it and clicking **Cell Up** (**Subir una celda**, in spanish) or **Cell Down** (**Bajar una celda**, in spanish) in the top toolbar. "
      ]
    },
    {
      "cell_type": "markdown",
      "metadata": {
        "id": "ewHGUz2yEWHG"
      },
      "source": [
        "# Working with python\n",
        "\n",
        "You can include Python code in code cells. As an example see the cell below."
      ]
    },
    {
      "cell_type": "code",
      "metadata": {
        "colab": {
          "base_uri": "https://localhost:8080/"
        },
        "id": "g9E4KkZ7Ebyw",
        "outputId": "28f1688b-a7c9-43bb-db90-1ce942e772b7"
      },
      "source": [
        "import time\n",
        "\n",
        "print(\"Sleeping\")\n",
        "time.sleep(5) # sleep for a while; interrupt me!\n",
        "print(\"Done Sleeping\")"
      ],
      "execution_count": 3,
      "outputs": [
        {
          "output_type": "stream",
          "text": [
            "Sleeping\n",
            "Done Sleeping\n"
          ],
          "name": "stdout"
        }
      ]
    },
    {
      "cell_type": "markdown",
      "metadata": {
        "id": "iAt0ivzBEPDV"
      },
      "source": [
        "# Integration with Drive\n",
        "\n",
        "Colaboratory is integrated with Google Drive. It allows you to share, comment, and collaborate on the same document with multiple people:\n",
        "\n",
        "* The **SHARE** (**Compatir**, in spanish) button (top-right of the toolbar) allows you to share the notebook and control permissions set on it.\n",
        "\n",
        "* **File->Make a Copy** (**Archivo->Guardar una copia en Drive**, in spanish) creates a copy of the notebook in Drive.\n",
        "\n",
        "* **File->Save** (**Archivo->Guardar**, in spanish) saves the File to Drive. **File->Save and checkpoint** pins the version so it doesn't get deleted from the revision history. \n",
        "\n",
        "* **File->Revision history** (**Archivo->Historial de revisiones**, in spanish) shows the notebook's revision history. "
      ]
    },
    {
      "cell_type": "markdown",
      "metadata": {
        "id": "_OIcg8apEs7n"
      },
      "source": [
        "# Conclusions\n",
        "\n",
        "In this notebook, an introduction to Colab was given. "
      ]
    }
  ]
}