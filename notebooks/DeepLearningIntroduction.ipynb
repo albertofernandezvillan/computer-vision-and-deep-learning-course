{
  "nbformat": 4,
  "nbformat_minor": 0,
  "metadata": {
    "colab": {
      "name": "DeepLearningIntroduction.ipynb",
      "provenance": [],
      "collapsed_sections": [],
      "authorship_tag": "ABX9TyOnMbNJpTmP8CGGAABbKTn2",
      "include_colab_link": true
    },
    "kernelspec": {
      "name": "python3",
      "display_name": "Python 3"
    }
  },
  "cells": [
    {
      "cell_type": "markdown",
      "metadata": {
        "id": "view-in-github",
        "colab_type": "text"
      },
      "source": [
        "<a href=\"https://colab.research.google.com/github/albertofernandezvillan/dl-ml-notebooks/blob/main/DeepLearningIntroduction.ipynb\" target=\"_parent\"><img src=\"https://colab.research.google.com/assets/colab-badge.svg\" alt=\"Open In Colab\"/></a>"
      ]
    },
    {
      "cell_type": "code",
      "metadata": {
        "id": "G5IGvhT7GAgd"
      },
      "source": [
        "# Import required packages:\r\n",
        "import tensorflow as tf\r\n",
        "from tensorflow import keras\r\n",
        "import numpy as np\r\n",
        "import matplotlib.pyplot as plt\r\n",
        "from keras.utils.vis_utils import plot_model"
      ],
      "execution_count": 1,
      "outputs": []
    },
    {
      "cell_type": "code",
      "metadata": {
        "colab": {
          "base_uri": "https://localhost:8080/"
        },
        "id": "0Ivn2KnKIFuc",
        "outputId": "516645da-f5e4-4331-c696-512abcce959b"
      },
      "source": [
        "# Tensorflow 2.4.0 version was used en running this notebook\r\n",
        "print(tf.__version__)"
      ],
      "execution_count": 2,
      "outputs": [
        {
          "output_type": "stream",
          "text": [
            "2.4.0\n"
          ],
          "name": "stdout"
        }
      ]
    },
    {
      "cell_type": "code",
      "metadata": {
        "id": "I8nnmREnGKqN"
      },
      "source": [
        "### 1) First point is to define the data:\r\n",
        "# Number of points:\r\n",
        "N = 50\r\n",
        "# Make random numbers predictable:\r\n",
        "np.random.seed(101)\r\n",
        "# Generate random data composed by 50 (N = 50) points:\r\n",
        "x = np.linspace(0, N, N)\r\n",
        "y = 3 * np.linspace(0, N, N) + np.random.uniform(-10, 10, N)"
      ],
      "execution_count": 3,
      "outputs": []
    },
    {
      "cell_type": "code",
      "metadata": {
        "colab": {
          "base_uri": "https://localhost:8080/",
          "height": 295
        },
        "id": "pI8bnojHGmLw",
        "outputId": "4bd97567-29b2-40f1-9e57-c0d1383afdb9"
      },
      "source": [
        "### 2) Plot the training data:\r\n",
        "# Plot training data:\r\n",
        "# plt.subplot(1, 2, 1)\r\n",
        "plt.plot(x, y, 'ro', label='Original data')\r\n",
        "plt.xlabel('x')\r\n",
        "plt.ylabel('y')\r\n",
        "plt.title(\"Training Data\")\r\n",
        "# Show the Figure:\r\n",
        "plt.show()"
      ],
      "execution_count": 4,
      "outputs": [
        {
          "output_type": "display_data",
          "data": {
            "image/png": "[encoded data removed]",
            "text/plain": [
              "<Figure size 432x288 with 1 Axes>"
            ]
          },
          "metadata": {
            "tags": [],
            "needs_background": "light"
          }
        }
      ]
    },
    {
      "cell_type": "code",
      "metadata": {
        "id": "VncFmssSH5GA"
      },
      "source": [
        "def create_model():\r\n",
        "    \"\"\"Create the model using Sequential model\"\"\"\r\n",
        "\r\n",
        "    # Create a sequential model:\r\n",
        "    model = tf.keras.Sequential()\r\n",
        "    model.add(keras.layers.Dense(2, input_dim=1))\r\n",
        "    model.add(keras.layers.Dense(1))\r\n",
        "\r\n",
        "    # Compile the model defining mean squared error(mse) as the loss (loss='mean_squared_error' can also be written)\r\n",
        "    model.compile(optimizer=keras.optimizers.Adam(lr=0.1), loss='mse')\r\n",
        "\r\n",
        "    # Return the created model\r\n",
        "    return model"
      ],
      "execution_count": 5,
      "outputs": []
    },
    {
      "cell_type": "code",
      "metadata": {
        "colab": {
          "base_uri": "https://localhost:8080/"
        },
        "id": "_D3MLmVbJCm9",
        "outputId": "a92fc0f0-1839-4966-df54-5b5c4bc5edac"
      },
      "source": [
        "# Get the created model:\r\n",
        "linear_reg_model = create_model()\r\n",
        "print(linear_reg_model.summary())"
      ],
      "execution_count": 6,
      "outputs": [
        {
          "output_type": "stream",
          "text": [
            "Model: \"sequential\"\n",
            "_________________________________________________________________\n",
            "Layer (type)                 Output Shape              Param #   \n",
            "=================================================================\n",
            "dense (Dense)                (None, 2)                 4         \n",
            "_________________________________________________________________\n",
            "dense_1 (Dense)              (None, 1)                 3         \n",
            "=================================================================\n",
            "Total params: 7\n",
            "Trainable params: 7\n",
            "Non-trainable params: 0\n",
            "_________________________________________________________________\n",
            "None\n"
          ],
          "name": "stdout"
        }
      ]
    },
    {
      "cell_type": "code",
      "metadata": {
        "colab": {
          "base_uri": "https://localhost:8080/",
          "height": 312
        },
        "id": "s8Or4LvNKyhx",
        "outputId": "6c4022dd-2183-4196-ef57-8bee6e0147d8"
      },
      "source": [
        "# For more info: \"https://machinelearningmastery.com/visualize-deep-learning-neural-network-model-keras/\"\r\n",
        "plot_model(linear_reg_model, to_file='linear_reg_model_plot.png', show_shapes=True, show_layer_names=True)"
      ],
      "execution_count": 7,
      "outputs": [
        {
          "output_type": "execute_result",
          "data": {
            "image/png": "[encoded data removed]",
            "text/plain": [
              "<IPython.core.display.Image object>"
            ]
          },
          "metadata": {
            "tags": []
          },
          "execution_count": 7
        }
      ]
    },
    {
      "cell_type": "code",
      "metadata": {
        "id": "k0WYI6FMK_tR"
      },
      "source": [
        "history = linear_reg_model.fit(x, y, epochs=50, validation_split=0.2, verbose=0)"
      ],
      "execution_count": 8,
      "outputs": []
    },
    {
      "cell_type": "code",
      "metadata": {
        "colab": {
          "base_uri": "https://localhost:8080/"
        },
        "id": "_bCFyR9jL2CR",
        "outputId": "614c0e6b-2013-48db-884c-82f482d94ecb"
      },
      "source": [
        "# list all data in history\r\n",
        "print(history.history.keys())"
      ],
      "execution_count": 9,
      "outputs": [
        {
          "output_type": "stream",
          "text": [
            "dict_keys(['loss', 'val_loss'])\n"
          ],
          "name": "stdout"
        }
      ]
    },
    {
      "cell_type": "code",
      "metadata": {
        "colab": {
          "base_uri": "https://localhost:8080/",
          "height": 295
        },
        "id": "kQ7TCZ1GMC7W",
        "outputId": "dfac1adf-2ed7-4c04-e987-08d0dd73e035"
      },
      "source": [
        "# summarize history for loss\r\n",
        "# For more info: \"https://machinelearningmastery.com/display-deep-learning-model-training-history-in-keras/\"\r\n",
        "plt.plot(history.history['loss'])\r\n",
        "plt.plot(history.history['val_loss'])\r\n",
        "plt.title('model loss')\r\n",
        "plt.ylabel('loss')\r\n",
        "plt.xlabel('epoch')\r\n",
        "plt.legend(['loss', 'val_loss'], loc='upper left')\r\n",
        "plt.show()"
      ],
      "execution_count": 10,
      "outputs": [
        {
          "output_type": "display_data",
          "data": {
            "image/png": "[encoded data removed]",
            "text/plain": [
              "<Figure size 432x288 with 1 Axes>"
            ]
          },
          "metadata": {
            "tags": [],
            "needs_background": "light"
          }
        }
      ]
    },
    {
      "cell_type": "code",
      "metadata": {
        "colab": {
          "base_uri": "https://localhost:8080/"
        },
        "id": "MRWPLn65QR8r",
        "outputId": "f47104f6-4432-4f1a-faa2-a396cd3b00d2"
      },
      "source": [
        "# We can use model.predict() to predict the value for a new value:\r\n",
        "print(linear_reg_model.predict([100.0]))"
      ],
      "execution_count": 11,
      "outputs": [
        {
          "output_type": "stream",
          "text": [
            "[[305.15292]]\n"
          ],
          "name": "stdout"
        }
      ]
    },
    {
      "cell_type": "code",
      "metadata": {
        "colab": {
          "base_uri": "https://localhost:8080/"
        },
        "id": "bmKurcVISc2M",
        "outputId": "564e19f9-8af4-45f0-ff5f-4453356a7cde"
      },
      "source": [
        "### Saving the model\r\n",
        "# For more info see: \"https://www.tensorflow.org/guide/keras/save_and_serialize\"\r\n",
        "# The recommended format is the following:\r\n",
        "# Calling `save(/content/linear_reg_model)` creates a SavedModel folder '/content/linear_reg_model'.\r\n",
        "linear_reg_model.save('/content/linear_reg_model')"
      ],
      "execution_count": 12,
      "outputs": [
        {
          "output_type": "stream",
          "text": [
            "INFO:tensorflow:Assets written to: /content/linear_reg_model/assets\n"
          ],
          "name": "stdout"
        }
      ]
    },
    {
      "cell_type": "code",
      "metadata": {
        "colab": {
          "base_uri": "https://localhost:8080/"
        },
        "id": "iKdbK3K3VbMU",
        "outputId": "8cf31e4a-8530-477b-9191-320ac5c942d8"
      },
      "source": [
        "# The model architecture, and training configuration (including the optimizer, losses, and metrics) \r\n",
        "# are stored in saved_model.pb. The weights are saved in the variables/ directory.\r\n",
        "!ls /content/linear_reg_model"
      ],
      "execution_count": 13,
      "outputs": [
        {
          "output_type": "stream",
          "text": [
            "assets\tsaved_model.pb\tvariables\n"
          ],
          "name": "stdout"
        }
      ]
    },
    {
      "cell_type": "code",
      "metadata": {
        "id": "1R2ogn0rUL-U"
      },
      "source": [
        "# You can also save the model using the older Keras H5 format\r\n",
        "# Keras also supports saving a single HDF5 file containing the model's architecture, \r\n",
        "# weights values, and compile() information. It is a light-weight alternative to SavedModel.\r\n",
        "linear_reg_model.save('/content/linear_reg_model.h5') "
      ],
      "execution_count": 14,
      "outputs": []
    },
    {
      "cell_type": "code",
      "metadata": {
        "id": "oG1upRxQWLQw"
      },
      "source": [
        "### Load the trained model and make predictions:\r\n",
        "reconstructed_model = keras.models.load_model('/content/linear_reg_model.h5')\r\n",
        "# Let's check:\r\n",
        "test_input = np.random.uniform(50, 80, 4)\r\n",
        "np.testing.assert_allclose(\r\n",
        "    reconstructed_model.predict(test_input), reconstructed_model.predict(test_input))\r\n",
        "\r\n",
        "# The reconstructed model is already compiled and has retained the optimizer\r\n",
        "# state, so training could be resumed in case of need"
      ],
      "execution_count": 15,
      "outputs": []
    },
    {
      "cell_type": "code",
      "metadata": {
        "id": "NlBLZCA0Yv8_",
        "outputId": "be34ee97-1e8f-41be-c22a-83051174f1d2",
        "colab": {
          "base_uri": "https://localhost:8080/"
        }
      },
      "source": [
        "# We can use the reconstructed model for predicting a new value:\r\n",
        "reconstructed_model.predict([100.0])"
      ],
      "execution_count": 16,
      "outputs": [
        {
          "output_type": "execute_result",
          "data": {
            "text/plain": [
              "array([[305.15292]], dtype=float32)"
            ]
          },
          "metadata": {
            "tags": []
          },
          "execution_count": 16
        }
      ]
    },
    {
      "cell_type": "code",
      "metadata": {
        "colab": {
          "base_uri": "https://localhost:8080/"
        },
        "id": "Oc5tT1AEWlvj",
        "outputId": "07d2a9ad-b4eb-4058-e5f8-cd042a210291"
      },
      "source": [
        "reconstructed_model_2 = keras.models.load_model('/content/linear_reg_model')\r\n",
        "reconstructed_model_2.predict([100.0])"
      ],
      "execution_count": 17,
      "outputs": [
        {
          "output_type": "execute_result",
          "data": {
            "text/plain": [
              "array([[305.15292]], dtype=float32)"
            ]
          },
          "metadata": {
            "tags": []
          },
          "execution_count": 17
        }
      ]
    },
    {
      "cell_type": "code",
      "metadata": {
        "colab": {
          "base_uri": "https://localhost:8080/"
        },
        "id": "_bSFqJS4W5H7",
        "outputId": "c367b7fb-c7c4-45a4-c1e5-1cb5cbfd173c"
      },
      "source": [
        "test_input = np.random.uniform(50, 80, 4)\r\n",
        "test_input"
      ],
      "execution_count": 18,
      "outputs": [
        {
          "output_type": "execute_result",
          "data": {
            "text/plain": [
              "array([67.25615261, 53.6130098 , 65.00350141, 54.14028705])"
            ]
          },
          "metadata": {
            "tags": []
          },
          "execution_count": 18
        }
      ]
    },
    {
      "cell_type": "code",
      "metadata": {
        "colab": {
          "base_uri": "https://localhost:8080/"
        },
        "id": "Xbm1vxHZUtTF",
        "outputId": "f4342cc2-0cc2-4745-9bfd-7a4324e061c6"
      },
      "source": [
        "predictions = reconstructed_model_2.predict(test_input)\r\n",
        "predictions"
      ],
      "execution_count": 19,
      "outputs": [
        {
          "output_type": "execute_result",
          "data": {
            "text/plain": [
              "array([[205.3786 ],\n",
              "       [163.80637],\n",
              "       [198.51453],\n",
              "       [165.41304]], dtype=float32)"
            ]
          },
          "metadata": {
            "tags": []
          },
          "execution_count": 19
        }
      ]
    }
  ]
}