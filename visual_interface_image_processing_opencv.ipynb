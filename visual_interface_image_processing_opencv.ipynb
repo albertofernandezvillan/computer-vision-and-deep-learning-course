{
  "nbformat": 4,
  "nbformat_minor": 0,
  "metadata": {
    "colab": {
      "name": "visual_interface_image_processing_opencv.ipynb",
      "provenance": [],
      "collapsed_sections": [],
      "toc_visible": true,
      "authorship_tag": "ABX9TyOvxznHmbr7j7ycl5GvV+Xd",
      "include_colab_link": true
    },
    "kernelspec": {
      "name": "python3",
      "display_name": "Python 3"
    },
    "widgets": {
      "application/vnd.jupyter.widget-state+json": {
        "75d09d1087dc401eb914ff6ade30d297": {
          "model_module": "@jupyter-widgets/controls",
          "model_name": "HBoxModel",
          "state": {
            "_view_name": "HBoxView",
            "_dom_classes": [],
            "_model_name": "HBoxModel",
            "_view_module": "@jupyter-widgets/controls",
            "_model_module_version": "1.5.0",
            "_view_count": null,
            "_view_module_version": "1.5.0",
            "box_style": "",
            "layout": "IPY_MODEL_1123676eef04468c808dd2d524a0e026",
            "_model_module": "@jupyter-widgets/controls",
            "children": [
              "IPY_MODEL_905d8af34e6c41d4a98d7d81ab1126be",
              "IPY_MODEL_5d931b15f7684406b06ca35c28245b87"
            ]
          }
        },
        "1123676eef04468c808dd2d524a0e026": {
          "model_module": "@jupyter-widgets/base",
          "model_name": "LayoutModel",
          "state": {
            "_view_name": "LayoutView",
            "grid_template_rows": null,
            "right": null,
            "justify_content": null,
            "_view_module": "@jupyter-widgets/base",
            "overflow": null,
            "_model_module_version": "1.2.0",
            "_view_count": null,
            "flex_flow": null,
            "width": null,
            "min_width": null,
            "border": null,
            "align_items": null,
            "bottom": null,
            "_model_module": "@jupyter-widgets/base",
            "top": null,
            "grid_column": null,
            "overflow_y": null,
            "overflow_x": null,
            "grid_auto_flow": null,
            "grid_area": null,
            "grid_template_columns": null,
            "flex": null,
            "_model_name": "LayoutModel",
            "justify_items": null,
            "grid_row": null,
            "max_height": null,
            "align_content": null,
            "visibility": null,
            "align_self": null,
            "height": null,
            "min_height": null,
            "padding": null,
            "grid_auto_rows": null,
            "grid_gap": null,
            "max_width": null,
            "order": null,
            "_view_module_version": "1.2.0",
            "grid_template_areas": null,
            "object_position": null,
            "object_fit": null,
            "grid_auto_columns": null,
            "margin": null,
            "display": null,
            "left": null
          }
        },
        "905d8af34e6c41d4a98d7d81ab1126be": {
          "model_module": "@jupyter-widgets/controls",
          "model_name": "DropdownModel",
          "state": {
            "_options_labels": [
              "lenna.png",
              "flowers.png"
            ],
            "_view_name": "DropdownView",
            "style": "IPY_MODEL_243f8f71d1f14483aa016fd7a58de4ac",
            "_dom_classes": [],
            "description": "Image:",
            "_model_name": "DropdownModel",
            "index": 0,
            "_view_module": "@jupyter-widgets/controls",
            "_model_module_version": "1.5.0",
            "_view_count": null,
            "disabled": false,
            "_view_module_version": "1.5.0",
            "description_tooltip": null,
            "_model_module": "@jupyter-widgets/controls",
            "layout": "IPY_MODEL_3c73fde349b242f5b6a40d319bddc7c7"
          }
        },
        "5d931b15f7684406b06ca35c28245b87": {
          "model_module": "@jupyter-widgets/controls",
          "model_name": "ButtonModel",
          "state": {
            "_view_name": "ButtonView",
            "style": "IPY_MODEL_664e79809d20468a92f05670f4ca736d",
            "_dom_classes": [],
            "description": "Load",
            "_model_name": "ButtonModel",
            "button_style": "success",
            "_view_module": "@jupyter-widgets/controls",
            "_model_module_version": "1.5.0",
            "tooltip": "",
            "_view_count": null,
            "disabled": false,
            "_view_module_version": "1.5.0",
            "layout": "IPY_MODEL_5cca98c18a2b4293912160d8062bfa18",
            "_model_module": "@jupyter-widgets/controls",
            "icon": ""
          }
        },
        "243f8f71d1f14483aa016fd7a58de4ac": {
          "model_module": "@jupyter-widgets/controls",
          "model_name": "DescriptionStyleModel",
          "state": {
            "_view_name": "StyleView",
            "_model_name": "DescriptionStyleModel",
            "description_width": "",
            "_view_module": "@jupyter-widgets/base",
            "_model_module_version": "1.5.0",
            "_view_count": null,
            "_view_module_version": "1.2.0",
            "_model_module": "@jupyter-widgets/controls"
          }
        },
        "3c73fde349b242f5b6a40d319bddc7c7": {
          "model_module": "@jupyter-widgets/base",
          "model_name": "LayoutModel",
          "state": {
            "_view_name": "LayoutView",
            "grid_template_rows": null,
            "right": null,
            "justify_content": null,
            "_view_module": "@jupyter-widgets/base",
            "overflow": null,
            "_model_module_version": "1.2.0",
            "_view_count": null,
            "flex_flow": null,
            "width": null,
            "min_width": null,
            "border": null,
            "align_items": null,
            "bottom": null,
            "_model_module": "@jupyter-widgets/base",
            "top": null,
            "grid_column": null,
            "overflow_y": null,
            "overflow_x": null,
            "grid_auto_flow": null,
            "grid_area": null,
            "grid_template_columns": null,
            "flex": null,
            "_model_name": "LayoutModel",
            "justify_items": null,
            "grid_row": null,
            "max_height": null,
            "align_content": null,
            "visibility": null,
            "align_self": null,
            "height": null,
            "min_height": null,
            "padding": null,
            "grid_auto_rows": null,
            "grid_gap": null,
            "max_width": null,
            "order": null,
            "_view_module_version": "1.2.0",
            "grid_template_areas": null,
            "object_position": null,
            "object_fit": null,
            "grid_auto_columns": null,
            "margin": null,
            "display": null,
            "left": null
          }
        },
        "664e79809d20468a92f05670f4ca736d": {
          "model_module": "@jupyter-widgets/controls",
          "model_name": "ButtonStyleModel",
          "state": {
            "_view_name": "StyleView",
            "_model_name": "ButtonStyleModel",
            "_view_module": "@jupyter-widgets/base",
            "_model_module_version": "1.5.0",
            "_view_count": null,
            "button_color": null,
            "font_weight": "",
            "_view_module_version": "1.2.0",
            "_model_module": "@jupyter-widgets/controls"
          }
        },
        "5cca98c18a2b4293912160d8062bfa18": {
          "model_module": "@jupyter-widgets/base",
          "model_name": "LayoutModel",
          "state": {
            "_view_name": "LayoutView",
            "grid_template_rows": null,
            "right": null,
            "justify_content": null,
            "_view_module": "@jupyter-widgets/base",
            "overflow": null,
            "_model_module_version": "1.2.0",
            "_view_count": null,
            "flex_flow": null,
            "width": null,
            "min_width": null,
            "border": null,
            "align_items": null,
            "bottom": null,
            "_model_module": "@jupyter-widgets/base",
            "top": null,
            "grid_column": null,
            "overflow_y": null,
            "overflow_x": null,
            "grid_auto_flow": null,
            "grid_area": null,
            "grid_template_columns": null,
            "flex": null,
            "_model_name": "LayoutModel",
            "justify_items": null,
            "grid_row": null,
            "max_height": null,
            "align_content": null,
            "visibility": null,
            "align_self": null,
            "height": null,
            "min_height": null,
            "padding": null,
            "grid_auto_rows": null,
            "grid_gap": null,
            "max_width": null,
            "order": null,
            "_view_module_version": "1.2.0",
            "grid_template_areas": null,
            "object_position": null,
            "object_fit": null,
            "grid_auto_columns": null,
            "margin": null,
            "display": null,
            "left": null
          }
        },
        "9c3263458a934c21a38d5d6a34eaeb7d": {
          "model_module": "@jupyter-widgets/controls",
          "model_name": "HBoxModel",
          "state": {
            "_view_name": "HBoxView",
            "_dom_classes": [],
            "_model_name": "HBoxModel",
            "_view_module": "@jupyter-widgets/controls",
            "_model_module_version": "1.5.0",
            "_view_count": null,
            "_view_module_version": "1.5.0",
            "box_style": "",
            "layout": "IPY_MODEL_ac3f1d555830475988cc15fff6c084d5",
            "_model_module": "@jupyter-widgets/controls",
            "children": [
              "IPY_MODEL_9d5edbdff37d4628a36406dee9f0ebe1",
              "IPY_MODEL_59bfd001e18d43828fbe8939cbba0427"
            ]
          }
        },
        "ac3f1d555830475988cc15fff6c084d5": {
          "model_module": "@jupyter-widgets/base",
          "model_name": "LayoutModel",
          "state": {
            "_view_name": "LayoutView",
            "grid_template_rows": null,
            "right": null,
            "justify_content": null,
            "_view_module": "@jupyter-widgets/base",
            "overflow": null,
            "_model_module_version": "1.2.0",
            "_view_count": null,
            "flex_flow": null,
            "width": null,
            "min_width": null,
            "border": null,
            "align_items": null,
            "bottom": null,
            "_model_module": "@jupyter-widgets/base",
            "top": null,
            "grid_column": null,
            "overflow_y": null,
            "overflow_x": null,
            "grid_auto_flow": null,
            "grid_area": null,
            "grid_template_columns": null,
            "flex": null,
            "_model_name": "LayoutModel",
            "justify_items": null,
            "grid_row": null,
            "max_height": null,
            "align_content": null,
            "visibility": null,
            "align_self": null,
            "height": null,
            "min_height": null,
            "padding": null,
            "grid_auto_rows": null,
            "grid_gap": null,
            "max_width": null,
            "order": null,
            "_view_module_version": "1.2.0",
            "grid_template_areas": null,
            "object_position": null,
            "object_fit": null,
            "grid_auto_columns": null,
            "margin": null,
            "display": null,
            "left": null
          }
        },
        "9d5edbdff37d4628a36406dee9f0ebe1": {
          "model_module": "@jupyter-widgets/controls",
          "model_name": "ButtonModel",
          "state": {
            "_view_name": "ButtonView",
            "style": "IPY_MODEL_ff5baa6e9d6b441c9ddf8fadf001b73b",
            "_dom_classes": [],
            "description": "Threshold",
            "_model_name": "ButtonModel",
            "button_style": "",
            "_view_module": "@jupyter-widgets/controls",
            "_model_module_version": "1.5.0",
            "tooltip": "",
            "_view_count": null,
            "disabled": false,
            "_view_module_version": "1.5.0",
            "layout": "IPY_MODEL_e70cc75f02944a33913b3e331b054599",
            "_model_module": "@jupyter-widgets/controls",
            "icon": ""
          }
        },
        "59bfd001e18d43828fbe8939cbba0427": {
          "model_module": "@jupyter-widgets/controls",
          "model_name": "ButtonModel",
          "state": {
            "_view_name": "ButtonView",
            "style": "IPY_MODEL_0abf815a728b48428875734832ef1867",
            "_dom_classes": [],
            "description": "Canny",
            "_model_name": "ButtonModel",
            "button_style": "",
            "_view_module": "@jupyter-widgets/controls",
            "_model_module_version": "1.5.0",
            "tooltip": "",
            "_view_count": null,
            "disabled": false,
            "_view_module_version": "1.5.0",
            "layout": "IPY_MODEL_8a288c62392242f4804fbfc5999228c3",
            "_model_module": "@jupyter-widgets/controls",
            "icon": ""
          }
        },
        "ff5baa6e9d6b441c9ddf8fadf001b73b": {
          "model_module": "@jupyter-widgets/controls",
          "model_name": "ButtonStyleModel",
          "state": {
            "_view_name": "StyleView",
            "_model_name": "ButtonStyleModel",
            "_view_module": "@jupyter-widgets/base",
            "_model_module_version": "1.5.0",
            "_view_count": null,
            "button_color": null,
            "font_weight": "",
            "_view_module_version": "1.2.0",
            "_model_module": "@jupyter-widgets/controls"
          }
        },
        "e70cc75f02944a33913b3e331b054599": {
          "model_module": "@jupyter-widgets/base",
          "model_name": "LayoutModel",
          "state": {
            "_view_name": "LayoutView",
            "grid_template_rows": null,
            "right": null,
            "justify_content": null,
            "_view_module": "@jupyter-widgets/base",
            "overflow": null,
            "_model_module_version": "1.2.0",
            "_view_count": null,
            "flex_flow": null,
            "width": null,
            "min_width": null,
            "border": null,
            "align_items": null,
            "bottom": null,
            "_model_module": "@jupyter-widgets/base",
            "top": null,
            "grid_column": null,
            "overflow_y": null,
            "overflow_x": null,
            "grid_auto_flow": null,
            "grid_area": null,
            "grid_template_columns": null,
            "flex": null,
            "_model_name": "LayoutModel",
            "justify_items": null,
            "grid_row": null,
            "max_height": null,
            "align_content": null,
            "visibility": null,
            "align_self": null,
            "height": null,
            "min_height": null,
            "padding": null,
            "grid_auto_rows": null,
            "grid_gap": null,
            "max_width": null,
            "order": null,
            "_view_module_version": "1.2.0",
            "grid_template_areas": null,
            "object_position": null,
            "object_fit": null,
            "grid_auto_columns": null,
            "margin": null,
            "display": null,
            "left": null
          }
        },
        "0abf815a728b48428875734832ef1867": {
          "model_module": "@jupyter-widgets/controls",
          "model_name": "ButtonStyleModel",
          "state": {
            "_view_name": "StyleView",
            "_model_name": "ButtonStyleModel",
            "_view_module": "@jupyter-widgets/base",
            "_model_module_version": "1.5.0",
            "_view_count": null,
            "button_color": null,
            "font_weight": "",
            "_view_module_version": "1.2.0",
            "_model_module": "@jupyter-widgets/controls"
          }
        },
        "8a288c62392242f4804fbfc5999228c3": {
          "model_module": "@jupyter-widgets/base",
          "model_name": "LayoutModel",
          "state": {
            "_view_name": "LayoutView",
            "grid_template_rows": null,
            "right": null,
            "justify_content": null,
            "_view_module": "@jupyter-widgets/base",
            "overflow": null,
            "_model_module_version": "1.2.0",
            "_view_count": null,
            "flex_flow": null,
            "width": null,
            "min_width": null,
            "border": null,
            "align_items": null,
            "bottom": null,
            "_model_module": "@jupyter-widgets/base",
            "top": null,
            "grid_column": null,
            "overflow_y": null,
            "overflow_x": null,
            "grid_auto_flow": null,
            "grid_area": null,
            "grid_template_columns": null,
            "flex": null,
            "_model_name": "LayoutModel",
            "justify_items": null,
            "grid_row": null,
            "max_height": null,
            "align_content": null,
            "visibility": null,
            "align_self": null,
            "height": null,
            "min_height": null,
            "padding": null,
            "grid_auto_rows": null,
            "grid_gap": null,
            "max_width": null,
            "order": null,
            "_view_module_version": "1.2.0",
            "grid_template_areas": null,
            "object_position": null,
            "object_fit": null,
            "grid_auto_columns": null,
            "margin": null,
            "display": null,
            "left": null
          }
        },
        "7d1ba4800547457d9af1851f9725af96": {
          "model_module": "@jupyter-widgets/controls",
          "model_name": "HBoxModel",
          "state": {
            "_view_name": "HBoxView",
            "_dom_classes": [],
            "_model_name": "HBoxModel",
            "_view_module": "@jupyter-widgets/controls",
            "_model_module_version": "1.5.0",
            "_view_count": null,
            "_view_module_version": "1.5.0",
            "box_style": "",
            "layout": "IPY_MODEL_35dc970f20d84447b6490b2cf200c2a9",
            "_model_module": "@jupyter-widgets/controls",
            "children": [
              "IPY_MODEL_905d8af34e6c41d4a98d7d81ab1126be",
              "IPY_MODEL_5d931b15f7684406b06ca35c28245b87"
            ]
          }
        },
        "35dc970f20d84447b6490b2cf200c2a9": {
          "model_module": "@jupyter-widgets/base",
          "model_name": "LayoutModel",
          "state": {
            "_view_name": "LayoutView",
            "grid_template_rows": null,
            "right": null,
            "justify_content": null,
            "_view_module": "@jupyter-widgets/base",
            "overflow": null,
            "_model_module_version": "1.2.0",
            "_view_count": null,
            "flex_flow": null,
            "width": null,
            "min_width": null,
            "border": null,
            "align_items": null,
            "bottom": null,
            "_model_module": "@jupyter-widgets/base",
            "top": null,
            "grid_column": null,
            "overflow_y": null,
            "overflow_x": null,
            "grid_auto_flow": null,
            "grid_area": null,
            "grid_template_columns": null,
            "flex": null,
            "_model_name": "LayoutModel",
            "justify_items": null,
            "grid_row": null,
            "max_height": null,
            "align_content": null,
            "visibility": null,
            "align_self": null,
            "height": null,
            "min_height": null,
            "padding": null,
            "grid_auto_rows": null,
            "grid_gap": null,
            "max_width": null,
            "order": null,
            "_view_module_version": "1.2.0",
            "grid_template_areas": null,
            "object_position": null,
            "object_fit": null,
            "grid_auto_columns": null,
            "margin": null,
            "display": null,
            "left": null
          }
        },
        "c56906bee0a84367a5082c1b86642980": {
          "model_module": "@jupyter-widgets/controls",
          "model_name": "HBoxModel",
          "state": {
            "_view_name": "HBoxView",
            "_dom_classes": [],
            "_model_name": "HBoxModel",
            "_view_module": "@jupyter-widgets/controls",
            "_model_module_version": "1.5.0",
            "_view_count": null,
            "_view_module_version": "1.5.0",
            "box_style": "",
            "layout": "IPY_MODEL_2ed1d73da58f48c6bbbe563439d86200",
            "_model_module": "@jupyter-widgets/controls",
            "children": [
              "IPY_MODEL_9d5edbdff37d4628a36406dee9f0ebe1",
              "IPY_MODEL_59bfd001e18d43828fbe8939cbba0427"
            ]
          }
        },
        "2ed1d73da58f48c6bbbe563439d86200": {
          "model_module": "@jupyter-widgets/base",
          "model_name": "LayoutModel",
          "state": {
            "_view_name": "LayoutView",
            "grid_template_rows": null,
            "right": null,
            "justify_content": null,
            "_view_module": "@jupyter-widgets/base",
            "overflow": null,
            "_model_module_version": "1.2.0",
            "_view_count": null,
            "flex_flow": null,
            "width": null,
            "min_width": null,
            "border": null,
            "align_items": null,
            "bottom": null,
            "_model_module": "@jupyter-widgets/base",
            "top": null,
            "grid_column": null,
            "overflow_y": null,
            "overflow_x": null,
            "grid_auto_flow": null,
            "grid_area": null,
            "grid_template_columns": null,
            "flex": null,
            "_model_name": "LayoutModel",
            "justify_items": null,
            "grid_row": null,
            "max_height": null,
            "align_content": null,
            "visibility": null,
            "align_self": null,
            "height": null,
            "min_height": null,
            "padding": null,
            "grid_auto_rows": null,
            "grid_gap": null,
            "max_width": null,
            "order": null,
            "_view_module_version": "1.2.0",
            "grid_template_areas": null,
            "object_position": null,
            "object_fit": null,
            "grid_auto_columns": null,
            "margin": null,
            "display": null,
            "left": null
          }
        },
        "89c53452ad644d39a84f1cacf181574e": {
          "model_module": "@jupyter-widgets/controls",
          "model_name": "HBoxModel",
          "state": {
            "_view_name": "HBoxView",
            "_dom_classes": [],
            "_model_name": "HBoxModel",
            "_view_module": "@jupyter-widgets/controls",
            "_model_module_version": "1.5.0",
            "_view_count": null,
            "_view_module_version": "1.5.0",
            "box_style": "",
            "layout": "IPY_MODEL_d31d48bb0f0f48508471fb6fa94bfcfd",
            "_model_module": "@jupyter-widgets/controls",
            "children": [
              "IPY_MODEL_905d8af34e6c41d4a98d7d81ab1126be",
              "IPY_MODEL_5d931b15f7684406b06ca35c28245b87"
            ]
          }
        },
        "d31d48bb0f0f48508471fb6fa94bfcfd": {
          "model_module": "@jupyter-widgets/base",
          "model_name": "LayoutModel",
          "state": {
            "_view_name": "LayoutView",
            "grid_template_rows": null,
            "right": null,
            "justify_content": null,
            "_view_module": "@jupyter-widgets/base",
            "overflow": null,
            "_model_module_version": "1.2.0",
            "_view_count": null,
            "flex_flow": null,
            "width": null,
            "min_width": null,
            "border": null,
            "align_items": null,
            "bottom": null,
            "_model_module": "@jupyter-widgets/base",
            "top": null,
            "grid_column": null,
            "overflow_y": null,
            "overflow_x": null,
            "grid_auto_flow": null,
            "grid_area": null,
            "grid_template_columns": null,
            "flex": null,
            "_model_name": "LayoutModel",
            "justify_items": null,
            "grid_row": null,
            "max_height": null,
            "align_content": null,
            "visibility": null,
            "align_self": null,
            "height": null,
            "min_height": null,
            "padding": null,
            "grid_auto_rows": null,
            "grid_gap": null,
            "max_width": null,
            "order": null,
            "_view_module_version": "1.2.0",
            "grid_template_areas": null,
            "object_position": null,
            "object_fit": null,
            "grid_auto_columns": null,
            "margin": null,
            "display": null,
            "left": null
          }
        },
        "10682195e6dc49bb8fcb8d55248d2757": {
          "model_module": "@jupyter-widgets/controls",
          "model_name": "HBoxModel",
          "state": {
            "_view_name": "HBoxView",
            "_dom_classes": [],
            "_model_name": "HBoxModel",
            "_view_module": "@jupyter-widgets/controls",
            "_model_module_version": "1.5.0",
            "_view_count": null,
            "_view_module_version": "1.5.0",
            "box_style": "",
            "layout": "IPY_MODEL_c418fe8f6629471f9177938661ea7134",
            "_model_module": "@jupyter-widgets/controls",
            "children": [
              "IPY_MODEL_9d5edbdff37d4628a36406dee9f0ebe1",
              "IPY_MODEL_59bfd001e18d43828fbe8939cbba0427"
            ]
          }
        },
        "c418fe8f6629471f9177938661ea7134": {
          "model_module": "@jupyter-widgets/base",
          "model_name": "LayoutModel",
          "state": {
            "_view_name": "LayoutView",
            "grid_template_rows": null,
            "right": null,
            "justify_content": null,
            "_view_module": "@jupyter-widgets/base",
            "overflow": null,
            "_model_module_version": "1.2.0",
            "_view_count": null,
            "flex_flow": null,
            "width": null,
            "min_width": null,
            "border": null,
            "align_items": null,
            "bottom": null,
            "_model_module": "@jupyter-widgets/base",
            "top": null,
            "grid_column": null,
            "overflow_y": null,
            "overflow_x": null,
            "grid_auto_flow": null,
            "grid_area": null,
            "grid_template_columns": null,
            "flex": null,
            "_model_name": "LayoutModel",
            "justify_items": null,
            "grid_row": null,
            "max_height": null,
            "align_content": null,
            "visibility": null,
            "align_self": null,
            "height": null,
            "min_height": null,
            "padding": null,
            "grid_auto_rows": null,
            "grid_gap": null,
            "max_width": null,
            "order": null,
            "_view_module_version": "1.2.0",
            "grid_template_areas": null,
            "object_position": null,
            "object_fit": null,
            "grid_auto_columns": null,
            "margin": null,
            "display": null,
            "left": null
          }
        }
      }
    }
  },
  "cells": [
    {
      "cell_type": "markdown",
      "metadata": {
        "id": "view-in-github",
        "colab_type": "text"
      },
      "source": [
        "<a href=\"https://colab.research.google.com/github/albertofernandezvillan/computer-vision-and-deep-learning-course/blob/main/visual_interface_image_processing_opencv.ipynb\" target=\"_parent\"><img src=\"https://colab.research.google.com/assets/colab-badge.svg\" alt=\"Open In Colab\"/></a>"
      ]
    },
    {
      "cell_type": "markdown",
      "metadata": {
        "id": "PlaeeFFsxJtJ"
      },
      "source": [
        "<img align=\"left\" style=\"padding-right:10px;\" src =\"https://raw.githubusercontent.com/albertofernandezvillan/computer-vision-and-deep-learning-course/main/assets/university_oviedo_logo.png\" width=300 px>\r\n",
        "\r\n",
        "This notebook is from the Course \"***Computer vision in the new era of Artificial Intelligence and Deep Learning***\", or \"*Visión por computador en la nueva era de la Inteligencia Artificial y el Deep Learning*\" (ES) from the \"Second quarter university extension courses\" that the University of Oviedo is offering (05/04/2021 - 16/04/2021)\r\n",
        "\r\n",
        "<[Github Repository](https://github.com/albertofernandezvillan/computer-vision-and-deep-learning-course) | [Course Web Page Information](https://www.uniovi.es/estudios/extension/cursos2c/-/asset_publisher/SEp0PJi4ISGo/content/vision-por-computador-en-la-nueva-era-de-la-inteligencia-artificial-y-el-deep-learning?redirect=%2Festudios%2Fextension%2Fcursos2c)>"
      ]
    },
    {
      "cell_type": "markdown",
      "metadata": {
        "id": "PPXjD_JAxO2h"
      },
      "source": [
        "# Summary\r\n",
        "\r\n",
        "In this example, we are exploring how to build a (very basic) computer vision interface for image processing purposes.\r\n"
      ]
    },
    {
      "cell_type": "markdown",
      "metadata": {
        "id": "bpSbrvO-AXoL"
      },
      "source": [
        "<center><img src=\"https://raw.githubusercontent.com/albertofernandezvillan/computer-vision-and-deep-learning-course/main/assets/visual_interface_output.png\"></center>"
      ]
    },
    {
      "cell_type": "markdown",
      "metadata": {
        "id": "CS-FkypqzfuW"
      },
      "source": [
        "# Visual interface for image processing"
      ]
    },
    {
      "cell_type": "markdown",
      "metadata": {
        "id": "gJqGNOb-wYHe"
      },
      "source": [
        "As first step, we can download the sample images, which are going to be processed later."
      ]
    },
    {
      "cell_type": "code",
      "metadata": {
        "id": "bYJD5SXaoX4H"
      },
      "source": [
        "# Download sample images:\r\n",
        "!wget https://raw.githubusercontent.com/albertofernandezvillan/computer-vision-and-deep-learning-course/main/assets/lenna.png\r\n",
        "!wget https://raw.githubusercontent.com/albertofernandezvillan/computer-vision-and-deep-learning-course/main/assets/flowers.png"
      ],
      "execution_count": null,
      "outputs": []
    },
    {
      "cell_type": "markdown",
      "metadata": {
        "id": "T8EI3Wn6lw14"
      },
      "source": [
        "We can include all the required packages needed to run this example."
      ]
    },
    {
      "cell_type": "code",
      "metadata": {
        "id": "4XbtdNAXlf4z"
      },
      "source": [
        "#Import required packages:\r\n",
        "import cv2\r\n",
        "import numpy as np\r\n",
        "import ipywidgets as widgets\r\n",
        "import os\r\n",
        "from google.colab.patches import cv2_imshow\r\n",
        "from IPython.display import clear_output"
      ],
      "execution_count": 2,
      "outputs": []
    },
    {
      "cell_type": "markdown",
      "metadata": {
        "id": "f2b81iEFwi1G"
      },
      "source": [
        "Additionally, we load the `path_images` for each image to be processed later."
      ]
    },
    {
      "cell_type": "code",
      "metadata": {
        "colab": {
          "base_uri": "https://localhost:8080/"
        },
        "id": "1WIfZrPknwTT",
        "outputId": "301c337f-e8d3-41e1-b39d-1d32a9341a38"
      },
      "source": [
        "#Load the path of the images:\r\n",
        "DIR_PATH = '/content'\r\n",
        "included_extensions = ('.jpg','.jpeg', '.png')\r\n",
        "\r\n",
        "path_images = [f for f in os.listdir(DIR_PATH) if any(f.endswith(ext) for ext in included_extensions)]\r\n",
        "\r\n",
        "print(\"Loaded images: '{}'\".format(path_images))\r\n",
        "\r\n",
        "if not path_images:\r\n",
        "  print(\"Please, consider downloading some images (with the required extension) before proceding further with this notebook\")"
      ],
      "execution_count": 3,
      "outputs": [
        {
          "output_type": "stream",
          "text": [
            "Loaded images: '['lenna.png', 'flowers.png']'\n"
          ],
          "name": "stdout"
        }
      ]
    },
    {
      "cell_type": "markdown",
      "metadata": {
        "id": "GJ_agu7842zq"
      },
      "source": [
        "As a note, we can load the `path_images` using `glob`:"
      ]
    },
    {
      "cell_type": "code",
      "metadata": {
        "colab": {
          "base_uri": "https://localhost:8080/"
        },
        "id": "MSLs8K8x4T9U",
        "outputId": "cfed69cf-0e27-4be1-b638-7a8682d01451"
      },
      "source": [
        "import glob\r\n",
        "\r\n",
        "included_types = ('*.jpg', '*.jpeg', '*.png')\r\n",
        "path_images = []\r\n",
        "for files in included_types:\r\n",
        "    path_images.extend(glob.glob(files))\r\n",
        "\r\n",
        "print(\"Loaded images: '{}'\".format(path_images))"
      ],
      "execution_count": 4,
      "outputs": [
        {
          "output_type": "stream",
          "text": [
            "Loaded images: '['lenna.png', 'flowers.png']'\n"
          ],
          "name": "stdout"
        }
      ]
    },
    {
      "cell_type": "markdown",
      "metadata": {
        "id": "ZfJsdi1qmE8b"
      },
      "source": [
        "We create three buttons:"
      ]
    },
    {
      "cell_type": "code",
      "metadata": {
        "id": "J929n5MZmKlP"
      },
      "source": [
        "# Create the buttons:\r\n",
        "# Create the 'main' button:\r\n",
        "load_button = widgets.Button(description='Load', button_style='success')\r\n",
        "\r\n",
        "# Create the 'menu' buttons\r\n",
        "thres_button = widgets.Button(description='Threshold')\r\n",
        "canny_button = widgets.Button(description='Canny')"
      ],
      "execution_count": 5,
      "outputs": []
    },
    {
      "cell_type": "markdown",
      "metadata": {
        "id": "spRLsUuWmXGB"
      },
      "source": [
        "We create the functions to be called when 'on click' event will take place. Additionally, we also define the function to display the menu. Note that function `on_click_load()` loads the image (in grayscale):\r\n",
        "\r\n",
        "`img = cv2.imread(path_img, cv2.IMREAD_GRAYSCALE)`\r\n",
        "\r\n",
        "This is because in the two image processing functions that we are showing (canny and threshold) the image needs to be in grayscale mode. Take this into account if additional processing algorithms are added. "
      ]
    },
    {
      "cell_type": "code",
      "metadata": {
        "id": "maQSk7LWmenF"
      },
      "source": [
        "# Create the functions to be called:\r\n",
        "def display_menu():\r\n",
        "  selector_box = widgets.HBox([file_selector, load_button])\r\n",
        "  display(selector_box)  \r\n",
        "  button_box = widgets.HBox([thres_button, canny_button])\r\n",
        "  display(button_box)\r\n",
        "\r\n",
        "def show_everything(img_res, show_res = False):\r\n",
        "  clear_output()\r\n",
        "  display_menu()\r\n",
        "  if show_res:\r\n",
        "    res = np.hstack((img, img_res))\r\n",
        "    res = cv2.copyMakeBorder(res, 5, 5, 5, 5, cv2.BORDER_CONSTANT)\r\n",
        "    cv2_imshow(res)\r\n",
        "  else:\r\n",
        "    cv2_imshow(img_res)\r\n",
        "\r\n",
        "def on_click_load(button):\r\n",
        "  global img\r\n",
        "  path_img = os.path.join(DIR_PATH, file_selector.value)\r\n",
        "  img = cv2.imread(path_img, cv2.IMREAD_GRAYSCALE)\r\n",
        "  show_everything(img)\r\n",
        "\r\n",
        "def on_click_threshold(button):\r\n",
        "  global img\r\n",
        "  try:\r\n",
        "    res = threshold_image_processing(img)\r\n",
        "    show_everything(res, show_res=True)\r\n",
        "  except NameError:\r\n",
        "    print(\"Load the image first!\")\r\n",
        "\r\n",
        "def on_click_canny(button):\r\n",
        "  global img\r\n",
        "  try:\r\n",
        "    res = canny_img_processing(img)\r\n",
        "    show_everything(res, show_res=True)\r\n",
        "  except NameError:\r\n",
        "    print(\"Load the image first!\")"
      ],
      "execution_count": 6,
      "outputs": []
    },
    {
      "cell_type": "markdown",
      "metadata": {
        "id": "h5dehDXdm_n1"
      },
      "source": [
        "We register for each button the corresponding method that will take place when clicking on each one:"
      ]
    },
    {
      "cell_type": "code",
      "metadata": {
        "id": "xaLs_hBNm8dG"
      },
      "source": [
        "# Define on_click method for each button:\r\n",
        "load_button.on_click(on_click_load)\r\n",
        "thres_button.on_click(on_click_threshold)\r\n",
        "canny_button.on_click(on_click_canny)"
      ],
      "execution_count": 7,
      "outputs": []
    },
    {
      "cell_type": "markdown",
      "metadata": {
        "id": "BqTWdr3MnYZX"
      },
      "source": [
        "We algo create two methods for processing the images: one for each processing type corresponding for each option in the menu."
      ]
    },
    {
      "cell_type": "code",
      "metadata": {
        "id": "P8GKUj46ngL-"
      },
      "source": [
        "# Define the threshold function:\r\n",
        "def threshold_image_processing(input_img):\r\n",
        "  ret, thresh_result = cv2.threshold(input_img, threshold_param, 255, cv2.THRESH_BINARY)\r\n",
        "  return thresh_result\r\n",
        "\r\n",
        "# Define the canny processing function:\r\n",
        "def canny_img_processing(input_img):\r\n",
        "  canny_res = cv2.Canny(input_img, min_val_canny_param, max_val_canny_param, aperture_size_canny_param)\r\n",
        "  return canny_res"
      ],
      "execution_count": 8,
      "outputs": []
    },
    {
      "cell_type": "markdown",
      "metadata": {
        "id": "86FDdyAbnkSS"
      },
      "source": [
        "Set the parameters of this functions with sliders as follows."
      ]
    },
    {
      "cell_type": "code",
      "metadata": {
        "id": "3Ibp0CZQno4A"
      },
      "source": [
        "#@title Threshold parameters { run: \"auto\" }\r\n",
        "threshold_param = 116 #@param {type:\"slider\", min:1, max:255, step:1}"
      ],
      "execution_count": 9,
      "outputs": []
    },
    {
      "cell_type": "code",
      "metadata": {
        "id": "JGVq1UgxnsDZ"
      },
      "source": [
        "#@title Canny parameters { run: \"auto\" }\r\n",
        "min_val_canny_param = 220 #@param {type:\"slider\", min:0, max:360, step:10}\r\n",
        "max_val_canny_param = 100 #@param {type:\"slider\", min:0, max:255, step:10}\r\n",
        "aperture_size_canny_param = 12 #@param {type:\"slider\", min:3, max:12, step:3}"
      ],
      "execution_count": 10,
      "outputs": []
    },
    {
      "cell_type": "code",
      "metadata": {
        "colab": {
          "base_uri": "https://localhost:8080/",
          "height": 311,
          "referenced_widgets": [
            "75d09d1087dc401eb914ff6ade30d297",
            "1123676eef04468c808dd2d524a0e026",
            "905d8af34e6c41d4a98d7d81ab1126be",
            "5d931b15f7684406b06ca35c28245b87",
            "243f8f71d1f14483aa016fd7a58de4ac",
            "3c73fde349b242f5b6a40d319bddc7c7",
            "664e79809d20468a92f05670f4ca736d",
            "5cca98c18a2b4293912160d8062bfa18",
            "9c3263458a934c21a38d5d6a34eaeb7d",
            "ac3f1d555830475988cc15fff6c084d5",
            "9d5edbdff37d4628a36406dee9f0ebe1",
            "59bfd001e18d43828fbe8939cbba0427",
            "ff5baa6e9d6b441c9ddf8fadf001b73b",
            "e70cc75f02944a33913b3e331b054599",
            "0abf815a728b48428875734832ef1867",
            "8a288c62392242f4804fbfc5999228c3",
            "7d1ba4800547457d9af1851f9725af96",
            "35dc970f20d84447b6490b2cf200c2a9",
            "c56906bee0a84367a5082c1b86642980",
            "2ed1d73da58f48c6bbbe563439d86200",
            "89c53452ad644d39a84f1cacf181574e",
            "d31d48bb0f0f48508471fb6fa94bfcfd",
            "10682195e6dc49bb8fcb8d55248d2757",
            "c418fe8f6629471f9177938661ea7134"
          ]
        },
        "id": "gacW27naoK92",
        "outputId": "34d50588-a4a1-48f4-b9c0-4e5d64db9a2e"
      },
      "source": [
        "try:\r\n",
        "  file_selector = widgets.Dropdown(options=path_images, description='Image:')\r\n",
        "  display_menu()\r\n",
        "except Exception as e:\r\n",
        "  print(\"Something went wrong: \", e.__class__, \"occurred.\")\r\n",
        "  print(\"Please, consider downloading some images before calling this piece of code\") "
      ],
      "execution_count": 11,
      "outputs": [
        {
          "output_type": "display_data",
          "data": {
            "application/vnd.jupyter.widget-view+json": {
              "model_id": "89c53452ad644d39a84f1cacf181574e",
              "version_minor": 0,
              "version_major": 2
            },
            "text/plain": [
              "HBox(children=(Dropdown(description='Image:', options=('lenna.png', 'flowers.png'), value='lenna.png'), Button…"
            ]
          },
          "metadata": {
            "tags": []
          }
        },
        {
          "output_type": "display_data",
          "data": {
            "application/vnd.jupyter.widget-view+json": {
              "model_id": "10682195e6dc49bb8fcb8d55248d2757",
              "version_minor": 0,
              "version_major": 2
            },
            "text/plain": [
              "HBox(children=(Button(description='Threshold', style=ButtonStyle()), Button(description='Canny', style=ButtonS…"
            ]
          },
          "metadata": {
            "tags": []
          }
        },
        {
          "output_type": "display_data",
          "data": {
            "image/png": "[encoded data removed]",
            "text/plain": [
              "<PIL.Image.Image image mode=L size=450x230 at 0x7F87E64A8B50>"
            ]
          },
          "metadata": {
            "tags": []
          }
        }
      ]
    },
    {
      "cell_type": "markdown",
      "metadata": {
        "id": "i8NJxtVp5aJ2"
      },
      "source": [
        "# Conclusions\r\n",
        "\r\n",
        "It you work a lot with image processing and setting the required parameters for each function is a key point in your processing pipeline, this notebook can be useful. In this notebook we have seen how to build a very simple visual interface for image processing purposes. It can be extended more options in the menu."
      ]
    }
  ]
}