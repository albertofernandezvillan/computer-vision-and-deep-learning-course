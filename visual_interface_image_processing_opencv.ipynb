{
  "nbformat": 4,
  "nbformat_minor": 0,
  "metadata": {
    "colab": {
      "name": "visual_interface_image_processing_opencv.ipynb",
      "provenance": [],
      "collapsed_sections": [],
      "toc_visible": true,
      "include_colab_link": true
    },
    "kernelspec": {
      "name": "python3",
      "display_name": "Python 3"
    },
    "widgets": {
      "application/vnd.jupyter.widget-state+json": {
        "128bda0c1698426c8aa292b562c2ead9": {
          "model_module": "@jupyter-widgets/controls",
          "model_name": "HBoxModel",
          "state": {
            "_view_name": "HBoxView",
            "_dom_classes": [],
            "_model_name": "HBoxModel",
            "_view_module": "@jupyter-widgets/controls",
            "_model_module_version": "1.5.0",
            "_view_count": null,
            "_view_module_version": "1.5.0",
            "box_style": "",
            "layout": "IPY_MODEL_e68ac156da914330b238b10c14dee95f",
            "_model_module": "@jupyter-widgets/controls",
            "children": [
              "IPY_MODEL_caa99adf60584daea3ca88b6228d2a9b",
              "IPY_MODEL_a7030411c2f64587868f541c6367dcc3"
            ]
          }
        },
        "e68ac156da914330b238b10c14dee95f": {
          "model_module": "@jupyter-widgets/base",
          "model_name": "LayoutModel",
          "state": {
            "_view_name": "LayoutView",
            "grid_template_rows": null,
            "right": null,
            "justify_content": null,
            "_view_module": "@jupyter-widgets/base",
            "overflow": null,
            "_model_module_version": "1.2.0",
            "_view_count": null,
            "flex_flow": null,
            "width": null,
            "min_width": null,
            "border": null,
            "align_items": null,
            "bottom": null,
            "_model_module": "@jupyter-widgets/base",
            "top": null,
            "grid_column": null,
            "overflow_y": null,
            "overflow_x": null,
            "grid_auto_flow": null,
            "grid_area": null,
            "grid_template_columns": null,
            "flex": null,
            "_model_name": "LayoutModel",
            "justify_items": null,
            "grid_row": null,
            "max_height": null,
            "align_content": null,
            "visibility": null,
            "align_self": null,
            "height": null,
            "min_height": null,
            "padding": null,
            "grid_auto_rows": null,
            "grid_gap": null,
            "max_width": null,
            "order": null,
            "_view_module_version": "1.2.0",
            "grid_template_areas": null,
            "object_position": null,
            "object_fit": null,
            "grid_auto_columns": null,
            "margin": null,
            "display": null,
            "left": null
          }
        },
        "caa99adf60584daea3ca88b6228d2a9b": {
          "model_module": "@jupyter-widgets/controls",
          "model_name": "DropdownModel",
          "state": {
            "_options_labels": [
              "flowers.png",
              "lenna.png"
            ],
            "_view_name": "DropdownView",
            "style": "IPY_MODEL_f7ff8ebce43e44cf991cbf77c6e6584d",
            "_dom_classes": [],
            "description": "Image:",
            "_model_name": "DropdownModel",
            "index": 0,
            "_view_module": "@jupyter-widgets/controls",
            "_model_module_version": "1.5.0",
            "_view_count": null,
            "disabled": false,
            "_view_module_version": "1.5.0",
            "description_tooltip": null,
            "_model_module": "@jupyter-widgets/controls",
            "layout": "IPY_MODEL_ea300722f14649a3b5b4fc6600d3b67e"
          }
        },
        "a7030411c2f64587868f541c6367dcc3": {
          "model_module": "@jupyter-widgets/controls",
          "model_name": "ButtonModel",
          "state": {
            "_view_name": "ButtonView",
            "style": "IPY_MODEL_814fb48c65b64c80b1575927ad5dd390",
            "_dom_classes": [],
            "description": "Load",
            "_model_name": "ButtonModel",
            "button_style": "success",
            "_view_module": "@jupyter-widgets/controls",
            "_model_module_version": "1.5.0",
            "tooltip": "",
            "_view_count": null,
            "disabled": false,
            "_view_module_version": "1.5.0",
            "layout": "IPY_MODEL_51f3bc036b2f456bb32f18fcb147c07e",
            "_model_module": "@jupyter-widgets/controls",
            "icon": ""
          }
        },
        "f7ff8ebce43e44cf991cbf77c6e6584d": {
          "model_module": "@jupyter-widgets/controls",
          "model_name": "DescriptionStyleModel",
          "state": {
            "_view_name": "StyleView",
            "_model_name": "DescriptionStyleModel",
            "description_width": "",
            "_view_module": "@jupyter-widgets/base",
            "_model_module_version": "1.5.0",
            "_view_count": null,
            "_view_module_version": "1.2.0",
            "_model_module": "@jupyter-widgets/controls"
          }
        },
        "ea300722f14649a3b5b4fc6600d3b67e": {
          "model_module": "@jupyter-widgets/base",
          "model_name": "LayoutModel",
          "state": {
            "_view_name": "LayoutView",
            "grid_template_rows": null,
            "right": null,
            "justify_content": null,
            "_view_module": "@jupyter-widgets/base",
            "overflow": null,
            "_model_module_version": "1.2.0",
            "_view_count": null,
            "flex_flow": null,
            "width": null,
            "min_width": null,
            "border": null,
            "align_items": null,
            "bottom": null,
            "_model_module": "@jupyter-widgets/base",
            "top": null,
            "grid_column": null,
            "overflow_y": null,
            "overflow_x": null,
            "grid_auto_flow": null,
            "grid_area": null,
            "grid_template_columns": null,
            "flex": null,
            "_model_name": "LayoutModel",
            "justify_items": null,
            "grid_row": null,
            "max_height": null,
            "align_content": null,
            "visibility": null,
            "align_self": null,
            "height": null,
            "min_height": null,
            "padding": null,
            "grid_auto_rows": null,
            "grid_gap": null,
            "max_width": null,
            "order": null,
            "_view_module_version": "1.2.0",
            "grid_template_areas": null,
            "object_position": null,
            "object_fit": null,
            "grid_auto_columns": null,
            "margin": null,
            "display": null,
            "left": null
          }
        },
        "814fb48c65b64c80b1575927ad5dd390": {
          "model_module": "@jupyter-widgets/controls",
          "model_name": "ButtonStyleModel",
          "state": {
            "_view_name": "StyleView",
            "_model_name": "ButtonStyleModel",
            "_view_module": "@jupyter-widgets/base",
            "_model_module_version": "1.5.0",
            "_view_count": null,
            "button_color": null,
            "font_weight": "",
            "_view_module_version": "1.2.0",
            "_model_module": "@jupyter-widgets/controls"
          }
        },
        "51f3bc036b2f456bb32f18fcb147c07e": {
          "model_module": "@jupyter-widgets/base",
          "model_name": "LayoutModel",
          "state": {
            "_view_name": "LayoutView",
            "grid_template_rows": null,
            "right": null,
            "justify_content": null,
            "_view_module": "@jupyter-widgets/base",
            "overflow": null,
            "_model_module_version": "1.2.0",
            "_view_count": null,
            "flex_flow": null,
            "width": null,
            "min_width": null,
            "border": null,
            "align_items": null,
            "bottom": null,
            "_model_module": "@jupyter-widgets/base",
            "top": null,
            "grid_column": null,
            "overflow_y": null,
            "overflow_x": null,
            "grid_auto_flow": null,
            "grid_area": null,
            "grid_template_columns": null,
            "flex": null,
            "_model_name": "LayoutModel",
            "justify_items": null,
            "grid_row": null,
            "max_height": null,
            "align_content": null,
            "visibility": null,
            "align_self": null,
            "height": null,
            "min_height": null,
            "padding": null,
            "grid_auto_rows": null,
            "grid_gap": null,
            "max_width": null,
            "order": null,
            "_view_module_version": "1.2.0",
            "grid_template_areas": null,
            "object_position": null,
            "object_fit": null,
            "grid_auto_columns": null,
            "margin": null,
            "display": null,
            "left": null
          }
        },
        "89d472f852874e07b2d3c52b92f3d3d7": {
          "model_module": "@jupyter-widgets/controls",
          "model_name": "HBoxModel",
          "state": {
            "_view_name": "HBoxView",
            "_dom_classes": [],
            "_model_name": "HBoxModel",
            "_view_module": "@jupyter-widgets/controls",
            "_model_module_version": "1.5.0",
            "_view_count": null,
            "_view_module_version": "1.5.0",
            "box_style": "",
            "layout": "IPY_MODEL_814cf553f6b24a4bac4e9c5338086741",
            "_model_module": "@jupyter-widgets/controls",
            "children": [
              "IPY_MODEL_518bf79a0fa344bbbf7be088df3666dc",
              "IPY_MODEL_b2edd932e85041fd9c036839eb7bcf81"
            ]
          }
        },
        "814cf553f6b24a4bac4e9c5338086741": {
          "model_module": "@jupyter-widgets/base",
          "model_name": "LayoutModel",
          "state": {
            "_view_name": "LayoutView",
            "grid_template_rows": null,
            "right": null,
            "justify_content": null,
            "_view_module": "@jupyter-widgets/base",
            "overflow": null,
            "_model_module_version": "1.2.0",
            "_view_count": null,
            "flex_flow": null,
            "width": null,
            "min_width": null,
            "border": null,
            "align_items": null,
            "bottom": null,
            "_model_module": "@jupyter-widgets/base",
            "top": null,
            "grid_column": null,
            "overflow_y": null,
            "overflow_x": null,
            "grid_auto_flow": null,
            "grid_area": null,
            "grid_template_columns": null,
            "flex": null,
            "_model_name": "LayoutModel",
            "justify_items": null,
            "grid_row": null,
            "max_height": null,
            "align_content": null,
            "visibility": null,
            "align_self": null,
            "height": null,
            "min_height": null,
            "padding": null,
            "grid_auto_rows": null,
            "grid_gap": null,
            "max_width": null,
            "order": null,
            "_view_module_version": "1.2.0",
            "grid_template_areas": null,
            "object_position": null,
            "object_fit": null,
            "grid_auto_columns": null,
            "margin": null,
            "display": null,
            "left": null
          }
        },
        "518bf79a0fa344bbbf7be088df3666dc": {
          "model_module": "@jupyter-widgets/controls",
          "model_name": "ButtonModel",
          "state": {
            "_view_name": "ButtonView",
            "style": "IPY_MODEL_839b75212dc040c88ff7685e75270c58",
            "_dom_classes": [],
            "description": "Threshold",
            "_model_name": "ButtonModel",
            "button_style": "",
            "_view_module": "@jupyter-widgets/controls",
            "_model_module_version": "1.5.0",
            "tooltip": "",
            "_view_count": null,
            "disabled": false,
            "_view_module_version": "1.5.0",
            "layout": "IPY_MODEL_557edcc0d4e642cfa2e82486c5f5e069",
            "_model_module": "@jupyter-widgets/controls",
            "icon": ""
          }
        },
        "b2edd932e85041fd9c036839eb7bcf81": {
          "model_module": "@jupyter-widgets/controls",
          "model_name": "ButtonModel",
          "state": {
            "_view_name": "ButtonView",
            "style": "IPY_MODEL_40d32b4849fc4f378616099772fa1fd3",
            "_dom_classes": [],
            "description": "Canny",
            "_model_name": "ButtonModel",
            "button_style": "",
            "_view_module": "@jupyter-widgets/controls",
            "_model_module_version": "1.5.0",
            "tooltip": "",
            "_view_count": null,
            "disabled": false,
            "_view_module_version": "1.5.0",
            "layout": "IPY_MODEL_4856de38e1e840eb9e54c213cbcfb50f",
            "_model_module": "@jupyter-widgets/controls",
            "icon": ""
          }
        },
        "839b75212dc040c88ff7685e75270c58": {
          "model_module": "@jupyter-widgets/controls",
          "model_name": "ButtonStyleModel",
          "state": {
            "_view_name": "StyleView",
            "_model_name": "ButtonStyleModel",
            "_view_module": "@jupyter-widgets/base",
            "_model_module_version": "1.5.0",
            "_view_count": null,
            "button_color": null,
            "font_weight": "",
            "_view_module_version": "1.2.0",
            "_model_module": "@jupyter-widgets/controls"
          }
        },
        "557edcc0d4e642cfa2e82486c5f5e069": {
          "model_module": "@jupyter-widgets/base",
          "model_name": "LayoutModel",
          "state": {
            "_view_name": "LayoutView",
            "grid_template_rows": null,
            "right": null,
            "justify_content": null,
            "_view_module": "@jupyter-widgets/base",
            "overflow": null,
            "_model_module_version": "1.2.0",
            "_view_count": null,
            "flex_flow": null,
            "width": null,
            "min_width": null,
            "border": null,
            "align_items": null,
            "bottom": null,
            "_model_module": "@jupyter-widgets/base",
            "top": null,
            "grid_column": null,
            "overflow_y": null,
            "overflow_x": null,
            "grid_auto_flow": null,
            "grid_area": null,
            "grid_template_columns": null,
            "flex": null,
            "_model_name": "LayoutModel",
            "justify_items": null,
            "grid_row": null,
            "max_height": null,
            "align_content": null,
            "visibility": null,
            "align_self": null,
            "height": null,
            "min_height": null,
            "padding": null,
            "grid_auto_rows": null,
            "grid_gap": null,
            "max_width": null,
            "order": null,
            "_view_module_version": "1.2.0",
            "grid_template_areas": null,
            "object_position": null,
            "object_fit": null,
            "grid_auto_columns": null,
            "margin": null,
            "display": null,
            "left": null
          }
        },
        "40d32b4849fc4f378616099772fa1fd3": {
          "model_module": "@jupyter-widgets/controls",
          "model_name": "ButtonStyleModel",
          "state": {
            "_view_name": "StyleView",
            "_model_name": "ButtonStyleModel",
            "_view_module": "@jupyter-widgets/base",
            "_model_module_version": "1.5.0",
            "_view_count": null,
            "button_color": null,
            "font_weight": "",
            "_view_module_version": "1.2.0",
            "_model_module": "@jupyter-widgets/controls"
          }
        },
        "4856de38e1e840eb9e54c213cbcfb50f": {
          "model_module": "@jupyter-widgets/base",
          "model_name": "LayoutModel",
          "state": {
            "_view_name": "LayoutView",
            "grid_template_rows": null,
            "right": null,
            "justify_content": null,
            "_view_module": "@jupyter-widgets/base",
            "overflow": null,
            "_model_module_version": "1.2.0",
            "_view_count": null,
            "flex_flow": null,
            "width": null,
            "min_width": null,
            "border": null,
            "align_items": null,
            "bottom": null,
            "_model_module": "@jupyter-widgets/base",
            "top": null,
            "grid_column": null,
            "overflow_y": null,
            "overflow_x": null,
            "grid_auto_flow": null,
            "grid_area": null,
            "grid_template_columns": null,
            "flex": null,
            "_model_name": "LayoutModel",
            "justify_items": null,
            "grid_row": null,
            "max_height": null,
            "align_content": null,
            "visibility": null,
            "align_self": null,
            "height": null,
            "min_height": null,
            "padding": null,
            "grid_auto_rows": null,
            "grid_gap": null,
            "max_width": null,
            "order": null,
            "_view_module_version": "1.2.0",
            "grid_template_areas": null,
            "object_position": null,
            "object_fit": null,
            "grid_auto_columns": null,
            "margin": null,
            "display": null,
            "left": null
          }
        },
        "56d912964ea243ccac8b06bff51cd768": {
          "model_module": "@jupyter-widgets/controls",
          "model_name": "HBoxModel",
          "state": {
            "_view_name": "HBoxView",
            "_dom_classes": [],
            "_model_name": "HBoxModel",
            "_view_module": "@jupyter-widgets/controls",
            "_model_module_version": "1.5.0",
            "_view_count": null,
            "_view_module_version": "1.5.0",
            "box_style": "",
            "layout": "IPY_MODEL_35d34236684443509ebf218244df4db3",
            "_model_module": "@jupyter-widgets/controls",
            "children": [
              "IPY_MODEL_caa99adf60584daea3ca88b6228d2a9b",
              "IPY_MODEL_a7030411c2f64587868f541c6367dcc3"
            ]
          }
        },
        "35d34236684443509ebf218244df4db3": {
          "model_module": "@jupyter-widgets/base",
          "model_name": "LayoutModel",
          "state": {
            "_view_name": "LayoutView",
            "grid_template_rows": null,
            "right": null,
            "justify_content": null,
            "_view_module": "@jupyter-widgets/base",
            "overflow": null,
            "_model_module_version": "1.2.0",
            "_view_count": null,
            "flex_flow": null,
            "width": null,
            "min_width": null,
            "border": null,
            "align_items": null,
            "bottom": null,
            "_model_module": "@jupyter-widgets/base",
            "top": null,
            "grid_column": null,
            "overflow_y": null,
            "overflow_x": null,
            "grid_auto_flow": null,
            "grid_area": null,
            "grid_template_columns": null,
            "flex": null,
            "_model_name": "LayoutModel",
            "justify_items": null,
            "grid_row": null,
            "max_height": null,
            "align_content": null,
            "visibility": null,
            "align_self": null,
            "height": null,
            "min_height": null,
            "padding": null,
            "grid_auto_rows": null,
            "grid_gap": null,
            "max_width": null,
            "order": null,
            "_view_module_version": "1.2.0",
            "grid_template_areas": null,
            "object_position": null,
            "object_fit": null,
            "grid_auto_columns": null,
            "margin": null,
            "display": null,
            "left": null
          }
        },
        "9aa24afc4b4b4dc2bd8001a0a26858f0": {
          "model_module": "@jupyter-widgets/controls",
          "model_name": "HBoxModel",
          "state": {
            "_view_name": "HBoxView",
            "_dom_classes": [],
            "_model_name": "HBoxModel",
            "_view_module": "@jupyter-widgets/controls",
            "_model_module_version": "1.5.0",
            "_view_count": null,
            "_view_module_version": "1.5.0",
            "box_style": "",
            "layout": "IPY_MODEL_92732eb997154cffae1a958846ec833e",
            "_model_module": "@jupyter-widgets/controls",
            "children": [
              "IPY_MODEL_518bf79a0fa344bbbf7be088df3666dc",
              "IPY_MODEL_b2edd932e85041fd9c036839eb7bcf81"
            ]
          }
        },
        "92732eb997154cffae1a958846ec833e": {
          "model_module": "@jupyter-widgets/base",
          "model_name": "LayoutModel",
          "state": {
            "_view_name": "LayoutView",
            "grid_template_rows": null,
            "right": null,
            "justify_content": null,
            "_view_module": "@jupyter-widgets/base",
            "overflow": null,
            "_model_module_version": "1.2.0",
            "_view_count": null,
            "flex_flow": null,
            "width": null,
            "min_width": null,
            "border": null,
            "align_items": null,
            "bottom": null,
            "_model_module": "@jupyter-widgets/base",
            "top": null,
            "grid_column": null,
            "overflow_y": null,
            "overflow_x": null,
            "grid_auto_flow": null,
            "grid_area": null,
            "grid_template_columns": null,
            "flex": null,
            "_model_name": "LayoutModel",
            "justify_items": null,
            "grid_row": null,
            "max_height": null,
            "align_content": null,
            "visibility": null,
            "align_self": null,
            "height": null,
            "min_height": null,
            "padding": null,
            "grid_auto_rows": null,
            "grid_gap": null,
            "max_width": null,
            "order": null,
            "_view_module_version": "1.2.0",
            "grid_template_areas": null,
            "object_position": null,
            "object_fit": null,
            "grid_auto_columns": null,
            "margin": null,
            "display": null,
            "left": null
          }
        },
        "a80039884ae3406d866605b3cb36510e": {
          "model_module": "@jupyter-widgets/controls",
          "model_name": "HBoxModel",
          "state": {
            "_view_name": "HBoxView",
            "_dom_classes": [],
            "_model_name": "HBoxModel",
            "_view_module": "@jupyter-widgets/controls",
            "_model_module_version": "1.5.0",
            "_view_count": null,
            "_view_module_version": "1.5.0",
            "box_style": "",
            "layout": "IPY_MODEL_64ead041870146dfbc92de8545565aa7",
            "_model_module": "@jupyter-widgets/controls",
            "children": [
              "IPY_MODEL_caa99adf60584daea3ca88b6228d2a9b",
              "IPY_MODEL_a7030411c2f64587868f541c6367dcc3"
            ]
          }
        },
        "64ead041870146dfbc92de8545565aa7": {
          "model_module": "@jupyter-widgets/base",
          "model_name": "LayoutModel",
          "state": {
            "_view_name": "LayoutView",
            "grid_template_rows": null,
            "right": null,
            "justify_content": null,
            "_view_module": "@jupyter-widgets/base",
            "overflow": null,
            "_model_module_version": "1.2.0",
            "_view_count": null,
            "flex_flow": null,
            "width": null,
            "min_width": null,
            "border": null,
            "align_items": null,
            "bottom": null,
            "_model_module": "@jupyter-widgets/base",
            "top": null,
            "grid_column": null,
            "overflow_y": null,
            "overflow_x": null,
            "grid_auto_flow": null,
            "grid_area": null,
            "grid_template_columns": null,
            "flex": null,
            "_model_name": "LayoutModel",
            "justify_items": null,
            "grid_row": null,
            "max_height": null,
            "align_content": null,
            "visibility": null,
            "align_self": null,
            "height": null,
            "min_height": null,
            "padding": null,
            "grid_auto_rows": null,
            "grid_gap": null,
            "max_width": null,
            "order": null,
            "_view_module_version": "1.2.0",
            "grid_template_areas": null,
            "object_position": null,
            "object_fit": null,
            "grid_auto_columns": null,
            "margin": null,
            "display": null,
            "left": null
          }
        },
        "6646a89d6edf4f0fa6fbf7b9a4ff291e": {
          "model_module": "@jupyter-widgets/controls",
          "model_name": "HBoxModel",
          "state": {
            "_view_name": "HBoxView",
            "_dom_classes": [],
            "_model_name": "HBoxModel",
            "_view_module": "@jupyter-widgets/controls",
            "_model_module_version": "1.5.0",
            "_view_count": null,
            "_view_module_version": "1.5.0",
            "box_style": "",
            "layout": "IPY_MODEL_115a48ef51ad4e4a848777fe9dd8463e",
            "_model_module": "@jupyter-widgets/controls",
            "children": [
              "IPY_MODEL_518bf79a0fa344bbbf7be088df3666dc",
              "IPY_MODEL_b2edd932e85041fd9c036839eb7bcf81"
            ]
          }
        },
        "115a48ef51ad4e4a848777fe9dd8463e": {
          "model_module": "@jupyter-widgets/base",
          "model_name": "LayoutModel",
          "state": {
            "_view_name": "LayoutView",
            "grid_template_rows": null,
            "right": null,
            "justify_content": null,
            "_view_module": "@jupyter-widgets/base",
            "overflow": null,
            "_model_module_version": "1.2.0",
            "_view_count": null,
            "flex_flow": null,
            "width": null,
            "min_width": null,
            "border": null,
            "align_items": null,
            "bottom": null,
            "_model_module": "@jupyter-widgets/base",
            "top": null,
            "grid_column": null,
            "overflow_y": null,
            "overflow_x": null,
            "grid_auto_flow": null,
            "grid_area": null,
            "grid_template_columns": null,
            "flex": null,
            "_model_name": "LayoutModel",
            "justify_items": null,
            "grid_row": null,
            "max_height": null,
            "align_content": null,
            "visibility": null,
            "align_self": null,
            "height": null,
            "min_height": null,
            "padding": null,
            "grid_auto_rows": null,
            "grid_gap": null,
            "max_width": null,
            "order": null,
            "_view_module_version": "1.2.0",
            "grid_template_areas": null,
            "object_position": null,
            "object_fit": null,
            "grid_auto_columns": null,
            "margin": null,
            "display": null,
            "left": null
          }
        },
        "62d751981b694e99acf6d81c742d67b6": {
          "model_module": "@jupyter-widgets/controls",
          "model_name": "HBoxModel",
          "state": {
            "_view_name": "HBoxView",
            "_dom_classes": [],
            "_model_name": "HBoxModel",
            "_view_module": "@jupyter-widgets/controls",
            "_model_module_version": "1.5.0",
            "_view_count": null,
            "_view_module_version": "1.5.0",
            "box_style": "",
            "layout": "IPY_MODEL_1d1d6631079042e9aa82ec9a3ac8376c",
            "_model_module": "@jupyter-widgets/controls",
            "children": [
              "IPY_MODEL_caa99adf60584daea3ca88b6228d2a9b",
              "IPY_MODEL_a7030411c2f64587868f541c6367dcc3"
            ]
          }
        },
        "1d1d6631079042e9aa82ec9a3ac8376c": {
          "model_module": "@jupyter-widgets/base",
          "model_name": "LayoutModel",
          "state": {
            "_view_name": "LayoutView",
            "grid_template_rows": null,
            "right": null,
            "justify_content": null,
            "_view_module": "@jupyter-widgets/base",
            "overflow": null,
            "_model_module_version": "1.2.0",
            "_view_count": null,
            "flex_flow": null,
            "width": null,
            "min_width": null,
            "border": null,
            "align_items": null,
            "bottom": null,
            "_model_module": "@jupyter-widgets/base",
            "top": null,
            "grid_column": null,
            "overflow_y": null,
            "overflow_x": null,
            "grid_auto_flow": null,
            "grid_area": null,
            "grid_template_columns": null,
            "flex": null,
            "_model_name": "LayoutModel",
            "justify_items": null,
            "grid_row": null,
            "max_height": null,
            "align_content": null,
            "visibility": null,
            "align_self": null,
            "height": null,
            "min_height": null,
            "padding": null,
            "grid_auto_rows": null,
            "grid_gap": null,
            "max_width": null,
            "order": null,
            "_view_module_version": "1.2.0",
            "grid_template_areas": null,
            "object_position": null,
            "object_fit": null,
            "grid_auto_columns": null,
            "margin": null,
            "display": null,
            "left": null
          }
        },
        "564a02f4a1914bb49d3e333372827aec": {
          "model_module": "@jupyter-widgets/controls",
          "model_name": "HBoxModel",
          "state": {
            "_view_name": "HBoxView",
            "_dom_classes": [],
            "_model_name": "HBoxModel",
            "_view_module": "@jupyter-widgets/controls",
            "_model_module_version": "1.5.0",
            "_view_count": null,
            "_view_module_version": "1.5.0",
            "box_style": "",
            "layout": "IPY_MODEL_ad65b48211b246b4980b25b11117a872",
            "_model_module": "@jupyter-widgets/controls",
            "children": [
              "IPY_MODEL_518bf79a0fa344bbbf7be088df3666dc",
              "IPY_MODEL_b2edd932e85041fd9c036839eb7bcf81"
            ]
          }
        },
        "ad65b48211b246b4980b25b11117a872": {
          "model_module": "@jupyter-widgets/base",
          "model_name": "LayoutModel",
          "state": {
            "_view_name": "LayoutView",
            "grid_template_rows": null,
            "right": null,
            "justify_content": null,
            "_view_module": "@jupyter-widgets/base",
            "overflow": null,
            "_model_module_version": "1.2.0",
            "_view_count": null,
            "flex_flow": null,
            "width": null,
            "min_width": null,
            "border": null,
            "align_items": null,
            "bottom": null,
            "_model_module": "@jupyter-widgets/base",
            "top": null,
            "grid_column": null,
            "overflow_y": null,
            "overflow_x": null,
            "grid_auto_flow": null,
            "grid_area": null,
            "grid_template_columns": null,
            "flex": null,
            "_model_name": "LayoutModel",
            "justify_items": null,
            "grid_row": null,
            "max_height": null,
            "align_content": null,
            "visibility": null,
            "align_self": null,
            "height": null,
            "min_height": null,
            "padding": null,
            "grid_auto_rows": null,
            "grid_gap": null,
            "max_width": null,
            "order": null,
            "_view_module_version": "1.2.0",
            "grid_template_areas": null,
            "object_position": null,
            "object_fit": null,
            "grid_auto_columns": null,
            "margin": null,
            "display": null,
            "left": null
          }
        }
      }
    }
  },
  "cells": [
    {
      "cell_type": "markdown",
      "metadata": {
        "id": "view-in-github",
        "colab_type": "text"
      },
      "source": [
        "<a href=\"https://colab.research.google.com/github/albertofernandezvillan/computer-vision-and-deep-learning-course/blob/main/visual_interface_image_processing_opencv.ipynb\" target=\"_parent\"><img src=\"https://colab.research.google.com/assets/colab-badge.svg\" alt=\"Open In Colab\"/></a>"
      ]
    },
    {
      "cell_type": "markdown",
      "metadata": {
        "id": "PlaeeFFsxJtJ"
      },
      "source": [
        "<img align=\"left\" style=\"padding-right:10px;\" src =\"https://raw.githubusercontent.com/albertofernandezvillan/computer-vision-and-deep-learning-course/main/assets/university_oviedo_logo.png\" width=300 px>\n",
        "\n",
        "This notebook is from the Course \"***Computer vision in the new era of Artificial Intelligence and Deep Learning***\", or \"*Visión por computador en la nueva era de la Inteligencia Artificial y el Deep Learning*\" (ES) from the \"Second quarter university extension courses\" that the University of Oviedo is offering (05/04/2021 - 16/04/2021)\n",
        "\n",
        "<[Github Repository](https://github.com/albertofernandezvillan/computer-vision-and-deep-learning-course) | [Course Web Page Information](https://www.uniovi.es/estudios/extension/cursos2c/-/asset_publisher/SEp0PJi4ISGo/content/vision-por-computador-en-la-nueva-era-de-la-inteligencia-artificial-y-el-deep-learning?redirect=%2Festudios%2Fextension%2Fcursos2c)>"
      ]
    },
    {
      "cell_type": "markdown",
      "metadata": {
        "id": "PPXjD_JAxO2h"
      },
      "source": [
        "# Summary\n",
        "\n",
        "In this example, we are exploring how to build a (very basic) computer vision interface for image processing purposes.\n"
      ]
    },
    {
      "cell_type": "markdown",
      "metadata": {
        "id": "bpSbrvO-AXoL"
      },
      "source": [
        "<img src=\"https://raw.githubusercontent.com/albertofernandezvillan/computer-vision-and-deep-learning-course/main/assets/visual_interface_output.png\">"
      ]
    },
    {
      "cell_type": "markdown",
      "metadata": {
        "id": "CS-FkypqzfuW"
      },
      "source": [
        "# Visual interface for image processing"
      ]
    },
    {
      "cell_type": "markdown",
      "metadata": {
        "id": "gJqGNOb-wYHe"
      },
      "source": [
        "As first step, we can download the sample images, which are going to be processed later."
      ]
    },
    {
      "cell_type": "code",
      "metadata": {
        "id": "bYJD5SXaoX4H",
        "colab": {
          "base_uri": "https://localhost:8080/"
        },
        "outputId": "2656a110-2622-4c12-b8e1-a5530da741da"
      },
      "source": [
        "# Download sample images:\n",
        "!wget https://raw.githubusercontent.com/albertofernandezvillan/computer-vision-and-deep-learning-course/main/assets/lenna.png\n",
        "!wget https://raw.githubusercontent.com/albertofernandezvillan/computer-vision-and-deep-learning-course/main/assets/flowers.png"
      ],
      "execution_count": null,
      "outputs": [
        {
          "output_type": "stream",
          "text": [
            "--2021-04-07 11:51:44--  https://raw.githubusercontent.com/albertofernandezvillan/computer-vision-and-deep-learning-course/main/assets/lenna.png\n",
            "Resolving raw.githubusercontent.com (raw.githubusercontent.com)... 185.199.108.133, 185.199.109.133, 185.199.110.133, ...\n",
            "Connecting to raw.githubusercontent.com (raw.githubusercontent.com)|185.199.108.133|:443... connected.\n",
            "HTTP request sent, awaiting response... 200 OK\n",
            "Length: 88235 (86K) [image/png]\n",
            "Saving to: ‘lenna.png’\n",
            "\n",
            "lenna.png           100%[===================>]  86.17K  --.-KB/s    in 0.01s   \n",
            "\n",
            "2021-04-07 11:51:44 (8.83 MB/s) - ‘lenna.png’ saved [88235/88235]\n",
            "\n",
            "--2021-04-07 11:51:44--  https://raw.githubusercontent.com/albertofernandezvillan/computer-vision-and-deep-learning-course/main/assets/flowers.png\n",
            "Resolving raw.githubusercontent.com (raw.githubusercontent.com)... 185.199.108.133, 185.199.109.133, 185.199.110.133, ...\n",
            "Connecting to raw.githubusercontent.com (raw.githubusercontent.com)|185.199.108.133|:443... connected.\n",
            "HTTP request sent, awaiting response... 200 OK\n",
            "Length: 217965 (213K) [image/png]\n",
            "Saving to: ‘flowers.png’\n",
            "\n",
            "flowers.png         100%[===================>] 212.86K  --.-KB/s    in 0.02s   \n",
            "\n",
            "2021-04-07 11:51:45 (10.1 MB/s) - ‘flowers.png’ saved [217965/217965]\n",
            "\n"
          ],
          "name": "stdout"
        }
      ]
    },
    {
      "cell_type": "markdown",
      "metadata": {
        "id": "T8EI3Wn6lw14"
      },
      "source": [
        "We can include all the required packages needed to run this example."
      ]
    },
    {
      "cell_type": "code",
      "metadata": {
        "id": "4XbtdNAXlf4z"
      },
      "source": [
        "#Import required packages:\n",
        "import cv2\n",
        "import numpy as np\n",
        "import ipywidgets as widgets\n",
        "import os\n",
        "from google.colab.patches import cv2_imshow\n",
        "from IPython.display import clear_output"
      ],
      "execution_count": null,
      "outputs": []
    },
    {
      "cell_type": "markdown",
      "metadata": {
        "id": "f2b81iEFwi1G"
      },
      "source": [
        "Additionally, we load the `path_images` for each image to be processed later."
      ]
    },
    {
      "cell_type": "code",
      "metadata": {
        "colab": {
          "base_uri": "https://localhost:8080/"
        },
        "id": "1WIfZrPknwTT",
        "outputId": "82b7c1f4-eeee-4b76-a895-19694fb7b054"
      },
      "source": [
        "#Load the path of the images:\n",
        "DIR_PATH = '/content'\n",
        "included_extensions = ('.jpg','.jpeg', '.png')\n",
        "\n",
        "path_images = [f for f in os.listdir(DIR_PATH) if any(f.endswith(ext) for ext in included_extensions)]\n",
        "\n",
        "print(\"Loaded images: '{}'\".format(path_images))\n",
        "\n",
        "if not path_images:\n",
        "  print(\"Please, consider downloading some images (with the required extension) before proceding further with this notebook\")"
      ],
      "execution_count": null,
      "outputs": [
        {
          "output_type": "stream",
          "text": [
            "Loaded images: '['flowers.png', 'lenna.png']'\n"
          ],
          "name": "stdout"
        }
      ]
    },
    {
      "cell_type": "markdown",
      "metadata": {
        "id": "ZfJsdi1qmE8b"
      },
      "source": [
        "We create three buttons:"
      ]
    },
    {
      "cell_type": "code",
      "metadata": {
        "id": "J929n5MZmKlP"
      },
      "source": [
        "# Create the buttons:\n",
        "# Create the 'main' button:\n",
        "load_button = widgets.Button(description='Load', button_style='success')\n",
        "\n",
        "# Create the 'menu' buttons\n",
        "thres_button = widgets.Button(description='Threshold')\n",
        "canny_button = widgets.Button(description='Canny')"
      ],
      "execution_count": null,
      "outputs": []
    },
    {
      "cell_type": "markdown",
      "metadata": {
        "id": "spRLsUuWmXGB"
      },
      "source": [
        "We create the functions to be called when 'on click' event will take place. Additionally, we also define the function to display the menu. Note that the function `on_click_load()` loads the image (in grayscale):\n",
        "\n",
        "`img = cv2.imread(path_img, cv2.IMREAD_GRAYSCALE)`\n",
        "\n",
        "This is because in the two image processing functions that we are showing (canny and threshold) the image needs to be in grayscale mode. Take this into account if additional processing algorithms are added. "
      ]
    },
    {
      "cell_type": "code",
      "metadata": {
        "id": "maQSk7LWmenF"
      },
      "source": [
        "# Create the functions to be called:\n",
        "def display_menu():\n",
        "  selector_box = widgets.HBox([file_selector, load_button])\n",
        "  display(selector_box)  \n",
        "  button_box = widgets.HBox([thres_button, canny_button])\n",
        "  display(button_box)\n",
        "\n",
        "def show_everything(img_res, show_res = False):\n",
        "  clear_output()\n",
        "  display_menu()\n",
        "  if show_res:\n",
        "    res = np.hstack((img, img_res))\n",
        "    res = cv2.copyMakeBorder(res, 5, 5, 5, 5, cv2.BORDER_CONSTANT)\n",
        "    cv2_imshow(res)\n",
        "  else:\n",
        "    cv2_imshow(img_res)\n",
        "\n",
        "def on_click_load(button):\n",
        "  global img\n",
        "  path_img = os.path.join(DIR_PATH, file_selector.value)\n",
        "  img = cv2.imread(path_img, cv2.IMREAD_GRAYSCALE)\n",
        "  show_everything(img)\n",
        "\n",
        "def on_click_threshold(button):\n",
        "  global img\n",
        "  try:\n",
        "    res = threshold_image_processing(img)\n",
        "    show_everything(res, show_res=True)\n",
        "  except NameError:\n",
        "    print(\"Load the image first!\")\n",
        "\n",
        "def on_click_canny(button):\n",
        "  global img\n",
        "  try:\n",
        "    res = canny_img_processing(img)\n",
        "    show_everything(res, show_res=True)\n",
        "  except NameError:\n",
        "    print(\"Load the image first!\")"
      ],
      "execution_count": null,
      "outputs": []
    },
    {
      "cell_type": "markdown",
      "metadata": {
        "id": "h5dehDXdm_n1"
      },
      "source": [
        "We register for each button the corresponding method that will take place when clicking on each one:"
      ]
    },
    {
      "cell_type": "code",
      "metadata": {
        "id": "xaLs_hBNm8dG"
      },
      "source": [
        "# Define on_click method for each button:\n",
        "load_button.on_click(on_click_load)\n",
        "thres_button.on_click(on_click_threshold)\n",
        "canny_button.on_click(on_click_canny)"
      ],
      "execution_count": null,
      "outputs": []
    },
    {
      "cell_type": "markdown",
      "metadata": {
        "id": "BqTWdr3MnYZX"
      },
      "source": [
        "We also create two methods for processing the images: one for each processing type corresponding for each option in the menu."
      ]
    },
    {
      "cell_type": "code",
      "metadata": {
        "id": "P8GKUj46ngL-"
      },
      "source": [
        "# Define the threshold function:\n",
        "def threshold_image_processing(input_img):\n",
        "  ret, thresh_result = cv2.threshold(input_img, threshold_param, 255, cv2.THRESH_BINARY)\n",
        "  return thresh_result\n",
        "\n",
        "# Define the canny processing function:\n",
        "def canny_img_processing(input_img):\n",
        "  canny_res = cv2.Canny(input_img, min_val_canny_param, max_val_canny_param, aperture_size_canny_param)\n",
        "  return canny_res"
      ],
      "execution_count": null,
      "outputs": []
    },
    {
      "cell_type": "markdown",
      "metadata": {
        "id": "86FDdyAbnkSS"
      },
      "source": [
        "Set the parameters of this functions with sliders as follows."
      ]
    },
    {
      "cell_type": "code",
      "metadata": {
        "id": "3Ibp0CZQno4A"
      },
      "source": [
        "#@title Threshold parameters { run: \"auto\" }\n",
        "\n",
        "threshold_param = 116 #@param {type:\"slider\", min:1, max:255, step:1}"
      ],
      "execution_count": null,
      "outputs": []
    },
    {
      "cell_type": "code",
      "metadata": {
        "id": "JGVq1UgxnsDZ"
      },
      "source": [
        "#@title Canny parameters { run: \"auto\" }\n",
        "\n",
        "min_val_canny_param = 220 #@param {type:\"slider\", min:0, max:360, step:10}\n",
        "max_val_canny_param = 100 #@param {type:\"slider\", min:0, max:255, step:10}\n",
        "aperture_size_canny_param = 12 #@param {type:\"slider\", min:3, max:12, step:3}"
      ],
      "execution_count": null,
      "outputs": []
    },
    {
      "cell_type": "markdown",
      "metadata": {
        "id": "boWWUNY5p07A"
      },
      "source": [
        "Finally, we create a Dropdown menu and display the menu."
      ]
    },
    {
      "cell_type": "code",
      "metadata": {
        "colab": {
          "base_uri": "https://localhost:8080/",
          "height": 351,
          "referenced_widgets": [
            "128bda0c1698426c8aa292b562c2ead9",
            "e68ac156da914330b238b10c14dee95f",
            "caa99adf60584daea3ca88b6228d2a9b",
            "a7030411c2f64587868f541c6367dcc3",
            "f7ff8ebce43e44cf991cbf77c6e6584d",
            "ea300722f14649a3b5b4fc6600d3b67e",
            "814fb48c65b64c80b1575927ad5dd390",
            "51f3bc036b2f456bb32f18fcb147c07e",
            "89d472f852874e07b2d3c52b92f3d3d7",
            "814cf553f6b24a4bac4e9c5338086741",
            "518bf79a0fa344bbbf7be088df3666dc",
            "b2edd932e85041fd9c036839eb7bcf81",
            "839b75212dc040c88ff7685e75270c58",
            "557edcc0d4e642cfa2e82486c5f5e069",
            "40d32b4849fc4f378616099772fa1fd3",
            "4856de38e1e840eb9e54c213cbcfb50f",
            "56d912964ea243ccac8b06bff51cd768",
            "35d34236684443509ebf218244df4db3",
            "9aa24afc4b4b4dc2bd8001a0a26858f0",
            "92732eb997154cffae1a958846ec833e",
            "a80039884ae3406d866605b3cb36510e",
            "64ead041870146dfbc92de8545565aa7",
            "6646a89d6edf4f0fa6fbf7b9a4ff291e",
            "115a48ef51ad4e4a848777fe9dd8463e",
            "62d751981b694e99acf6d81c742d67b6",
            "1d1d6631079042e9aa82ec9a3ac8376c",
            "564a02f4a1914bb49d3e333372827aec",
            "ad65b48211b246b4980b25b11117a872"
          ]
        },
        "id": "gacW27naoK92",
        "outputId": "378bdfc4-b2fe-41ae-af67-df65db3e1d21"
      },
      "source": [
        "try:\n",
        "  file_selector = widgets.Dropdown(options=path_images, description='Image:')\n",
        "  display_menu()\n",
        "except Exception as e:\n",
        "  print(\"Something went wrong: \", e.__class__, \"occurred.\")\n",
        "  print(\"Please, consider downloading some images before calling this piece of code\") "
      ],
      "execution_count": null,
      "outputs": [
        {
          "output_type": "display_data",
          "data": {
            "application/vnd.jupyter.widget-view+json": {
              "model_id": "62d751981b694e99acf6d81c742d67b6",
              "version_minor": 0,
              "version_major": 2
            },
            "text/plain": [
              "HBox(children=(Dropdown(description='Image:', options=('flowers.png', 'lenna.png'), value='flowers.png'), Butt…"
            ]
          },
          "metadata": {
            "tags": []
          }
        },
        {
          "output_type": "display_data",
          "data": {
            "application/vnd.jupyter.widget-view+json": {
              "model_id": "564a02f4a1914bb49d3e333372827aec",
              "version_minor": 0,
              "version_major": 2
            },
            "text/plain": [
              "HBox(children=(Button(description='Threshold', style=ButtonStyle()), Button(description='Canny', style=ButtonS…"
            ]
          },
          "metadata": {
            "tags": []
          }
        },
        {
          "output_type": "display_data",
          "data": {
            "image/png": "[encoded data removed]",
            "text/plain": [
              "<PIL.Image.Image image mode=L size=790x270 at 0x7F375DCE2550>"
            ]
          },
          "metadata": {
            "tags": []
          }
        }
      ]
    },
    {
      "cell_type": "markdown",
      "metadata": {
        "id": "i8NJxtVp5aJ2"
      },
      "source": [
        "# Conclusions\n",
        "\n",
        "If you work a lot with image processing and setting the required parameters for each function is a key point in your processing pipeline, this notebook can be useful. In this notebook, we have seen how to build a very simple visual interface for image processing purposes. It can be extended with more options in the menu."
      ]
    }
  ]
}